{
 "cells": [
  {
   "cell_type": "markdown",
   "metadata": {},
   "source": [
    "# Evaluate the enrichment of Decipher shared phenotype patients on our ASD-CHD interactome\n",
    "\n",
    "Update 19-12-12: found all damaging SNVs/indels in DECIPHER, by looking up karyotype for abnormal nervous and cardiovascular systems.  Use this to make an ROC curve\n",
    "\n",
    "Update 20-04-28: make sure results can be replicated from supplemental tables, add more description"
   ]
  },
  {
   "cell_type": "code",
   "execution_count": 1,
   "metadata": {},
   "outputs": [],
   "source": [
    "\n",
    "import numpy as np\n",
    "import matplotlib.pyplot as plt\n",
    "import seaborn as sns\n",
    "import networkx as nx\n",
    "import pandas as pd\n",
    "import random\n",
    "\n",
    "\n",
    "# latex rendering of text in graphs\n",
    "import matplotlib as mpl\n",
    "from matplotlib import rcParams\n",
    "rcParams['font.family'] = 'sans-serif'\n",
    "rcParams['font.sans-serif'] = ['Arial']\n",
    "\n",
    "sns.set_style('white')\n",
    "\n",
    "import sys\n",
    "\n",
    "% matplotlib inline\n",
    "\n",
    "sns.set_style(\"ticks\", {\"xtick.major.size\": 15, \"ytick.major.size\": 15})\n",
    "plt.rcParams['svg.fonttype'] = 'none'"
   ]
  },
  {
   "cell_type": "markdown",
   "metadata": {},
   "source": [
    "# Load the ASD-CHD network genes, (z_ASD-CHD>3; 844 genes)"
   ]
  },
  {
   "cell_type": "code",
   "execution_count": 2,
   "metadata": {
    "scrolled": false
   },
   "outputs": [
    {
     "name": "stdout",
     "output_type": "stream",
     "text": [
      "844\n"
     ]
    },
    {
     "data": {
      "text/html": [
       "<div>\n",
       "<style scoped>\n",
       "    .dataframe tbody tr th:only-of-type {\n",
       "        vertical-align: middle;\n",
       "    }\n",
       "\n",
       "    .dataframe tbody tr th {\n",
       "        vertical-align: top;\n",
       "    }\n",
       "\n",
       "    .dataframe thead th {\n",
       "        text-align: right;\n",
       "    }\n",
       "</style>\n",
       "<table border=\"1\" class=\"dataframe\">\n",
       "  <thead>\n",
       "    <tr style=\"text-align: right;\">\n",
       "      <th></th>\n",
       "      <th>gene</th>\n",
       "      <th>snv_indel_DECIPHERv9.25</th>\n",
       "      <th>snv_indel_DECIPHERv9.31</th>\n",
       "      <th>small_CNV_less1MB_DECIPHERv9.25</th>\n",
       "      <th>ASD_CHD_DNV</th>\n",
       "      <th>sum_damaging_variants</th>\n",
       "      <th>ASD_HC</th>\n",
       "      <th>CHD_HC</th>\n",
       "      <th>z_ASD</th>\n",
       "      <th>z_CHD</th>\n",
       "      <th>z_both</th>\n",
       "      <th>gtex_heart_percentile_exp</th>\n",
       "      <th>gtex_brain_percentile_exp</th>\n",
       "    </tr>\n",
       "    <tr>\n",
       "      <th>gene</th>\n",
       "      <th></th>\n",
       "      <th></th>\n",
       "      <th></th>\n",
       "      <th></th>\n",
       "      <th></th>\n",
       "      <th></th>\n",
       "      <th></th>\n",
       "      <th></th>\n",
       "      <th></th>\n",
       "      <th></th>\n",
       "      <th></th>\n",
       "      <th></th>\n",
       "      <th></th>\n",
       "    </tr>\n",
       "  </thead>\n",
       "  <tbody>\n",
       "    <tr>\n",
       "      <th>NAA15</th>\n",
       "      <td>NAA15</td>\n",
       "      <td>0.0</td>\n",
       "      <td>0.0</td>\n",
       "      <td>0.0</td>\n",
       "      <td>0.0</td>\n",
       "      <td>0.0</td>\n",
       "      <td>1</td>\n",
       "      <td>1</td>\n",
       "      <td>18.901197</td>\n",
       "      <td>20.892283</td>\n",
       "      <td>394.889167</td>\n",
       "      <td>0.733689</td>\n",
       "      <td>0.620830</td>\n",
       "    </tr>\n",
       "    <tr>\n",
       "      <th>PTEN</th>\n",
       "      <td>PTEN</td>\n",
       "      <td>1.0</td>\n",
       "      <td>1.0</td>\n",
       "      <td>0.0</td>\n",
       "      <td>1.0</td>\n",
       "      <td>2.0</td>\n",
       "      <td>1</td>\n",
       "      <td>1</td>\n",
       "      <td>16.395135</td>\n",
       "      <td>18.819067</td>\n",
       "      <td>308.541142</td>\n",
       "      <td>0.896062</td>\n",
       "      <td>0.894637</td>\n",
       "    </tr>\n",
       "    <tr>\n",
       "      <th>POGZ</th>\n",
       "      <td>POGZ</td>\n",
       "      <td>3.0</td>\n",
       "      <td>3.0</td>\n",
       "      <td>0.0</td>\n",
       "      <td>1.0</td>\n",
       "      <td>4.0</td>\n",
       "      <td>1</td>\n",
       "      <td>1</td>\n",
       "      <td>14.186540</td>\n",
       "      <td>14.641398</td>\n",
       "      <td>207.710787</td>\n",
       "      <td>0.908309</td>\n",
       "      <td>0.953178</td>\n",
       "    </tr>\n",
       "    <tr>\n",
       "      <th>KMT2C</th>\n",
       "      <td>KMT2C</td>\n",
       "      <td>0.0</td>\n",
       "      <td>0.0</td>\n",
       "      <td>0.0</td>\n",
       "      <td>1.0</td>\n",
       "      <td>1.0</td>\n",
       "      <td>1</td>\n",
       "      <td>1</td>\n",
       "      <td>13.462226</td>\n",
       "      <td>14.954173</td>\n",
       "      <td>201.316464</td>\n",
       "      <td>0.873100</td>\n",
       "      <td>0.908995</td>\n",
       "    </tr>\n",
       "    <tr>\n",
       "      <th>KDM5B</th>\n",
       "      <td>KDM5B</td>\n",
       "      <td>1.0</td>\n",
       "      <td>1.0</td>\n",
       "      <td>0.0</td>\n",
       "      <td>1.0</td>\n",
       "      <td>2.0</td>\n",
       "      <td>1</td>\n",
       "      <td>1</td>\n",
       "      <td>10.464431</td>\n",
       "      <td>13.490241</td>\n",
       "      <td>141.167693</td>\n",
       "      <td>0.677893</td>\n",
       "      <td>0.698533</td>\n",
       "    </tr>\n",
       "  </tbody>\n",
       "</table>\n",
       "</div>"
      ],
      "text/plain": [
       "        gene  snv_indel_DECIPHERv9.25  snv_indel_DECIPHERv9.31  \\\n",
       "gene                                                             \n",
       "NAA15  NAA15                      0.0                      0.0   \n",
       "PTEN    PTEN                      1.0                      1.0   \n",
       "POGZ    POGZ                      3.0                      3.0   \n",
       "KMT2C  KMT2C                      0.0                      0.0   \n",
       "KDM5B  KDM5B                      1.0                      1.0   \n",
       "\n",
       "       small_CNV_less1MB_DECIPHERv9.25  ASD_CHD_DNV  sum_damaging_variants  \\\n",
       "gene                                                                         \n",
       "NAA15                              0.0          0.0                    0.0   \n",
       "PTEN                               0.0          1.0                    2.0   \n",
       "POGZ                               0.0          1.0                    4.0   \n",
       "KMT2C                              0.0          1.0                    1.0   \n",
       "KDM5B                              0.0          1.0                    2.0   \n",
       "\n",
       "       ASD_HC  CHD_HC      z_ASD      z_CHD      z_both  \\\n",
       "gene                                                      \n",
       "NAA15       1       1  18.901197  20.892283  394.889167   \n",
       "PTEN        1       1  16.395135  18.819067  308.541142   \n",
       "POGZ        1       1  14.186540  14.641398  207.710787   \n",
       "KMT2C       1       1  13.462226  14.954173  201.316464   \n",
       "KDM5B       1       1  10.464431  13.490241  141.167693   \n",
       "\n",
       "       gtex_heart_percentile_exp  gtex_brain_percentile_exp  \n",
       "gene                                                         \n",
       "NAA15                   0.733689                   0.620830  \n",
       "PTEN                    0.896062                   0.894637  \n",
       "POGZ                    0.908309                   0.953178  \n",
       "KMT2C                   0.873100                   0.908995  \n",
       "KDM5B                   0.677893                   0.698533  "
      ]
     },
     "metadata": {},
     "output_type": "display_data"
    }
   ],
   "source": [
    "# see notebook in final_notebooks_190703 for construction of this table\n",
    "\n",
    "ASD_CHD_df = pd.read_excel('../../manuscript/tables_19_01/supplemental_tables.xlsx',sheet_name='ASD_CHD_network_genes')\n",
    "ASD_CHD_df.index=ASD_CHD_df['gene']\n",
    "print(len(ASD_CHD_df))\n",
    "display(ASD_CHD_df.head())"
   ]
  },
  {
   "cell_type": "code",
   "execution_count": 3,
   "metadata": {},
   "outputs": [
    {
     "data": {
      "text/plain": [
       "174"
      ]
     },
     "execution_count": 3,
     "metadata": {},
     "output_type": "execute_result"
    }
   ],
   "source": [
    "# number of dual-phenotype genes harboring at least one damaging variant (from DECIPHER v9.25, SNVs/INDELS/smallCNVs, + PCGC/PHN dual-phenotype dDNVs)\n",
    "# but MLL2 is included here... set to nan because it is a duplicate of KMT2A in PCnet\n",
    "sum(ASD_CHD_df['sum_damaging_variants']>0)"
   ]
  },
  {
   "cell_type": "code",
   "execution_count": null,
   "metadata": {},
   "outputs": [],
   "source": []
  },
  {
   "cell_type": "markdown",
   "metadata": {},
   "source": [
    "# Load the DECIPHER karyotype results\n",
    "\n",
    "DECIPHER karyotype results come from DECIPHER v9.31, and include only damaging SNVs/indels (no CNVs). We were not able to collect CNV information from the DECIPHER karyotype data.\n"
   ]
  },
  {
   "cell_type": "code",
   "execution_count": 4,
   "metadata": {},
   "outputs": [
    {
     "name": "stdout",
     "output_type": "stream",
     "text": [
      "356\n"
     ]
    },
    {
     "data": {
      "text/html": [
       "<div>\n",
       "<style scoped>\n",
       "    .dataframe tbody tr th:only-of-type {\n",
       "        vertical-align: middle;\n",
       "    }\n",
       "\n",
       "    .dataframe tbody tr th {\n",
       "        vertical-align: top;\n",
       "    }\n",
       "\n",
       "    .dataframe thead th {\n",
       "        text-align: right;\n",
       "    }\n",
       "</style>\n",
       "<table border=\"1\" class=\"dataframe\">\n",
       "  <thead>\n",
       "    <tr style=\"text-align: right;\">\n",
       "      <th></th>\n",
       "      <th>chr</th>\n",
       "      <th>gene</th>\n",
       "      <th>num_damaging_SNVs_indels</th>\n",
       "    </tr>\n",
       "    <tr>\n",
       "      <th>gene</th>\n",
       "      <th></th>\n",
       "      <th></th>\n",
       "      <th></th>\n",
       "    </tr>\n",
       "  </thead>\n",
       "  <tbody>\n",
       "    <tr>\n",
       "      <th>GNB1</th>\n",
       "      <td>1</td>\n",
       "      <td>GNB1</td>\n",
       "      <td>1</td>\n",
       "    </tr>\n",
       "    <tr>\n",
       "      <th>CAMTA1</th>\n",
       "      <td>1</td>\n",
       "      <td>CAMTA1</td>\n",
       "      <td>1</td>\n",
       "    </tr>\n",
       "    <tr>\n",
       "      <th>RERE</th>\n",
       "      <td>1</td>\n",
       "      <td>RERE</td>\n",
       "      <td>2</td>\n",
       "    </tr>\n",
       "    <tr>\n",
       "      <th>MTHFR</th>\n",
       "      <td>1</td>\n",
       "      <td>MTHFR</td>\n",
       "      <td>1</td>\n",
       "    </tr>\n",
       "    <tr>\n",
       "      <th>MTOR</th>\n",
       "      <td>1</td>\n",
       "      <td>MTOR</td>\n",
       "      <td>1</td>\n",
       "    </tr>\n",
       "  </tbody>\n",
       "</table>\n",
       "</div>"
      ],
      "text/plain": [
       "       chr    gene  num_damaging_SNVs_indels\n",
       "gene                                        \n",
       "GNB1     1    GNB1                         1\n",
       "CAMTA1   1  CAMTA1                         1\n",
       "RERE     1    RERE                         2\n",
       "MTHFR    1   MTHFR                         1\n",
       "MTOR     1    MTOR                         1"
      ]
     },
     "execution_count": 4,
     "metadata": {},
     "output_type": "execute_result"
    }
   ],
   "source": [
    "# dec_kary_shared = pd.read_excel('../../manuscript/tables_19_01/DECIPHER_karyotypes.xlsx',sheet_name='ASD-CHD')\n",
    "dec_kary_shared = pd.read_excel('../../manuscript/tables_19_01/supplemental_tables.xlsx',sheet_name='DECIPHER_ASD_CHD_karyotype')\n",
    "dec_kary_shared.index=dec_kary_shared['gene']\n",
    "print(len(dec_kary_shared))\n",
    "dec_kary_shared.head()"
   ]
  },
  {
   "cell_type": "code",
   "execution_count": 5,
   "metadata": {},
   "outputs": [
    {
     "name": "stdout",
     "output_type": "stream",
     "text": [
      "356\n",
      "761\n",
      "157\n"
     ]
    }
   ],
   "source": [
    "print(len(dec_kary_shared))\n",
    "print(sum(dec_kary_shared['num_damaging_SNVs_indels']))\n",
    "print(sum(dec_kary_shared['num_damaging_SNVs_indels']>1))"
   ]
  },
  {
   "cell_type": "code",
   "execution_count": 6,
   "metadata": {},
   "outputs": [
    {
     "data": {
      "text/plain": [
       "Text(0,0.5,'# dual-phenotype variants')"
      ]
     },
     "execution_count": 6,
     "metadata": {},
     "output_type": "execute_result"
    },
    {
     "data": {
      "image/png": "[encoded data removed]",
      "text/plain": [
       "<Figure size 223.2x101.52 with 1 Axes>"
      ]
     },
     "metadata": {},
     "output_type": "display_data"
    }
   ],
   "source": [
    "# bar-plot genes harboring most variants\n",
    "# sns.set_style('whitegrid')\n",
    "sns.set_style(\"ticks\", {\"xtick.major.size\": 15, \"ytick.major.size\": 15})\n",
    "dual_plot =ASD_CHD_df[ASD_CHD_df['sum_damaging_variants']>3]['sum_damaging_variants']\n",
    "dual_plot=dual_plot.sort_values(ascending=False)\n",
    "plt.figure(figsize=(3.1,1.41))\n",
    "plt.bar(np.arange(len(dual_plot)),dual_plot,color='black')\n",
    "tmp=plt.xticks(np.arange(len(dual_plot)),dual_plot.index.tolist(),fontsize=6,rotation='vertical',va='top')\n",
    "plt.xlim([-1,len(dual_plot)])\n",
    "plt.yticks([0,5,10,15],fontsize=8)\n",
    "plt.ylabel('# dual-phenotype variants',fontsize=8)\n",
    "# plt.savefig('../../manuscript/figures_1911/Figure3/Figure3_final assets/barchart_dualpheno_g2.png',dpi=300,bbox_inches='tight')\n",
    "# plt.savefig('../../manuscript/figures_1911/Figure3/Figure3_final assets/barchart_dualpheno_g2.svg',dpi=300,bbox_inches='tight',)\n",
    "# plt.savefig('../../manuscript/figures_1911/Figure3/barchart_dualpheno_g2.svg',dpi=300,bbox_inches='tight')\n"
   ]
  },
  {
   "cell_type": "markdown",
   "metadata": {},
   "source": [
    "# Make a chart of the known/novel genes"
   ]
  },
  {
   "cell_type": "code",
   "execution_count": 7,
   "metadata": {},
   "outputs": [
    {
     "data": {
      "text/html": [
       "<div>\n",
       "<style scoped>\n",
       "    .dataframe tbody tr th:only-of-type {\n",
       "        vertical-align: middle;\n",
       "    }\n",
       "\n",
       "    .dataframe tbody tr th {\n",
       "        vertical-align: top;\n",
       "    }\n",
       "\n",
       "    .dataframe thead th {\n",
       "        text-align: right;\n",
       "    }\n",
       "</style>\n",
       "<table border=\"1\" class=\"dataframe\">\n",
       "  <thead>\n",
       "    <tr style=\"text-align: right;\">\n",
       "      <th></th>\n",
       "      <th>Gene symbol</th>\n",
       "      <th>num variants replicated</th>\n",
       "      <th>ASD seed</th>\n",
       "      <th>CHD seed</th>\n",
       "      <th>Known NDD</th>\n",
       "      <th>Known CHD</th>\n",
       "      <th>PMID NDD</th>\n",
       "      <th>PMID CHD</th>\n",
       "      <th>NDD notes</th>\n",
       "      <th>CHD nodes</th>\n",
       "      <th>syndrome associated with gene</th>\n",
       "    </tr>\n",
       "    <tr>\n",
       "      <th>Gene symbol</th>\n",
       "      <th></th>\n",
       "      <th></th>\n",
       "      <th></th>\n",
       "      <th></th>\n",
       "      <th></th>\n",
       "      <th></th>\n",
       "      <th></th>\n",
       "      <th></th>\n",
       "      <th></th>\n",
       "      <th></th>\n",
       "      <th></th>\n",
       "    </tr>\n",
       "  </thead>\n",
       "  <tbody>\n",
       "    <tr>\n",
       "      <th>ACTB</th>\n",
       "      <td>ACTB</td>\n",
       "      <td>1</td>\n",
       "      <td>0</td>\n",
       "      <td>1.0</td>\n",
       "      <td>weak</td>\n",
       "      <td>seed</td>\n",
       "      <td>29388391, 29220674</td>\n",
       "      <td>NaN</td>\n",
       "      <td>case reports</td>\n",
       "      <td>NaN</td>\n",
       "      <td>NaN</td>\n",
       "    </tr>\n",
       "    <tr>\n",
       "      <th>ADNP</th>\n",
       "      <td>ADNP</td>\n",
       "      <td>7</td>\n",
       "      <td>1</td>\n",
       "      <td>0.0</td>\n",
       "      <td>seed</td>\n",
       "      <td>weak</td>\n",
       "      <td>NaN</td>\n",
       "      <td>29724491</td>\n",
       "      <td>NaN</td>\n",
       "      <td>case reports</td>\n",
       "      <td>NaN</td>\n",
       "    </tr>\n",
       "    <tr>\n",
       "      <th>AGO2</th>\n",
       "      <td>AGO2</td>\n",
       "      <td>1</td>\n",
       "      <td>0</td>\n",
       "      <td>0.0</td>\n",
       "      <td>none</td>\n",
       "      <td>none</td>\n",
       "      <td>NaN</td>\n",
       "      <td>NaN</td>\n",
       "      <td>NaN</td>\n",
       "      <td>NaN</td>\n",
       "      <td>NaN</td>\n",
       "    </tr>\n",
       "    <tr>\n",
       "      <th>ANK3</th>\n",
       "      <td>ANK3</td>\n",
       "      <td>1</td>\n",
       "      <td>0</td>\n",
       "      <td>1.0</td>\n",
       "      <td>strong</td>\n",
       "      <td>seed</td>\n",
       "      <td>28411148, 28687526</td>\n",
       "      <td>NaN</td>\n",
       "      <td>mouse KO, case reports</td>\n",
       "      <td>NaN</td>\n",
       "      <td>NaN</td>\n",
       "    </tr>\n",
       "    <tr>\n",
       "      <th>ANKIB1</th>\n",
       "      <td>ANKIB1</td>\n",
       "      <td>1</td>\n",
       "      <td>0</td>\n",
       "      <td>0.0</td>\n",
       "      <td>none</td>\n",
       "      <td>none</td>\n",
       "      <td>NaN</td>\n",
       "      <td>NaN</td>\n",
       "      <td>NaN</td>\n",
       "      <td>NaN</td>\n",
       "      <td>NaN</td>\n",
       "    </tr>\n",
       "  </tbody>\n",
       "</table>\n",
       "</div>"
      ],
      "text/plain": [
       "            Gene symbol  num variants replicated  ASD seed  CHD seed  \\\n",
       "Gene symbol                                                            \n",
       "ACTB               ACTB                        1         0       1.0   \n",
       "ADNP               ADNP                        7         1       0.0   \n",
       "AGO2               AGO2                        1         0       0.0   \n",
       "ANK3               ANK3                        1         0       1.0   \n",
       "ANKIB1           ANKIB1                        1         0       0.0   \n",
       "\n",
       "            Known NDD Known CHD            PMID NDD  PMID CHD  \\\n",
       "Gene symbol                                                     \n",
       "ACTB             weak      seed  29388391, 29220674       NaN   \n",
       "ADNP             seed      weak                 NaN  29724491   \n",
       "AGO2             none      none                 NaN       NaN   \n",
       "ANK3           strong      seed  28411148, 28687526       NaN   \n",
       "ANKIB1           none      none                 NaN       NaN   \n",
       "\n",
       "                          NDD notes     CHD nodes  \\\n",
       "Gene symbol                                         \n",
       "ACTB                   case reports           NaN   \n",
       "ADNP                            NaN  case reports   \n",
       "AGO2                            NaN           NaN   \n",
       "ANK3         mouse KO, case reports           NaN   \n",
       "ANKIB1                          NaN           NaN   \n",
       "\n",
       "            syndrome associated with gene  \n",
       "Gene symbol                                \n",
       "ACTB                                  NaN  \n",
       "ADNP                                  NaN  \n",
       "AGO2                                  NaN  \n",
       "ANK3                                  NaN  \n",
       "ANKIB1                                NaN  "
      ]
     },
     "execution_count": 7,
     "metadata": {},
     "output_type": "execute_result"
    }
   ],
   "source": [
    "gene_classification = pd.read_excel('../../manuscript/tables_19_01/supplemental_tables.xlsx',\n",
    "                                    sheet_name='lit_review_replicated_genes')\n",
    "gene_classification.index=gene_classification['Gene symbol']\n",
    "gene_classification.head()"
   ]
  },
  {
   "cell_type": "code",
   "execution_count": 8,
   "metadata": {},
   "outputs": [
    {
     "data": {
      "text/plain": [
       "strong    52\n",
       "none      50\n",
       "weak      37\n",
       "seed      24\n",
       "medium    11\n",
       "Name: Known NDD, dtype: int64"
      ]
     },
     "execution_count": 8,
     "metadata": {},
     "output_type": "execute_result"
    }
   ],
   "source": [
    "gene_classification['Known NDD'].value_counts()"
   ]
  },
  {
   "cell_type": "code",
   "execution_count": 9,
   "metadata": {},
   "outputs": [],
   "source": [
    "known_NDD = pd.Categorical(gene_classification['Known NDD'])\n",
    "known_CHD = pd.Categorical(gene_classification['Known CHD'])"
   ]
  },
  {
   "cell_type": "code",
   "execution_count": 10,
   "metadata": {},
   "outputs": [
    {
     "data": {
      "text/html": [
       "<div>\n",
       "<style scoped>\n",
       "    .dataframe tbody tr th:only-of-type {\n",
       "        vertical-align: middle;\n",
       "    }\n",
       "\n",
       "    .dataframe tbody tr th {\n",
       "        vertical-align: top;\n",
       "    }\n",
       "\n",
       "    .dataframe thead th {\n",
       "        text-align: right;\n",
       "    }\n",
       "</style>\n",
       "<table border=\"1\" class=\"dataframe\">\n",
       "  <thead>\n",
       "    <tr style=\"text-align: right;\">\n",
       "      <th>CHD</th>\n",
       "      <th>none</th>\n",
       "      <th>weak</th>\n",
       "      <th>medium</th>\n",
       "      <th>strong</th>\n",
       "      <th>seed</th>\n",
       "    </tr>\n",
       "    <tr>\n",
       "      <th>NDD</th>\n",
       "      <th></th>\n",
       "      <th></th>\n",
       "      <th></th>\n",
       "      <th></th>\n",
       "      <th></th>\n",
       "    </tr>\n",
       "  </thead>\n",
       "  <tbody>\n",
       "    <tr>\n",
       "      <th>seed</th>\n",
       "      <td>11</td>\n",
       "      <td>5</td>\n",
       "      <td>2</td>\n",
       "      <td>2</td>\n",
       "      <td>4</td>\n",
       "    </tr>\n",
       "    <tr>\n",
       "      <th>strong</th>\n",
       "      <td>15</td>\n",
       "      <td>4</td>\n",
       "      <td>1</td>\n",
       "      <td>18</td>\n",
       "      <td>14</td>\n",
       "    </tr>\n",
       "    <tr>\n",
       "      <th>medium</th>\n",
       "      <td>3</td>\n",
       "      <td>0</td>\n",
       "      <td>2</td>\n",
       "      <td>2</td>\n",
       "      <td>4</td>\n",
       "    </tr>\n",
       "    <tr>\n",
       "      <th>weak</th>\n",
       "      <td>24</td>\n",
       "      <td>7</td>\n",
       "      <td>0</td>\n",
       "      <td>2</td>\n",
       "      <td>4</td>\n",
       "    </tr>\n",
       "    <tr>\n",
       "      <th>none</th>\n",
       "      <td>36</td>\n",
       "      <td>4</td>\n",
       "      <td>1</td>\n",
       "      <td>4</td>\n",
       "      <td>5</td>\n",
       "    </tr>\n",
       "  </tbody>\n",
       "</table>\n",
       "</div>"
      ],
      "text/plain": [
       "CHD     none  weak  medium  strong  seed\n",
       "NDD                                     \n",
       "seed      11     5       2       2     4\n",
       "strong    15     4       1      18    14\n",
       "medium     3     0       2       2     4\n",
       "weak      24     7       0       2     4\n",
       "none      36     4       1       4     5"
      ]
     },
     "execution_count": 10,
     "metadata": {},
     "output_type": "execute_result"
    }
   ],
   "source": [
    "NDD_CHD_crosstab=pd.crosstab(known_NDD, known_CHD,rownames=['NDD'],colnames=['CHD'])\n",
    "order_temp = ['none','weak','medium','strong','seed']\n",
    "NDD_CHD_crosstab = NDD_CHD_crosstab[order_temp].loc[order_temp[::-1]]\n",
    "NDD_CHD_crosstab\n"
   ]
  },
  {
   "cell_type": "code",
   "execution_count": 11,
   "metadata": {},
   "outputs": [
    {
     "data": {
      "text/plain": [
       "174"
      ]
     },
     "execution_count": 11,
     "metadata": {},
     "output_type": "execute_result"
    }
   ],
   "source": [
    "# check that numbers add up to 174\n",
    "NDD_CHD_crosstab.sum().sum()"
   ]
  },
  {
   "cell_type": "code",
   "execution_count": 12,
   "metadata": {},
   "outputs": [
    {
     "data": {
      "text/plain": [
       "(array([0.5, 1.5, 2.5, 3.5, 4.5]), <a list of 5 Text yticklabel objects>)"
      ]
     },
     "execution_count": 12,
     "metadata": {},
     "output_type": "execute_result"
    },
    {
     "data": {
      "image/png": "[encoded data removed]",
      "text/plain": [
       "<Figure size 90x90 with 1 Axes>"
      ]
     },
     "metadata": {},
     "output_type": "display_data"
    }
   ],
   "source": [
    "plt.figure(figsize=(1.25,1.25))\n",
    "hfig = sns.heatmap(NDD_CHD_crosstab,annot=True,cbar=False,annot_kws={\"size\": 6},vmin=0,vmax=15)\n",
    "plt.ylabel('NDD literature connection',fontsize=8)\n",
    "plt.xlabel('CHD literature connection',fontsize=8)\n",
    "plt.xticks(fontsize=6,rotation='vertical')\n",
    "plt.yticks(fontsize=6,rotation='horizontal')\n",
    "# plt.savefig('../../manuscript/figures_1911/Figure3/known_novel_NDD_CHD.png',dpi=300,bbox_inches='tight')\n",
    "# plt.savefig('../../manuscript/figures_1911/Figure3/known_novel_NDD_CHD.svg',dpi=300,bbox_inches='tight')\n",
    "# plt.savefig('../../manuscript/figures_1911/Figure3/known_novel_NDD_CHD.pdf',dpi=300,bbox_inches='tight')"
   ]
  },
  {
   "cell_type": "markdown",
   "metadata": {},
   "source": [
    "# DECIPHER ROC curves"
   ]
  },
  {
   "cell_type": "code",
   "execution_count": 13,
   "metadata": {},
   "outputs": [
    {
     "name": "stdout",
     "output_type": "stream",
     "text": [
      "80\n",
      "19701\n"
     ]
    },
    {
     "data": {
      "text/html": [
       "<div>\n",
       "<style scoped>\n",
       "    .dataframe tbody tr th:only-of-type {\n",
       "        vertical-align: middle;\n",
       "    }\n",
       "\n",
       "    .dataframe tbody tr th {\n",
       "        vertical-align: top;\n",
       "    }\n",
       "\n",
       "    .dataframe thead th {\n",
       "        text-align: right;\n",
       "    }\n",
       "</style>\n",
       "<table border=\"1\" class=\"dataframe\">\n",
       "  <thead>\n",
       "    <tr style=\"text-align: right;\">\n",
       "      <th></th>\n",
       "      <th>zscore_ASD</th>\n",
       "      <th>zscore_CHD</th>\n",
       "      <th>zprod_both</th>\n",
       "    </tr>\n",
       "    <tr>\n",
       "      <th>gene</th>\n",
       "      <th></th>\n",
       "      <th></th>\n",
       "      <th></th>\n",
       "    </tr>\n",
       "  </thead>\n",
       "  <tbody>\n",
       "    <tr>\n",
       "      <th>A1BG</th>\n",
       "      <td>-1.483328</td>\n",
       "      <td>0.316803</td>\n",
       "      <td>-0.469922</td>\n",
       "    </tr>\n",
       "    <tr>\n",
       "      <th>A1CF</th>\n",
       "      <td>-0.927115</td>\n",
       "      <td>0.571386</td>\n",
       "      <td>-0.529741</td>\n",
       "    </tr>\n",
       "    <tr>\n",
       "      <th>A2M</th>\n",
       "      <td>-2.837494</td>\n",
       "      <td>0.598259</td>\n",
       "      <td>-1.697556</td>\n",
       "    </tr>\n",
       "    <tr>\n",
       "      <th>A2ML1</th>\n",
       "      <td>-1.119579</td>\n",
       "      <td>1.554647</td>\n",
       "      <td>-1.740550</td>\n",
       "    </tr>\n",
       "    <tr>\n",
       "      <th>A3GALT2</th>\n",
       "      <td>-0.807590</td>\n",
       "      <td>3.459356</td>\n",
       "      <td>-2.793741</td>\n",
       "    </tr>\n",
       "  </tbody>\n",
       "</table>\n",
       "</div>"
      ],
      "text/plain": [
       "         zscore_ASD  zscore_CHD  zprod_both\n",
       "gene                                       \n",
       "A1BG      -1.483328    0.316803   -0.469922\n",
       "A1CF      -0.927115    0.571386   -0.529741\n",
       "A2M       -2.837494    0.598259   -1.697556\n",
       "A2ML1     -1.119579    1.554647   -1.740550\n",
       "A3GALT2   -0.807590    3.459356   -2.793741"
      ]
     },
     "execution_count": 13,
     "metadata": {},
     "output_type": "execute_result"
    }
   ],
   "source": [
    "# load the full z-score results for ASD and CHD\n",
    "\n",
    "z_ASD = pd.read_excel('../../manuscript/tables_19_01/supplemental_tables.xlsx',sheet_name='z_ASD',\n",
    "                    names=['gene','zscore'],index_col='gene')\n",
    "z_CHD = pd.read_excel('../../manuscript/tables_19_01/supplemental_tables.xlsx',sheet_name='z_CHD',\n",
    "                    names=['gene','zscore'],index_col='gene')\n",
    "\n",
    "z_ASD.head()\n",
    "\n",
    "# multiply by the sign (+1 if both +, -1 if either -). \n",
    "z_ASDCHD = z_ASD['zscore'].abs()*z_CHD['zscore'].abs()*(((np.sign(z_ASD['zscore'])>0)&(np.sign(z_CHD['zscore'])>0))*1.0-.5)*2\n",
    "\n",
    "\n",
    "z_ASDCHD.head()\n",
    "\n",
    "\n",
    "\n",
    "seed_genes = ASD_CHD_df[(ASD_CHD_df['ASD_HC']==1)|(ASD_CHD_df['CHD_HC']==1)].index.tolist()\n",
    "print(len(seed_genes))\n",
    "non_seed_genes = list(np.setdiff1d(z_ASDCHD.index.tolist(),seed_genes))\n",
    "z_ASDCHD_noseeds = z_ASDCHD.loc[non_seed_genes]\n",
    "print(len(z_ASDCHD_noseeds))\n",
    "z_ASDCHD_noseeds.max()\n",
    "\n",
    "z_comb = z_ASD.join(z_CHD,lsuffix='_ASD',rsuffix='_CHD')\n",
    "z_comb['zprod_both']=z_ASDCHD\n",
    "z_comb.head()\n",
    "\n",
    "z_comb_no_seeds = z_comb.loc[non_seed_genes]\n",
    "z_comb_no_seeds.head()"
   ]
  },
  {
   "cell_type": "code",
   "execution_count": null,
   "metadata": {},
   "outputs": [],
   "source": []
  },
  {
   "cell_type": "code",
   "execution_count": 14,
   "metadata": {},
   "outputs": [
    {
     "name": "stdout",
     "output_type": "stream",
     "text": [
      "83\n",
      "293\n"
     ]
    }
   ],
   "source": [
    "focal_genes_temp = list(np.intersect1d(z_ASDCHD[z_ASDCHD>3].index.tolist(),dec_kary_shared.index.tolist()))\n",
    "print(len(focal_genes_temp))\n",
    "print(dec_kary_shared['num_damaging_SNVs_indels'].loc[focal_genes_temp].dropna().sum())\n"
   ]
  },
  {
   "cell_type": "code",
   "execution_count": 15,
   "metadata": {},
   "outputs": [],
   "source": [
    "\n",
    "\n",
    "def calc_FPR_TPR(z_ASDCHD, both_DECIPHER,thresh_list):\n",
    "\n",
    "    TP_both_list,FP_both_list,TN_both_list,FN_both_list = [],[],[],[]\n",
    "\n",
    "#     thresh_list = np.arange(0,30)\n",
    "#     thresh_list = np.linspace(-17,400,1000)\n",
    "#     thresh_list = np.linspace(0,2,1000)\n",
    "    for thresh_temp in thresh_list:\n",
    "\n",
    "        both_predicted = z_ASDCHD[z_ASDCHD>=thresh_temp].index.tolist()\n",
    "\n",
    "        # ------ both -------\n",
    "        num_TP_both = len(np.intersect1d(both_DECIPHER,both_predicted))\n",
    "        num_FP_both = len(both_predicted)-num_TP_both\n",
    "        num_FN_both = len(both_DECIPHER)-num_TP_both\n",
    "        # number true negatives is everything that wasn't TP, FN, or FP\n",
    "        num_TN_both = len(z_ASDCHD)-num_TP_both-num_FP_both-num_FN_both \n",
    "\n",
    "        TP_both_list.append(num_TP_both)\n",
    "        FP_both_list.append(num_FP_both)\n",
    "        TN_both_list.append(num_TN_both)\n",
    "        FN_both_list.append(num_FN_both)\n",
    "\n",
    "        # P is number of true positives in the data\n",
    "        P_both = len(both_DECIPHER)\n",
    "        # N is number of true negatives in the data (# number of interactome genes- P..?)\n",
    "        N_both = len(z_ASDCHD)-P_both \n",
    "        # (TPR = sensitivity/ recall)\n",
    "        TPR_both = np.divide(TP_both_list,float(P_both))\n",
    "        FPR_both = np.divide(FP_both_list,float(N_both))\n",
    "\n",
    "        \n",
    "    return(TPR_both,FPR_both)"
   ]
  },
  {
   "cell_type": "code",
   "execution_count": null,
   "metadata": {},
   "outputs": [],
   "source": []
  },
  {
   "cell_type": "code",
   "execution_count": null,
   "metadata": {},
   "outputs": [],
   "source": []
  },
  {
   "cell_type": "code",
   "execution_count": 24,
   "metadata": {
    "scrolled": true
   },
   "outputs": [
    {
     "name": "stdout",
     "output_type": "stream",
     "text": [
      "356\n",
      "344\n",
      "311\n",
      "0.6765529600103375\n",
      "0.6441219244845604\n",
      "0\n",
      "10\n",
      "20\n",
      "30\n",
      "40\n",
      "50\n",
      "60\n",
      "70\n",
      "80\n",
      "90\n",
      "0.5000150471230248\n"
     ]
    }
   ],
   "source": [
    "# make an ROC curve sweeping z score\n",
    "from sklearn.metrics import roc_curve,auc\n",
    "thresh_list = np.linspace(-17,400,2000)\n",
    "\n",
    "dec_thresh=0\n",
    "both_DECIPHER = dec_kary_shared[dec_kary_shared['num_damaging_SNVs_indels']>dec_thresh].index.tolist()\n",
    "print(len(both_DECIPHER))\n",
    "# make sure the genes are able to be recovered\n",
    "both_DECIPHER = list(np.intersect1d(z_ASDCHD.index.tolist(),both_DECIPHER))\n",
    "print(len(both_DECIPHER))\n",
    "\n",
    "TPR_both,FPR_both=calc_FPR_TPR(z_comb['zprod_both'], both_DECIPHER,thresh_list)\n",
    "\n",
    "both_DECIPHER_noseeds = list(np.setdiff1d(both_DECIPHER,seed_genes))\n",
    "print(len(both_DECIPHER_noseeds))\n",
    "TPR_both_noseeds,FPR_both_noseeds=calc_FPR_TPR(z_comb_no_seeds['zprod_both'], both_DECIPHER_noseeds,thresh_list)\n",
    "# TPR_both\n",
    "\n",
    "auc_both = auc(FPR_both,TPR_both)\n",
    "print(auc_both)\n",
    "auc_both_noseeds = auc(FPR_both_noseeds,TPR_both_noseeds)\n",
    "print(auc_both_noseeds)\n",
    "\n",
    "\n",
    "\n",
    "auc_both_rand=[]\n",
    "# randomize xeno_df\n",
    "for r in np.arange(100):\n",
    "#     print(r)\n",
    "    if (r%10)==0:\n",
    "        print(r)\n",
    "\n",
    "    z_ASDrand = z_ASD.copy(deep=True)\n",
    "    rand_index=z_ASDrand.index.tolist()\n",
    "    np.random.shuffle(rand_index)\n",
    "    z_ASDrand.index=rand_index\n",
    "    z_CHDrand = z_CHD.copy(deep=True)\n",
    "    rand_index=z_CHDrand.index.tolist()\n",
    "    np.random.shuffle(rand_index)\n",
    "    z_CHDrand.index=rand_index\n",
    "    z_ASDrand.head()\n",
    "\n",
    "    z_ASDCHDrand = z_ASDrand['zscore'].abs()*z_CHDrand['zscore'].abs()*(((np.sign(z_ASDrand['zscore'])>0)&(np.sign(z_CHDrand['zscore'])>0))*1.0-.5)*2\n",
    "\n",
    "    \n",
    "    TPR_both_rand,FPR_both_rand=calc_FPR_TPR(z_ASDCHDrand, both_DECIPHER,thresh_list)\n",
    "    auc_both_rand.append(auc(TPR_both_rand,FPR_both_rand))\n",
    "\n",
    "    \n",
    "print(np.mean(auc_both_rand))\n",
    "\n"
   ]
  },
  {
   "cell_type": "code",
   "execution_count": 25,
   "metadata": {},
   "outputs": [
    {
     "name": "stdout",
     "output_type": "stream",
     "text": [
      "12.89506369823206\n",
      "2.3993323662947457e-38\n",
      "10.526165924010229\n",
      "3.2723064087241056e-26\n"
     ]
    },
    {
     "data": {
      "image/png": "[encoded data removed]",
      "text/plain": [
       "<Figure size 129.6x129.6 with 1 Axes>"
      ]
     },
     "metadata": {},
     "output_type": "display_data"
    }
   ],
   "source": [
    "from scipy.stats import norm\n",
    "sns.set_style('white')\n",
    "sns.set_style(\"ticks\", {\"xtick.major.size\": 15, \"ytick.major.size\": 15})\n",
    "# from scipy.special import ndtr\n",
    "plt.figure(figsize=(1.8,1.8))\n",
    "sns.distplot(auc_both_rand,label='permuted labels',color='k')\n",
    "z_both = (auc_both-np.mean(auc_both_rand))/np.std(auc_both_rand)\n",
    "print(z_both)\n",
    "print(norm.sf(z_both))\n",
    "z_both_noseeds = (auc_both_noseeds-np.mean(auc_both_rand))/np.std(auc_both_rand)\n",
    "print(z_both_noseeds)\n",
    "print(norm.sf(z_both_noseeds))\n",
    "plt.vlines(auc_both,0,4,color='#A81012',label='z_ASD-CHD')\n",
    "plt.vlines(auc_both_noseeds,0,4,color='#FF4F4F',label='z_ASD-CHD\\nno seeds')\n",
    "plt.legend(loc='upper right',fontsize=6)\n",
    "plt.xlabel('AUC',fontsize=8)\n",
    "plt.ylabel('count',fontsize=8)\n",
    "plt.savefig('../../manuscript/figures_1911/Supplement/DECIPHER_SNV_INDEL_AUC_'+str(dec_thresh)+'.png',dpi=300,bbox_inches='tight')\n",
    "plt.savefig('../../manuscript/figures_1911/Supplement/DECIPHER_SNV_INDEL_AUC_'+str(dec_thresh)+'.svg',dpi=300,bbox_inches='tight')"
   ]
  },
  {
   "cell_type": "code",
   "execution_count": null,
   "metadata": {},
   "outputs": [],
   "source": []
  },
  {
   "cell_type": "code",
   "execution_count": 18,
   "metadata": {},
   "outputs": [
    {
     "data": {
      "text/html": [
       "<div>\n",
       "<style scoped>\n",
       "    .dataframe tbody tr th:only-of-type {\n",
       "        vertical-align: middle;\n",
       "    }\n",
       "\n",
       "    .dataframe tbody tr th {\n",
       "        vertical-align: top;\n",
       "    }\n",
       "\n",
       "    .dataframe thead th {\n",
       "        text-align: right;\n",
       "    }\n",
       "</style>\n",
       "<table border=\"1\" class=\"dataframe\">\n",
       "  <thead>\n",
       "    <tr style=\"text-align: right;\">\n",
       "      <th></th>\n",
       "      <th>FPR_both</th>\n",
       "      <th>FPR_both_noseeds</th>\n",
       "      <th>FPR_both_rand</th>\n",
       "      <th>TPR_both</th>\n",
       "      <th>TPR_both_noseeds</th>\n",
       "      <th>TPR_both_rand</th>\n",
       "      <th>thresh</th>\n",
       "    </tr>\n",
       "  </thead>\n",
       "  <tbody>\n",
       "    <tr>\n",
       "      <th>96</th>\n",
       "      <td>0.038586</td>\n",
       "      <td>0.036256</td>\n",
       "      <td>0.01955</td>\n",
       "      <td>0.241279</td>\n",
       "      <td>0.160772</td>\n",
       "      <td>0.020349</td>\n",
       "      <td>3.026013</td>\n",
       "    </tr>\n",
       "  </tbody>\n",
       "</table>\n",
       "</div>"
      ],
      "text/plain": [
       "    FPR_both  FPR_both_noseeds  FPR_both_rand  TPR_both  TPR_both_noseeds  \\\n",
       "96  0.038586          0.036256        0.01955  0.241279          0.160772   \n",
       "\n",
       "    TPR_both_rand    thresh  \n",
       "96       0.020349  3.026013  "
      ]
     },
     "metadata": {},
     "output_type": "display_data"
    },
    {
     "data": {
      "image/png": "[encoded data removed]",
      "text/plain": [
       "<Figure size 129.6x129.6 with 1 Axes>"
      ]
     },
     "metadata": {},
     "output_type": "display_data"
    }
   ],
   "source": [
    "from sklearn.metrics import roc_curve,auc\n",
    "sns.set_style('white')\n",
    "sns.set_style(\"ticks\", {\"xtick.major.size\": 15, \"ytick.major.size\": 15})\n",
    "threshlist = np.linspace(-17,400,2000)\n",
    "ROC_df = pd.DataFrame({'thresh':threshlist,\n",
    "                      'FPR_both':FPR_both,'TPR_both':TPR_both,\n",
    "                      'FPR_both_noseeds':FPR_both_noseeds,'TPR_both_noseeds':TPR_both_noseeds,\n",
    "                      'FPR_both_rand':FPR_both_rand,'TPR_both_rand':TPR_both_rand})\n",
    "ROC_df.head()\n",
    "plt.figure(figsize=(1.8,1.8))\n",
    "plt.plot(FPR_both_noseeds,TPR_both_noseeds,'.-',color='#FF4F4F',label='$z_{ASD-CHD}$, no seeds',lw=.5,ms=2)\n",
    "plt.plot(FPR_both,TPR_both,'.-',color='#A81012',label='$z_{ASD-CHD}$, all',lw=.5,ms=2)\n",
    "\n",
    "\n",
    "# circle z=3 \n",
    "ROC_z3 = ROC_df[(ROC_df['thresh']>2.9)&(ROC_df['thresh']<3.1)]\n",
    "display(ROC_z3)\n",
    "plt.plot(ROC_z3['FPR_both'],ROC_z3['TPR_both'],'o',ms=4,color='k',fillstyle='none',label='$z=3$')\n",
    "plt.plot(ROC_z3['FPR_both_noseeds'],ROC_z3['TPR_both_noseeds'],'o',ms=4,color='k',fillstyle='none',label='')\n",
    "\n",
    "# plt.plot(FPR_both_rand,TPR_both_rand,'k.-')\n",
    "plt.plot([0,1],[0,1],'k--',alpha=.5)\n",
    "plt.legend(loc='upper left', fontsize=6,frameon=False)\n",
    "plt.xlabel('DECIPHER false positive rate',fontsize=8)\n",
    "plt.ylabel('DECIPHER true positive rate',fontsize=8)\n",
    "plt.xticks(fontsize=8)\n",
    "plt.yticks(fontsize=8)\n",
    "\n",
    "plt.xlim([-.03,1.1])\n",
    "plt.ylim([-.03,1.1])\n",
    "\n",
    "# plt.savefig('../../manuscript/figures_1911/Figure3/Figure3_final assets/DECIPHER_SNV_INDEL_ROC_'+str(dec_thresh)+'.png',dpi=300,bbox_inches='tight')\n",
    "# # plt.savefig('../../manuscript/figures_1911/Figure3/DECIPHER_SNV_INDEL_ROC_'+str(dec_thresh)+'.pdf',dpi=300,bbox_inches='tight')\n",
    "# plt.savefig('../../manuscript/figures_1911/Figure3/Figure3_final assets/DECIPHER_SNV_INDEL_ROC_'+str(dec_thresh)+'.svg',dpi=300,bbox_inches='tight')\n",
    "\n",
    "\n"
   ]
  },
  {
   "cell_type": "code",
   "execution_count": null,
   "metadata": {
    "collapsed": true
   },
   "outputs": [],
   "source": []
  }
 ],
 "metadata": {
  "kernelspec": {
   "display_name": "Python 2",
   "language": "python",
   "name": "python2"
  },
  "language_info": {
   "codemirror_mode": {
    "name": "ipython",
    "version": 2
   },
   "file_extension": ".py",
   "mimetype": "text/x-python",
   "name": "python",
   "nbconvert_exporter": "python",
   "pygments_lexer": "ipython2",
   "version": "2.7.17"
  }
 },
 "nbformat": 4,
 "nbformat_minor": 1
}
