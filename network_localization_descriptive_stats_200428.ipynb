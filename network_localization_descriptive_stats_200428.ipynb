{
 "cells": [
  {
   "cell_type": "markdown",
   "metadata": {},
   "source": [
    "# Descriptive stats for datasets and network localization\n",
    "\n",
    "-------------------\n",
    "\n",
    "Author: Brin Rosenthal (sbrosenthal@ucsd.edu)\n",
    "\n",
    "-------------------\n",
    "\n",
    "Updated 7/3/19 to remove extraneous code, add comments, and clarify\n",
    "\n",
    "4/28/20: more cleanup\n",
    "\n",
    "\n"
   ]
  },
  {
   "cell_type": "markdown",
   "metadata": {},
   "source": [
    "\n",
    "<a id='import'></a>\n",
    "## Import packages"
   ]
  },
  {
   "cell_type": "code",
   "execution_count": 1,
   "metadata": {},
   "outputs": [],
   "source": [
    "\n",
    "import numpy as np\n",
    "import matplotlib.pyplot as plt\n",
    "import seaborn as sns\n",
    "import networkx as nx\n",
    "import pandas as pd\n",
    "import random\n",
    "\n",
    "from IPython.display import display\n",
    "\n",
    "# latex rendering of text in graphs\n",
    "import matplotlib as mpl\n",
    "mpl.rc('text', usetex = False)\n",
    "mpl.rc('font', family = 'serif')\n",
    "\n",
    "from matplotlib import rcParams\n",
    "rcParams['font.family'] = 'sans-serif'\n",
    "rcParams['font.sans-serif'] = ['Arial']\n",
    "\n",
    "sns.set_style('white')\n",
    "\n",
    "sns.set_style(\"ticks\", {\"xtick.major.size\": 15, \"ytick.major.size\": 15})\n",
    "plt.rcParams['svg.fonttype'] = 'none'\n",
    "\n",
    "import sys\n",
    "\n",
    "% matplotlib inline"
   ]
  },
  {
   "cell_type": "code",
   "execution_count": 2,
   "metadata": {},
   "outputs": [
    {
     "data": {
      "text/plain": [
       "'1.11'"
      ]
     },
     "execution_count": 2,
     "metadata": {},
     "output_type": "execute_result"
    }
   ],
   "source": [
    "# need to have networkx version 1.11\n",
    "nx.__version__"
   ]
  },
  {
   "cell_type": "code",
   "execution_count": 3,
   "metadata": {},
   "outputs": [],
   "source": [
    "# import network localization methods\n",
    "\n",
    "sys.path.append('netprop_zscore_code/')\n",
    "import network_localization"
   ]
  },
  {
   "cell_type": "markdown",
   "metadata": {},
   "source": [
    "#### Some gene symbols in the data were out of data (not consistent with PCnet) -- load mapping"
   ]
  },
  {
   "cell_type": "code",
   "execution_count": 4,
   "metadata": {},
   "outputs": [
    {
     "data": {
      "text/plain": [
       "original_symbol\n",
       "A2M          A2M\n",
       "A2ML1      A2ML1\n",
       "AASS        AASS\n",
       "ABCA1      ABCA1\n",
       "ABCA13    ABCA13\n",
       "Name: symbol, dtype: object"
      ]
     },
     "execution_count": 4,
     "metadata": {},
     "output_type": "execute_result"
    }
   ],
   "source": [
    "map_old_new = pd.read_csv('../../data/ASD_EPI_CHD_HC_and_DNVs_symbol_gene_description.txt',sep='\\t')\n",
    "map_old_new.index=map_old_new['original_symbol']\n",
    "map_old_new = map_old_new['symbol']\n",
    "map_old_new.head()"
   ]
  },
  {
   "cell_type": "markdown",
   "metadata": {},
   "source": [
    "[TOC](#toc)\n",
    "\n",
    "<a id='importData'></a>\n",
    "# Load the data- including ASD and CHD high confidence genes, and DNV sets\n",
    "\n",
    "ASD, CHD gene lists (suggested by Jeremy)\n",
    "\n",
    "ASD genes come from table 4 in http://www.cell.com/neuron/fulltext/S0896-6273(15)00773-4 "
   ]
  },
  {
   "cell_type": "code",
   "execution_count": 5,
   "metadata": {},
   "outputs": [
    {
     "data": {
      "text/plain": [
       "65"
      ]
     },
     "execution_count": 5,
     "metadata": {},
     "output_type": "execute_result"
    }
   ],
   "source": [
    "# ------- ASD HC genes -------\n",
    "\n",
    "ASD_HC = pd.read_csv('../../data/ASD_HC.txt',names=['HC_genes'])\n",
    "\n",
    "ASD_HC = ASD_HC['HC_genes'].tolist()\n",
    "len(ASD_HC)\n",
    "\n",
    "\n"
   ]
  },
  {
   "cell_type": "code",
   "execution_count": null,
   "metadata": {},
   "outputs": [],
   "source": []
  },
  {
   "cell_type": "code",
   "execution_count": 6,
   "metadata": {},
   "outputs": [
    {
     "data": {
      "text/plain": [
       "66"
      ]
     },
     "execution_count": 6,
     "metadata": {},
     "output_type": "execute_result"
    }
   ],
   "source": [
    "# ------- High confidence CHD genes -------\n",
    "\n",
    "# Load congenital heart defect recurring DNVs (from https://www.nature.com/articles/ng.3970)\n",
    "\n",
    "CHD_seed_type='CHD_full' # can be 'CHD_withNDD', 'CHD_full', or 'CHD_only'\n",
    "\n",
    "\n",
    "if CHD_seed_type=='CHD_full':\n",
    "    # new HC genes:\n",
    "    CHD_HC = pd.read_csv('../../data/CHD_HC_new.txt',names=['HC_genes'])\n",
    "elif CHD_seed_type=='CHD_withNDD':\n",
    "    CHD_HC = pd.read_csv('../../data/CHD_withNDD_HC_new.txt',names=['HC_genes'])\n",
    "elif CHD_seed_type=='CHD_only':\n",
    "    CHD_HC = pd.read_csv('../../data/CHD_only_HC_new.txt',names=['HC_genes'])\n",
    "\n",
    "CHD_HC = CHD_HC['HC_genes'].tolist()\n",
    "len(CHD_HC)"
   ]
  },
  {
   "cell_type": "code",
   "execution_count": 7,
   "metadata": {},
   "outputs": [
    {
     "name": "stdout",
     "output_type": "stream",
     "text": [
      "\n",
      "number total ASD damaging DNVs\n",
      "750\n",
      "\n",
      "number unique ASD damaging DNVs:\n",
      "663\n",
      "\n",
      "number recurrent ASD damaging DNVs\n",
      "63\n"
     ]
    }
   ],
   "source": [
    "# Load all NDD DNVs (from CHD paper)\n",
    "NDD_df = pd.read_excel('../../data/CHD_NDD_databases/homsy_database_S08.xlsx',skiprows=1)\n",
    "ASD_DNV = NDD_df[NDD_df['Study']=='SSC'] # simons simplex data\n",
    "print('\\nnumber total ASD damaging DNVs')\n",
    "print(len(ASD_DNV))\n",
    "ASD_DNV_VC = ASD_DNV['Gene'].value_counts() # count recurrences\n",
    "ASD_DNV = list(np.unique(ASD_DNV['Gene'].tolist()))\n",
    "print('\\nnumber unique ASD damaging DNVs:')\n",
    "print(len(map_old_new.loc[ASD_DNV].dropna()))\n",
    "ASD_DNV = map_old_new.loc[ASD_DNV].tolist()\n",
    "\n",
    "print('\\nnumber recurrent ASD damaging DNVs')\n",
    "print(sum(ASD_DNV_VC>1)) # number recurrent ASD"
   ]
  },
  {
   "cell_type": "code",
   "execution_count": 8,
   "metadata": {},
   "outputs": [
    {
     "name": "stderr",
     "output_type": "stream",
     "text": [
      "/Users/brinrosenthal/anaconda3/envs/ipykernel_py2/lib/python2.7/site-packages/pandas/util/_decorators.py:188: FutureWarning: The `sheetname` keyword is deprecated, use `sheet_name` instead\n",
      "  return func(*args, **kwargs)\n"
     ]
    },
    {
     "name": "stdout",
     "output_type": "stream",
     "text": [
      "number total CHD damaging DNVs:\n",
      "827\n",
      "\n",
      "number damaging CHD DNVs without NDD:\n",
      "309\n",
      "\n",
      "number damaging CHD DNVs with NDD:\n",
      "198\n",
      "\n",
      "number unique CHD damaging DNVs:\n",
      "705\n",
      "\n",
      "number recurrent CHD damaging DNVs \n",
      "66\n"
     ]
    }
   ],
   "source": [
    "# Load the new cohort (Supp table 9 from https://www.nature.com/articles/ng.3970)\n",
    "CHD_new_df = pd.read_excel('../../data/CHD_databases_2017_paper/ng.3970-S3.xlsx',sheetname='S9',skiprows=1)\n",
    "CHD_new_df.index=CHD_new_df['Blinded ID']\n",
    "\n",
    "# apply the same filtering as for old data\n",
    "CHD_new_df = CHD_new_df[(CHD_new_df['Variant_Class']!='syn')&(CHD_new_df['Variant_Class']!='mis')]\n",
    "\n",
    "print('number total CHD damaging DNVs:')\n",
    "print(len(CHD_new_df))\n",
    "\n",
    "DNV_noNDD_full = CHD_new_df[CHD_new_df['NDD']=='No']\n",
    "DNV_noNDD_full = DNV_noNDD_full['Gene'].unique().tolist()\n",
    "print('\\nnumber damaging CHD DNVs without NDD:')\n",
    "print(len(DNV_noNDD_full))\n",
    "\n",
    "DNV_withNDD_full = CHD_new_df[CHD_new_df['NDD']=='Yes']\n",
    "DNV_withNDD_full = DNV_withNDD_full['Gene'].unique().tolist()\n",
    "print('\\nnumber damaging CHD DNVs with NDD:')\n",
    "print(len(DNV_withNDD_full))\n",
    "\n",
    "CHD_DNV = CHD_new_df['Gene'].unique().tolist()\n",
    "CHD_DNV_VC = CHD_new_df['Gene'].value_counts()\n",
    "\n",
    "print('\\nnumber unique CHD damaging DNVs:')\n",
    "print(len(CHD_DNV))\n",
    "\n",
    "\n",
    "print('\\nnumber recurrent CHD damaging DNVs ')\n",
    "print(sum(CHD_DNV_VC>1)) # number recurrent CHD"
   ]
  },
  {
   "cell_type": "code",
   "execution_count": null,
   "metadata": {},
   "outputs": [],
   "source": []
  },
  {
   "cell_type": "code",
   "execution_count": 9,
   "metadata": {},
   "outputs": [
    {
     "name": "stdout",
     "output_type": "stream",
     "text": [
      "number damaging control DNVs:\n",
      "201\n",
      "\n",
      "number unique damaging control DNVs:\n",
      "193\n",
      "\n",
      "number recurrent damaging control DNVs:\n",
      "7\n"
     ]
    }
   ],
   "source": [
    "# Load control DNVs (from Database S3)\n",
    "ctrl_DNV_df = pd.read_excel('../../data/CHD_NDD_databases/homsy_database_S03.xlsx',skiprows=1)\n",
    "\n",
    "# exclude synonymouse and non-damaging missense\n",
    "ctrl_DNV = ctrl_DNV_df[(ctrl_DNV_df['Variant Class']!='Synonymous')&(ctrl_DNV_df['Variant Class']!='Missense')]\n",
    "ctrl_DNV_VC = ctrl_DNV['Gene'].value_counts()\n",
    "print('number damaging control DNVs:')\n",
    "print(len(ctrl_DNV))\n",
    "#ctrl_DNV = ctrl_DNV_df\n",
    "ctrl_DNV = list(np.unique(ctrl_DNV['Gene'].tolist()))\n",
    "print('\\nnumber unique damaging control DNVs:')\n",
    "print(len(ctrl_DNV))\n",
    "\n",
    "print('\\nnumber recurrent damaging control DNVs:')\n",
    "print(sum(ctrl_DNV_VC>1))\n"
   ]
  },
  {
   "cell_type": "code",
   "execution_count": null,
   "metadata": {},
   "outputs": [],
   "source": []
  },
  {
   "cell_type": "markdown",
   "metadata": {},
   "source": [
    "## Define gene sets for use in rest of analysis"
   ]
  },
  {
   "cell_type": "code",
   "execution_count": 10,
   "metadata": {},
   "outputs": [
    {
     "name": "stdout",
     "output_type": "stream",
     "text": [
      "65\n",
      "66\n"
     ]
    }
   ],
   "source": [
    "# pick out which gene sets to investigate\n",
    "genes_ASD = ASD_HC\n",
    "print(len(genes_ASD))\n",
    "genes_CHD = CHD_HC\n",
    "print(len(genes_CHD))"
   ]
  },
  {
   "cell_type": "markdown",
   "metadata": {},
   "source": [
    "[TOC](#toc)\n",
    "\n",
    "<a id='plotHCgenes'></a>\n",
    "# Make figure 1: summary of HC genes in CHD and ASD  (showing low recurrence)\n",
    "\n"
   ]
  },
  {
   "cell_type": "code",
   "execution_count": 11,
   "metadata": {},
   "outputs": [
    {
     "data": {
      "text/html": [
       "<div>\n",
       "<style scoped>\n",
       "    .dataframe tbody tr th:only-of-type {\n",
       "        vertical-align: middle;\n",
       "    }\n",
       "\n",
       "    .dataframe tbody tr th {\n",
       "        vertical-align: top;\n",
       "    }\n",
       "\n",
       "    .dataframe thead th {\n",
       "        text-align: right;\n",
       "    }\n",
       "</style>\n",
       "<table border=\"1\" class=\"dataframe\">\n",
       "  <thead>\n",
       "    <tr style=\"text-align: right;\">\n",
       "      <th></th>\n",
       "      <th>Study</th>\n",
       "      <th>CHR</th>\n",
       "      <th>POS</th>\n",
       "      <th>REF</th>\n",
       "      <th>ALT</th>\n",
       "      <th>Proband ID</th>\n",
       "      <th>Class</th>\n",
       "      <th>Class (2)</th>\n",
       "      <th>Gene</th>\n",
       "      <th>Ensembl Gene ID</th>\n",
       "      <th>AA1</th>\n",
       "      <th>AA2</th>\n",
       "      <th>dbNSFP Meta-SVM Rankscore</th>\n",
       "    </tr>\n",
       "  </thead>\n",
       "  <tbody>\n",
       "    <tr>\n",
       "      <th>1</th>\n",
       "      <td>SSC</td>\n",
       "      <td>1</td>\n",
       "      <td>1222518</td>\n",
       "      <td>C</td>\n",
       "      <td>A</td>\n",
       "      <td>11563.p1</td>\n",
       "      <td>nonsense</td>\n",
       "      <td>lof</td>\n",
       "      <td>SCNN1D</td>\n",
       "      <td>ENSG00000162572</td>\n",
       "      <td>NaN</td>\n",
       "      <td>NaN</td>\n",
       "      <td>NaN</td>\n",
       "    </tr>\n",
       "    <tr>\n",
       "      <th>3</th>\n",
       "      <td>SSC</td>\n",
       "      <td>1</td>\n",
       "      <td>3519049</td>\n",
       "      <td>AC</td>\n",
       "      <td>A</td>\n",
       "      <td>14075.p1</td>\n",
       "      <td>frameshift</td>\n",
       "      <td>lof</td>\n",
       "      <td>MEGF6</td>\n",
       "      <td>ENSG00000162591</td>\n",
       "      <td>NaN</td>\n",
       "      <td>NaN</td>\n",
       "      <td>NaN</td>\n",
       "    </tr>\n",
       "    <tr>\n",
       "      <th>4</th>\n",
       "      <td>SSC</td>\n",
       "      <td>1</td>\n",
       "      <td>11205057</td>\n",
       "      <td>T</td>\n",
       "      <td>C</td>\n",
       "      <td>11104.p1</td>\n",
       "      <td>missense</td>\n",
       "      <td>D-mis</td>\n",
       "      <td>MTOR</td>\n",
       "      <td>ENSG00000198793</td>\n",
       "      <td>M</td>\n",
       "      <td>V</td>\n",
       "      <td>0.83852</td>\n",
       "    </tr>\n",
       "    <tr>\n",
       "      <th>5</th>\n",
       "      <td>SSC</td>\n",
       "      <td>1</td>\n",
       "      <td>12175787</td>\n",
       "      <td>G</td>\n",
       "      <td>A</td>\n",
       "      <td>12340.p1</td>\n",
       "      <td>splice</td>\n",
       "      <td>lof</td>\n",
       "      <td>TNFRSF8</td>\n",
       "      <td>ENSG00000120949</td>\n",
       "      <td>NaN</td>\n",
       "      <td>NaN</td>\n",
       "      <td>NaN</td>\n",
       "    </tr>\n",
       "    <tr>\n",
       "      <th>6</th>\n",
       "      <td>SSC</td>\n",
       "      <td>1</td>\n",
       "      <td>12428630</td>\n",
       "      <td>T</td>\n",
       "      <td>C</td>\n",
       "      <td>13930.p1</td>\n",
       "      <td>missense</td>\n",
       "      <td>D-mis</td>\n",
       "      <td>VPS13D</td>\n",
       "      <td>ENSG00000048707</td>\n",
       "      <td>I</td>\n",
       "      <td>T</td>\n",
       "      <td>0.84048</td>\n",
       "    </tr>\n",
       "  </tbody>\n",
       "</table>\n",
       "</div>"
      ],
      "text/plain": [
       "  Study CHR       POS REF ALT Proband ID       Class Class (2)     Gene  \\\n",
       "1   SSC   1   1222518   C   A   11563.p1    nonsense       lof   SCNN1D   \n",
       "3   SSC   1   3519049  AC   A   14075.p1  frameshift       lof    MEGF6   \n",
       "4   SSC   1  11205057   T   C   11104.p1    missense     D-mis     MTOR   \n",
       "5   SSC   1  12175787   G   A   12340.p1      splice       lof  TNFRSF8   \n",
       "6   SSC   1  12428630   T   C   13930.p1    missense     D-mis   VPS13D   \n",
       "\n",
       "   Ensembl Gene ID  AA1  AA2  dbNSFP Meta-SVM Rankscore  \n",
       "1  ENSG00000162572  NaN  NaN                        NaN  \n",
       "3  ENSG00000162591  NaN  NaN                        NaN  \n",
       "4  ENSG00000198793    M    V                    0.83852  \n",
       "5  ENSG00000120949  NaN  NaN                        NaN  \n",
       "6  ENSG00000048707    I    T                    0.84048  "
      ]
     },
     "execution_count": 11,
     "metadata": {},
     "output_type": "execute_result"
    }
   ],
   "source": [
    "ASD_df = NDD_df[(NDD_df['Study']=='SSC')]\n",
    "ASD_df.head()"
   ]
  },
  {
   "cell_type": "code",
   "execution_count": 12,
   "metadata": {},
   "outputs": [
    {
     "data": {
      "text/html": [
       "<div>\n",
       "<style scoped>\n",
       "    .dataframe tbody tr th:only-of-type {\n",
       "        vertical-align: middle;\n",
       "    }\n",
       "\n",
       "    .dataframe tbody tr th {\n",
       "        vertical-align: top;\n",
       "    }\n",
       "\n",
       "    .dataframe thead th {\n",
       "        text-align: right;\n",
       "    }\n",
       "</style>\n",
       "<table border=\"1\" class=\"dataframe\">\n",
       "  <thead>\n",
       "    <tr style=\"text-align: right;\">\n",
       "      <th></th>\n",
       "      <th>Blinded ID</th>\n",
       "      <th>Cardiac Category</th>\n",
       "      <th>EM</th>\n",
       "      <th>NDD</th>\n",
       "      <th>CHROM</th>\n",
       "      <th>POS</th>\n",
       "      <th>REF</th>\n",
       "      <th>ALT</th>\n",
       "      <th>Ensemble_GENEID</th>\n",
       "      <th>Gene</th>\n",
       "      <th>Variant_Class</th>\n",
       "      <th>AA change</th>\n",
       "      <th>RadialSVM_score</th>\n",
       "      <th>RadialSVM_pred</th>\n",
       "      <th>ExAC_Overall</th>\n",
       "      <th>HHE Rank</th>\n",
       "      <th>pLI score</th>\n",
       "    </tr>\n",
       "    <tr>\n",
       "      <th>Blinded ID</th>\n",
       "      <th></th>\n",
       "      <th></th>\n",
       "      <th></th>\n",
       "      <th></th>\n",
       "      <th></th>\n",
       "      <th></th>\n",
       "      <th></th>\n",
       "      <th></th>\n",
       "      <th></th>\n",
       "      <th></th>\n",
       "      <th></th>\n",
       "      <th></th>\n",
       "      <th></th>\n",
       "      <th></th>\n",
       "      <th></th>\n",
       "      <th></th>\n",
       "      <th></th>\n",
       "    </tr>\n",
       "  </thead>\n",
       "  <tbody>\n",
       "    <tr>\n",
       "      <th>1-07417</th>\n",
       "      <td>1-07417</td>\n",
       "      <td>CTD</td>\n",
       "      <td>Yes</td>\n",
       "      <td>Unknown</td>\n",
       "      <td>5</td>\n",
       "      <td>132097207</td>\n",
       "      <td>C</td>\n",
       "      <td>G</td>\n",
       "      <td>ENSG00000164402</td>\n",
       "      <td>SEPT8</td>\n",
       "      <td>misD</td>\n",
       "      <td>p.R302P</td>\n",
       "      <td>0.657</td>\n",
       "      <td>D</td>\n",
       "      <td>.</td>\n",
       "      <td>86.369549</td>\n",
       "      <td>9.542857e-01</td>\n",
       "    </tr>\n",
       "    <tr>\n",
       "      <th>1-12717</th>\n",
       "      <td>1-12717</td>\n",
       "      <td>CTD</td>\n",
       "      <td>Yes</td>\n",
       "      <td>Yes</td>\n",
       "      <td>10</td>\n",
       "      <td>101578577</td>\n",
       "      <td>C</td>\n",
       "      <td>T</td>\n",
       "      <td>ENSG00000023839</td>\n",
       "      <td>ABCC2</td>\n",
       "      <td>misD</td>\n",
       "      <td>p.R768W</td>\n",
       "      <td>1.065</td>\n",
       "      <td>D</td>\n",
       "      <td>7.42e-05</td>\n",
       "      <td>16.124654</td>\n",
       "      <td>3.363414e-29</td>\n",
       "    </tr>\n",
       "    <tr>\n",
       "      <th>1-06692</th>\n",
       "      <td>1-06692</td>\n",
       "      <td>CTD</td>\n",
       "      <td>No</td>\n",
       "      <td>Unknown</td>\n",
       "      <td>17</td>\n",
       "      <td>48762187</td>\n",
       "      <td>C</td>\n",
       "      <td>T</td>\n",
       "      <td>ENSG00000108846</td>\n",
       "      <td>ABCC3</td>\n",
       "      <td>non</td>\n",
       "      <td>p.Q1411X</td>\n",
       "      <td>.</td>\n",
       "      <td>.</td>\n",
       "      <td>.</td>\n",
       "      <td>32.809230</td>\n",
       "      <td>2.616130e-14</td>\n",
       "    </tr>\n",
       "    <tr>\n",
       "      <th>1-06555</th>\n",
       "      <td>1-06555</td>\n",
       "      <td>other</td>\n",
       "      <td>No</td>\n",
       "      <td>No</td>\n",
       "      <td>1</td>\n",
       "      <td>94943860</td>\n",
       "      <td>A</td>\n",
       "      <td>G</td>\n",
       "      <td>ENSG00000117528</td>\n",
       "      <td>ABCD3</td>\n",
       "      <td>misD</td>\n",
       "      <td>p.I225V</td>\n",
       "      <td>1.123</td>\n",
       "      <td>D</td>\n",
       "      <td>3.34e-05</td>\n",
       "      <td>77.665290</td>\n",
       "      <td>9.996956e-01</td>\n",
       "    </tr>\n",
       "    <tr>\n",
       "      <th>1-07919</th>\n",
       "      <td>1-07919</td>\n",
       "      <td>LVO</td>\n",
       "      <td>Yes</td>\n",
       "      <td>No</td>\n",
       "      <td>4</td>\n",
       "      <td>146025629</td>\n",
       "      <td>G</td>\n",
       "      <td>A</td>\n",
       "      <td>ENSG00000164163</td>\n",
       "      <td>ABCE1</td>\n",
       "      <td>misD</td>\n",
       "      <td>p.R22Q</td>\n",
       "      <td>0.113</td>\n",
       "      <td>D</td>\n",
       "      <td>1.72e-05</td>\n",
       "      <td>82.195577</td>\n",
       "      <td>9.999826e-01</td>\n",
       "    </tr>\n",
       "  </tbody>\n",
       "</table>\n",
       "</div>"
      ],
      "text/plain": [
       "           Blinded ID Cardiac Category   EM      NDD CHROM        POS REF ALT  \\\n",
       "Blinded ID                                                                      \n",
       "1-07417       1-07417              CTD  Yes  Unknown     5  132097207   C   G   \n",
       "1-12717       1-12717              CTD  Yes      Yes    10  101578577   C   T   \n",
       "1-06692       1-06692              CTD   No  Unknown    17   48762187   C   T   \n",
       "1-06555       1-06555            other   No       No     1   94943860   A   G   \n",
       "1-07919       1-07919              LVO  Yes       No     4  146025629   G   A   \n",
       "\n",
       "            Ensemble_GENEID   Gene Variant_Class AA change RadialSVM_score  \\\n",
       "Blinded ID                                                                   \n",
       "1-07417     ENSG00000164402  SEPT8          misD   p.R302P           0.657   \n",
       "1-12717     ENSG00000023839  ABCC2          misD   p.R768W           1.065   \n",
       "1-06692     ENSG00000108846  ABCC3           non  p.Q1411X               .   \n",
       "1-06555     ENSG00000117528  ABCD3          misD   p.I225V           1.123   \n",
       "1-07919     ENSG00000164163  ABCE1          misD    p.R22Q           0.113   \n",
       "\n",
       "           RadialSVM_pred ExAC_Overall   HHE Rank     pLI score  \n",
       "Blinded ID                                                       \n",
       "1-07417                 D            .  86.369549  9.542857e-01  \n",
       "1-12717                 D     7.42e-05  16.124654  3.363414e-29  \n",
       "1-06692                 .            .  32.809230  2.616130e-14  \n",
       "1-06555                 D     3.34e-05  77.665290  9.996956e-01  \n",
       "1-07919                 D     1.72e-05  82.195577  9.999826e-01  "
      ]
     },
     "execution_count": 12,
     "metadata": {},
     "output_type": "execute_result"
    }
   ],
   "source": [
    "CHD_DNV_df = CHD_new_df\n",
    "CHD_DNV_df.head()"
   ]
  },
  {
   "cell_type": "code",
   "execution_count": 13,
   "metadata": {},
   "outputs": [
    {
     "data": {
      "text/html": [
       "<div>\n",
       "<style scoped>\n",
       "    .dataframe tbody tr th:only-of-type {\n",
       "        vertical-align: middle;\n",
       "    }\n",
       "\n",
       "    .dataframe tbody tr th {\n",
       "        vertical-align: top;\n",
       "    }\n",
       "\n",
       "    .dataframe thead th {\n",
       "        text-align: right;\n",
       "    }\n",
       "</style>\n",
       "<table border=\"1\" class=\"dataframe\">\n",
       "  <thead>\n",
       "    <tr style=\"text-align: right;\">\n",
       "      <th></th>\n",
       "      <th>Proband ID</th>\n",
       "      <th>CHR</th>\n",
       "      <th>POS</th>\n",
       "      <th>REF</th>\n",
       "      <th>ALT</th>\n",
       "      <th>Gene</th>\n",
       "      <th>Ensembl Gene ID</th>\n",
       "      <th>Class</th>\n",
       "      <th>AA Change</th>\n",
       "      <th>Study</th>\n",
       "    </tr>\n",
       "    <tr>\n",
       "      <th>Blinded ID</th>\n",
       "      <th></th>\n",
       "      <th></th>\n",
       "      <th></th>\n",
       "      <th></th>\n",
       "      <th></th>\n",
       "      <th></th>\n",
       "      <th></th>\n",
       "      <th></th>\n",
       "      <th></th>\n",
       "      <th></th>\n",
       "    </tr>\n",
       "  </thead>\n",
       "  <tbody>\n",
       "    <tr>\n",
       "      <th>1-07417</th>\n",
       "      <td>1-07417</td>\n",
       "      <td>5</td>\n",
       "      <td>132097207</td>\n",
       "      <td>C</td>\n",
       "      <td>G</td>\n",
       "      <td>SEPT8</td>\n",
       "      <td>ENSG00000164402</td>\n",
       "      <td>misD</td>\n",
       "      <td>p.R302P</td>\n",
       "      <td>CHD</td>\n",
       "    </tr>\n",
       "    <tr>\n",
       "      <th>1-12717</th>\n",
       "      <td>1-12717</td>\n",
       "      <td>10</td>\n",
       "      <td>101578577</td>\n",
       "      <td>C</td>\n",
       "      <td>T</td>\n",
       "      <td>ABCC2</td>\n",
       "      <td>ENSG00000023839</td>\n",
       "      <td>misD</td>\n",
       "      <td>p.R768W</td>\n",
       "      <td>CHD</td>\n",
       "    </tr>\n",
       "    <tr>\n",
       "      <th>1-06692</th>\n",
       "      <td>1-06692</td>\n",
       "      <td>17</td>\n",
       "      <td>48762187</td>\n",
       "      <td>C</td>\n",
       "      <td>T</td>\n",
       "      <td>ABCC3</td>\n",
       "      <td>ENSG00000108846</td>\n",
       "      <td>non</td>\n",
       "      <td>p.Q1411X</td>\n",
       "      <td>CHD</td>\n",
       "    </tr>\n",
       "    <tr>\n",
       "      <th>1-06555</th>\n",
       "      <td>1-06555</td>\n",
       "      <td>1</td>\n",
       "      <td>94943860</td>\n",
       "      <td>A</td>\n",
       "      <td>G</td>\n",
       "      <td>ABCD3</td>\n",
       "      <td>ENSG00000117528</td>\n",
       "      <td>misD</td>\n",
       "      <td>p.I225V</td>\n",
       "      <td>CHD</td>\n",
       "    </tr>\n",
       "    <tr>\n",
       "      <th>1-07919</th>\n",
       "      <td>1-07919</td>\n",
       "      <td>4</td>\n",
       "      <td>146025629</td>\n",
       "      <td>G</td>\n",
       "      <td>A</td>\n",
       "      <td>ABCE1</td>\n",
       "      <td>ENSG00000164163</td>\n",
       "      <td>misD</td>\n",
       "      <td>p.R22Q</td>\n",
       "      <td>CHD</td>\n",
       "    </tr>\n",
       "  </tbody>\n",
       "</table>\n",
       "</div>"
      ],
      "text/plain": [
       "           Proband ID CHR        POS REF ALT   Gene  Ensembl Gene ID Class  \\\n",
       "Blinded ID                                                                   \n",
       "1-07417       1-07417   5  132097207   C   G  SEPT8  ENSG00000164402  misD   \n",
       "1-12717       1-12717  10  101578577   C   T  ABCC2  ENSG00000023839  misD   \n",
       "1-06692       1-06692  17   48762187   C   T  ABCC3  ENSG00000108846   non   \n",
       "1-06555       1-06555   1   94943860   A   G  ABCD3  ENSG00000117528  misD   \n",
       "1-07919       1-07919   4  146025629   G   A  ABCE1  ENSG00000164163  misD   \n",
       "\n",
       "           AA Change Study  \n",
       "Blinded ID                  \n",
       "1-07417      p.R302P   CHD  \n",
       "1-12717      p.R768W   CHD  \n",
       "1-06692     p.Q1411X   CHD  \n",
       "1-06555      p.I225V   CHD  \n",
       "1-07919       p.R22Q   CHD  "
      ]
     },
     "execution_count": 13,
     "metadata": {},
     "output_type": "execute_result"
    }
   ],
   "source": [
    "# rename CHD_DNV_df columns for merge with ASD_df\n",
    "\n",
    "cols_keep = ['Blinded ID', 'CHROM', 'POS','REF','ALT','Gene','Ensemble_GENEID','Variant_Class','AA change']\n",
    "\n",
    "new_columns = ['Proband ID', 'CHR', 'POS', 'REF', 'ALT', 'Gene',\n",
    "       'Ensembl Gene ID', 'Class', 'AA Change']\n",
    "CHD_DNV_for_merge = CHD_DNV_df.copy(deep=True)\n",
    "CHD_DNV_for_merge = CHD_DNV_for_merge[cols_keep]\n",
    "\n",
    "# get rid of non-damaging missense and synonymous \n",
    "CHD_DNV_for_merge.columns = new_columns\n",
    "CHD_DNV_for_merge = CHD_DNV_for_merge[(CHD_DNV_for_merge['Class']!='Missense') & (CHD_DNV_for_merge['Class']!='Synonymous')]\n",
    "CHD_DNV_for_merge['Study']='CHD'\n",
    "CHD_DNV_for_merge.head()"
   ]
  },
  {
   "cell_type": "code",
   "execution_count": 14,
   "metadata": {},
   "outputs": [
    {
     "data": {
      "text/html": [
       "<div>\n",
       "<style scoped>\n",
       "    .dataframe tbody tr th:only-of-type {\n",
       "        vertical-align: middle;\n",
       "    }\n",
       "\n",
       "    .dataframe tbody tr th {\n",
       "        vertical-align: top;\n",
       "    }\n",
       "\n",
       "    .dataframe thead th {\n",
       "        text-align: right;\n",
       "    }\n",
       "</style>\n",
       "<table border=\"1\" class=\"dataframe\">\n",
       "  <thead>\n",
       "    <tr style=\"text-align: right;\">\n",
       "      <th></th>\n",
       "      <th>Study</th>\n",
       "      <th>Proband ID</th>\n",
       "      <th>CHR</th>\n",
       "      <th>POS</th>\n",
       "      <th>REF</th>\n",
       "      <th>ALT</th>\n",
       "      <th>Gene</th>\n",
       "      <th>Ensembl Gene ID</th>\n",
       "      <th>Class</th>\n",
       "    </tr>\n",
       "  </thead>\n",
       "  <tbody>\n",
       "    <tr>\n",
       "      <th>1</th>\n",
       "      <td>SSC</td>\n",
       "      <td>11563.p1</td>\n",
       "      <td>1</td>\n",
       "      <td>1222518</td>\n",
       "      <td>C</td>\n",
       "      <td>A</td>\n",
       "      <td>SCNN1D</td>\n",
       "      <td>ENSG00000162572</td>\n",
       "      <td>nonsense</td>\n",
       "    </tr>\n",
       "    <tr>\n",
       "      <th>3</th>\n",
       "      <td>SSC</td>\n",
       "      <td>14075.p1</td>\n",
       "      <td>1</td>\n",
       "      <td>3519049</td>\n",
       "      <td>AC</td>\n",
       "      <td>A</td>\n",
       "      <td>MEGF6</td>\n",
       "      <td>ENSG00000162591</td>\n",
       "      <td>frameshift</td>\n",
       "    </tr>\n",
       "    <tr>\n",
       "      <th>4</th>\n",
       "      <td>SSC</td>\n",
       "      <td>11104.p1</td>\n",
       "      <td>1</td>\n",
       "      <td>11205057</td>\n",
       "      <td>T</td>\n",
       "      <td>C</td>\n",
       "      <td>MTOR</td>\n",
       "      <td>ENSG00000198793</td>\n",
       "      <td>missense</td>\n",
       "    </tr>\n",
       "    <tr>\n",
       "      <th>5</th>\n",
       "      <td>SSC</td>\n",
       "      <td>12340.p1</td>\n",
       "      <td>1</td>\n",
       "      <td>12175787</td>\n",
       "      <td>G</td>\n",
       "      <td>A</td>\n",
       "      <td>TNFRSF8</td>\n",
       "      <td>ENSG00000120949</td>\n",
       "      <td>splice</td>\n",
       "    </tr>\n",
       "    <tr>\n",
       "      <th>6</th>\n",
       "      <td>SSC</td>\n",
       "      <td>13930.p1</td>\n",
       "      <td>1</td>\n",
       "      <td>12428630</td>\n",
       "      <td>T</td>\n",
       "      <td>C</td>\n",
       "      <td>VPS13D</td>\n",
       "      <td>ENSG00000048707</td>\n",
       "      <td>missense</td>\n",
       "    </tr>\n",
       "  </tbody>\n",
       "</table>\n",
       "</div>"
      ],
      "text/plain": [
       "  Study Proband ID CHR       POS REF ALT     Gene  Ensembl Gene ID       Class\n",
       "1   SSC   11563.p1   1   1222518   C   A   SCNN1D  ENSG00000162572    nonsense\n",
       "3   SSC   14075.p1   1   3519049  AC   A    MEGF6  ENSG00000162591  frameshift\n",
       "4   SSC   11104.p1   1  11205057   T   C     MTOR  ENSG00000198793    missense\n",
       "5   SSC   12340.p1   1  12175787   G   A  TNFRSF8  ENSG00000120949      splice\n",
       "6   SSC   13930.p1   1  12428630   T   C   VPS13D  ENSG00000048707    missense"
      ]
     },
     "execution_count": 14,
     "metadata": {},
     "output_type": "execute_result"
    }
   ],
   "source": [
    "columns_to_keep = ['Study','Proband ID', 'CHR', 'POS', 'REF', 'ALT', 'Gene',\n",
    "       'Ensembl Gene ID', 'Class']\n",
    "ASD_CHD_df = ASD_df[columns_to_keep].append(CHD_DNV_for_merge[columns_to_keep])\n",
    "ASD_CHD_df.head()\n"
   ]
  },
  {
   "cell_type": "code",
   "execution_count": 15,
   "metadata": {},
   "outputs": [
    {
     "data": {
      "text/plain": [
       "CHD    827\n",
       "SSC    750\n",
       "Name: Study, dtype: int64"
      ]
     },
     "execution_count": 15,
     "metadata": {},
     "output_type": "execute_result"
    }
   ],
   "source": [
    "ASD_CHD_df['Study'].value_counts()"
   ]
  },
  {
   "cell_type": "code",
   "execution_count": 16,
   "metadata": {},
   "outputs": [
    {
     "name": "stdout",
     "output_type": "stream",
     "text": [
      "1577\n"
     ]
    },
    {
     "name": "stderr",
     "output_type": "stream",
     "text": [
      "/Users/brinrosenthal/anaconda3/envs/ipykernel_py2/lib/python2.7/site-packages/pandas/core/indexing.py:190: SettingWithCopyWarning: \n",
      "A value is trying to be set on a copy of a slice from a DataFrame\n",
      "\n",
      "See the caveats in the documentation: http://pandas.pydata.org/pandas-docs/stable/indexing.html#indexing-view-versus-copy\n",
      "  self._setitem_with_indexer(indexer, value)\n"
     ]
    },
    {
     "data": {
      "text/html": [
       "<div>\n",
       "<style scoped>\n",
       "    .dataframe tbody tr th:only-of-type {\n",
       "        vertical-align: middle;\n",
       "    }\n",
       "\n",
       "    .dataframe tbody tr th {\n",
       "        vertical-align: top;\n",
       "    }\n",
       "\n",
       "    .dataframe thead th {\n",
       "        text-align: right;\n",
       "    }\n",
       "</style>\n",
       "<table border=\"1\" class=\"dataframe\">\n",
       "  <thead>\n",
       "    <tr style=\"text-align: right;\">\n",
       "      <th></th>\n",
       "      <th>Study</th>\n",
       "      <th>Proband ID</th>\n",
       "      <th>CHR</th>\n",
       "      <th>POS</th>\n",
       "      <th>REF</th>\n",
       "      <th>ALT</th>\n",
       "      <th>Gene</th>\n",
       "      <th>Ensembl Gene ID</th>\n",
       "      <th>Class</th>\n",
       "      <th>value_count</th>\n",
       "      <th>is_HC_gene</th>\n",
       "      <th>study_int</th>\n",
       "    </tr>\n",
       "    <tr>\n",
       "      <th>Gene</th>\n",
       "      <th></th>\n",
       "      <th></th>\n",
       "      <th></th>\n",
       "      <th></th>\n",
       "      <th></th>\n",
       "      <th></th>\n",
       "      <th></th>\n",
       "      <th></th>\n",
       "      <th></th>\n",
       "      <th></th>\n",
       "      <th></th>\n",
       "      <th></th>\n",
       "    </tr>\n",
       "  </thead>\n",
       "  <tbody>\n",
       "    <tr>\n",
       "      <th>KMT2D</th>\n",
       "      <td>CHD</td>\n",
       "      <td>1-07473</td>\n",
       "      <td>12</td>\n",
       "      <td>49427848</td>\n",
       "      <td>A</td>\n",
       "      <td>T</td>\n",
       "      <td>KMT2D</td>\n",
       "      <td>ENSG00000167548</td>\n",
       "      <td>splice</td>\n",
       "      <td>17</td>\n",
       "      <td>1</td>\n",
       "      <td>1</td>\n",
       "    </tr>\n",
       "    <tr>\n",
       "      <th>KMT2D</th>\n",
       "      <td>CHD</td>\n",
       "      <td>1-10799</td>\n",
       "      <td>12</td>\n",
       "      <td>49424741</td>\n",
       "      <td>G</td>\n",
       "      <td>A</td>\n",
       "      <td>KMT2D</td>\n",
       "      <td>ENSG00000167548</td>\n",
       "      <td>non</td>\n",
       "      <td>17</td>\n",
       "      <td>1</td>\n",
       "      <td>1</td>\n",
       "    </tr>\n",
       "    <tr>\n",
       "      <th>KMT2D</th>\n",
       "      <td>CHD</td>\n",
       "      <td>1-12480</td>\n",
       "      <td>12</td>\n",
       "      <td>49448767</td>\n",
       "      <td>G</td>\n",
       "      <td>C</td>\n",
       "      <td>KMT2D</td>\n",
       "      <td>ENSG00000167548</td>\n",
       "      <td>non</td>\n",
       "      <td>17</td>\n",
       "      <td>1</td>\n",
       "      <td>1</td>\n",
       "    </tr>\n",
       "    <tr>\n",
       "      <th>KMT2D</th>\n",
       "      <td>CHD</td>\n",
       "      <td>1-05572</td>\n",
       "      <td>12</td>\n",
       "      <td>49425896</td>\n",
       "      <td>G</td>\n",
       "      <td>A</td>\n",
       "      <td>KMT2D</td>\n",
       "      <td>ENSG00000167548</td>\n",
       "      <td>non</td>\n",
       "      <td>17</td>\n",
       "      <td>1</td>\n",
       "      <td>1</td>\n",
       "    </tr>\n",
       "    <tr>\n",
       "      <th>KMT2D</th>\n",
       "      <td>CHD</td>\n",
       "      <td>1-07570</td>\n",
       "      <td>12</td>\n",
       "      <td>49437701</td>\n",
       "      <td>G</td>\n",
       "      <td>A</td>\n",
       "      <td>KMT2D</td>\n",
       "      <td>ENSG00000167548</td>\n",
       "      <td>non</td>\n",
       "      <td>17</td>\n",
       "      <td>1</td>\n",
       "      <td>1</td>\n",
       "    </tr>\n",
       "  </tbody>\n",
       "</table>\n",
       "</div>"
      ],
      "text/plain": [
       "      Study Proband ID CHR       POS REF ALT   Gene  Ensembl Gene ID   Class  \\\n",
       "Gene                                                                           \n",
       "KMT2D   CHD    1-07473  12  49427848   A   T  KMT2D  ENSG00000167548  splice   \n",
       "KMT2D   CHD    1-10799  12  49424741   G   A  KMT2D  ENSG00000167548     non   \n",
       "KMT2D   CHD    1-12480  12  49448767   G   C  KMT2D  ENSG00000167548     non   \n",
       "KMT2D   CHD    1-05572  12  49425896   G   A  KMT2D  ENSG00000167548     non   \n",
       "KMT2D   CHD    1-07570  12  49437701   G   A  KMT2D  ENSG00000167548     non   \n",
       "\n",
       "       value_count  is_HC_gene  study_int  \n",
       "Gene                                       \n",
       "KMT2D           17           1          1  \n",
       "KMT2D           17           1          1  \n",
       "KMT2D           17           1          1  \n",
       "KMT2D           17           1          1  \n",
       "KMT2D           17           1          1  "
      ]
     },
     "execution_count": 16,
     "metadata": {},
     "output_type": "execute_result"
    }
   ],
   "source": [
    "# index by gene name, subset by HC genes, sort by relevant fields\n",
    "ASD_CHD_df.index=ASD_CHD_df['Gene']\n",
    "# add a column for gene value count\n",
    "gene_VC = ASD_CHD_df['Gene'].value_counts()\n",
    "ASD_CHD_df['value_count']=0\n",
    "ASD_CHD_df['value_count'].loc[gene_VC.index]=gene_VC\n",
    "\n",
    "# add a column for HC gene\n",
    "ASD_CHD_df['is_HC_gene']=0\n",
    "ASD_CHD_df['is_HC_gene'].loc[np.intersect1d(ASD_CHD_df['Gene'].tolist(),ASD_HC)]=1\n",
    "ASD_CHD_df['is_HC_gene'].loc[np.intersect1d(ASD_CHD_df['Gene'].tolist(),CHD_HC)]=1\n",
    "\n",
    "# add a column for study_int (integer representing study SSC:0, CHD:1)\n",
    "ASD_CHD_df['study_int']=0\n",
    "ASD_CHD_df.index=ASD_CHD_df['Study']\n",
    "ASD_CHD_df['study_int'].loc['SSC']=0\n",
    "ASD_CHD_df['study_int'].loc['CHD']=1\n",
    "ASD_CHD_df.index=ASD_CHD_df['Gene']\n",
    "\n",
    "print(len(ASD_CHD_df))\n",
    "\n",
    "# sort dataframe by study_int, value_count (number of patients with variant in gene), and class (type of variant)\n",
    "AC_sorted = ASD_CHD_df.sort_values(['study_int','value_count','Class'],ascending=False)\n",
    "AC_sorted.head()"
   ]
  },
  {
   "cell_type": "code",
   "execution_count": null,
   "metadata": {},
   "outputs": [],
   "source": []
  },
  {
   "cell_type": "code",
   "execution_count": 17,
   "metadata": {},
   "outputs": [
    {
     "data": {
      "text/plain": [
       "{'D-Missense': 1,\n",
       " 'Missense/Missense': 1,\n",
       " 'Nonsense': 3,\n",
       " 'Splice site': 4,\n",
       " 'Start lost': 5,\n",
       " 'Stop lost': 5,\n",
       " 'frameshift': 2,\n",
       " 'misD': 1,\n",
       " 'missense': 1,\n",
       " 'non': 3,\n",
       " 'nonsense': 3,\n",
       " 'splice': 4,\n",
       " 'startloss': 5,\n",
       " 'stoploss': 5}"
      ]
     },
     "execution_count": 17,
     "metadata": {},
     "output_type": "execute_result"
    }
   ],
   "source": [
    "# map from variant class to integer\n",
    "class_VC = AC_sorted['Class'].value_counts()\n",
    "class_VC\n",
    "class_to_int = {'missense':1,'frameshift':2,'D-Missense':1,'misD':1,'nonsense':3,'splice':4,'Nonsense':3,\n",
    "                'Splice site':4,'non':3,\n",
    "               'startloss':5,'Start lost':5,'Missense/Missense':1,'Stop lost':5,'stoploss':5}\n",
    "class_to_int"
   ]
  },
  {
   "cell_type": "code",
   "execution_count": 18,
   "metadata": {},
   "outputs": [
    {
     "data": {
      "text/html": [
       "<div>\n",
       "<style scoped>\n",
       "    .dataframe tbody tr th:only-of-type {\n",
       "        vertical-align: middle;\n",
       "    }\n",
       "\n",
       "    .dataframe tbody tr th {\n",
       "        vertical-align: top;\n",
       "    }\n",
       "\n",
       "    .dataframe thead th {\n",
       "        text-align: right;\n",
       "    }\n",
       "</style>\n",
       "<table border=\"1\" class=\"dataframe\">\n",
       "  <thead>\n",
       "    <tr style=\"text-align: right;\">\n",
       "      <th></th>\n",
       "      <th>Study</th>\n",
       "      <th>CHR</th>\n",
       "      <th>POS</th>\n",
       "      <th>REF</th>\n",
       "      <th>ALT</th>\n",
       "      <th>Proband ID</th>\n",
       "      <th>Class</th>\n",
       "      <th>Class (2)</th>\n",
       "      <th>Gene</th>\n",
       "      <th>Ensembl Gene ID</th>\n",
       "      <th>AA1</th>\n",
       "      <th>AA2</th>\n",
       "      <th>dbNSFP Meta-SVM Rankscore</th>\n",
       "    </tr>\n",
       "  </thead>\n",
       "  <tbody>\n",
       "    <tr>\n",
       "      <th>1</th>\n",
       "      <td>SSC</td>\n",
       "      <td>1</td>\n",
       "      <td>1222518</td>\n",
       "      <td>C</td>\n",
       "      <td>A</td>\n",
       "      <td>11563.p1</td>\n",
       "      <td>nonsense</td>\n",
       "      <td>lof</td>\n",
       "      <td>SCNN1D</td>\n",
       "      <td>ENSG00000162572</td>\n",
       "      <td>NaN</td>\n",
       "      <td>NaN</td>\n",
       "      <td>NaN</td>\n",
       "    </tr>\n",
       "    <tr>\n",
       "      <th>3</th>\n",
       "      <td>SSC</td>\n",
       "      <td>1</td>\n",
       "      <td>3519049</td>\n",
       "      <td>AC</td>\n",
       "      <td>A</td>\n",
       "      <td>14075.p1</td>\n",
       "      <td>frameshift</td>\n",
       "      <td>lof</td>\n",
       "      <td>MEGF6</td>\n",
       "      <td>ENSG00000162591</td>\n",
       "      <td>NaN</td>\n",
       "      <td>NaN</td>\n",
       "      <td>NaN</td>\n",
       "    </tr>\n",
       "    <tr>\n",
       "      <th>4</th>\n",
       "      <td>SSC</td>\n",
       "      <td>1</td>\n",
       "      <td>11205057</td>\n",
       "      <td>T</td>\n",
       "      <td>C</td>\n",
       "      <td>11104.p1</td>\n",
       "      <td>missense</td>\n",
       "      <td>D-mis</td>\n",
       "      <td>MTOR</td>\n",
       "      <td>ENSG00000198793</td>\n",
       "      <td>M</td>\n",
       "      <td>V</td>\n",
       "      <td>0.83852</td>\n",
       "    </tr>\n",
       "    <tr>\n",
       "      <th>5</th>\n",
       "      <td>SSC</td>\n",
       "      <td>1</td>\n",
       "      <td>12175787</td>\n",
       "      <td>G</td>\n",
       "      <td>A</td>\n",
       "      <td>12340.p1</td>\n",
       "      <td>splice</td>\n",
       "      <td>lof</td>\n",
       "      <td>TNFRSF8</td>\n",
       "      <td>ENSG00000120949</td>\n",
       "      <td>NaN</td>\n",
       "      <td>NaN</td>\n",
       "      <td>NaN</td>\n",
       "    </tr>\n",
       "    <tr>\n",
       "      <th>6</th>\n",
       "      <td>SSC</td>\n",
       "      <td>1</td>\n",
       "      <td>12428630</td>\n",
       "      <td>T</td>\n",
       "      <td>C</td>\n",
       "      <td>13930.p1</td>\n",
       "      <td>missense</td>\n",
       "      <td>D-mis</td>\n",
       "      <td>VPS13D</td>\n",
       "      <td>ENSG00000048707</td>\n",
       "      <td>I</td>\n",
       "      <td>T</td>\n",
       "      <td>0.84048</td>\n",
       "    </tr>\n",
       "  </tbody>\n",
       "</table>\n",
       "</div>"
      ],
      "text/plain": [
       "  Study CHR       POS REF ALT Proband ID       Class Class (2)     Gene  \\\n",
       "1   SSC   1   1222518   C   A   11563.p1    nonsense       lof   SCNN1D   \n",
       "3   SSC   1   3519049  AC   A   14075.p1  frameshift       lof    MEGF6   \n",
       "4   SSC   1  11205057   T   C   11104.p1    missense     D-mis     MTOR   \n",
       "5   SSC   1  12175787   G   A   12340.p1      splice       lof  TNFRSF8   \n",
       "6   SSC   1  12428630   T   C   13930.p1    missense     D-mis   VPS13D   \n",
       "\n",
       "   Ensembl Gene ID  AA1  AA2  dbNSFP Meta-SVM Rankscore  \n",
       "1  ENSG00000162572  NaN  NaN                        NaN  \n",
       "3  ENSG00000162591  NaN  NaN                        NaN  \n",
       "4  ENSG00000198793    M    V                    0.83852  \n",
       "5  ENSG00000120949  NaN  NaN                        NaN  \n",
       "6  ENSG00000048707    I    T                    0.84048  "
      ]
     },
     "execution_count": 18,
     "metadata": {},
     "output_type": "execute_result"
    }
   ],
   "source": [
    "# ASD DNVs\n",
    "ASD_DNV_df = NDD_df[NDD_df['Study']=='SSC'].copy(deep=True)\n",
    "ASD_DNV_df.head()\n"
   ]
  },
  {
   "cell_type": "code",
   "execution_count": 19,
   "metadata": {},
   "outputs": [
    {
     "data": {
      "text/plain": [
       "array(['APH1A', 'ERBIN', 'GABRB3', 'KMT5B', 'NLGN3', 'RANBP17', 'SHANK3',\n",
       "       'ZNF559'], dtype='|S8')"
      ]
     },
     "execution_count": 19,
     "metadata": {},
     "output_type": "execute_result"
    }
   ],
   "source": [
    "np.setdiff1d(ASD_HC+CHD_HC,AC_sorted['Gene'].tolist())"
   ]
  },
  {
   "cell_type": "code",
   "execution_count": 20,
   "metadata": {},
   "outputs": [
    {
     "name": "stderr",
     "output_type": "stream",
     "text": [
      "/Users/brinrosenthal/anaconda3/envs/ipykernel_py2/lib/python2.7/site-packages/ipykernel_launcher.py:27: FutureWarning: \n",
      "Passing list-likes to .loc or [] with any missing label will raise\n",
      "KeyError in the future, you can use .reindex() as an alternative.\n",
      "\n",
      "See the documentation here:\n",
      "https://pandas.pydata.org/pandas-docs/stable/indexing.html#deprecate-loc-reindex-listlike\n"
     ]
    },
    {
     "data": {
      "text/html": [
       "<div>\n",
       "<style scoped>\n",
       "    .dataframe tbody tr th:only-of-type {\n",
       "        vertical-align: middle;\n",
       "    }\n",
       "\n",
       "    .dataframe tbody tr th {\n",
       "        vertical-align: top;\n",
       "    }\n",
       "\n",
       "    .dataframe thead th {\n",
       "        text-align: right;\n",
       "    }\n",
       "</style>\n",
       "<table border=\"1\" class=\"dataframe\">\n",
       "  <thead>\n",
       "    <tr style=\"text-align: right;\">\n",
       "      <th>Proband ID</th>\n",
       "      <th>1-07473</th>\n",
       "      <th>1-10799</th>\n",
       "      <th>1-12480</th>\n",
       "      <th>1-05572</th>\n",
       "      <th>1-07570</th>\n",
       "      <th>1-08173</th>\n",
       "      <th>GT04008173</th>\n",
       "      <th>1-03948</th>\n",
       "      <th>1-00780</th>\n",
       "      <th>1-08730</th>\n",
       "      <th>...</th>\n",
       "      <th>13054.p1</th>\n",
       "      <th>13691.p1</th>\n",
       "      <th>14310.p1</th>\n",
       "      <th>14292.p1</th>\n",
       "      <th>13359.p1</th>\n",
       "      <th>13256.p1</th>\n",
       "      <th>13861.p1</th>\n",
       "      <th>14597.p1</th>\n",
       "      <th>11609.p1</th>\n",
       "      <th>13739.p1</th>\n",
       "    </tr>\n",
       "  </thead>\n",
       "  <tbody>\n",
       "    <tr>\n",
       "      <th>KMT2D</th>\n",
       "      <td>4.0</td>\n",
       "      <td>3.0</td>\n",
       "      <td>3.0</td>\n",
       "      <td>3.0</td>\n",
       "      <td>3.0</td>\n",
       "      <td>3.0</td>\n",
       "      <td>3.0</td>\n",
       "      <td>1.0</td>\n",
       "      <td>1.0</td>\n",
       "      <td>1.0</td>\n",
       "      <td>...</td>\n",
       "      <td>NaN</td>\n",
       "      <td>NaN</td>\n",
       "      <td>NaN</td>\n",
       "      <td>NaN</td>\n",
       "      <td>NaN</td>\n",
       "      <td>NaN</td>\n",
       "      <td>NaN</td>\n",
       "      <td>NaN</td>\n",
       "      <td>NaN</td>\n",
       "      <td>NaN</td>\n",
       "    </tr>\n",
       "    <tr>\n",
       "      <th>CHD7</th>\n",
       "      <td>NaN</td>\n",
       "      <td>NaN</td>\n",
       "      <td>NaN</td>\n",
       "      <td>NaN</td>\n",
       "      <td>NaN</td>\n",
       "      <td>NaN</td>\n",
       "      <td>NaN</td>\n",
       "      <td>NaN</td>\n",
       "      <td>NaN</td>\n",
       "      <td>NaN</td>\n",
       "      <td>...</td>\n",
       "      <td>NaN</td>\n",
       "      <td>NaN</td>\n",
       "      <td>NaN</td>\n",
       "      <td>NaN</td>\n",
       "      <td>NaN</td>\n",
       "      <td>NaN</td>\n",
       "      <td>NaN</td>\n",
       "      <td>NaN</td>\n",
       "      <td>NaN</td>\n",
       "      <td>NaN</td>\n",
       "    </tr>\n",
       "    <tr>\n",
       "      <th>PTPN11</th>\n",
       "      <td>NaN</td>\n",
       "      <td>NaN</td>\n",
       "      <td>NaN</td>\n",
       "      <td>NaN</td>\n",
       "      <td>NaN</td>\n",
       "      <td>NaN</td>\n",
       "      <td>NaN</td>\n",
       "      <td>NaN</td>\n",
       "      <td>NaN</td>\n",
       "      <td>NaN</td>\n",
       "      <td>...</td>\n",
       "      <td>NaN</td>\n",
       "      <td>NaN</td>\n",
       "      <td>NaN</td>\n",
       "      <td>NaN</td>\n",
       "      <td>NaN</td>\n",
       "      <td>NaN</td>\n",
       "      <td>NaN</td>\n",
       "      <td>NaN</td>\n",
       "      <td>NaN</td>\n",
       "      <td>NaN</td>\n",
       "    </tr>\n",
       "    <tr>\n",
       "      <th>KDM5B</th>\n",
       "      <td>NaN</td>\n",
       "      <td>NaN</td>\n",
       "      <td>NaN</td>\n",
       "      <td>NaN</td>\n",
       "      <td>NaN</td>\n",
       "      <td>NaN</td>\n",
       "      <td>NaN</td>\n",
       "      <td>NaN</td>\n",
       "      <td>NaN</td>\n",
       "      <td>NaN</td>\n",
       "      <td>...</td>\n",
       "      <td>NaN</td>\n",
       "      <td>NaN</td>\n",
       "      <td>NaN</td>\n",
       "      <td>NaN</td>\n",
       "      <td>NaN</td>\n",
       "      <td>NaN</td>\n",
       "      <td>NaN</td>\n",
       "      <td>NaN</td>\n",
       "      <td>NaN</td>\n",
       "      <td>NaN</td>\n",
       "    </tr>\n",
       "    <tr>\n",
       "      <th>NSD1</th>\n",
       "      <td>NaN</td>\n",
       "      <td>NaN</td>\n",
       "      <td>NaN</td>\n",
       "      <td>NaN</td>\n",
       "      <td>NaN</td>\n",
       "      <td>NaN</td>\n",
       "      <td>NaN</td>\n",
       "      <td>NaN</td>\n",
       "      <td>NaN</td>\n",
       "      <td>NaN</td>\n",
       "      <td>...</td>\n",
       "      <td>NaN</td>\n",
       "      <td>NaN</td>\n",
       "      <td>NaN</td>\n",
       "      <td>NaN</td>\n",
       "      <td>NaN</td>\n",
       "      <td>NaN</td>\n",
       "      <td>NaN</td>\n",
       "      <td>NaN</td>\n",
       "      <td>NaN</td>\n",
       "      <td>NaN</td>\n",
       "    </tr>\n",
       "  </tbody>\n",
       "</table>\n",
       "<p>5 rows × 1577 columns</p>\n",
       "</div>"
      ],
      "text/plain": [
       "Proband ID  1-07473  1-10799  1-12480  1-05572  1-07570  1-08173  GT04008173  \\\n",
       "KMT2D           4.0      3.0      3.0      3.0      3.0      3.0         3.0   \n",
       "CHD7            NaN      NaN      NaN      NaN      NaN      NaN         NaN   \n",
       "PTPN11          NaN      NaN      NaN      NaN      NaN      NaN         NaN   \n",
       "KDM5B           NaN      NaN      NaN      NaN      NaN      NaN         NaN   \n",
       "NSD1            NaN      NaN      NaN      NaN      NaN      NaN         NaN   \n",
       "\n",
       "Proband ID  1-03948  1-00780  1-08730  ...  13054.p1  13691.p1  14310.p1  \\\n",
       "KMT2D           1.0      1.0      1.0  ...       NaN       NaN       NaN   \n",
       "CHD7            NaN      NaN      NaN  ...       NaN       NaN       NaN   \n",
       "PTPN11          NaN      NaN      NaN  ...       NaN       NaN       NaN   \n",
       "KDM5B           NaN      NaN      NaN  ...       NaN       NaN       NaN   \n",
       "NSD1            NaN      NaN      NaN  ...       NaN       NaN       NaN   \n",
       "\n",
       "Proband ID  14292.p1  13359.p1  13256.p1  13861.p1  14597.p1  11609.p1  \\\n",
       "KMT2D            NaN       NaN       NaN       NaN       NaN       NaN   \n",
       "CHD7             NaN       NaN       NaN       NaN       NaN       NaN   \n",
       "PTPN11           NaN       NaN       NaN       NaN       NaN       NaN   \n",
       "KDM5B            NaN       NaN       NaN       NaN       NaN       NaN   \n",
       "NSD1             NaN       NaN       NaN       NaN       NaN       NaN   \n",
       "\n",
       "Proband ID  13739.p1  \n",
       "KMT2D            NaN  \n",
       "CHD7             NaN  \n",
       "PTPN11           NaN  \n",
       "KDM5B            NaN  \n",
       "NSD1             NaN  \n",
       "\n",
       "[5 rows x 1577 columns]"
      ]
     },
     "execution_count": 20,
     "metadata": {},
     "output_type": "execute_result"
    }
   ],
   "source": [
    "# make a gene by patient matrix\n",
    "genes_HC = np.intersect1d(ASD_HC+CHD_HC,AC_sorted['Gene'].tolist()) # make sure they are in the DF\n",
    "gene_VC_HC = gene_VC.loc[genes_HC].sort_values(ascending=False)\n",
    "\n",
    "genes_of_interest = gene_VC_HC.index.tolist()\n",
    "\n",
    "# initialize\n",
    "gene_by_patient = pd.DataFrame(np.nan*np.zeros((len(genes_of_interest),len(AC_sorted))),index=genes_of_interest)\n",
    "gene_by_patient.columns=AC_sorted['Proband ID']\n",
    "\n",
    "for g in genes_of_interest:\n",
    "    patients_with_g = AC_sorted.loc[g]['Proband ID']\n",
    "    if type(patients_with_g)!=unicode:\n",
    "        patients_with_g = patients_with_g.tolist()\n",
    "    else:\n",
    "        patients_with_g = [patients_with_g]\n",
    "    AC_gene_temp = AC_sorted.loc[g].copy(deep=True)\n",
    "    if type(AC_gene_temp) == pd.core.series.Series: # deal with case of only one gene match \n",
    "        AC_gene_temp = pd.DataFrame(AC_gene_temp).T\n",
    "        \n",
    "    AC_gene_temp.index=AC_gene_temp['Proband ID']\n",
    "    for p in patients_with_g:\n",
    "        \n",
    "        gene_by_patient.loc[g][p]=class_to_int[AC_gene_temp['Class'].loc[p]]\n",
    "\n",
    "# sort the df by ASD/CHD/EPI high confidence membership\n",
    "gbp_ASD = gene_by_patient.copy(deep=True).loc[ASD_HC].dropna(how='all')\n",
    "gbp_ASD = (gbp_ASD>0).sum(axis=1).sort_values(ascending=False)\n",
    "\n",
    "\n",
    "gbp_CHD = gene_by_patient.copy(deep=True).loc[CHD_HC].dropna(how='all')\n",
    "gbp_CHD = (gbp_CHD>0).sum(axis=1).sort_values(ascending=False)\n",
    "gbp_CHD.head()\n",
    "\n",
    "# now reorder\n",
    "new_index = pd.Series(gbp_CHD.index.tolist()+gbp_ASD.index.tolist())\n",
    "new_index = new_index.drop_duplicates()\n",
    "\n",
    "gene_by_patient = gene_by_patient.loc[new_index.tolist()]\n",
    "\n",
    "gene_by_patient.head()\n"
   ]
  },
  {
   "cell_type": "code",
   "execution_count": 21,
   "metadata": {},
   "outputs": [
    {
     "name": "stdout",
     "output_type": "stream",
     "text": [
      "number of HC genes:\n",
      "118\n",
      "\n",
      "number of patients with at least one HC gene:\n",
      "307\n"
     ]
    }
   ],
   "source": [
    "gene_by_patient = gene_by_patient.dropna(axis=1,how='all') # drop patients with no HC DNVs\n",
    "gene_by_patient = gene_by_patient.T\n",
    "gene_by_patient = gene_by_patient[~gene_by_patient.index.duplicated(keep='first')]\n",
    "gene_by_patient = gene_by_patient.T\n",
    "\n",
    "# note: not all ASD high confidence genes are in this dataset- they were defined using a different dataset\n",
    "print('number of HC genes:')\n",
    "print(len(gene_by_patient))\n",
    "print('\\nnumber of patients with at least one HC gene:')\n",
    "print(len(gene_by_patient.columns))\n",
    "\n"
   ]
  },
  {
   "cell_type": "code",
   "execution_count": null,
   "metadata": {},
   "outputs": [],
   "source": []
  },
  {
   "cell_type": "code",
   "execution_count": 22,
   "metadata": {},
   "outputs": [
    {
     "name": "stdout",
     "output_type": "stream",
     "text": [
      "120\n",
      "198\n"
     ]
    }
   ],
   "source": [
    "# find the total numbers of ASD and CHD patients explained by the high confidence genes\n",
    "ASD_count = (gene_by_patient[list(np.intersect1d(ASD_DNV_df['Proband ID'].tolist(),gene_by_patient.columns.tolist()))]>0).sum(axis=1)\n",
    "print(sum(ASD_count))\n",
    "\n",
    "CHD_count = (gene_by_patient[list(np.intersect1d(CHD_DNV_df.index.tolist(),gene_by_patient.columns.tolist()))]>0).sum(axis=1)\n",
    "print(sum(CHD_count))"
   ]
  },
  {
   "cell_type": "code",
   "execution_count": null,
   "metadata": {},
   "outputs": [],
   "source": []
  },
  {
   "cell_type": "code",
   "execution_count": 23,
   "metadata": {},
   "outputs": [
    {
     "data": {
      "text/plain": [
       "([], <a list of 0 Text xticklabel objects>)"
      ]
     },
     "execution_count": 23,
     "metadata": {},
     "output_type": "execute_result"
    },
    {
     "data": {
      "image/png": "[encoded data removed]",
      "text/plain": [
       "<Figure size 1440x1152 with 4 Axes>"
      ]
     },
     "metadata": {},
     "output_type": "display_data"
    }
   ],
   "source": [
    "# now plot the figure\n",
    "\n",
    "sns.set_style('whitegrid')\n",
    "\n",
    "plt.figure(figsize=(20,16))\n",
    "h = sns.heatmap(gene_by_patient,xticklabels=False,cbar=False,cmap='Set1',linewidths=.01,linecolor='#BDBCBC')\n",
    "\n",
    "plt.sca(h.axes)\n",
    "plt.xlabel('Proband ID',fontsize=20)\n",
    "plt.ylabel('High confidence genes',fontsize=20)\n",
    "\n",
    "yticklabels = [g for g in gene_by_patient.index.tolist()]\n",
    "\n",
    "tmp = plt.yticks(np.arange(len(gene_by_patient))+.4,yticklabels,fontsize=9)\n",
    "\n",
    "# add bars above fig\n",
    "AC_sorted.index = AC_sorted['Gene']\n",
    "AC_temp = AC_sorted.loc[genes_of_interest].copy(deep=True)\n",
    "AC_temp.index=AC_temp['Proband ID']\n",
    "temp = AC_temp['study_int'].loc[gene_by_patient.columns]\n",
    "temp = temp[~temp.index.duplicated(keep='first')]\n",
    "temp = np.array(temp.tolist())\n",
    "temp = temp[np.newaxis,:]\n",
    "AC_sorted.index = AC_sorted['Gene']\n",
    "\n",
    "h.figure.add_axes([.125,.89,.775,.02]).pcolor(temp,vmin=0,vmax=2)\n",
    "plt.xlim(0,len(gene_by_patient.columns))\n",
    "plt.yticks([],'')\n",
    "plt.xticks([],'')\n",
    "\n",
    "# add a bar next to fig, for which HC gene set they belong to\n",
    "#ASD_HC_row\n",
    "temp_row = pd.Series(np.zeros(len(gene_by_patient)),index=gene_by_patient.index.tolist())\n",
    "temp_row.loc[np.intersect1d(temp_row.index,ASD_HC)]=1\n",
    "\n",
    "temp_row = np.array(temp_row.tolist())\n",
    "temp_row = temp_row[::-1,np.newaxis]\n",
    "h.figure.add_axes([.916,.125,.01,.756]).pcolor(temp_row,cmap='Greys')\n",
    "plt.ylim(0,len(gene_by_patient))\n",
    "plt.yticks([],'')\n",
    "plt.xticks([],'')\n",
    "\n",
    "#CHD_HC_row\n",
    "temp_row = pd.Series(np.zeros(len(gene_by_patient)),index=gene_by_patient.index.tolist())\n",
    "temp_row.loc[np.intersect1d(temp_row.index,CHD_HC)]=1\n",
    "\n",
    "temp_row = np.array(temp_row.tolist())\n",
    "temp_row = temp_row[::-1,np.newaxis]\n",
    "h.figure.add_axes([.905,.125,.01,.756]).pcolor(temp_row,cmap='Greys',)\n",
    "plt.ylim(0,len(gene_by_patient))\n",
    "plt.yticks([],'')\n",
    "plt.xticks([],'')\n",
    "\n",
    "# plt.savefig('../../manuscript/figures_1911/ASD_CHD_HC_by_mut_type.png',dpi=300,bbox_inches='tight')\n"
   ]
  },
  {
   "cell_type": "code",
   "execution_count": null,
   "metadata": {},
   "outputs": [],
   "source": []
  },
  {
   "cell_type": "markdown",
   "metadata": {},
   "source": [
    "# Bar chart- how many DNVs within established disease genes compared to outside?"
   ]
  },
  {
   "cell_type": "code",
   "execution_count": 24,
   "metadata": {},
   "outputs": [
    {
     "name": "stdout",
     "output_type": "stream",
     "text": [
      "750\n"
     ]
    },
    {
     "data": {
      "text/plain": [
       "lof      391\n",
       "D-mis    359\n",
       "Name: Class (2), dtype: int64"
      ]
     },
     "metadata": {},
     "output_type": "display_data"
    },
    {
     "data": {
      "text/html": [
       "<div>\n",
       "<style scoped>\n",
       "    .dataframe tbody tr th:only-of-type {\n",
       "        vertical-align: middle;\n",
       "    }\n",
       "\n",
       "    .dataframe tbody tr th {\n",
       "        vertical-align: top;\n",
       "    }\n",
       "\n",
       "    .dataframe thead th {\n",
       "        text-align: right;\n",
       "    }\n",
       "</style>\n",
       "<table border=\"1\" class=\"dataframe\">\n",
       "  <thead>\n",
       "    <tr style=\"text-align: right;\">\n",
       "      <th></th>\n",
       "      <th>Study</th>\n",
       "      <th>CHR</th>\n",
       "      <th>POS</th>\n",
       "      <th>REF</th>\n",
       "      <th>ALT</th>\n",
       "      <th>Proband ID</th>\n",
       "      <th>Class</th>\n",
       "      <th>Class (2)</th>\n",
       "      <th>Gene</th>\n",
       "      <th>Ensembl Gene ID</th>\n",
       "      <th>AA1</th>\n",
       "      <th>AA2</th>\n",
       "      <th>dbNSFP Meta-SVM Rankscore</th>\n",
       "    </tr>\n",
       "  </thead>\n",
       "  <tbody>\n",
       "    <tr>\n",
       "      <th>1</th>\n",
       "      <td>SSC</td>\n",
       "      <td>1</td>\n",
       "      <td>1222518</td>\n",
       "      <td>C</td>\n",
       "      <td>A</td>\n",
       "      <td>11563.p1</td>\n",
       "      <td>nonsense</td>\n",
       "      <td>lof</td>\n",
       "      <td>SCNN1D</td>\n",
       "      <td>ENSG00000162572</td>\n",
       "      <td>NaN</td>\n",
       "      <td>NaN</td>\n",
       "      <td>NaN</td>\n",
       "    </tr>\n",
       "    <tr>\n",
       "      <th>3</th>\n",
       "      <td>SSC</td>\n",
       "      <td>1</td>\n",
       "      <td>3519049</td>\n",
       "      <td>AC</td>\n",
       "      <td>A</td>\n",
       "      <td>14075.p1</td>\n",
       "      <td>frameshift</td>\n",
       "      <td>lof</td>\n",
       "      <td>MEGF6</td>\n",
       "      <td>ENSG00000162591</td>\n",
       "      <td>NaN</td>\n",
       "      <td>NaN</td>\n",
       "      <td>NaN</td>\n",
       "    </tr>\n",
       "    <tr>\n",
       "      <th>4</th>\n",
       "      <td>SSC</td>\n",
       "      <td>1</td>\n",
       "      <td>11205057</td>\n",
       "      <td>T</td>\n",
       "      <td>C</td>\n",
       "      <td>11104.p1</td>\n",
       "      <td>missense</td>\n",
       "      <td>D-mis</td>\n",
       "      <td>MTOR</td>\n",
       "      <td>ENSG00000198793</td>\n",
       "      <td>M</td>\n",
       "      <td>V</td>\n",
       "      <td>0.83852</td>\n",
       "    </tr>\n",
       "    <tr>\n",
       "      <th>5</th>\n",
       "      <td>SSC</td>\n",
       "      <td>1</td>\n",
       "      <td>12175787</td>\n",
       "      <td>G</td>\n",
       "      <td>A</td>\n",
       "      <td>12340.p1</td>\n",
       "      <td>splice</td>\n",
       "      <td>lof</td>\n",
       "      <td>TNFRSF8</td>\n",
       "      <td>ENSG00000120949</td>\n",
       "      <td>NaN</td>\n",
       "      <td>NaN</td>\n",
       "      <td>NaN</td>\n",
       "    </tr>\n",
       "    <tr>\n",
       "      <th>6</th>\n",
       "      <td>SSC</td>\n",
       "      <td>1</td>\n",
       "      <td>12428630</td>\n",
       "      <td>T</td>\n",
       "      <td>C</td>\n",
       "      <td>13930.p1</td>\n",
       "      <td>missense</td>\n",
       "      <td>D-mis</td>\n",
       "      <td>VPS13D</td>\n",
       "      <td>ENSG00000048707</td>\n",
       "      <td>I</td>\n",
       "      <td>T</td>\n",
       "      <td>0.84048</td>\n",
       "    </tr>\n",
       "  </tbody>\n",
       "</table>\n",
       "</div>"
      ],
      "text/plain": [
       "  Study CHR       POS REF ALT Proband ID       Class Class (2)     Gene  \\\n",
       "1   SSC   1   1222518   C   A   11563.p1    nonsense       lof   SCNN1D   \n",
       "3   SSC   1   3519049  AC   A   14075.p1  frameshift       lof    MEGF6   \n",
       "4   SSC   1  11205057   T   C   11104.p1    missense     D-mis     MTOR   \n",
       "5   SSC   1  12175787   G   A   12340.p1      splice       lof  TNFRSF8   \n",
       "6   SSC   1  12428630   T   C   13930.p1    missense     D-mis   VPS13D   \n",
       "\n",
       "   Ensembl Gene ID  AA1  AA2  dbNSFP Meta-SVM Rankscore  \n",
       "1  ENSG00000162572  NaN  NaN                        NaN  \n",
       "3  ENSG00000162591  NaN  NaN                        NaN  \n",
       "4  ENSG00000198793    M    V                    0.83852  \n",
       "5  ENSG00000120949  NaN  NaN                        NaN  \n",
       "6  ENSG00000048707    I    T                    0.84048  "
      ]
     },
     "execution_count": 24,
     "metadata": {},
     "output_type": "execute_result"
    }
   ],
   "source": [
    "print(len(ASD_df))\n",
    "display(ASD_df['Class (2)'].value_counts())\n",
    "ASD_df.head()"
   ]
  },
  {
   "cell_type": "code",
   "execution_count": 25,
   "metadata": {},
   "outputs": [
    {
     "data": {
      "text/plain": [
       "misD          453\n",
       "frameshift    172\n",
       "non           142\n",
       "splice         51\n",
       "startloss       5\n",
       "stoploss        4\n",
       "Name: Class, dtype: int64"
      ]
     },
     "metadata": {},
     "output_type": "display_data"
    },
    {
     "name": "stdout",
     "output_type": "stream",
     "text": [
      "827\n"
     ]
    },
    {
     "data": {
      "text/plain": [
       "KMT2D     16\n",
       "CHD7      14\n",
       "PTPN11     9\n",
       "NSD1       5\n",
       "NOTCH1     5\n",
       "Name: Gene, dtype: int64"
      ]
     },
     "metadata": {},
     "output_type": "display_data"
    },
    {
     "data": {
      "text/html": [
       "<div>\n",
       "<style scoped>\n",
       "    .dataframe tbody tr th:only-of-type {\n",
       "        vertical-align: middle;\n",
       "    }\n",
       "\n",
       "    .dataframe tbody tr th {\n",
       "        vertical-align: top;\n",
       "    }\n",
       "\n",
       "    .dataframe thead th {\n",
       "        text-align: right;\n",
       "    }\n",
       "</style>\n",
       "<table border=\"1\" class=\"dataframe\">\n",
       "  <thead>\n",
       "    <tr style=\"text-align: right;\">\n",
       "      <th></th>\n",
       "      <th>Proband ID</th>\n",
       "      <th>CHR</th>\n",
       "      <th>POS</th>\n",
       "      <th>REF</th>\n",
       "      <th>ALT</th>\n",
       "      <th>Gene</th>\n",
       "      <th>Ensembl Gene ID</th>\n",
       "      <th>Class</th>\n",
       "      <th>AA Change</th>\n",
       "      <th>Study</th>\n",
       "    </tr>\n",
       "    <tr>\n",
       "      <th>Blinded ID</th>\n",
       "      <th></th>\n",
       "      <th></th>\n",
       "      <th></th>\n",
       "      <th></th>\n",
       "      <th></th>\n",
       "      <th></th>\n",
       "      <th></th>\n",
       "      <th></th>\n",
       "      <th></th>\n",
       "      <th></th>\n",
       "    </tr>\n",
       "  </thead>\n",
       "  <tbody>\n",
       "    <tr>\n",
       "      <th>1-07417</th>\n",
       "      <td>1-07417</td>\n",
       "      <td>5</td>\n",
       "      <td>132097207</td>\n",
       "      <td>C</td>\n",
       "      <td>G</td>\n",
       "      <td>SEPT8</td>\n",
       "      <td>ENSG00000164402</td>\n",
       "      <td>misD</td>\n",
       "      <td>p.R302P</td>\n",
       "      <td>CHD</td>\n",
       "    </tr>\n",
       "    <tr>\n",
       "      <th>1-12717</th>\n",
       "      <td>1-12717</td>\n",
       "      <td>10</td>\n",
       "      <td>101578577</td>\n",
       "      <td>C</td>\n",
       "      <td>T</td>\n",
       "      <td>ABCC2</td>\n",
       "      <td>ENSG00000023839</td>\n",
       "      <td>misD</td>\n",
       "      <td>p.R768W</td>\n",
       "      <td>CHD</td>\n",
       "    </tr>\n",
       "    <tr>\n",
       "      <th>1-06692</th>\n",
       "      <td>1-06692</td>\n",
       "      <td>17</td>\n",
       "      <td>48762187</td>\n",
       "      <td>C</td>\n",
       "      <td>T</td>\n",
       "      <td>ABCC3</td>\n",
       "      <td>ENSG00000108846</td>\n",
       "      <td>non</td>\n",
       "      <td>p.Q1411X</td>\n",
       "      <td>CHD</td>\n",
       "    </tr>\n",
       "    <tr>\n",
       "      <th>1-06555</th>\n",
       "      <td>1-06555</td>\n",
       "      <td>1</td>\n",
       "      <td>94943860</td>\n",
       "      <td>A</td>\n",
       "      <td>G</td>\n",
       "      <td>ABCD3</td>\n",
       "      <td>ENSG00000117528</td>\n",
       "      <td>misD</td>\n",
       "      <td>p.I225V</td>\n",
       "      <td>CHD</td>\n",
       "    </tr>\n",
       "    <tr>\n",
       "      <th>1-07919</th>\n",
       "      <td>1-07919</td>\n",
       "      <td>4</td>\n",
       "      <td>146025629</td>\n",
       "      <td>G</td>\n",
       "      <td>A</td>\n",
       "      <td>ABCE1</td>\n",
       "      <td>ENSG00000164163</td>\n",
       "      <td>misD</td>\n",
       "      <td>p.R22Q</td>\n",
       "      <td>CHD</td>\n",
       "    </tr>\n",
       "  </tbody>\n",
       "</table>\n",
       "</div>"
      ],
      "text/plain": [
       "           Proband ID CHR        POS REF ALT   Gene  Ensembl Gene ID Class  \\\n",
       "Blinded ID                                                                   \n",
       "1-07417       1-07417   5  132097207   C   G  SEPT8  ENSG00000164402  misD   \n",
       "1-12717       1-12717  10  101578577   C   T  ABCC2  ENSG00000023839  misD   \n",
       "1-06692       1-06692  17   48762187   C   T  ABCC3  ENSG00000108846   non   \n",
       "1-06555       1-06555   1   94943860   A   G  ABCD3  ENSG00000117528  misD   \n",
       "1-07919       1-07919   4  146025629   G   A  ABCE1  ENSG00000164163  misD   \n",
       "\n",
       "           AA Change Study  \n",
       "Blinded ID                  \n",
       "1-07417      p.R302P   CHD  \n",
       "1-12717      p.R768W   CHD  \n",
       "1-06692     p.Q1411X   CHD  \n",
       "1-06555      p.I225V   CHD  \n",
       "1-07919       p.R22Q   CHD  "
      ]
     },
     "execution_count": 25,
     "metadata": {},
     "output_type": "execute_result"
    }
   ],
   "source": [
    "display(CHD_DNV_for_merge['Class'].value_counts())\n",
    "print(len(CHD_DNV_for_merge))\n",
    "display(CHD_DNV_for_merge['Gene'].value_counts().head())\n",
    "CHD_DNV_for_merge.head()"
   ]
  },
  {
   "cell_type": "code",
   "execution_count": 26,
   "metadata": {},
   "outputs": [
    {
     "name": "stdout",
     "output_type": "stream",
     "text": [
      "198\n",
      "629\n",
      "1818\n",
      "120\n",
      "630\n",
      "2009\n"
     ]
    }
   ],
   "source": [
    "num_CHD_DNV_in_HC = sum(CHD_DNV_for_merge['Gene'].isin(ASD_HC+CHD_HC))\n",
    "print(num_CHD_DNV_in_HC)\n",
    "num_CHD_DNV_not_HC = sum(~CHD_DNV_for_merge['Gene'].isin(ASD_HC+CHD_HC))\n",
    "print(num_CHD_DNV_not_HC)\n",
    "num_CHD_no_DNV = 2645-(num_CHD_DNV_in_HC+num_CHD_DNV_not_HC)\n",
    "print(num_CHD_no_DNV)\n",
    "\n",
    "num_ASD_DNV_in_HC = sum(ASD_df['Gene'].isin(ASD_HC+CHD_HC))\n",
    "print(num_ASD_DNV_in_HC)\n",
    "num_ASD_DNV_not_HC = sum(~ASD_df['Gene'].isin(ASD_HC+CHD_HC))\n",
    "print(num_ASD_DNV_not_HC)\n",
    "\n",
    "num_ASD_no_DNV = 2759-(num_ASD_DNV_in_HC+num_ASD_DNV_not_HC)\n",
    "print(num_ASD_no_DNV)"
   ]
  },
  {
   "cell_type": "code",
   "execution_count": 27,
   "metadata": {},
   "outputs": [
    {
     "data": {
      "text/plain": [
       "827"
      ]
     },
     "execution_count": 27,
     "metadata": {},
     "output_type": "execute_result"
    }
   ],
   "source": [
    "len(CHD_DNV_for_merge)"
   ]
  },
  {
   "cell_type": "code",
   "execution_count": 28,
   "metadata": {},
   "outputs": [
    {
     "data": {
      "text/plain": [
       "827"
      ]
     },
     "execution_count": 28,
     "metadata": {},
     "output_type": "execute_result"
    }
   ],
   "source": [
    "num_CHD_DNV_in_HC+num_CHD_DNV_not_HC"
   ]
  },
  {
   "cell_type": "code",
   "execution_count": 29,
   "metadata": {},
   "outputs": [
    {
     "data": {
      "text/plain": [
       "<matplotlib.legend.Legend at 0x10bbd9390>"
      ]
     },
     "execution_count": 29,
     "metadata": {},
     "output_type": "execute_result"
    },
    {
     "data": {
      "image/png": "[encoded data removed]",
      "text/plain": [
       "<Figure size 216x216 with 1 Axes>"
      ]
     },
     "metadata": {},
     "output_type": "display_data"
    }
   ],
   "source": [
    "# add a bar showing the number of patients without damaging DNVs\n",
    "\n",
    "sns.set_style('whitegrid',{'axes.grid':False})\n",
    "sns.set_style(\"ticks\", {\"xtick.major.size\": 15, \"ytick.major.size\": 15})\n",
    "plt.rcParams['svg.fonttype'] = 'none'\n",
    "plt.figure(figsize=(3,3))\n",
    "\n",
    "plt.bar([-.15,.85,1.85],np.divide([num_ASD_DNV_in_HC,num_ASD_DNV_not_HC,num_ASD_no_DNV],2759.0),width=.3,\n",
    "        color='#9FEE9D',alpha=.7,edgecolor='k',\n",
    "       label='ASD')\n",
    "plt.bar([.15,1.15,2.15],np.divide([num_CHD_DNV_in_HC,num_CHD_DNV_not_HC,num_CHD_no_DNV],2645.0),width=.3,\n",
    "        color='#E69EE6',alpha=.7,edgecolor='k',\n",
    "       label='CHD')\n",
    "\n",
    "\n",
    "plt.ylim([0,1])\n",
    "plt.xticks([0,1,2],['dDNVs in \\ndisease genes', 'dDNVs outside \\ndisease genes','no dDNVs'],fontsize=14,rotation='vertical')\n",
    "plt.ylabel('fraction cohort',fontsize=16)\n",
    "plt.legend(loc='upper left',fontsize=14)\n",
    "# plt.savefig('../../manuscript/figures_1911/Figure1/Figure1_final assets/DNVs_in_out_disease_genes.png',dpi=300,bbox_inches='tight')\n",
    "# plt.savefig('../../manuscript/figures_1911/Figure1/Figure1_final assets/DNVs_in_out_disease_genes.svg',dpi=300,bbox_inches='tight')"
   ]
  },
  {
   "cell_type": "code",
   "execution_count": 30,
   "metadata": {},
   "outputs": [
    {
     "data": {
      "text/plain": [
       "2759"
      ]
     },
     "execution_count": 30,
     "metadata": {},
     "output_type": "execute_result"
    }
   ],
   "source": [
    "num_ASD_DNV_in_HC+num_ASD_DNV_not_HC+num_ASD_no_DNV"
   ]
  },
  {
   "cell_type": "markdown",
   "metadata": {},
   "source": [
    "[TOC](#toc)\n",
    "\n",
    "<a id='localization'></a>\n",
    "\n",
    "# Select focal interactome, calculate network localization of DNVs"
   ]
  },
  {
   "cell_type": "code",
   "execution_count": 31,
   "metadata": {},
   "outputs": [],
   "source": [
    "# load the pre-computed interactome\n",
    "# PCnet downloaded from ndex and parsed to networkx format \n",
    "# https://ndexbio.org/#/network/f93f402c-86d4-11e7-a10d-0ac135e8bacf\n",
    "Gint = nx.read_gpickle('/Users/brinrosenthal/Documents/CCBB_tickets_data/PCnet/G_PCnet.gpickle')\n",
    "int_name = 'PCnet'"
   ]
  },
  {
   "cell_type": "code",
   "execution_count": 32,
   "metadata": {},
   "outputs": [
    {
     "name": "stdout",
     "output_type": "stream",
     "text": [
      "19781\n",
      "2724724\n"
     ]
    }
   ],
   "source": [
    "print(len(Gint.nodes()))\n",
    "print(len(Gint.edges()))"
   ]
  },
  {
   "cell_type": "markdown",
   "metadata": {},
   "source": [
    "### How much overlap is there between disease genes and selected interactome?\n",
    "\n",
    "\n"
   ]
  },
  {
   "cell_type": "code",
   "execution_count": 33,
   "metadata": {},
   "outputs": [
    {
     "name": "stdout",
     "output_type": "stream",
     "text": [
      "65\n",
      "65\n",
      "66\n",
      "66\n"
     ]
    }
   ],
   "source": [
    "print(len(np.intersect1d(list(ASD_HC),Gint.nodes())))\n",
    "print(len(ASD_HC))\n",
    "\n",
    "\n",
    "print(len(np.intersect1d(list(CHD_HC),Gint.nodes())))\n",
    "print(len(CHD_HC))"
   ]
  },
  {
   "cell_type": "code",
   "execution_count": null,
   "metadata": {},
   "outputs": [],
   "source": []
  },
  {
   "cell_type": "markdown",
   "metadata": {},
   "source": [
    "[TOC](#toc)\n",
    "\n",
    "<a id='disease_localization'></a>\n",
    "\n",
    "# How localized are the individual diseases?\n",
    "\n",
    "Two localization methods implemented here:\n",
    "\n",
    "1.  Largest connected component (following Menche et al)\n",
    "2.  Number shared edges in gene set (similar to method on STRING-DB)\n"
   ]
  },
  {
   "cell_type": "markdown",
   "metadata": {},
   "source": [
    "## ASD localization"
   ]
  },
  {
   "cell_type": "code",
   "execution_count": 34,
   "metadata": {
    "scrolled": true
   },
   "outputs": [
    {
     "name": "stdout",
     "output_type": "stream",
     "text": [
      "0\n",
      "25\n",
      "50\n",
      "75\n",
      "100\n",
      "125\n",
      "150\n",
      "175\n",
      "200\n",
      "225\n",
      "250\n",
      "275\n",
      "300\n",
      "325\n",
      "350\n",
      "375\n",
      "400\n",
      "425\n",
      "450\n",
      "475\n",
      "500\n",
      "525\n",
      "550\n",
      "575\n",
      "600\n",
      "625\n",
      "650\n",
      "675\n",
      "700\n",
      "725\n",
      "750\n",
      "775\n",
      "800\n",
      "825\n",
      "850\n",
      "875\n",
      "900\n",
      "925\n",
      "950\n",
      "975\n"
     ]
    }
   ],
   "source": [
    "# ----- distributions for non-sampled case -----\n",
    "# set numreps to 5000 for full run\n",
    "num_reps=1000\n",
    "ASD_numedges_list, ASD_numedges_rand, ASD_LCC_list, ASD_LCC_size_rand = network_localization.localization(Gint,\n",
    "                                                                     focal_genes = ASD_DNV,\n",
    "                                                                     num_reps = num_reps, \n",
    "                                                                     sample_frac = 1.0, \n",
    "                                                                     method = 'both', \n",
    "                                                                     plot = False,print_counter=True)"
   ]
  },
  {
   "cell_type": "code",
   "execution_count": 36,
   "metadata": {},
   "outputs": [
    {
     "name": "stdout",
     "output_type": "stream",
     "text": [
      "0.004334097899824307\n"
     ]
    },
    {
     "data": {
      "image/png": "[encoded data removed]",
      "text/plain": [
       "<Figure size 432x288 with 1 Axes>"
      ]
     },
     "metadata": {},
     "output_type": "display_data"
    }
   ],
   "source": [
    "# plot distributions for non-sampled case\n",
    "# sns.set_style('white')\n",
    "# sns.set_style(\"ticks\", {\"xtick.major.size\": 15, \"ytick.major.size\": 15})\n",
    "# plt.vlines(np.mean(ASD_LCC_list),ymin=0,ymax=0.1,color='r',lw=2,label='ASD DNVs')\n",
    "# sns.kdeplot(ASD_LCC_size_rand,color='k',lw=2,alpha=.5,shade=True,label='random')\n",
    "# plt.legend(loc='upper left',fontsize=12)\n",
    "# plt.ylabel('frequency',fontsize=16)\n",
    "# plt.xlabel('largest connected component',fontsize=16)\n",
    "\n",
    "# # print the z-score and fdr\n",
    "# ASD_LCC_z = (np.mean(ASD_LCC_list)-np.mean(ASD_LCC_size_rand))/np.std(ASD_LCC_size_rand)\n",
    "\n",
    "# from scipy.special import ndtr\n",
    "# print(1-ndtr(ASD_LCC_z))\n",
    "\n",
    "# plt.title('permutation p = '+str(1-ndtr(ASD_LCC_z)))\n",
    "\n",
    "# plt.savefig('../../manuscript/figures_18_12/supplement/ASD_LCC_'+int_name+'_no_bootstrap'+str(num_reps)+'.pdf',dpi=300,bbox_inches='tight')"
   ]
  },
  {
   "cell_type": "code",
   "execution_count": 48,
   "metadata": {},
   "outputs": [
    {
     "data": {
      "image/png": "[encoded data removed]",
      "text/plain": [
       "<Figure size 115.2x110.88 with 1 Axes>"
      ]
     },
     "metadata": {},
     "output_type": "display_data"
    }
   ],
   "source": [
    "# plot distributions for non-sampled case\n",
    "sns.set_style('white')\n",
    "sns.set_style(\"ticks\", {\"xtick.major.size\": 15, \"ytick.major.size\": 15})\n",
    "plt.figure(figsize=(1.6,1.54))\n",
    "plt.vlines(np.mean(ASD_numedges_list),ymin=0,ymax=0.004,color='r',lw=.5,label='ASD dDNVs')\n",
    "sns.kdeplot(ASD_numedges_rand,color='k',lw=.5,alpha=.5,shade=True,label='random')\n",
    "plt.legend(loc='upper left',fontsize=8)\n",
    "plt.ylabel('density',fontsize=8)\n",
    "plt.xlabel('number shared edges',fontsize=8)\n",
    "plt.xticks(fontsize=8)\n",
    "plt.yticks(fontsize=8)\n",
    "plt.ylim([0,.006])\n",
    "\n",
    "# print the z-score and fdr\n",
    "ASD_NE_z = (np.mean(ASD_numedges_list)-np.mean(ASD_numedges_rand))/np.std(ASD_numedges_rand)\n",
    "\n",
    "from scipy.stats import norm\n",
    "ptemp = norm.sf(abs(ASD_NE_z))\n",
    "\n",
    "plt.title('permutation p = '+(\"%.2g\" % ptemp),fontsize=8)\n",
    "\n",
    "plt.savefig('../../manuscript/figures_1911/Supplement/ASD_DNV_numedges_'+int_name+'_no_bootstrap'+str(num_reps)+'.png',dpi=300,bbox_inches='tight')\n",
    "plt.savefig('../../manuscript/figures_1911/Supplement/ASD_DNV_numedges_'+int_name+'_no_bootstrap'+str(num_reps)+'.svg',dpi=300,bbox_inches='tight')"
   ]
  },
  {
   "cell_type": "markdown",
   "metadata": {},
   "source": [
    "## CHD localization"
   ]
  },
  {
   "cell_type": "code",
   "execution_count": 45,
   "metadata": {},
   "outputs": [
    {
     "name": "stdout",
     "output_type": "stream",
     "text": [
      "0\n",
      "25\n",
      "50\n",
      "75\n",
      "100\n",
      "125\n",
      "150\n",
      "175\n",
      "200\n",
      "225\n",
      "250\n",
      "275\n",
      "300\n",
      "325\n",
      "350\n",
      "375\n",
      "400\n",
      "425\n",
      "450\n",
      "475\n",
      "500\n",
      "525\n",
      "550\n",
      "575\n",
      "600\n",
      "625\n",
      "650\n",
      "675\n",
      "700\n",
      "725\n",
      "750\n",
      "775\n",
      "800\n",
      "825\n",
      "850\n",
      "875\n",
      "900\n",
      "925\n",
      "950\n",
      "975\n"
     ]
    }
   ],
   "source": [
    "# ---- non-sampled case ----\n",
    "# set numreps to 5000 for full run\n",
    "\n",
    "num_reps=1000\n",
    "CHD_numedges_list, CHD_numedges_rand, CHD_LCC_list, CHD_LCC_size_rand = network_localization.localization(Gint,\n",
    "                                                                     focal_genes = CHD_DNV,\n",
    "                                                                     num_reps = num_reps, \n",
    "                                                                     sample_frac = 1.0, \n",
    "                                                                     method = 'both', \n",
    "                                                                     plot = False,print_counter=True)"
   ]
  },
  {
   "cell_type": "code",
   "execution_count": 47,
   "metadata": {},
   "outputs": [
    {
     "data": {
      "image/png": "[encoded data removed]",
      "text/plain": [
       "<Figure size 115.2x110.88 with 1 Axes>"
      ]
     },
     "metadata": {},
     "output_type": "display_data"
    }
   ],
   "source": [
    "# plot distributions for non-sampled case\n",
    "sns.set_style('white')\n",
    "sns.set_style(\"ticks\", {\"xtick.major.size\": 15, \"ytick.major.size\": 15})\n",
    "plt.figure(figsize=(1.6,1.54))\n",
    "plt.vlines(np.mean(CHD_numedges_list),ymin=0,ymax=0.004,color='r',lw=.5,label='CHD dDNVs')\n",
    "sns.kdeplot(CHD_numedges_rand,color='k',lw=.5,alpha=.5,shade=True,label='random')\n",
    "plt.legend(loc='upper left',fontsize=8)\n",
    "plt.ylabel('density',fontsize=8)\n",
    "plt.xlabel('number shared edges',fontsize=8)\n",
    "plt.xticks(fontsize=8)\n",
    "plt.yticks(fontsize=8)\n",
    "plt.ylim([0,.006])\n",
    "\n",
    "# print the z-score and fdr\n",
    "CHD_NE_z = (np.mean(CHD_numedges_list)-np.mean(CHD_numedges_rand))/np.std(CHD_numedges_rand)\n",
    "\n",
    "from scipy.stats import norm\n",
    "ptemp = norm.sf(abs(CHD_NE_z))\n",
    "\n",
    "plt.title('permutation p = '+(\"%.2g\" % ptemp),fontsize=8)\n",
    "\n",
    "plt.savefig('../../manuscript/figures_1911/Supplement/CHD_DNV_numedges_'+int_name+'_no_bootstrap'+str(num_reps)+'.png',dpi=300,bbox_inches='tight')\n",
    "plt.savefig('../../manuscript/figures_1911/Supplement/CHD_DNV_numedges_'+int_name+'_no_bootstrap'+str(num_reps)+'.svg',dpi=300,bbox_inches='tight')"
   ]
  },
  {
   "cell_type": "markdown",
   "metadata": {},
   "source": [
    "## Control cohort localization"
   ]
  },
  {
   "cell_type": "code",
   "execution_count": 49,
   "metadata": {},
   "outputs": [
    {
     "data": {
      "text/plain": [
       "193"
      ]
     },
     "execution_count": 49,
     "metadata": {},
     "output_type": "execute_result"
    }
   ],
   "source": [
    "len(ctrl_DNV)"
   ]
  },
  {
   "cell_type": "code",
   "execution_count": 50,
   "metadata": {
    "scrolled": true
   },
   "outputs": [
    {
     "name": "stdout",
     "output_type": "stream",
     "text": [
      "0\n",
      "25\n",
      "50\n",
      "75\n",
      "100\n",
      "125\n",
      "150\n",
      "175\n",
      "200\n",
      "225\n",
      "250\n",
      "275\n",
      "300\n",
      "325\n",
      "350\n",
      "375\n",
      "400\n",
      "425\n",
      "450\n",
      "475\n",
      "500\n",
      "525\n",
      "550\n",
      "575\n",
      "600\n",
      "625\n",
      "650\n",
      "675\n",
      "700\n",
      "725\n",
      "750\n",
      "775\n",
      "800\n",
      "825\n",
      "850\n",
      "875\n",
      "900\n",
      "925\n",
      "950\n",
      "975\n"
     ]
    }
   ],
   "source": [
    "# set numreps to 5000 for full run\n",
    "\n",
    "num_reps=1000\n",
    "CTRL_numedges_list, CTRL_numedges_rand, CTRL_LCC_list, CTRL_LCC_size_rand = network_localization.localization(Gint,\n",
    "                                                                     focal_genes = ctrl_DNV,\n",
    "                                                                     num_reps = num_reps, \n",
    "                                                                     sample_frac = 1.0, \n",
    "                                                                     method = 'both', \n",
    "                                                                     plot = False,print_counter=True)"
   ]
  },
  {
   "cell_type": "code",
   "execution_count": 56,
   "metadata": {},
   "outputs": [
    {
     "data": {
      "image/png": "[encoded data removed]",
      "text/plain": [
       "<Figure size 115.2x110.88 with 1 Axes>"
      ]
     },
     "metadata": {},
     "output_type": "display_data"
    }
   ],
   "source": [
    "# plot distributions for non-sampled case\n",
    "sns.set_style('white')\n",
    "sns.set_style(\"ticks\", {\"xtick.major.size\": 15, \"ytick.major.size\": 15})\n",
    "plt.figure(figsize=(1.6,1.54))\n",
    "plt.vlines(np.mean(CTRL_numedges_list),ymin=0,ymax=0.02,color='r',lw=.5,label='CTRL dDNVs')\n",
    "sns.kdeplot(CTRL_numedges_rand,color='k',lw=.5,alpha=.5,shade=True,label='random')\n",
    "plt.legend(loc='upper left',fontsize=8)\n",
    "plt.ylabel('density',fontsize=8)\n",
    "plt.xlabel('number shared edges',fontsize=8)\n",
    "plt.xticks(fontsize=8)\n",
    "plt.yticks(fontsize=8)\n",
    "plt.ylim([0,.04])\n",
    "\n",
    "# print the z-score and fdr\n",
    "CTRL_NE_z = (np.mean(CTRL_numedges_list)-np.mean(CTRL_numedges_rand))/np.std(CTRL_numedges_rand)\n",
    "\n",
    "from scipy.stats import norm\n",
    "ptemp = norm.sf(abs(CTRL_NE_z))\n",
    "\n",
    "plt.title('permutation p = '+(\"%.2g\" % ptemp),fontsize=8)\n",
    "\n",
    "plt.savefig('../../manuscript/figures_1911/Supplement/CTRL_DNV_numedges_'+int_name+'_no_bootstrap'+str(num_reps)+'.png',dpi=300,bbox_inches='tight')\n",
    "plt.savefig('../../manuscript/figures_1911/Supplement/CTRL_DNV_numedges_'+int_name+'_no_bootstrap'+str(num_reps)+'.svg',dpi=300,bbox_inches='tight')"
   ]
  },
  {
   "cell_type": "markdown",
   "metadata": {},
   "source": [
    "[TOC](#toc)"
   ]
  },
  {
   "cell_type": "code",
   "execution_count": null,
   "metadata": {},
   "outputs": [],
   "source": []
  }
 ],
 "metadata": {
  "kernelspec": {
   "display_name": "Python 2",
   "language": "python",
   "name": "python2"
  },
  "language_info": {
   "codemirror_mode": {
    "name": "ipython",
    "version": 2
   },
   "file_extension": ".py",
   "mimetype": "text/x-python",
   "name": "python",
   "nbconvert_exporter": "python",
   "pygments_lexer": "ipython2",
   "version": "2.7.17"
  }
 },
 "nbformat": 4,
 "nbformat_minor": 1
}
