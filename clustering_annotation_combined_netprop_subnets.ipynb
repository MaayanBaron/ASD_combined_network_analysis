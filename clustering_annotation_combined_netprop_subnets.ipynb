{
 "cells": [
  {
   "cell_type": "markdown",
   "metadata": {},
   "source": [
    "# Clustering and annotation of combined disease network propagation subnetworks (z>2)"
   ]
  },
  {
   "cell_type": "code",
   "execution_count": 1,
   "metadata": {},
   "outputs": [],
   "source": [
    "# import matplotlib\n",
    "# matplotlib.use('TkAgg')\n",
    "\n",
    "import numpy as np\n",
    "import matplotlib.pyplot as plt\n",
    "import seaborn as sns\n",
    "import networkx as nx\n",
    "import pandas as pd\n",
    "import random\n",
    "\n",
    "import community\n",
    "\n",
    "from scipy.stats import mannwhitneyu\n",
    "\n",
    "import mygene\n",
    "mg = mygene.MyGeneInfo()\n",
    "\n",
    "# latex rendering of text in graphs\n",
    "import matplotlib as mpl\n",
    "mpl.rc('text', usetex = False)\n",
    "mpl.rc('font', family = 'serif')\n",
    "\n",
    "sns.set_style('white')\n",
    "\n",
    "import sys\n",
    "\n",
    "sys.path.append('../../code/')\n",
    "import load_interactomes\n",
    "\n",
    "\n",
    "import visJS2jupyter.visJS_module\n",
    "import visJS2jupyter.visualizations\n",
    "\n",
    "\n",
    "\n",
    "% matplotlib inline"
   ]
  },
  {
   "cell_type": "markdown",
   "metadata": {},
   "source": [
    "# Load the ASD-CHD interactome"
   ]
  },
  {
   "cell_type": "code",
   "execution_count": 2,
   "metadata": {},
   "outputs": [
    {
     "name": "stdout",
     "output_type": "stream",
     "text": [
      "1512\n",
      "40828\n"
     ]
    }
   ],
   "source": [
    "G_ASD_CHD = nx.read_gpickle('combined_disease_networks/G_ASD_CHD_z2_before5000_repsGIANT_p2.gpickle')\n",
    "print(len(G_ASD_CHD.nodes()))\n",
    "print(len(G_ASD_CHD.edges()))"
   ]
  },
  {
   "cell_type": "code",
   "execution_count": 27,
   "metadata": {},
   "outputs": [
    {
     "data": {
      "text/plain": [
       "1512"
      ]
     },
     "execution_count": 27,
     "metadata": {},
     "output_type": "execute_result"
    }
   ],
   "source": [
    "len(np.unique(G_ASD_CHD.nodes()))"
   ]
  },
  {
   "cell_type": "code",
   "execution_count": 28,
   "metadata": {},
   "outputs": [
    {
     "data": {
      "text/plain": [
       "1503"
      ]
     },
     "execution_count": 28,
     "metadata": {},
     "output_type": "execute_result"
    }
   ],
   "source": [
    "Gc = max(nx.connected_component_subgraphs(G_ASD_CHD), key=len)\n",
    "len(Gc.nodes())"
   ]
  },
  {
   "cell_type": "code",
   "execution_count": 3,
   "metadata": {},
   "outputs": [],
   "source": [
    "# compute the louvain clusters\n",
    "partition = community.best_partition(G_ASD_CHD)"
   ]
  },
  {
   "cell_type": "code",
   "execution_count": 4,
   "metadata": {},
   "outputs": [
    {
     "data": {
      "text/plain": [
       "1     658\n",
       "0     315\n",
       "3     263\n",
       "2     247\n",
       "5       9\n",
       "6       3\n",
       "8       3\n",
       "12      3\n",
       "16      2\n",
       "10      1\n",
       "9       1\n",
       "7       1\n",
       "11      1\n",
       "4       1\n",
       "13      1\n",
       "14      1\n",
       "15      1\n",
       "17      1\n",
       "dtype: int64"
      ]
     },
     "execution_count": 4,
     "metadata": {},
     "output_type": "execute_result"
    }
   ],
   "source": [
    "partition=pd.Series(partition)\n",
    "partition.value_counts()"
   ]
  },
  {
   "cell_type": "code",
   "execution_count": 7,
   "metadata": {},
   "outputs": [],
   "source": [
    "nx.set_node_attributes(G_ASD_CHD,'partition',dict(partition))\n"
   ]
  },
  {
   "cell_type": "code",
   "execution_count": 10,
   "metadata": {},
   "outputs": [],
   "source": [
    "# write the nodelist and edgelists\n",
    "[e1,e2] = zip(*G_ASD_CHD.edges())\n",
    "w = pd.Series(nx.get_edge_attributes(G_ASD_CHD,'weight')).loc[G_ASD_CHD.edges()].tolist()\n",
    "edge_info = pd.DataFrame({'edge1':e1,'edge2':e2,'weight':w})\n",
    "len(edge_info)\n",
    "edge_info.to_csv('G_ASD_CHD_180925.tsv',sep='\\t') # save the edges\n",
    "\n",
    "\n"
   ]
  },
  {
   "cell_type": "code",
   "execution_count": 17,
   "metadata": {},
   "outputs": [
    {
     "data": {
      "text/html": [
       "<div>\n",
       "<style>\n",
       "    .dataframe thead tr:only-child th {\n",
       "        text-align: right;\n",
       "    }\n",
       "\n",
       "    .dataframe thead th {\n",
       "        text-align: left;\n",
       "    }\n",
       "\n",
       "    .dataframe tbody tr th {\n",
       "        vertical-align: top;\n",
       "    }\n",
       "</style>\n",
       "<table border=\"1\" class=\"dataframe\">\n",
       "  <thead>\n",
       "    <tr style=\"text-align: right;\">\n",
       "      <th></th>\n",
       "      <th>ASD_HC</th>\n",
       "      <th>CHD_HC</th>\n",
       "      <th>partition</th>\n",
       "      <th>z_ASD</th>\n",
       "      <th>z_ASD_CHD</th>\n",
       "      <th>z_CHD</th>\n",
       "    </tr>\n",
       "  </thead>\n",
       "  <tbody>\n",
       "    <tr>\n",
       "      <th>PGM2L1</th>\n",
       "      <td>0.0</td>\n",
       "      <td>0.0</td>\n",
       "      <td>0.0</td>\n",
       "      <td>2.105800</td>\n",
       "      <td>3.023162</td>\n",
       "      <td>2.644882</td>\n",
       "    </tr>\n",
       "    <tr>\n",
       "      <th>NIPA1</th>\n",
       "      <td>0.0</td>\n",
       "      <td>0.0</td>\n",
       "      <td>0.0</td>\n",
       "      <td>2.137929</td>\n",
       "      <td>2.233875</td>\n",
       "      <td>0.874721</td>\n",
       "    </tr>\n",
       "    <tr>\n",
       "      <th>LIFR</th>\n",
       "      <td>0.0</td>\n",
       "      <td>0.0</td>\n",
       "      <td>1.0</td>\n",
       "      <td>2.167702</td>\n",
       "      <td>2.907379</td>\n",
       "      <td>2.019243</td>\n",
       "    </tr>\n",
       "    <tr>\n",
       "      <th>PIK3CA</th>\n",
       "      <td>0.0</td>\n",
       "      <td>0.0</td>\n",
       "      <td>2.0</td>\n",
       "      <td>2.650072</td>\n",
       "      <td>2.363422</td>\n",
       "      <td>0.943191</td>\n",
       "    </tr>\n",
       "    <tr>\n",
       "      <th>ZNF701</th>\n",
       "      <td>0.0</td>\n",
       "      <td>0.0</td>\n",
       "      <td>0.0</td>\n",
       "      <td>1.984758</td>\n",
       "      <td>2.626359</td>\n",
       "      <td>1.563654</td>\n",
       "    </tr>\n",
       "  </tbody>\n",
       "</table>\n",
       "</div>"
      ],
      "text/plain": [
       "        ASD_HC  CHD_HC  partition     z_ASD  z_ASD_CHD     z_CHD\n",
       "PGM2L1     0.0     0.0        0.0  2.105800   3.023162  2.644882\n",
       "NIPA1      0.0     0.0        0.0  2.137929   2.233875  0.874721\n",
       "LIFR       0.0     0.0        1.0  2.167702   2.907379  2.019243\n",
       "PIK3CA     0.0     0.0        2.0  2.650072   2.363422  0.943191\n",
       "ZNF701     0.0     0.0        0.0  1.984758   2.626359  1.563654"
      ]
     },
     "execution_count": 17,
     "metadata": {},
     "output_type": "execute_result"
    }
   ],
   "source": [
    "node_table = pd.DataFrame(np.zeros((len(G_ASD_CHD.nodes()),6)),index=G_ASD_CHD.nodes())\n",
    "node_table.columns = ['ASD_HC','CHD_HC','partition','z_ASD','z_ASD_CHD','z_CHD']\n",
    "\n",
    "for node in G_ASD_CHD.nodes():\n",
    "    node_table.loc[node] = pd.Series(G_ASD_CHD.node[node])\n",
    "    \n",
    "node_table.to_csv('G_ASD_CHD_180925_nodes.tsv',sep='\\t') # save the nodes\n",
    "node_table.head()"
   ]
  },
  {
   "cell_type": "code",
   "execution_count": 26,
   "metadata": {},
   "outputs": [
    {
     "data": {
      "text/html": [
       "<div>\n",
       "<style>\n",
       "    .dataframe thead tr:only-child th {\n",
       "        text-align: right;\n",
       "    }\n",
       "\n",
       "    .dataframe thead th {\n",
       "        text-align: left;\n",
       "    }\n",
       "\n",
       "    .dataframe tbody tr th {\n",
       "        vertical-align: top;\n",
       "    }\n",
       "</style>\n",
       "<table border=\"1\" class=\"dataframe\">\n",
       "  <thead>\n",
       "    <tr style=\"text-align: right;\">\n",
       "      <th></th>\n",
       "      <th>ASD_HC</th>\n",
       "      <th>CHD_HC</th>\n",
       "      <th>partition</th>\n",
       "      <th>z_ASD</th>\n",
       "      <th>z_ASD_CHD</th>\n",
       "      <th>z_CHD</th>\n",
       "    </tr>\n",
       "  </thead>\n",
       "  <tbody>\n",
       "    <tr>\n",
       "      <th>TMTC3</th>\n",
       "      <td>0.0</td>\n",
       "      <td>0.0</td>\n",
       "      <td>0.0</td>\n",
       "      <td>4.318288</td>\n",
       "      <td>3.787568</td>\n",
       "      <td>0.004409</td>\n",
       "    </tr>\n",
       "    <tr>\n",
       "      <th>KLHL2</th>\n",
       "      <td>0.0</td>\n",
       "      <td>0.0</td>\n",
       "      <td>2.0</td>\n",
       "      <td>3.366697</td>\n",
       "      <td>3.781594</td>\n",
       "      <td>2.385985</td>\n",
       "    </tr>\n",
       "    <tr>\n",
       "      <th>KANSL1L</th>\n",
       "      <td>0.0</td>\n",
       "      <td>0.0</td>\n",
       "      <td>2.0</td>\n",
       "      <td>3.206343</td>\n",
       "      <td>3.774944</td>\n",
       "      <td>2.351072</td>\n",
       "    </tr>\n",
       "    <tr>\n",
       "      <th>ZC3H7A</th>\n",
       "      <td>0.0</td>\n",
       "      <td>0.0</td>\n",
       "      <td>2.0</td>\n",
       "      <td>6.682980</td>\n",
       "      <td>3.766292</td>\n",
       "      <td>0.335452</td>\n",
       "    </tr>\n",
       "    <tr>\n",
       "      <th>ATP8B1</th>\n",
       "      <td>0.0</td>\n",
       "      <td>0.0</td>\n",
       "      <td>1.0</td>\n",
       "      <td>3.116581</td>\n",
       "      <td>3.761816</td>\n",
       "      <td>2.114954</td>\n",
       "    </tr>\n",
       "  </tbody>\n",
       "</table>\n",
       "</div>"
      ],
      "text/plain": [
       "         ASD_HC  CHD_HC  partition     z_ASD  z_ASD_CHD     z_CHD\n",
       "TMTC3       0.0     0.0        0.0  4.318288   3.787568  0.004409\n",
       "KLHL2       0.0     0.0        2.0  3.366697   3.781594  2.385985\n",
       "KANSL1L     0.0     0.0        2.0  3.206343   3.774944  2.351072\n",
       "ZC3H7A      0.0     0.0        2.0  6.682980   3.766292  0.335452\n",
       "ATP8B1      0.0     0.0        1.0  3.116581   3.761816  2.114954"
      ]
     },
     "execution_count": 26,
     "metadata": {},
     "output_type": "execute_result"
    }
   ],
   "source": [
    "node_table=node_table.sort_values('z_ASD_CHD',ascending=False)\n",
    "node_table.head(177).tail()"
   ]
  },
  {
   "cell_type": "code",
   "execution_count": 25,
   "metadata": {},
   "outputs": [
    {
     "data": {
      "text/plain": [
       "77"
      ]
     },
     "execution_count": 25,
     "metadata": {},
     "output_type": "execute_result"
    }
   ],
   "source": [
    "(node_table[['ASD_HC','CHD_HC']].sum(axis=1)>0).sum()"
   ]
  },
  {
   "cell_type": "code",
   "execution_count": 6,
   "metadata": {},
   "outputs": [
    {
     "name": "stdout",
     "output_type": "stream",
     "text": [
      "1\n",
      "        p.value     term.id                               term.name\n",
      "0  1.520000e-21  GO:0071944                          cell periphery\n",
      "1  2.070000e-21  GO:0005886                         plasma membrane\n",
      "2  1.060000e-16  GO:0044459                    plasma membrane part\n",
      "3  1.190000e-12  GO:0044425                           membrane part\n",
      "4  1.440000e-11  GO:0031226  intrinsic component of plasma membrane\n",
      "0\n",
      "    p.value            term.id                        term.name\n",
      "0  0.000491   REAC:R-HSA-74160  Gene expression (Transcription)\n",
      "1  0.003350         GO:0016740             transferase activity\n",
      "2  0.003430         GO:0003676             nucleic acid binding\n",
      "3  0.005810         GO:0031981                    nuclear lumen\n",
      "4  0.010700  REAC:R-HSA-212436    Generic Transcription Pathway\n",
      "3\n",
      "    p.value             term.id                                      term.name\n",
      "0  0.000094  REAC:R-HSA-4839726                         Chromatin organization\n",
      "1  0.000094  REAC:R-HSA-3247509                    Chromatin modifying enzymes\n",
      "2  0.000650         TF:M00793_0  Factor: YY1; motif: GCCATNTTN; match class: 0\n",
      "3  0.000650           TF:M00793                  Factor: YY1; motif: GCCATNTTN\n",
      "4  0.001270          GO:0016569                covalent chromatin modification\n",
      "2\n",
      "   p.value      term.id                                          term.name\n",
      "0  0.00799  TF:M00695_1        Factor: ETF; motif: GVGGMGG; match class: 1\n",
      "1  0.00799    TF:M09745           Factor: HELIOS; motif: RNARRRGGAASTGARAN\n",
      "2  0.00799  TF:M00940_1   Factor: E2F-1; motif: NTTTCGCGCS; match class: 1\n",
      "3  0.00799  TF:M09745_0  Factor: HELIOS; motif: RNARRRGGAASTGARAN; matc...\n",
      "4  0.01180  TF:M00695_0        Factor: ETF; motif: GVGGMGG; match class: 0\n",
      "5\n",
      "6\n",
      "8\n",
      "12\n",
      "16\n",
      "10\n",
      "9\n",
      "7\n",
      "11\n",
      "4\n",
      "13\n",
      "14\n",
      "15\n",
      "17\n"
     ]
    }
   ],
   "source": [
    "# annotate each cluster with gprofiler\n",
    "from gprofiler import GProfiler\n",
    "gp = GProfiler(\"MyToolName/0.1\")\n",
    "\n",
    "import os\n",
    "\n",
    "savedir = 'gprofile_clusters_ASD_CHD'\n",
    "if not os.path.isdir(savedir):\n",
    "    os.mkdir(savedir)\n",
    "\n",
    "\n",
    "for focal_cluster in partition.value_counts().index.tolist():\n",
    "    print(focal_cluster)\n",
    "    focal_genes = partition[partition==focal_cluster].index.tolist()\n",
    "\n",
    "    if len(focal_genes)>10: # only save results if there are enough genes\n",
    "        gp_results = pd.DataFrame(gp.gprofile(focal_genes,custom_bg = partition.index.tolist(),correction_method=gp.THR_FDR))\n",
    "\n",
    "        gp_results.columns = [\"query.number\", \"significant\", \"p.value\", \"term.size\",\n",
    "                              \"query.size\", \"overlap.size\", \"recall\", \"precision\",\n",
    "                              \"term.id\", \"domain\", \"subgraph.number\", \"term.name\",\n",
    "                              \"relative.depth\", \"intersection\"]\n",
    "        print(gp_results[['p.value','term.id','term.name']].head())\n",
    "\n",
    "        writer = pd.ExcelWriter(savedir+'/cluster_'+str(focal_cluster)+'.xlsx')\n",
    "        gp_results.to_excel(writer)\n",
    "        writer.save()\n",
    "\n",
    "#gp_results = pd.DataFrame(gp.gprofile(focal_genes,correction_method=gp.THR_FDR))"
   ]
  },
  {
   "cell_type": "code",
   "execution_count": 29,
   "metadata": {},
   "outputs": [
    {
     "name": "stdout",
     "output_type": "stream",
     "text": [
      "644504\n",
      "ABHD3\n",
      "ACAP2\n",
      "ACER3\n",
      "ACOT9\n",
      "ACVR1\n",
      "ADNP\n",
      "AP1G1\n",
      "APPBP2\n",
      "ARAP2\n",
      "ATP11B\n",
      "ATP2B1\n",
      "AVL9\n",
      "BAGE2\n",
      "BAZ2B\n",
      "BPGM\n",
      "BTAF1\n",
      "C2CD5\n",
      "CAMSAP2\n",
      "CAPZA1\n",
      "CASC15\n",
      "CAST\n",
      "CCDC117\n",
      "CCDC126\n",
      "CCP110\n",
      "CCSER2\n",
      "CCT8\n",
      "CELF2\n",
      "CEP170\n",
      "CEP192\n",
      "CHD1\n",
      "CHD9\n",
      "CHIC2\n",
      "CIR1\n",
      "CITED2\n",
      "CLASP2\n",
      "CLIP1\n",
      "CLK1\n",
      "CNOT6\n",
      "COG6\n",
      "COP1\n",
      "CPEB3\n",
      "CRBN\n",
      "CSGALNACT2\n",
      "CTTNBP2\n",
      "CUL3\n",
      "DAAM1\n",
      "DCAF17\n",
      "DCUN1D1\n",
      "DMXL2\n",
      "DNAJC13\n",
      "DOPEY1\n",
      "DSE\n",
      "E2F3\n",
      "EED\n",
      "EFR3A\n",
      "EID3\n",
      "ELF2\n",
      "ELMOD1\n",
      "ERBIN\n",
      "FAM172A\n",
      "FAM217B\n",
      "FAM8A1\n",
      "FBXO11\n",
      "FBXO33\n",
      "FBXO34\n",
      "FBXW11\n",
      "FCHSD2\n",
      "FMR1\n",
      "FZD3\n",
      "GGNBP2\n",
      "GOLPH3L\n",
      "GPCPD1\n",
      "HECA\n",
      "HIVEP2\n",
      "HMGXB4\n",
      "HNRNPH3\n",
      "HOMER1\n",
      "IBTK\n",
      "IL17RD\n",
      "IL1RAP\n",
      "ILF2\n",
      "IQGAP1\n",
      "IRF2\n",
      "IVNS1ABP\n",
      "JAK1\n",
      "JAK2\n",
      "JMJD1C\n",
      "JMY\n",
      "KANSL1L\n",
      "KAT2B\n",
      "KBTBD2\n",
      "KDM6A\n",
      "KIF6\n",
      "KLHL2\n",
      "KRAS\n",
      "LEMD3\n",
      "LNPK\n",
      "LNX2\n",
      "LRP12\n",
      "LRRFIP2\n",
      "LSM14A\n",
      "MAP3K5\n",
      "MAP4K5\n",
      "MARCH5\n",
      "MARCH7\n",
      "MARCH8\n",
      "MBNL1\n",
      "MDFIC\n",
      "MED13\n",
      "MEF2A\n",
      "MEX3C\n",
      "MFAP3\n",
      "MIR936\n",
      "MORC3\n",
      "NAB1\n",
      "NBN\n",
      "NCKAP1\n",
      "NDEL1\n",
      "NEK7\n",
      "NFE2L2\n",
      "NGLY1\n",
      "NIPBL\n",
      "NR3C1\n",
      "NRIP1\n",
      "NUS1P2\n",
      "OSBPL8\n",
      "OXR1\n",
      "PDCD4\n",
      "PDS5B\n",
      "PELI1\n",
      "PEX3\n",
      "PHIP\n",
      "PI4KAP2\n",
      "PIK3CA\n",
      "PIKFYVE\n",
      "PLAGL1\n",
      "PPM1A\n",
      "PPM1B\n",
      "PPM1D\n",
      "PPP1R12A\n",
      "PPP2CB\n",
      "PRKD3\n",
      "PSME4\n",
      "PSPC1\n",
      "PTBP2\n",
      "PTEN\n",
      "PTENP1\n",
      "PTPN11\n",
      "QKI\n",
      "RAB11FIP2\n",
      "RAB33B\n",
      "RABGAP1L\n",
      "RALBP1\n",
      "RALGAPB\n",
      "RAP1A\n",
      "RAPGEF2\n",
      "RB1CC1\n",
      "RBM25\n",
      "RBPJ\n",
      "RBPMS2\n",
      "RCOR1\n",
      "REV3L\n",
      "RNF111\n",
      "RNF139\n",
      "RNF38\n",
      "ROCK1\n",
      "RSBN1\n",
      "SAV1\n",
      "SEC24D\n",
      "SEC62\n",
      "SECISBP2L\n",
      "SEPT7\n",
      "SERAC1\n",
      "SERTAD2\n",
      "SGMS1\n",
      "SIAE\n",
      "SIAH1\n",
      "SIX4\n",
      "SLC38A2\n",
      "SLK\n",
      "SMAD2\n",
      "SMURF2\n",
      "SOCS5\n",
      "SON\n",
      "SP2\n",
      "SP3\n",
      "SPAST\n",
      "SRD5A1\n",
      "SRSF11\n",
      "STK24\n",
      "STRIP1\n",
      "STRIP2\n",
      "STRN3\n",
      "STX6\n",
      "STXBP3\n",
      "STXBP5\n",
      "SUCO\n",
      "SUN1\n",
      "TAOK3\n",
      "TBL1XR1\n",
      "TCF12\n",
      "TCF23\n",
      "TIA1\n",
      "TJP2\n",
      "TLE4\n",
      "TMEM117\n",
      "TMEM131\n",
      "TMEM167B\n",
      "TMOD3\n",
      "TNKS2\n",
      "TOB1\n",
      "TOP2B\n",
      "TP53BP2\n",
      "TPP2\n",
      "TRIP12\n",
      "TROVE2\n",
      "UBE2J1\n",
      "UBL3\n",
      "UBR5\n",
      "USP25\n",
      "USP3\n",
      "USP32P2\n",
      "USP6\n",
      "USP9X\n",
      "VAMP4\n",
      "VEZF1\n",
      "WBP4\n",
      "WIPF1\n",
      "YPEL5\n",
      "YTHDC1\n",
      "YTHDF3\n",
      "ZBTB10\n",
      "ZBTB18\n",
      "ZC3H11A\n",
      "ZC3H6\n",
      "ZC3H7A\n",
      "ZEB2\n",
      "ZFYVE16\n",
      "ZNF189\n",
      "ZNF304\n",
      "ZNF451\n",
      "ZNF493\n",
      "ZNF559\n",
      "ZNF566\n",
      "ZNF623\n",
      "ZNF721\n"
     ]
    }
   ],
   "source": [
    "for g in partition[partition==2].index.tolist():\n",
    "    print(g)"
   ]
  },
  {
   "cell_type": "markdown",
   "metadata": {},
   "source": [
    "# Repeat the process for ASD-EPI"
   ]
  },
  {
   "cell_type": "code",
   "execution_count": 30,
   "metadata": {},
   "outputs": [
    {
     "name": "stdout",
     "output_type": "stream",
     "text": [
      "1320\n",
      "14993\n"
     ]
    }
   ],
   "source": [
    "G_ASD_EPI = nx.read_gpickle('combined_disease_networks/G_ASD_EPI_z2_before5000_repsGIANT_p2.gpickle')\n",
    "print(len(G_ASD_EPI.nodes()))\n",
    "print(len(G_ASD_EPI.edges()))"
   ]
  },
  {
   "cell_type": "code",
   "execution_count": 31,
   "metadata": {},
   "outputs": [],
   "source": [
    "# compute the louvain clusters\n",
    "partition = community.best_partition(G_ASD_EPI)"
   ]
  },
  {
   "cell_type": "code",
   "execution_count": 32,
   "metadata": {},
   "outputs": [
    {
     "data": {
      "text/plain": [
       "0     459\n",
       "1     262\n",
       "4     245\n",
       "2     231\n",
       "3     108\n",
       "5       3\n",
       "13      2\n",
       "12      2\n",
       "9       2\n",
       "6       2\n",
       "11      1\n",
       "10      1\n",
       "8       1\n",
       "7       1\n",
       "dtype: int64"
      ]
     },
     "execution_count": 32,
     "metadata": {},
     "output_type": "execute_result"
    }
   ],
   "source": [
    "partition = pd.Series(partition)\n",
    "partition.value_counts()"
   ]
  },
  {
   "cell_type": "code",
   "execution_count": 33,
   "metadata": {},
   "outputs": [],
   "source": [
    "nx.set_node_attributes(G_ASD_EPI,'partition',dict(partition))"
   ]
  },
  {
   "cell_type": "code",
   "execution_count": 35,
   "metadata": {},
   "outputs": [],
   "source": [
    "# write the nodelist and edgelists\n",
    "[e1,e2] = zip(*G_ASD_EPI.edges())\n",
    "w = pd.Series(nx.get_edge_attributes(G_ASD_EPI,'weight')).loc[G_ASD_EPI.edges()].tolist()\n",
    "edge_info = pd.DataFrame({'edge1':e1,'edge2':e2,'weight':w})\n",
    "len(edge_info)\n",
    "edge_info.to_csv('combined_disease_networks/G_ASD_EPI_180925.tsv',sep='\\t') # save the edges\n",
    "\n",
    "\n"
   ]
  },
  {
   "cell_type": "code",
   "execution_count": 37,
   "metadata": {},
   "outputs": [
    {
     "data": {
      "text/plain": [
       "'HIF3A'"
      ]
     },
     "execution_count": 37,
     "metadata": {},
     "output_type": "execute_result"
    }
   ],
   "source": [
    "G_ASD_EPI.nodes()[0]"
   ]
  },
  {
   "cell_type": "code",
   "execution_count": 39,
   "metadata": {},
   "outputs": [
    {
     "data": {
      "text/plain": [
       "ASD_HC       0.000000\n",
       "EPI_HC       0.000000\n",
       "partition    0.000000\n",
       "z_ASD        2.235018\n",
       "z_ASD_EPI    2.187273\n",
       "z_EPI        1.110274\n",
       "dtype: float64"
      ]
     },
     "execution_count": 39,
     "metadata": {},
     "output_type": "execute_result"
    }
   ],
   "source": [
    "pd.Series(G_ASD_EPI.node['HIF3A']).loc[['ASD_HC','EPI_HC','partition','z_ASD','z_ASD_EPI','z_EPI']]"
   ]
  },
  {
   "cell_type": "code",
   "execution_count": 41,
   "metadata": {},
   "outputs": [
    {
     "data": {
      "text/html": [
       "<div>\n",
       "<style>\n",
       "    .dataframe thead tr:only-child th {\n",
       "        text-align: right;\n",
       "    }\n",
       "\n",
       "    .dataframe thead th {\n",
       "        text-align: left;\n",
       "    }\n",
       "\n",
       "    .dataframe tbody tr th {\n",
       "        vertical-align: top;\n",
       "    }\n",
       "</style>\n",
       "<table border=\"1\" class=\"dataframe\">\n",
       "  <thead>\n",
       "    <tr style=\"text-align: right;\">\n",
       "      <th></th>\n",
       "      <th>ASD_HC</th>\n",
       "      <th>EPI_HC</th>\n",
       "      <th>partition</th>\n",
       "      <th>z_ASD</th>\n",
       "      <th>z_ASD_EPI</th>\n",
       "      <th>z_EPI</th>\n",
       "    </tr>\n",
       "  </thead>\n",
       "  <tbody>\n",
       "    <tr>\n",
       "      <th>HIF3A</th>\n",
       "      <td>0.0</td>\n",
       "      <td>0.0</td>\n",
       "      <td>0.0</td>\n",
       "      <td>2.235018</td>\n",
       "      <td>2.187273</td>\n",
       "      <td>1.110274</td>\n",
       "    </tr>\n",
       "    <tr>\n",
       "      <th>ERRFI1</th>\n",
       "      <td>0.0</td>\n",
       "      <td>0.0</td>\n",
       "      <td>1.0</td>\n",
       "      <td>2.870195</td>\n",
       "      <td>2.806272</td>\n",
       "      <td>0.416803</td>\n",
       "    </tr>\n",
       "    <tr>\n",
       "      <th>PHYHIPL</th>\n",
       "      <td>0.0</td>\n",
       "      <td>0.0</td>\n",
       "      <td>0.0</td>\n",
       "      <td>2.875986</td>\n",
       "      <td>3.809215</td>\n",
       "      <td>2.628966</td>\n",
       "    </tr>\n",
       "    <tr>\n",
       "      <th>ADAM23</th>\n",
       "      <td>0.0</td>\n",
       "      <td>0.0</td>\n",
       "      <td>0.0</td>\n",
       "      <td>1.343268</td>\n",
       "      <td>2.659139</td>\n",
       "      <td>2.284904</td>\n",
       "    </tr>\n",
       "    <tr>\n",
       "      <th>PGM2L1</th>\n",
       "      <td>0.0</td>\n",
       "      <td>0.0</td>\n",
       "      <td>1.0</td>\n",
       "      <td>2.105800</td>\n",
       "      <td>2.212774</td>\n",
       "      <td>0.692421</td>\n",
       "    </tr>\n",
       "  </tbody>\n",
       "</table>\n",
       "</div>"
      ],
      "text/plain": [
       "         ASD_HC  EPI_HC  partition     z_ASD  z_ASD_EPI     z_EPI\n",
       "HIF3A       0.0     0.0        0.0  2.235018   2.187273  1.110274\n",
       "ERRFI1      0.0     0.0        1.0  2.870195   2.806272  0.416803\n",
       "PHYHIPL     0.0     0.0        0.0  2.875986   3.809215  2.628966\n",
       "ADAM23      0.0     0.0        0.0  1.343268   2.659139  2.284904\n",
       "PGM2L1      0.0     0.0        1.0  2.105800   2.212774  0.692421"
      ]
     },
     "execution_count": 41,
     "metadata": {},
     "output_type": "execute_result"
    }
   ],
   "source": [
    "node_table = pd.DataFrame(np.zeros((len(G_ASD_EPI.nodes()),6)),index=G_ASD_EPI.nodes())\n",
    "node_table.columns = ['ASD_HC','EPI_HC','partition','z_ASD','z_ASD_EPI','z_EPI']\n",
    "\n",
    "for node in G_ASD_EPI.nodes():\n",
    "    node_table.loc[node] = pd.Series(G_ASD_EPI.node[node]).loc[['ASD_HC','EPI_HC','partition','z_ASD','z_ASD_EPI','z_EPI']]\n",
    "    \n",
    "node_table.to_csv('combined_disease_networks/G_ASD_EPI_180925_nodes.tsv',sep='\\t') # save the nodes\n",
    "node_table.head()"
   ]
  },
  {
   "cell_type": "code",
   "execution_count": null,
   "metadata": {},
   "outputs": [],
   "source": []
  },
  {
   "cell_type": "code",
   "execution_count": 42,
   "metadata": {},
   "outputs": [
    {
     "name": "stdout",
     "output_type": "stream",
     "text": [
      "0\n",
      "        p.value     term.id                            term.name\n",
      "0  5.910000e-13  GO:0022839           ion gated channel activity\n",
      "1  1.040000e-12  GO:0022836               gated channel activity\n",
      "2  1.820000e-11  GO:0005216                 ion channel activity\n",
      "3  2.410000e-11  GO:0022838  substrate-specific channel activity\n",
      "4  2.410000e-11  GO:0015267                     channel activity\n",
      "1\n",
      "        p.value     term.id                term.name\n",
      "0  3.980000e-12  GO:0005654              nucleoplasm\n",
      "1  2.130000e-11  GO:0044428             nuclear part\n",
      "2  2.520000e-11  GO:0031981            nuclear lumen\n",
      "3  6.430000e-10  GO:0051276  chromosome organization\n",
      "4  2.870000e-09  GO:0031974  membrane-enclosed lumen\n",
      "4\n",
      "    p.value      term.id                                          term.name\n",
      "0  0.000668  TF:M01388_1  Factor: Dlx-5; motif: NNRGYAATTRNYKNNN; match ...\n",
      "1  0.000668    TF:M01388             Factor: Dlx-5; motif: NNRGYAATTRNYKNNN\n",
      "2  0.000668  TF:M01388_0  Factor: Dlx-5; motif: NNRGYAATTRNYKNNN; match ...\n",
      "3  0.000817    TF:M03564                       Factor: SATB1; motif: NTTTAT\n",
      "4  0.000817  TF:M02027_1        Factor: PARP; motif: TTTCYN; match class: 1\n",
      "2\n",
      "    p.value      term.id                                          term.name\n",
      "0  0.000001    TF:M01588                  Factor: GKLF; motif: GCCMCRCCCNNN\n",
      "1  0.000001  TF:M01588_0  Factor: GKLF; motif: GCCMCRCCCNNN; match class: 0\n",
      "2  0.000013    TF:M03920                    Factor: SP1; motif: RCCMCRCCCMC\n",
      "3  0.000013  TF:M03920_0    Factor: SP1; motif: RCCMCRCCCMC; match class: 0\n",
      "4  0.000025    TF:M00716                       Factor: ZF5; motif: GSGCGCGR\n",
      "3\n",
      "   p.value            term.id                                     term.name\n",
      "0  0.00160   REAC:R-HSA-74160               Gene expression (Transcription)\n",
      "1  0.00717  REAC:R-HSA-212436                 Generic Transcription Pathway\n",
      "2  0.00717   REAC:R-HSA-73857               RNA Polymerase II Transcription\n",
      "3  0.02170        TF:M03564_1  Factor: SATB1; motif: NTTTAT; match class: 1\n",
      "4  0.02170          TF:M03849                  Factor: Sox-4; motif: AACAAA\n",
      "5\n",
      "13\n",
      "12\n",
      "9\n",
      "6\n",
      "11\n",
      "10\n",
      "8\n",
      "7\n"
     ]
    }
   ],
   "source": [
    "savedir = 'gprofile_clusters_ASD_EPI'\n",
    "if not os.path.isdir(savedir):\n",
    "    os.mkdir(savedir)\n",
    "\n",
    "\n",
    "for focal_cluster in partition.value_counts().index.tolist():\n",
    "    print(focal_cluster)\n",
    "    focal_genes = partition[partition==focal_cluster].index.tolist()\n",
    "\n",
    "    if len(focal_genes)>10: # only save results if there are enough genes\n",
    "        gp_results = pd.DataFrame(gp.gprofile(focal_genes,custom_bg = partition.index.tolist(),correction_method=gp.THR_FDR))\n",
    "\n",
    "        gp_results.columns = [\"query.number\", \"significant\", \"p.value\", \"term.size\",\n",
    "                              \"query.size\", \"overlap.size\", \"recall\", \"precision\",\n",
    "                              \"term.id\", \"domain\", \"subgraph.number\", \"term.name\",\n",
    "                              \"relative.depth\", \"intersection\"]\n",
    "        print(gp_results[['p.value','term.id','term.name']].head())\n",
    "\n",
    "        writer = pd.ExcelWriter(savedir+'/cluster_'+str(focal_cluster)+'.xlsx')\n",
    "        gp_results.to_excel(writer)\n",
    "        writer.save()\n",
    "\n",
    "#gp_results = pd.DataFrame(gp.gprofile(focal_genes,correction_method=gp.THR_FDR))"
   ]
  },
  {
   "cell_type": "markdown",
   "metadata": {},
   "source": [
    "# Repeat for EPI-CHD"
   ]
  },
  {
   "cell_type": "code",
   "execution_count": 43,
   "metadata": {},
   "outputs": [
    {
     "name": "stdout",
     "output_type": "stream",
     "text": [
      "852\n",
      "4903\n"
     ]
    }
   ],
   "source": [
    "G_EPI_CHD = nx.read_gpickle('combined_disease_networks/G_EPI_CHD_z2_before5000_repsGIANT_p2.gpickle')\n",
    "print(len(G_EPI_CHD.nodes()))\n",
    "print(len(G_EPI_CHD.edges()))"
   ]
  },
  {
   "cell_type": "code",
   "execution_count": 47,
   "metadata": {},
   "outputs": [],
   "source": [
    "# compute the louvain clusters\n",
    "partition = community.best_partition(G_EPI_CHD)"
   ]
  },
  {
   "cell_type": "code",
   "execution_count": 48,
   "metadata": {},
   "outputs": [
    {
     "data": {
      "text/plain": [
       "3     266\n",
       "1     197\n",
       "2     154\n",
       "0     105\n",
       "7      70\n",
       "6      30\n",
       "5      20\n",
       "9       3\n",
       "14      1\n",
       "13      1\n",
       "12      1\n",
       "11      1\n",
       "10      1\n",
       "8       1\n",
       "4       1\n",
       "dtype: int64"
      ]
     },
     "execution_count": 48,
     "metadata": {},
     "output_type": "execute_result"
    }
   ],
   "source": [
    "partition = pd.Series(partition)\n",
    "partition.value_counts()"
   ]
  },
  {
   "cell_type": "code",
   "execution_count": 49,
   "metadata": {},
   "outputs": [],
   "source": [
    "nx.set_node_attributes(G_EPI_CHD,'partition',dict(partition))"
   ]
  },
  {
   "cell_type": "code",
   "execution_count": 50,
   "metadata": {},
   "outputs": [],
   "source": [
    "# write the nodelist and edgelists\n",
    "[e1,e2] = zip(*G_EPI_CHD.edges())\n",
    "w = pd.Series(nx.get_edge_attributes(G_EPI_CHD,'weight')).loc[G_EPI_CHD.edges()].tolist()\n",
    "edge_info = pd.DataFrame({'edge1':e1,'edge2':e2,'weight':w})\n",
    "len(edge_info)\n",
    "edge_info.to_csv('combined_disease_networks/G_G_EPI_CHD_180925.tsv',sep='\\t') # save the edges\n",
    "\n",
    "\n"
   ]
  },
  {
   "cell_type": "code",
   "execution_count": 51,
   "metadata": {},
   "outputs": [
    {
     "data": {
      "text/html": [
       "<div>\n",
       "<style>\n",
       "    .dataframe thead tr:only-child th {\n",
       "        text-align: right;\n",
       "    }\n",
       "\n",
       "    .dataframe thead th {\n",
       "        text-align: left;\n",
       "    }\n",
       "\n",
       "    .dataframe tbody tr th {\n",
       "        vertical-align: top;\n",
       "    }\n",
       "</style>\n",
       "<table border=\"1\" class=\"dataframe\">\n",
       "  <thead>\n",
       "    <tr style=\"text-align: right;\">\n",
       "      <th></th>\n",
       "      <th>CHD_HC</th>\n",
       "      <th>EPI_HC</th>\n",
       "      <th>partition</th>\n",
       "      <th>z_CHD</th>\n",
       "      <th>z_EPI_CHD</th>\n",
       "      <th>z_EPI</th>\n",
       "    </tr>\n",
       "  </thead>\n",
       "  <tbody>\n",
       "    <tr>\n",
       "      <th>HSPA2</th>\n",
       "      <td>0.0</td>\n",
       "      <td>0.0</td>\n",
       "      <td>0.0</td>\n",
       "      <td>2.445433</td>\n",
       "      <td>2.288136</td>\n",
       "      <td>0.963411</td>\n",
       "    </tr>\n",
       "    <tr>\n",
       "      <th>TLCD1</th>\n",
       "      <td>0.0</td>\n",
       "      <td>0.0</td>\n",
       "      <td>1.0</td>\n",
       "      <td>-0.018130</td>\n",
       "      <td>2.390685</td>\n",
       "      <td>3.920589</td>\n",
       "    </tr>\n",
       "    <tr>\n",
       "      <th>ARMC9</th>\n",
       "      <td>0.0</td>\n",
       "      <td>0.0</td>\n",
       "      <td>1.0</td>\n",
       "      <td>1.087595</td>\n",
       "      <td>2.385754</td>\n",
       "      <td>2.243174</td>\n",
       "    </tr>\n",
       "    <tr>\n",
       "      <th>PGM2L1</th>\n",
       "      <td>0.0</td>\n",
       "      <td>0.0</td>\n",
       "      <td>2.0</td>\n",
       "      <td>2.644882</td>\n",
       "      <td>2.207897</td>\n",
       "      <td>0.692421</td>\n",
       "    </tr>\n",
       "    <tr>\n",
       "      <th>TPD52L1</th>\n",
       "      <td>0.0</td>\n",
       "      <td>0.0</td>\n",
       "      <td>1.0</td>\n",
       "      <td>4.032180</td>\n",
       "      <td>2.798880</td>\n",
       "      <td>0.204820</td>\n",
       "    </tr>\n",
       "  </tbody>\n",
       "</table>\n",
       "</div>"
      ],
      "text/plain": [
       "         CHD_HC  EPI_HC  partition     z_CHD  z_EPI_CHD     z_EPI\n",
       "HSPA2       0.0     0.0        0.0  2.445433   2.288136  0.963411\n",
       "TLCD1       0.0     0.0        1.0 -0.018130   2.390685  3.920589\n",
       "ARMC9       0.0     0.0        1.0  1.087595   2.385754  2.243174\n",
       "PGM2L1      0.0     0.0        2.0  2.644882   2.207897  0.692421\n",
       "TPD52L1     0.0     0.0        1.0  4.032180   2.798880  0.204820"
      ]
     },
     "execution_count": 51,
     "metadata": {},
     "output_type": "execute_result"
    }
   ],
   "source": [
    "node_table = pd.DataFrame(np.zeros((len(G_EPI_CHD.nodes()),6)),index=G_EPI_CHD.nodes())\n",
    "node_table.columns = ['CHD_HC','EPI_HC','partition','z_CHD','z_EPI_CHD','z_EPI']\n",
    "\n",
    "for node in G_EPI_CHD.nodes():\n",
    "    node_table.loc[node] = pd.Series(G_EPI_CHD.node[node]).loc[['CHD_HC','EPI_HC','partition','z_CHD','z_EPI_CHD','z_EPI']]\n",
    "    \n",
    "node_table.to_csv('combined_disease_networks/G_EPI_CHD_180925_nodes.tsv',sep='\\t') # save the nodes\n",
    "node_table.head()"
   ]
  },
  {
   "cell_type": "code",
   "execution_count": null,
   "metadata": {},
   "outputs": [],
   "source": []
  },
  {
   "cell_type": "code",
   "execution_count": 53,
   "metadata": {},
   "outputs": [
    {
     "name": "stdout",
     "output_type": "stream",
     "text": [
      "3\n",
      "    p.value     term.id                             term.name\n",
      "0  0.000041  GO:0098916  anterograde trans-synaptic signaling\n",
      "1  0.000041  GO:0097458                           neuron part\n",
      "2  0.000041  GO:0007268        chemical synaptic transmission\n",
      "3  0.000041  GO:0022836                gated channel activity\n",
      "4  0.000041  GO:0099537              trans-synaptic signaling\n",
      "1\n",
      "        p.value             term.id                       term.name\n",
      "0  2.120000e-08          GO:0043588                skin development\n",
      "1  2.120000e-08          GO:0008544           epidermis development\n",
      "2  4.440000e-07          GO:0030216    keratinocyte differentiation\n",
      "3  5.530000e-07          GO:0009913  epidermal cell differentiation\n",
      "4  2.770000e-05  REAC:R-HSA-6805567                  Keratinization\n",
      "2\n",
      "   p.value      term.id                                          term.name\n",
      "0  0.00181   GO:0070647  protein modification by small protein conjugat...\n",
      "1  0.00298   GO:0051276                            chromosome organization\n",
      "2  0.00574    TF:M03893                   Factor: WT1; motif: GNGGGGGCGGGG\n",
      "3  0.00574  TF:M03893_0   Factor: WT1; motif: GNGGGGGCGGGG; match class: 0\n",
      "4  0.00810  TF:M07380_0   Factor: E2F-4; motif: NTTTCSCGCC; match class: 0\n",
      "0\n",
      "   p.value      term.id                                          term.name\n",
      "0  0.00151  TF:M02067_1    Factor: ER71; motif: ACCGGAARYN; match class: 1\n",
      "1  0.00205    TF:M00055                 Factor: N-Myc; motif: NNCCACGTGNNN\n",
      "2  0.00205  TF:M07056_0   Factor: Pitx2; motif: WNTAAWCCCA; match class: 0\n",
      "3  0.00205  TF:M00055_0  Factor: N-Myc; motif: NNCCACGTGNNN; match clas...\n",
      "4  0.00205    TF:M07056                   Factor: Pitx2; motif: WNTAAWCCCA\n",
      "7\n",
      "   p.value     term.id                term.name\n",
      "0  0.00422  GO:0005654              nucleoplasm\n",
      "1  0.01020  GO:0044428             nuclear part\n",
      "2  0.01020  GO:0031974  membrane-enclosed lumen\n",
      "3  0.01020  GO:0043233          organelle lumen\n",
      "4  0.01020  GO:0031981            nuclear lumen\n",
      "6\n",
      "   p.value     term.id                                          term.name\n",
      "0   0.0037  GO:0005509                                calcium ion binding\n",
      "1   0.0037  GO:0007156  homophilic cell adhesion via plasma membrane a...\n",
      "2   0.0128  GO:0098742  cell-cell adhesion via plasma-membrane adhesio...\n",
      "3   0.0312  CORUM:1775                           ULBP2-KLRK1-HCST complex\n",
      "4   0.0312  CORUM:2435                          ITGA1-ITGB1-PTPN2 complex\n",
      "5\n",
      "    p.value     term.id                                          term.name\n",
      "0  0.000002  GO:0002433  immune response-regulating cell surface recept...\n",
      "1  0.000002  GO:0038094                Fc-gamma receptor signaling pathway\n",
      "2  0.000002  GO:0038096  Fc-gamma receptor signaling pathway involved i...\n",
      "3  0.000002  GO:0002431  Fc receptor mediated stimulatory signaling pat...\n",
      "4  0.000009  GO:0038093                      Fc receptor signaling pathway\n",
      "9\n",
      "14\n",
      "13\n",
      "12\n",
      "11\n",
      "10\n",
      "8\n",
      "4\n"
     ]
    }
   ],
   "source": [
    "savedir = 'gprofile_clusters_EPI_CHD'\n",
    "if not os.path.isdir(savedir):\n",
    "    os.mkdir(savedir)\n",
    "\n",
    "\n",
    "for focal_cluster in partition.value_counts().index.tolist():\n",
    "    print(focal_cluster)\n",
    "    focal_genes = partition[partition==focal_cluster].index.tolist()\n",
    "\n",
    "    if len(focal_genes)>10: # only save results if there are enough genes\n",
    "        gp_results = pd.DataFrame(gp.gprofile(focal_genes,custom_bg = partition.index.tolist(),correction_method=gp.THR_FDR))\n",
    "\n",
    "        gp_results.columns = [\"query.number\", \"significant\", \"p.value\", \"term.size\",\n",
    "                              \"query.size\", \"overlap.size\", \"recall\", \"precision\",\n",
    "                              \"term.id\", \"domain\", \"subgraph.number\", \"term.name\",\n",
    "                              \"relative.depth\", \"intersection\"]\n",
    "        print(gp_results[['p.value','term.id','term.name']].head())\n",
    "\n",
    "        writer = pd.ExcelWriter(savedir+'/cluster_'+str(focal_cluster)+'.xlsx')\n",
    "        gp_results.to_excel(writer)\n",
    "        writer.save()\n",
    "\n",
    "#gp_results = pd.DataFrame(gp.gprofile(focal_genes,correction_method=gp.THR_FDR))"
   ]
  },
  {
   "cell_type": "code",
   "execution_count": null,
   "metadata": {},
   "outputs": [],
   "source": []
  }
 ],
 "metadata": {
  "kernelspec": {
   "display_name": "Python 2",
   "language": "python",
   "name": "python2"
  },
  "language_info": {
   "codemirror_mode": {
    "name": "ipython",
    "version": 2
   },
   "file_extension": ".py",
   "mimetype": "text/x-python",
   "name": "python",
   "nbconvert_exporter": "python",
   "pygments_lexer": "ipython2",
   "version": "2.7.12"
  }
 },
 "nbformat": 4,
 "nbformat_minor": 2
}
