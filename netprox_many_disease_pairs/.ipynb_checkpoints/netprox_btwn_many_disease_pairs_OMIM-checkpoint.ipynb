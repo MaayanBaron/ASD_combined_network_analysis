{
 "cells": [
  {
   "cell_type": "markdown",
   "metadata": {},
   "source": [
    "# Calculate the network proximity between many disease pairs\n",
    "\n",
    "Evaluate how likely it is to get network overlap between diseases"
   ]
  },
  {
   "cell_type": "code",
   "execution_count": null,
   "metadata": {},
   "outputs": [],
   "source": [
    "# import matplotlib\n",
    "# matplotlib.use('TkAgg')\n",
    "\n",
    "import numpy as np\n",
    "import matplotlib.pyplot as plt\n",
    "import seaborn as sns\n",
    "import networkx as nx\n",
    "import pandas as pd\n",
    "import random\n",
    "\n",
    "\n",
    "# latex rendering of text in graphs\n",
    "import matplotlib as mpl\n",
    "mpl.rc('text', usetex = False)\n",
    "mpl.rc('font', family = 'serif')\n",
    "\n",
    "from matplotlib import rcParams\n",
    "rcParams['font.family'] = 'sans-serif'\n",
    "rcParams['font.sans-serif'] = ['Arial']\n",
    "\n",
    "sns.set_style('white')\n",
    "\n",
    "import sys\n",
    "\n",
    "% matplotlib inline"
   ]
  },
  {
   "cell_type": "markdown",
   "metadata": {},
   "source": [
    "# Get disease genes from somewhere... maybe DisGeNet?"
   ]
  },
  {
   "cell_type": "code",
   "execution_count": null,
   "metadata": {},
   "outputs": [],
   "source": []
  },
  {
   "cell_type": "code",
   "execution_count": null,
   "metadata": {},
   "outputs": [],
   "source": []
  },
  {
   "cell_type": "code",
   "execution_count": 13,
   "metadata": {},
   "outputs": [
    {
     "name": "stdout",
     "output_type": "stream",
     "text": [
      "130821\n"
     ]
    },
    {
     "data": {
      "text/html": [
       "<div>\n",
       "<style>\n",
       "    .dataframe thead tr:only-child th {\n",
       "        text-align: right;\n",
       "    }\n",
       "\n",
       "    .dataframe thead th {\n",
       "        text-align: left;\n",
       "    }\n",
       "\n",
       "    .dataframe tbody tr th {\n",
       "        vertical-align: top;\n",
       "    }\n",
       "</style>\n",
       "<table border=\"1\" class=\"dataframe\">\n",
       "  <thead>\n",
       "    <tr style=\"text-align: right;\">\n",
       "      <th></th>\n",
       "      <th>geneId</th>\n",
       "      <th>geneSymbol</th>\n",
       "      <th>diseaseId</th>\n",
       "      <th>diseaseName</th>\n",
       "      <th>score</th>\n",
       "      <th>NofPmids</th>\n",
       "      <th>NofSnps</th>\n",
       "      <th>source</th>\n",
       "    </tr>\n",
       "  </thead>\n",
       "  <tbody>\n",
       "    <tr>\n",
       "      <th>0</th>\n",
       "      <td>10</td>\n",
       "      <td>NAT2</td>\n",
       "      <td>C0005695</td>\n",
       "      <td>Bladder Neoplasm</td>\n",
       "      <td>0.245871</td>\n",
       "      <td>5</td>\n",
       "      <td>0</td>\n",
       "      <td>CTD_human</td>\n",
       "    </tr>\n",
       "    <tr>\n",
       "      <th>1</th>\n",
       "      <td>10</td>\n",
       "      <td>NAT2</td>\n",
       "      <td>C0013182</td>\n",
       "      <td>Drug Allergy</td>\n",
       "      <td>0.202682</td>\n",
       "      <td>3</td>\n",
       "      <td>0</td>\n",
       "      <td>CTD_human</td>\n",
       "    </tr>\n",
       "    <tr>\n",
       "      <th>2</th>\n",
       "      <td>10</td>\n",
       "      <td>NAT2</td>\n",
       "      <td>C0023530</td>\n",
       "      <td>Leukopenia</td>\n",
       "      <td>0.200000</td>\n",
       "      <td>1</td>\n",
       "      <td>0</td>\n",
       "      <td>CTD_human</td>\n",
       "    </tr>\n",
       "    <tr>\n",
       "      <th>3</th>\n",
       "      <td>10</td>\n",
       "      <td>NAT2</td>\n",
       "      <td>C0023903</td>\n",
       "      <td>Liver neoplasms</td>\n",
       "      <td>0.209628</td>\n",
       "      <td>1</td>\n",
       "      <td>0</td>\n",
       "      <td>CTD_human</td>\n",
       "    </tr>\n",
       "    <tr>\n",
       "      <th>4</th>\n",
       "      <td>10</td>\n",
       "      <td>NAT2</td>\n",
       "      <td>C0027794</td>\n",
       "      <td>Neural Tube Defects</td>\n",
       "      <td>0.200275</td>\n",
       "      <td>1</td>\n",
       "      <td>0</td>\n",
       "      <td>CTD_human</td>\n",
       "    </tr>\n",
       "  </tbody>\n",
       "</table>\n",
       "</div>"
      ],
      "text/plain": [
       "   geneId geneSymbol diseaseId          diseaseName     score  NofPmids  \\\n",
       "0      10       NAT2  C0005695     Bladder Neoplasm  0.245871         5   \n",
       "1      10       NAT2  C0013182         Drug Allergy  0.202682         3   \n",
       "2      10       NAT2  C0023530           Leukopenia  0.200000         1   \n",
       "3      10       NAT2  C0023903      Liver neoplasms  0.209628         1   \n",
       "4      10       NAT2  C0027794  Neural Tube Defects  0.200275         1   \n",
       "\n",
       "   NofSnps     source  \n",
       "0        0  CTD_human  \n",
       "1        0  CTD_human  \n",
       "2        0  CTD_human  \n",
       "3        0  CTD_human  \n",
       "4        0  CTD_human  "
      ]
     },
     "execution_count": 13,
     "metadata": {},
     "output_type": "execute_result"
    }
   ],
   "source": [
    "disgenet_df = pd.read_csv('/Users/brin/Documents/CCBB_tickets_data/DisGeNet/curated_gene_disease_associations.tsv',sep='\\t')\n",
    "print(len(disgenet_df))\n",
    "disgenet_df.head()"
   ]
  },
  {
   "cell_type": "code",
   "execution_count": 4,
   "metadata": {},
   "outputs": [
    {
     "data": {
      "text/plain": [
       "<matplotlib.axes._subplots.AxesSubplot at 0x1167dead0>"
      ]
     },
     "execution_count": 4,
     "metadata": {},
     "output_type": "execute_result"
    },
    {
     "data": {
      "image/png": "[encoded data removed]",
      "text/plain": [
       "<matplotlib.figure.Figure at 0x1167de710>"
      ]
     },
     "metadata": {},
     "output_type": "display_data"
    }
   ],
   "source": [
    "sns.distplot(disgenet_df['score'])"
   ]
  },
  {
   "cell_type": "code",
   "execution_count": 5,
   "metadata": {},
   "outputs": [
    {
     "name": "stdout",
     "output_type": "stream",
     "text": [
      "5771\n"
     ]
    }
   ],
   "source": [
    "print(sum(disgenet_df['score']>0.25))"
   ]
  },
  {
   "cell_type": "code",
   "execution_count": 6,
   "metadata": {},
   "outputs": [
    {
     "data": {
      "text/plain": [
       "HPO                               96344\n",
       "CTD_human                         22505\n",
       "PSYGENET                           3657\n",
       "ORPHANET                           2931\n",
       "CTD_human;ORPHANET;UNIPROT         1047\n",
       "UNIPROT                             940\n",
       "CTD_human;ORPHANET                  735\n",
       "CTD_human;HPO                       708\n",
       "ORPHANET;UNIPROT                    703\n",
       "CTD_human;UNIPROT                   677\n",
       "HPO;ORPHANET                        213\n",
       "CTD_human;HPO;ORPHANET              111\n",
       "CTD_human;PSYGENET                   79\n",
       "CTD_human;HPO;ORPHANET;UNIPROT       78\n",
       "CTD_human;HPO;UNIPROT                33\n",
       "HPO;ORPHANET;UNIPROT                 24\n",
       "HPO;PSYGENET                         19\n",
       "HPO;UNIPROT                          15\n",
       "CTD_human;HPO;PSYGENET                2\n",
       "Name: source, dtype: int64"
      ]
     },
     "execution_count": 6,
     "metadata": {},
     "output_type": "execute_result"
    }
   ],
   "source": [
    "disgenet_df['source'].value_counts()"
   ]
  },
  {
   "cell_type": "code",
   "execution_count": 10,
   "metadata": {},
   "outputs": [
    {
     "name": "stdout",
     "output_type": "stream",
     "text": [
      "0\n",
      "10000\n",
      "20000\n",
      "30000\n",
      "40000\n",
      "50000\n",
      "60000\n",
      "70000\n",
      "80000\n",
      "90000\n",
      "100000\n",
      "110000\n",
      "120000\n",
      "130000\n",
      "25975\n"
     ]
    }
   ],
   "source": [
    "# idx_keep = []\n",
    "# for i in disgenet_df.index.tolist():\n",
    "#     if (i%10000)==0:\n",
    "#         print(i)\n",
    "#     if disgenet_df.loc[i]['source'].find('CTD_human')>-1:\n",
    "#         idx_keep.append(i)\n",
    "# # disgenet_df = disgenet_df[disgenet_df['source']=='CTD_human']\n",
    "# # disgenet_df.head()\n",
    "\n",
    "# print(len(idx_keep))"
   ]
  },
  {
   "cell_type": "code",
   "execution_count": 11,
   "metadata": {},
   "outputs": [],
   "source": [
    "disgenet_df = disgenet_df.loc[idx_keep]"
   ]
  },
  {
   "cell_type": "code",
   "execution_count": 12,
   "metadata": {},
   "outputs": [
    {
     "name": "stdout",
     "output_type": "stream",
     "text": [
      "ovarian neoplasm\n",
      "Seizures\n",
      "Weight Gain\n",
      "Liver Neoplasms, Experimental\n",
      "Heart failure\n",
      "Liver Cirrhosis\n",
      "Precancerous Conditions\n",
      "Degenerative polyarthritis\n",
      "Kidney Diseases\n",
      "Alzheimer's Disease\n",
      "Myocardial Infarction\n",
      "Myocardial Reperfusion Injury\n",
      "Reperfusion Injury\n",
      "Pancreatic Neoplasm\n",
      "Squamous cell carcinoma of esophagus\n",
      "Hyperalgesia\n",
      "Asthma\n",
      "Nerve Degeneration\n",
      "Fatty Liver\n",
      "Glioma\n",
      "Amphetamine-Related Disorders\n",
      "Contact Dermatitis\n",
      "Cardiomegaly\n",
      "Esophageal Neoplasms\n",
      "Lupus Erythematosus, Systemic\n",
      "Acute kidney injury\n",
      "Status Epilepticus\n",
      "Cholestasis\n",
      "Dermatologic disorders\n",
      "Liver diseases\n",
      "Cardiomyopathies\n",
      "Dermatitis, Allergic Contact\n",
      "Glioblastoma\n",
      "Psoriasis\n",
      "Parkinson Disease\n",
      "Hypersensitivity\n",
      "Coronary Artery Disease\n",
      "Adverse reaction to drug\n",
      "Arsenic Poisoning\n",
      "Brain Ischemia\n",
      "Autism Spectrum Disorders\n",
      "Ulcerative Colitis\n",
      "Osteoporosis\n",
      "Adenocarcinoma of lung (disorder)\n",
      "Epilepsy\n",
      "Pulmonary Fibrosis\n",
      "Respiratory Distress Syndrome, Adult\n",
      "Atherosclerosis\n",
      "Necrosis\n",
      "nervous system disorder\n",
      "Substance Withdrawal Syndrome\n",
      "Hypotension\n",
      "Endometrial Neoplasms\n",
      "Skin Neoplasms\n",
      "Influenza\n",
      "Peripheral Neuropathy\n",
      "Pneumonia\n",
      "Insulin Resistance\n",
      "Mouth Neoplasms\n",
      "Lung diseases\n",
      "AMYOTROPHIC LATERAL SCLEROSIS 1\n",
      "Pain\n",
      "Thrombosis\n",
      "Medulloblastoma\n",
      "Precursor Cell Lymphoblastic Leukemia Lymphoma\n",
      "Salivary Gland Neoplasms\n",
      "Male infertility\n",
      "Kidney Failure, Chronic\n",
      "Diabetes Mellitus, Insulin-Dependent\n",
      "Chronic Lymphocytic Leukemia\n",
      "Neuroblastoma\n",
      "Fibrosis\n",
      "Crohn Disease\n",
      "Heart Diseases\n",
      "Non-alcoholic Fatty Liver Disease\n",
      "Bipolar Disorder\n",
      "Multiple Sclerosis\n",
      "Diaphragmatic Hernia\n",
      "Small cell carcinoma of lung\n",
      "Cleft Palate\n",
      "Memory Disorders\n",
      "Arthritis, Experimental\n",
      "Calcinosis\n",
      "Autoimmune Diseases\n",
      "Mesothelioma\n",
      "Proteinuria\n",
      "Osteosarcoma\n",
      "Depressive disorder\n",
      "Cardiomyopathy, Dilated\n",
      "IGA Glomerulonephritis\n",
      "Neurodegenerative Disorders\n",
      "Anxiety Disorders\n",
      "Neoplasms, Experimental\n",
      "Cardiovascular Diseases\n",
      "Dermatitis, Atopic\n",
      "Drug Allergy\n",
      "Keloid\n",
      "Acute Promyelocytic Leukemia\n",
      "Ovarian Cysts\n",
      "leukemia\n",
      "Diabetic Nephropathy\n",
      "Congenital Heart Defects\n",
      "Inflammatory Bowel Diseases\n",
      "Alcoholic Intoxication, Chronic\n",
      "Basal cell carcinoma\n",
      "Diffuse Large B-Cell Lymphoma\n",
      "Thyroid Neoplasm\n",
      "Growth Disorders\n",
      "Biliary cirrhosis\n",
      "Cerebrovascular accident\n",
      "Hypoxia\n",
      "Chloracne\n",
      "Acute Coronary Syndrome\n",
      "Carcinoma, Transitional Cell\n",
      "Retinitis Pigmentosa\n",
      "Infarction, Middle Cerebral Artery\n",
      "Multiple Myeloma\n",
      "Pulmonary Hypertension\n",
      "Adenoma\n",
      "Neoplasm Recurrence, Local\n",
      "Hyperactive behavior\n",
      "Adult T-Cell Lymphoma/Leukemia\n",
      "Glomerulonephritis\n",
      "Cognition Disorders\n",
      "Learning Disorders\n",
      "Squamous cell carcinoma of the head and neck\n",
      "Stevens-Johnson Syndrome\n",
      "Ischemia\n",
      "Kidney Neoplasm\n",
      "Diabetes Mellitus\n",
      "Celiac Disease\n",
      "Neural Tube Defects\n",
      "Anemia\n",
      "Female infertility\n",
      "Myopathy\n",
      "Chronic Obstructive Airway Disease\n",
      "Bone Diseases, Developmental\n",
      "Cleft Lip\n",
      "Attention deficit hyperactivity disorder\n",
      "Neurotoxicity Syndromes\n",
      "Edema\n",
      "Microcephaly\n",
      "Cerebral Hemorrhage\n",
      "Hyperplasia\n",
      "Uterine Cervical Neoplasm\n",
      "Parkinsonian Disorders\n",
      "Sezary Syndrome\n",
      "Bradycardia\n",
      "Astrocytoma\n",
      "Fever\n",
      "Head and Neck Neoplasms\n",
      "Retinal Diseases\n",
      "Albuminuria\n",
      "Heart valve disease\n",
      "Colitis\n",
      "Left Ventricular Hypertrophy\n",
      "Cholangiocarcinoma\n",
      "Hepatolenticular Degeneration\n",
      "Mental Retardation, X-Linked\n",
      "Brain Diseases\n",
      "Brain Neoplasms\n",
      "Atrial Fibrillation\n",
      "Amyotrophic Lateral Sclerosis\n",
      "Epilepsy, Temporal Lobe\n",
      "Thrombocytopenia\n",
      "Movement Disorders\n",
      "Hepatitis, Chronic\n",
      "Hypercholesterolemia\n",
      "Coronary heart disease\n",
      "Liver Failure, Acute\n",
      "Hypertrophic Cardiomyopathy\n",
      "Carcinoid Tumor\n",
      "Lymphoma, T-Cell, Cutaneous\n",
      "Focal glomerulosclerosis\n",
      "Developmental Disabilities\n",
      "Noise-induced hearing loss\n",
      "Micronuclei, Chromosome-Defective\n",
      "Cataract\n",
      "Nephrotic Syndrome\n",
      "Sepsis\n",
      "Essential Hypertension\n",
      "Carcinoma, Pancreatic Ductal\n",
      "Venous Thrombosis\n",
      "Metabolic Syndrome X\n",
      "Weight decreased\n",
      "Myeloid Leukemia, Chronic\n",
      "Lung Injury\n",
      "Hyperglycemia\n",
      "MYELODYSPLASTIC SYNDROME\n",
      "Lipoidosis\n",
      "Juvenile Myelomonocytic Leukemia\n",
      "Ventricular Dysfunction, Left\n",
      "Pancreatitis\n",
      "Cardiac Arrhythmia\n",
      "Age related macular degeneration\n",
      "Lymphoma, Non-Hodgkin\n",
      "Nasopharyngeal carcinoma\n",
      "Hirschsprung Disease\n",
      "Adrenocortical carcinoma\n",
      "Deafness\n",
      "Gastric ulcer\n",
      "Dyslipidemias\n",
      "Pre-Eclampsia\n",
      "Respiratory Hypersensitivity\n",
      "Acute Lung Injury\n",
      "Tachycardia\n",
      "Retinal Degeneration\n",
      "Female Urogenital Diseases\n",
      "Hemangiosarcoma\n",
      "Lewy Body Disease\n",
      "Drug Eruptions\n",
      "Uremia\n",
      "Myeloid Leukemia\n",
      "Hepatitis, Autoimmune\n",
      "Hypertrophy\n",
      "Lymphoma\n",
      "hearing impairment\n",
      "Hemorrhage\n",
      "Psychoses, Substance-Induced\n",
      "Necrotizing Enterocolitis\n",
      "Major Depressive Disorder\n",
      "Hyperlipidemia\n",
      "Immunologic Deficiency Syndromes\n",
      "Amnesia\n",
      "Pheochromocytoma\n",
      "Bardet-Biedl Syndrome\n",
      "Diabetic Angiopathies\n",
      "Inborn Errors of Metabolism\n",
      "Limb Deformities, Congenital\n",
      "Lymphoma, Follicular\n",
      "Ataxia, Spinocerebellar\n",
      "Vascular Diseases\n",
      "Gliosis\n",
      "Eye Abnormalities\n",
      "Impaired glucose tolerance\n",
      "Precursor T-Cell Lymphoblastic Leukemia-Lymphoma\n",
      "Oral Submucous Fibrosis\n",
      "Urticaria\n",
      "Malaria\n",
      "Liver Cirrhosis, Alcoholic\n",
      "Hepatitis C\n",
      "Anorexia\n",
      "Chromosome Aberrations\n",
      "Behcet Syndrome\n",
      "Hyperinsulinism\n",
      "Ataxia\n",
      "Down Syndrome\n",
      "Microsatellite Instability\n",
      "Nephrosis\n",
      "Osteochondrodysplasias\n"
     ]
    }
   ],
   "source": [
    "disgenet_VC = disgenet_df['diseaseName'].value_counts()\n",
    "for d in disgenet_VC[disgenet_VC<100].head(250).index.tolist():\n",
    "    print(d)\n"
   ]
  },
  {
   "cell_type": "code",
   "execution_count": 142,
   "metadata": {},
   "outputs": [
    {
     "name": "stdout",
     "output_type": "stream",
     "text": [
      "821\n",
      "91\n",
      "['ADA', 'AFA1', 'LPAR6', 'ZMPSTE24', 'EBP']\n",
      "90\n"
     ]
    }
   ],
   "source": [
    "# pick a few disease which have similar gene sizes\n",
    "\n",
    "disease_list = ['Pulmonary Hypertension','Psoriasis','Liver Failure','Ulcerative Colitis','Atherosclerosis',\n",
    "               'Osteochondrodysplasias','Arthritis','Asthma','Diabetes Mellitus','Alopecia','Alzheimer\\'s Disease']\n",
    "\n",
    "disgenet_focal = disgenet_df[disgenet_df['diseaseName'].isin(disease_list)]\n",
    "print(len(disgenet_focal))\n",
    "\n",
    "\n",
    "focal_disease='Alopecia'\n",
    "focal_genes = disgenet_focal[disgenet_focal['diseaseName']==focal_disease]['geneSymbol'].tolist()\n",
    "print(len(focal_genes))\n",
    "print(focal_genes[0:5])\n",
    "\n",
    "print(len(np.unique(np.intersect1d(G_pcnet.nodes(),focal_genes))))\n"
   ]
  },
  {
   "cell_type": "code",
   "execution_count": 143,
   "metadata": {},
   "outputs": [],
   "source": [
    "# focal_disease='CHD'\n",
    "# focal_genes = CHD_HC"
   ]
  },
  {
   "cell_type": "markdown",
   "metadata": {},
   "source": [
    "# Check network localization of focal disease"
   ]
  },
  {
   "cell_type": "code",
   "execution_count": 6,
   "metadata": {},
   "outputs": [],
   "source": [
    "# import network localization methods\n",
    "\n",
    "sys.path.append('../final_notebooks_190703/source/')\n",
    "import network_localization"
   ]
  },
  {
   "cell_type": "code",
   "execution_count": 120,
   "metadata": {},
   "outputs": [
    {
     "name": "stdout",
     "output_type": "stream",
     "text": [
      "19781\n",
      "2724724\n"
     ]
    }
   ],
   "source": [
    "# Load pcnet\n",
    "G_pcnet = nx.read_gpickle('/Users/brin/Documents/CCBB_tickets_data/PCnet/G_PCnet.gpickle')\n",
    "print(len(G_pcnet.nodes()))\n",
    "print(len(G_pcnet.edges()))"
   ]
  },
  {
   "cell_type": "code",
   "execution_count": 144,
   "metadata": {},
   "outputs": [
    {
     "name": "stdout",
     "output_type": "stream",
     "text": [
      "90\n"
     ]
    }
   ],
   "source": [
    "print(len(np.unique(np.intersect1d(G_pcnet.nodes(),focal_genes))))"
   ]
  },
  {
   "cell_type": "code",
   "execution_count": 145,
   "metadata": {},
   "outputs": [
    {
     "name": "stdout",
     "output_type": "stream",
     "text": [
      "0\n",
      "25\n",
      "50\n",
      "75\n"
     ]
    }
   ],
   "source": [
    "# set numreps to 5000 for full run\n",
    "\n",
    "num_reps=100\n",
    "focal_numedges_list, focal_numedges_rand, focal_LCC_list, focal_LCC_size_rand = network_localization.localization(G_pcnet,\n",
    "                                                                     focal_genes = focal_genes,\n",
    "                                                                     num_reps = num_reps, \n",
    "                                                                     sample_frac = 0.8, \n",
    "                                                                     method = 'both', \n",
    "                                                                     plot = False,print_counter=True)"
   ]
  },
  {
   "cell_type": "code",
   "execution_count": 146,
   "metadata": {},
   "outputs": [
    {
     "name": "stdout",
     "output_type": "stream",
     "text": [
      "0.003284377187769194\n",
      "Ks_2sampResult(statistic=0.97, pvalue=7.186545667411268e-43)\n"
     ]
    },
    {
     "data": {
      "image/png": "[encoded data removed]",
      "text/plain": [
       "<matplotlib.figure.Figure at 0x1223ba810>"
      ]
     },
     "metadata": {},
     "output_type": "display_data"
    }
   ],
   "source": [
    "sns.set_style('white')\n",
    "sns.distplot(focal_numedges_list,color='r',label=focal_disease+' genes')\n",
    "sns.distplot(focal_numedges_rand,color='k',label='random')\n",
    "plt.legend(loc='best',fontsize=12)\n",
    "plt.ylabel('frequency',fontsize=16)\n",
    "plt.xlabel('number edges connecting seeds',fontsize=16)\n",
    "\n",
    "# print the z-score and fdr\n",
    "focal_LCC_z = (np.mean(focal_LCC_list)-np.mean(focal_LCC_size_rand))/np.std(focal_LCC_size_rand)\n",
    "\n",
    "from scipy.special import ndtr\n",
    "print(1-ndtr(focal_LCC_z))\n",
    "\n",
    "from scipy.stats import ks_2samp\n",
    "print(ks_2samp(focal_LCC_list,focal_LCC_size_rand))\n",
    "# plt.savefig('localization_figures/'+focal_disease+'_numedges.png',dpi=300,bbox_inches='tight')"
   ]
  },
  {
   "cell_type": "code",
   "execution_count": 147,
   "metadata": {},
   "outputs": [
    {
     "name": "stdout",
     "output_type": "stream",
     "text": [
      "65\n",
      "66\n"
     ]
    }
   ],
   "source": [
    "ASD_HC = pd.read_csv('../../data/ASD_HC.txt',names=['HC_genes'])\n",
    "\n",
    "ASD_HC = ASD_HC['HC_genes'].tolist()\n",
    "print(len(ASD_HC))\n",
    "\n",
    "\n",
    "CHD_HC = pd.read_csv('../../data/CHD_HC_new.txt',names=['HC_genes'])\n",
    "CHD_HC = CHD_HC['HC_genes'].tolist()\n",
    "print(len(CHD_HC))"
   ]
  },
  {
   "cell_type": "code",
   "execution_count": 148,
   "metadata": {},
   "outputs": [
    {
     "name": "stdout",
     "output_type": "stream",
     "text": [
      "0\n",
      "1\n"
     ]
    }
   ],
   "source": [
    "print(len(np.intersect1d(ASD_HC,focal_genes)))\n",
    "print(len(np.intersect1d(CHD_HC,focal_genes)))"
   ]
  },
  {
   "cell_type": "code",
   "execution_count": 149,
   "metadata": {},
   "outputs": [
    {
     "name": "stdout",
     "output_type": "stream",
     "text": [
      "['ADA', 'AFA1', 'LPAR6', 'ZMPSTE24', 'EBP', 'GJB6', 'EDAR', 'ABCC2', 'COL3A1', 'COL7A1', 'CRH', 'PARP1', 'CTLA4', 'DKC1', 'DSP', 'ECM1', 'FGFR1', 'BRD4', 'ALOX12B', 'ABCA12', 'PTPN22', 'TINF2', 'GJA1', 'GJB2', 'GJB3', 'GNA11', 'HFE', 'HLA-DRA', 'HLCS', 'AIRE', 'HRAS', 'IL2RA', 'IL2RG', 'IL7R', 'AR', 'ITGB6', 'JUP', 'KRAS', 'KRT14', 'KRT81', 'KRT83', 'KRT85', 'KRT86', 'LIG4', 'LMNA', 'MTHFR', 'NRAS', 'PARN', 'ABHD5', 'MBTPS2', 'PEX7', 'PKP1', 'SOX18', 'RIN2', 'ATR', 'ZDHHC13', 'RBM28', 'SLC39A4', 'CHD7', 'PRKACA', 'HR', 'HTRA1', 'NECTIN1', 'RAG1', 'RAG2', 'RMRP', 'RPL21', 'BCS1L', 'SNRPE', 'SRD5A2', 'SUPV3L1', 'BTD', 'TERC', 'TERT', 'TGM1', 'TNFRSF1B', 'UROD', 'UROS', 'VDR', 'ZFP36', 'ALMS1', 'FOXN1', 'CASR', 'OFD1', 'IKBKG', 'TP63', 'TNFRSF10A', 'ACVR1', 'CLDN1', 'CD28', 'RECQL4']\n"
     ]
    }
   ],
   "source": [
    "print(focal_genes)"
   ]
  },
  {
   "cell_type": "code",
   "execution_count": 86,
   "metadata": {},
   "outputs": [],
   "source": [
    "# pd.Series(nx.degree(G_pcnet,focal_genes)).sort_values(ascending=False)"
   ]
  },
  {
   "cell_type": "markdown",
   "metadata": {},
   "source": [
    "# Save out gene sets for zscore calculation on AWS"
   ]
  },
  {
   "cell_type": "code",
   "execution_count": 150,
   "metadata": {},
   "outputs": [],
   "source": [
    "# write out seed genes for AWS processing\n",
    "\n",
    "pd.DataFrame({'seed_genes':[focal_genes]}).to_csv(focal_disease+'_seed_genes_191030.tsv',sep='\\t')\n"
   ]
  },
  {
   "cell_type": "code",
   "execution_count": null,
   "metadata": {},
   "outputs": [],
   "source": []
  },
  {
   "cell_type": "code",
   "execution_count": null,
   "metadata": {},
   "outputs": [],
   "source": []
  },
  {
   "cell_type": "markdown",
   "metadata": {},
   "source": [
    "# try sampling randomly to find gene sets with similar localization to seed sets"
   ]
  },
  {
   "cell_type": "code",
   "execution_count": 10,
   "metadata": {},
   "outputs": [
    {
     "data": {
      "text/plain": [
       "563"
      ]
     },
     "execution_count": 10,
     "metadata": {},
     "output_type": "execute_result"
    }
   ],
   "source": []
  },
  {
   "cell_type": "code",
   "execution_count": 16,
   "metadata": {},
   "outputs": [
    {
     "data": {
      "text/plain": [
       "754"
      ]
     },
     "execution_count": 16,
     "metadata": {},
     "output_type": "execute_result"
    }
   ],
   "source": [
    "bins = network_localization.get_degree_binning(G_pcnet,10)\n",
    "min_degree, max_degree, genes_binned = zip(*bins)\n",
    "bin_df = pd.DataFrame({'min_degree':min_degree, 'max_degree':max_degree, 'genes_binned':genes_binned})\n",
    "# create a lookup table for degree and index\n",
    "actual_degree_to_bin_df_idx = {}\n",
    "for i in range(0, bin_df['max_degree'].max() + 1):\n",
    "    idx_temp = bin_df[ (bin_df['min_degree'].lt(i + 1)) & (bin_df['max_degree'].gt(i - 1)) ].index.tolist()\n",
    "\n",
    "    if len(idx_temp) > 0: # there are some degrees which aren't represented in the graph\n",
    "        actual_degree_to_bin_df_idx[i] = idx_temp[0]\n",
    "len(bins)"
   ]
  },
  {
   "cell_type": "code",
   "execution_count": 101,
   "metadata": {},
   "outputs": [
    {
     "name": "stdout",
     "output_type": "stream",
     "text": [
      "67\n",
      "['PSORS11', 'TNIP1', 'CARM1', 'PSORS4', 'TRAF3IP2']\n",
      "67\n",
      "58\n"
     ]
    },
    {
     "data": {
      "text/plain": [
       "319"
      ]
     },
     "execution_count": 101,
     "metadata": {},
     "output_type": "execute_result"
    }
   ],
   "source": [
    "focal_disease='Psoriasis'\n",
    "focal_genes = disgenet_focal[disgenet_focal['diseaseName']==focal_disease]['geneSymbol'].tolist()\n",
    "# focal_genes = CHD_HC\n",
    "print(len(focal_genes))\n",
    "print(focal_genes[0:5])\n",
    "print(len(focal_genes))\n",
    "focal_genes = list(np.intersect1d(focal_genes,G_pcnet.nodes()))\n",
    "print(len(focal_genes))\n",
    "\n",
    "num_focal_edges = len(nx.subgraph(G_pcnet,focal_genes).edges())\n",
    "num_focal_edges"
   ]
  },
  {
   "cell_type": "code",
   "execution_count": 37,
   "metadata": {},
   "outputs": [
    {
     "name": "stdout",
     "output_type": "stream",
     "text": [
      "210\n"
     ]
    }
   ],
   "source": [
    "# find genes with similar degrees to focal gene degree\n",
    "rand_num_edges_list = []\n",
    "for r in np.arange(1,1000):\n",
    "    seed_random = []\n",
    "    for g in focal_genes:\n",
    "        degree_temp = nx.degree(G_pcnet,g)\n",
    "        genes_temp = bin_df.loc[actual_degree_to_bin_df_idx[degree_temp]]['genes_binned'] # use the lookup table for speed\n",
    "        np.random.shuffle(genes_temp) # shuffle them\n",
    "        seed_random.append(genes_temp[0]) # build the seed_D1_random list\n",
    "    rand_num_edges_list.append(len(nx.subgraph(G_pcnet,seed_random).edges()))\n",
    "    \n",
    "print(max(rand_num_edges_list))"
   ]
  },
  {
   "cell_type": "code",
   "execution_count": 98,
   "metadata": {
    "scrolled": true
   },
   "outputs": [
    {
     "name": "stdout",
     "output_type": "stream",
     "text": [
      "110\n",
      "0\n",
      "110\n",
      "100\n",
      "171\n",
      "200\n",
      "195\n",
      "300\n",
      "218\n",
      "400\n",
      "242\n",
      "500\n",
      "255\n",
      "600\n",
      "270\n",
      "700\n",
      "292\n",
      "800\n",
      "313\n"
     ]
    }
   ],
   "source": [
    "# probably going to have to implement some preferential attachment scheme\n",
    "seed_random = []\n",
    "for g in focal_genes:\n",
    "    degree_temp = nx.degree(G_pcnet,g)\n",
    "    genes_temp = bin_df.loc[actual_degree_to_bin_df_idx[degree_temp]]['genes_binned'] # use the lookup table for speed\n",
    "    np.random.shuffle(genes_temp) # shuffle them\n",
    "    seed_random.append(genes_temp[0]) # build the seed_D1_random list\n",
    "\n",
    "prev_num_edges = len(nx.subgraph(G_pcnet,seed_random).edges())\n",
    "print(prev_num_edges)\n",
    "# pick a gene at random and replace it, if the number of edges increases, keep it, otherwise, don't keep\n",
    "counter=-1\n",
    "while (prev_num_edges < num_focal_edges):\n",
    "    counter+=1\n",
    "    if (counter%100)==0:\n",
    "        print(counter)\n",
    "        print(prev_num_edges)\n",
    "    np.random.shuffle(seed_random)\n",
    "    replace_gene = seed_random[0]\n",
    "    deg_replace_gene = nx.degree(G_pcnet,replace_gene)\n",
    "    replace_bin = actual_degree_to_bin_df_idx[deg_replace_gene]\n",
    "    genes_temp = bin_df.loc[replace_bin]['genes_binned'] # use the lookup table for speed\n",
    "    np.random.shuffle(genes_temp) # shuffle them\n",
    "    #print(seed_random[0])\n",
    "    seed_random_new=seed_random[:]\n",
    "    seed_random_new[0]=genes_temp[0]\n",
    "    #print(seed_random_new[0])\n",
    "    new_num_edges = len(nx.subgraph(G_pcnet,seed_random_new).edges())\n",
    "    #print(new_num_edges)\n",
    "    if new_num_edges>prev_num_edges:\n",
    "        prev_num_edges=new_num_edges\n",
    "        seed_random = seed_random_new[:]\n",
    "    \n"
   ]
  },
  {
   "cell_type": "code",
   "execution_count": 99,
   "metadata": {},
   "outputs": [
    {
     "name": "stdout",
     "output_type": "stream",
     "text": [
      "0\n"
     ]
    }
   ],
   "source": [
    "print(len(np.intersect1d(seed_random,focal_genes)))"
   ]
  },
  {
   "cell_type": "code",
   "execution_count": 54,
   "metadata": {},
   "outputs": [
    {
     "data": {
      "text/plain": [
       "269"
      ]
     },
     "execution_count": 54,
     "metadata": {},
     "output_type": "execute_result"
    }
   ],
   "source": [
    "nx.degree(G_pcnet,'POU3F2')"
   ]
  },
  {
   "cell_type": "code",
   "execution_count": null,
   "metadata": {},
   "outputs": [],
   "source": []
  }
 ],
 "metadata": {
  "kernelspec": {
   "display_name": "Python 2",
   "language": "python",
   "name": "python2"
  },
  "language_info": {
   "codemirror_mode": {
    "name": "ipython",
    "version": 2
   },
   "file_extension": ".py",
   "mimetype": "text/x-python",
   "name": "python",
   "nbconvert_exporter": "python",
   "pygments_lexer": "ipython2",
   "version": "2.7.16"
  }
 },
 "nbformat": 4,
 "nbformat_minor": 2
}
