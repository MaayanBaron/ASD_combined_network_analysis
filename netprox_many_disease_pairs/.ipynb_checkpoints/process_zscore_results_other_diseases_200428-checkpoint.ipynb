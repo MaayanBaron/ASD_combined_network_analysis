{
 "cells": [
  {
   "cell_type": "markdown",
   "metadata": {},
   "source": [
    "# Process the zscore results from the 5 diseases\n",
    "\n",
    "\n",
    "For figure 2f"
   ]
  },
  {
   "cell_type": "code",
   "execution_count": 1,
   "metadata": {},
   "outputs": [],
   "source": [
    "import matplotlib.pyplot as plt\n",
    "import pandas as pd\n",
    "import numpy as np\n",
    "import networkx as nx\n",
    "import seaborn as sns\n",
    "\n",
    "from IPython.display import display\n",
    "\n",
    "# latex rendering of text in graphs\n",
    "import matplotlib as mpl\n",
    "mpl.rc('text', usetex = False)\n",
    "mpl.rc('font', family = 'sans-serif')\n",
    "from matplotlib import rcParams\n",
    "rcParams['font.family'] = 'sans-serif'\n",
    "rcParams['font.sans-serif'] = ['Arial']\n",
    "\n",
    "% matplotlib inline\n"
   ]
  },
  {
   "cell_type": "code",
   "execution_count": 2,
   "metadata": {},
   "outputs": [],
   "source": [
    "import sys\n",
    "sys.path.append('/Users/brinrosenthal/Google Drive/UCSD/cluster_code/pyvenn-master/')\n",
    "import venn"
   ]
  },
  {
   "cell_type": "markdown",
   "metadata": {},
   "source": [
    "# Load the PCnet interactome\n"
   ]
  },
  {
   "cell_type": "code",
   "execution_count": 3,
   "metadata": {},
   "outputs": [],
   "source": [
    "path_to_pcnet='/Users/brinrosenthal/Documents/CCBB_tickets_data/PCnet/G_PCnet.gpickle'\n",
    "path_to_ASD_HC= '../../../data/ASD_HC.txt'\n",
    "path_to_CHD_HC='../../../data/CHD_HC_new.txt'"
   ]
  },
  {
   "cell_type": "code",
   "execution_count": null,
   "metadata": {},
   "outputs": [],
   "source": []
  },
  {
   "cell_type": "code",
   "execution_count": 4,
   "metadata": {},
   "outputs": [
    {
     "name": "stdout",
     "output_type": "stream",
     "text": [
      "19781\n",
      "2724724\n"
     ]
    }
   ],
   "source": [
    "Gint = nx.read_gpickle(path_to_pcnet)\n",
    "print(len(Gint.nodes()))\n",
    "print(len(Gint.edges()))"
   ]
  },
  {
   "cell_type": "markdown",
   "metadata": {},
   "source": [
    "# Load the seed genes"
   ]
  },
  {
   "cell_type": "code",
   "execution_count": 5,
   "metadata": {},
   "outputs": [
    {
     "name": "stdout",
     "output_type": "stream",
     "text": [
      "65\n",
      "66\n"
     ]
    }
   ],
   "source": [
    "ASD_HC = pd.read_csv(path_to_ASD_HC,names=['HC_genes'])\n",
    "\n",
    "ASD_HC = ASD_HC['HC_genes'].tolist()\n",
    "print(len(ASD_HC))\n",
    "\n",
    "\n",
    "CHD_HC = pd.read_csv(path_to_CHD_HC,names=['HC_genes'])\n",
    "CHD_HC = CHD_HC['HC_genes'].tolist()\n",
    "print(len(CHD_HC))"
   ]
  },
  {
   "cell_type": "markdown",
   "metadata": {},
   "source": [
    "# Load the zscore data"
   ]
  },
  {
   "cell_type": "code",
   "execution_count": 9,
   "metadata": {},
   "outputs": [
    {
     "name": "stdout",
     "output_type": "stream",
     "text": [
      "\n",
      "Psoriasis:\n",
      "59\n",
      "19781\n",
      "19722\n",
      "\n",
      "Atherosclerosis:\n",
      "65\n",
      "19781\n",
      "19716\n",
      "\n",
      "Kartagener syndrome:\n",
      "38\n",
      "19781\n",
      "19744\n",
      "\n",
      "ASD GWAS:\n",
      "19744\n"
     ]
    }
   ],
   "source": [
    "\n",
    "num_reps=5000\n",
    "\n",
    "# -------------- ASD and CHD results --------------\n",
    "CHD_z = pd.read_csv('../../z_score_results/new_CHD_cohort/z_CHD_'+str(num_reps)+'_repsPCnet_degree_binning.tsv',sep='\\t',names=['symbol','z'])\n",
    "CHD_z.index=CHD_z['symbol']\n",
    "CHD_z=CHD_z.sort_values('z',ascending=False)\n",
    "\n",
    "ASD_z = pd.read_csv('../../z_score_results/new_CHD_cohort/z_ASD_'+str(num_reps)+'_repsPCnet_degree_binning.tsv',sep='\\t',names=['symbol','z'])\n",
    "ASD_z.index=ASD_z['symbol']\n",
    "ASD_z=ASD_z.sort_values('z',ascending=False)\n",
    "\n",
    "\n",
    "\n",
    "# -------------- DISGENET results --------------\n",
    "print('\\nPsoriasis:')\n",
    "psoriasis_z = pd.read_csv('z_score_results/z_Psoriasis_5000_reps_degree_binning.tsv',sep='\\t',names=['symbol','z'])\n",
    "psoriasis_z.index=psoriasis_z['symbol']\n",
    "psoriasis_z=psoriasis_z.sort_values('z',ascending=False)\n",
    "seed_genes_temp = pd.read_csv('Psoriasis_seed_genes_200420.tsv',sep='\\t',index_col='Unnamed: 0')\n",
    "seed_genes_temp = [str(g[1:-1]).strip(\"'\") for g in seed_genes_temp['seed_genes'].tolist()[0][1:-1].split(', ')]\n",
    "print(len(seed_genes_temp))\n",
    "print(len(psoriasis_z))\n",
    "psoriasis_z=psoriasis_z.loc[list(np.setdiff1d(psoriasis_z.index.tolist(),seed_genes_temp))]\n",
    "print(len(psoriasis_z))\n",
    "\n",
    "\n",
    "print('\\nAtherosclerosis:')\n",
    "atherosclerosis_z = pd.read_csv('z_score_results/z_Atherosclerosis_5000_reps_degree_binning.tsv',sep='\\t',names=['symbol','z'])\n",
    "atherosclerosis_z.index=atherosclerosis_z['symbol']\n",
    "atherosclerosis_z=atherosclerosis_z.sort_values('z',ascending=False)\n",
    "# load seed genes and drop them\n",
    "seed_genes_temp = pd.read_csv('Atherosclerosis_seed_genes_200420.tsv',sep='\\t',index_col='Unnamed: 0')\n",
    "seed_genes_temp = [str(g[1:-1]).strip(\"'\") for g in seed_genes_temp['seed_genes'].tolist()[0][1:-1].split(', ')]\n",
    "print(len(seed_genes_temp))\n",
    "print(len(atherosclerosis_z))\n",
    "atherosclerosis_z=atherosclerosis_z.loc[list(np.setdiff1d(atherosclerosis_z.index.tolist(),seed_genes_temp))]\n",
    "print(len(atherosclerosis_z))\n",
    "\n",
    "\n",
    "print('\\nKartagener syndrome:')\n",
    "kartagena_z = pd.read_csv('z_score_results/z_Kartagener_5000_reps_degree_binning.tsv',sep='\\t',names=['symbol','z'])\n",
    "kartagena_z.index=kartagena_z['symbol']\n",
    "kartagena_z=kartagena_z.sort_values('z',ascending=False)\n",
    "# load seed genes and drop them\n",
    "seed_genes_temp = pd.read_csv('Kartagener Syndrome_seed_genes_200420.tsv',sep='\\t',index_col='Unnamed: 0')\n",
    "seed_genes_temp = [str(g[1:-1]).strip(\"'\") for g in seed_genes_temp['seed_genes'].tolist()[0][1:-1].split(', ')]\n",
    "print(len(seed_genes_temp))\n",
    "print(len(kartagena_z))\n",
    "kartagena_z=kartagena_z.loc[list(np.setdiff1d(kartagena_z.index.tolist(),seed_genes_temp))]\n",
    "print(len(kartagena_z))\n",
    "\n",
    "\n",
    "# -------------- ASD GWAS results ----------------\n",
    "print('\\nASD GWAS:')\n",
    "ASD_GWAS_z = pd.read_csv('z_score_results/z_ASD_GWAS_PASCAL_PCnet_1000_reps_degree_binning.tsv',sep='\\t',names=['symbol','z'])\n",
    "ASD_GWAS_z.index=ASD_GWAS_z['symbol']\n",
    "ASD_GWAS_z=ASD_GWAS_z.sort_values('z',ascending=False)\n",
    "# load seed genes and drop them\n",
    "# seed_genes_temp = pd.read_csv('Kartagener Syndrome_seed_genes_200420.tsv',sep='\\t',index_col='Unnamed: 0')\n",
    "# seed_genes_temp = [str(g[1:-1]).strip(\"'\") for g in seed_genes_temp['seed_genes'].tolist()[0][1:-1].split(', ')]\n",
    "# print(len(seed_genes_temp))\n",
    "ASD_GWAS_z=ASD_GWAS_z.loc[list(np.setdiff1d(ASD_GWAS_z.index.tolist(),seed_genes_temp))]\n",
    "print(len(ASD_GWAS_z))\n"
   ]
  },
  {
   "cell_type": "code",
   "execution_count": null,
   "metadata": {},
   "outputs": [],
   "source": []
  },
  {
   "cell_type": "markdown",
   "metadata": {},
   "source": [
    "# How much do the networks overlap?\n",
    "\n",
    "- Plot the gene overlap in subgraphs"
   ]
  },
  {
   "cell_type": "code",
   "execution_count": 10,
   "metadata": {},
   "outputs": [],
   "source": [
    "# function to return significant digits in exp form\n",
    "def nsf(num, n=1):\n",
    "    \"\"\"n-Significant Figures\"\"\"\n",
    "    numstr = (\"{0:.%ie}\" % (n-1)).format(num)\n",
    "    return float(numstr)\n",
    "\n",
    "def calculate_size_network_overlap(z1,z2,zthresh=3):\n",
    "    z_merged = z1.join(z2['z'],lsuffix='_1',rsuffix='_2')\n",
    "    z_combined = z_merged['z_1']*z_merged['z_2']*(z_merged['z_1']>0)*(z_merged['z_2']>0)\n",
    "    high_z_genes = z_combined[z_combined>zthresh].index.tolist()\n",
    "    \n",
    "    return(len(high_z_genes))\n",
    "\n",
    "def calculate_expected_overlap(d1,d2,z1,z2,plot=False,zthresh=4,numreps=1000):\n",
    "\n",
    "    z_d1d2_size=calculate_size_network_overlap(z1,z2,zthresh=zthresh)\n",
    "\n",
    "    high_z_rand = []\n",
    "    for r in np.arange(numreps):\n",
    "        # use permutation shuffling method instead of Fnew comparison\n",
    "        d1_shuf_genes = z1.index.tolist()\n",
    "        np.random.shuffle(d1_shuf_genes)\n",
    "        d1_shuf=z1[:]\n",
    "        d1_shuf.index=d1_shuf_genes\n",
    "\n",
    "        d2_shuf_genes = z2.index.tolist()\n",
    "        np.random.shuffle(d2_shuf_genes)\n",
    "        d2_shuf=z2[:]\n",
    "        d2_shuf.index=d2_shuf_genes\n",
    "\n",
    "        high_z_temp = calculate_size_network_overlap(d1_shuf,d2_shuf,zthresh=zthresh)\n",
    "        high_z_rand.append(high_z_temp)\n",
    "\n",
    "    if plot==True:\n",
    "        sns.distplot(high_z_rand,label='expected network intersection size')\n",
    "        plt.plot([z_d1d2_size,z_d1d2_size],[0,0.015],label='observed '+d1+'-'+d2+' network intersection size')\n",
    "        plt.xlabel('size of proximal subgraph, z>'+str(zthresh),fontsize=16)\n",
    "        plt.legend(fontsize=12)\n",
    "    return z_d1d2_size,high_z_rand"
   ]
  },
  {
   "cell_type": "code",
   "execution_count": null,
   "metadata": {},
   "outputs": [],
   "source": []
  },
  {
   "cell_type": "code",
   "execution_count": 110,
   "metadata": {},
   "outputs": [
    {
     "name": "stdout",
     "output_type": "stream",
     "text": [
      "psoriasis + atherosclerosis\n",
      "1535\n",
      "2.8477079197818305\n",
      "0.0\n",
      "psoriasis + kartagener\n",
      "110\n",
      "0.42650537009034156\n",
      "1.0\n",
      "psoriasis + CHD\n",
      "353\n",
      "0.934431002991238\n",
      "0.9446427671483526\n",
      "psoriasis + ASD\n",
      "222\n",
      "0.5270029673590505\n",
      "1.0\n",
      "psoriasis + ASD_GWAS\n",
      "209\n",
      "0.7292139143784236\n",
      "0.9999999536263021\n",
      "atherosclerosis + kartagener\n",
      "134\n",
      "0.3786166365280289\n",
      "1.0\n",
      "atherosclerosis + CHD\n",
      "558\n",
      "1.0468453933174493\n",
      "0.08566242122499107\n",
      "atherosclerosis + ASD\n",
      "257\n",
      "0.45201118595775364\n",
      "1.0\n",
      "atherosclerosis + ASD_GWAS\n",
      "325\n",
      "0.8363140423560896\n",
      "0.9999839711779019\n",
      "kartagener + CHD\n",
      "188\n",
      "0.7601180608903084\n",
      "0.9999791680041797\n",
      "kartagener + ASD\n",
      "290\n",
      "1.0589738908161401\n",
      "0.15585157192258736\n",
      "kartagener + ASD_GWAS\n",
      "189\n",
      "0.9924906789896549\n",
      "0.5412436834900727\n",
      "CHD + ASD\n",
      "844\n",
      "2.08498023715415\n",
      "2.3498728330208005e-163\n",
      "CHD + ASD_GWAS\n",
      "433\n",
      "1.5316590024761232\n",
      "7.255074843855695e-27\n",
      "ASD + ASD_GWAS\n",
      "487\n",
      "1.5793228693734596\n",
      "1.3323362929282864e-27\n"
     ]
    }
   ],
   "source": [
    "from scipy.stats import hypergeom\n",
    "from scipy.stats import norm\n",
    "\n",
    "z_dict = {'psoriasis':psoriasis_z,'atherosclerosis':atherosclerosis_z,'kartagener':kartagena_z,\n",
    "          'CHD':CHD_z,'ASD':ASD_z,'ASD_GWAS':ASD_GWAS_z}\n",
    "\n",
    "# save the num overlap and overlap p-val in dataframes\n",
    "\n",
    "focal_diseases = ['psoriasis','atherosclerosis','kartagener','CHD','ASD','ASD_GWAS']\n",
    "\n",
    "network_num_overlap = pd.DataFrame(np.zeros((len(focal_diseases),len(focal_diseases))),index=focal_diseases)\n",
    "network_num_overlap.columns = focal_diseases\n",
    "\n",
    "network_obs_exp = pd.DataFrame(np.zeros((len(focal_diseases),len(focal_diseases))),index=focal_diseases)\n",
    "network_obs_exp.columns = focal_diseases\n",
    "\n",
    "network_pval_overlap = pd.DataFrame(np.ones((len(focal_diseases),len(focal_diseases))),index=focal_diseases)\n",
    "network_pval_overlap.columns = focal_diseases\n",
    "\n",
    "network_exp_mean_overlap = pd.DataFrame(np.ones((len(focal_diseases),len(focal_diseases))),index=focal_diseases)\n",
    "network_exp_mean_overlap.columns = focal_diseases\n",
    "\n",
    "network_exp_std_overlap = pd.DataFrame(np.ones((len(focal_diseases),len(focal_diseases))),index=focal_diseases)\n",
    "network_exp_std_overlap.columns = focal_diseases\n",
    "\n",
    "\n",
    "for i in np.arange(len(focal_diseases)-1):\n",
    "    for j in np.arange(1+i,len(focal_diseases)):\n",
    "        d1=focal_diseases[i]\n",
    "        d2=focal_diseases[j]\n",
    "        z1=z_dict[d1]\n",
    "        z2=z_dict[d2]\n",
    "\n",
    "        # replace hypergeometric with permutation empirical p\n",
    "        z_d1d2_size,high_z_rand=calculate_expected_overlap(d1,d2,z1,z2,plot=False,numreps=100,zthresh=3)\n",
    "        ztemp = (z_d1d2_size-np.mean(high_z_rand))/np.std(high_z_rand)\n",
    "        ptemp = norm.sf(ztemp)\n",
    "        print(d1+' + '+d2)\n",
    "        print(z_d1d2_size)\n",
    "        obs_exp_temp = float(z_d1d2_size)/np.mean(high_z_rand)\n",
    "        print(obs_exp_temp)\n",
    "        print(ptemp)\n",
    "        \n",
    "        \n",
    "        network_num_overlap.loc[d1][d2]=z_d1d2_size\n",
    "        network_num_overlap.loc[d2][d1]=z_d1d2_size\n",
    "\n",
    "        network_pval_overlap.loc[d1][d2]=ptemp\n",
    "        network_pval_overlap.loc[d2][d1]=ptemp\n",
    "        \n",
    "        network_obs_exp.loc[d1][d2]=obs_exp_temp\n",
    "        network_obs_exp.loc[d2][d1]=obs_exp_temp\n",
    "        \n",
    "        network_exp_mean_overlap.loc[d1][d2]=np.mean(high_z_rand)\n",
    "        network_exp_mean_overlap.loc[d2][d1]=np.mean(high_z_rand)\n",
    "        \n",
    "        network_exp_std_overlap.loc[d1][d2]=np.std(high_z_rand)\n",
    "        network_exp_std_overlap.loc[d2][d1]=np.std(high_z_rand)\n",
    "        \n",
    "        "
   ]
  },
  {
   "cell_type": "code",
   "execution_count": 12,
   "metadata": {
    "scrolled": false
   },
   "outputs": [
    {
     "data": {
      "text/html": [
       "<div>\n",
       "<style scoped>\n",
       "    .dataframe tbody tr th:only-of-type {\n",
       "        vertical-align: middle;\n",
       "    }\n",
       "\n",
       "    .dataframe tbody tr th {\n",
       "        vertical-align: top;\n",
       "    }\n",
       "\n",
       "    .dataframe thead th {\n",
       "        text-align: right;\n",
       "    }\n",
       "</style>\n",
       "<table border=\"1\" class=\"dataframe\">\n",
       "  <thead>\n",
       "    <tr style=\"text-align: right;\">\n",
       "      <th></th>\n",
       "      <th>psoriasis</th>\n",
       "      <th>atherosclerosis</th>\n",
       "      <th>kartagener</th>\n",
       "      <th>CHD</th>\n",
       "      <th>ASD</th>\n",
       "      <th>ASD_GWAS</th>\n",
       "    </tr>\n",
       "  </thead>\n",
       "  <tbody>\n",
       "    <tr>\n",
       "      <th>psoriasis</th>\n",
       "      <td>0.0</td>\n",
       "      <td>1535.0</td>\n",
       "      <td>110.0</td>\n",
       "      <td>353.0</td>\n",
       "      <td>222.0</td>\n",
       "      <td>209.0</td>\n",
       "    </tr>\n",
       "    <tr>\n",
       "      <th>atherosclerosis</th>\n",
       "      <td>1535.0</td>\n",
       "      <td>0.0</td>\n",
       "      <td>134.0</td>\n",
       "      <td>558.0</td>\n",
       "      <td>257.0</td>\n",
       "      <td>325.0</td>\n",
       "    </tr>\n",
       "    <tr>\n",
       "      <th>kartagener</th>\n",
       "      <td>110.0</td>\n",
       "      <td>134.0</td>\n",
       "      <td>0.0</td>\n",
       "      <td>188.0</td>\n",
       "      <td>290.0</td>\n",
       "      <td>189.0</td>\n",
       "    </tr>\n",
       "    <tr>\n",
       "      <th>CHD</th>\n",
       "      <td>353.0</td>\n",
       "      <td>558.0</td>\n",
       "      <td>188.0</td>\n",
       "      <td>0.0</td>\n",
       "      <td>844.0</td>\n",
       "      <td>433.0</td>\n",
       "    </tr>\n",
       "    <tr>\n",
       "      <th>ASD</th>\n",
       "      <td>222.0</td>\n",
       "      <td>257.0</td>\n",
       "      <td>290.0</td>\n",
       "      <td>844.0</td>\n",
       "      <td>0.0</td>\n",
       "      <td>487.0</td>\n",
       "    </tr>\n",
       "    <tr>\n",
       "      <th>ASD_GWAS</th>\n",
       "      <td>209.0</td>\n",
       "      <td>325.0</td>\n",
       "      <td>189.0</td>\n",
       "      <td>433.0</td>\n",
       "      <td>487.0</td>\n",
       "      <td>0.0</td>\n",
       "    </tr>\n",
       "  </tbody>\n",
       "</table>\n",
       "</div>"
      ],
      "text/plain": [
       "                 psoriasis  atherosclerosis  kartagener    CHD    ASD  \\\n",
       "psoriasis              0.0           1535.0       110.0  353.0  222.0   \n",
       "atherosclerosis     1535.0              0.0       134.0  558.0  257.0   \n",
       "kartagener           110.0            134.0         0.0  188.0  290.0   \n",
       "CHD                  353.0            558.0       188.0    0.0  844.0   \n",
       "ASD                  222.0            257.0       290.0  844.0    0.0   \n",
       "ASD_GWAS             209.0            325.0       189.0  433.0  487.0   \n",
       "\n",
       "                 ASD_GWAS  \n",
       "psoriasis           209.0  \n",
       "atherosclerosis     325.0  \n",
       "kartagener          189.0  \n",
       "CHD                 433.0  \n",
       "ASD                 487.0  \n",
       "ASD_GWAS              0.0  "
      ]
     },
     "metadata": {},
     "output_type": "display_data"
    },
    {
     "data": {
      "text/html": [
       "<div>\n",
       "<style scoped>\n",
       "    .dataframe tbody tr th:only-of-type {\n",
       "        vertical-align: middle;\n",
       "    }\n",
       "\n",
       "    .dataframe tbody tr th {\n",
       "        vertical-align: top;\n",
       "    }\n",
       "\n",
       "    .dataframe thead th {\n",
       "        text-align: right;\n",
       "    }\n",
       "</style>\n",
       "<table border=\"1\" class=\"dataframe\">\n",
       "  <thead>\n",
       "    <tr style=\"text-align: right;\">\n",
       "      <th></th>\n",
       "      <th>psoriasis</th>\n",
       "      <th>atherosclerosis</th>\n",
       "      <th>kartagener</th>\n",
       "      <th>CHD</th>\n",
       "      <th>ASD</th>\n",
       "      <th>ASD_GWAS</th>\n",
       "    </tr>\n",
       "  </thead>\n",
       "  <tbody>\n",
       "    <tr>\n",
       "      <th>psoriasis</th>\n",
       "      <td>1.000000</td>\n",
       "      <td>0.000000</td>\n",
       "      <td>1.000000</td>\n",
       "      <td>9.094540e-01</td>\n",
       "      <td>1.000000e+00</td>\n",
       "      <td>1.000000e+00</td>\n",
       "    </tr>\n",
       "    <tr>\n",
       "      <th>atherosclerosis</th>\n",
       "      <td>0.000000</td>\n",
       "      <td>1.000000</td>\n",
       "      <td>1.000000</td>\n",
       "      <td>7.561506e-02</td>\n",
       "      <td>1.000000e+00</td>\n",
       "      <td>9.998998e-01</td>\n",
       "    </tr>\n",
       "    <tr>\n",
       "      <th>kartagener</th>\n",
       "      <td>1.000000</td>\n",
       "      <td>1.000000</td>\n",
       "      <td>1.000000</td>\n",
       "      <td>9.999959e-01</td>\n",
       "      <td>1.394892e-01</td>\n",
       "      <td>5.492433e-01</td>\n",
       "    </tr>\n",
       "    <tr>\n",
       "      <th>CHD</th>\n",
       "      <td>0.909454</td>\n",
       "      <td>0.075615</td>\n",
       "      <td>0.999996</td>\n",
       "      <td>1.000000e+00</td>\n",
       "      <td>1.236402e-125</td>\n",
       "      <td>3.325552e-26</td>\n",
       "    </tr>\n",
       "    <tr>\n",
       "      <th>ASD</th>\n",
       "      <td>1.000000</td>\n",
       "      <td>1.000000</td>\n",
       "      <td>0.139489</td>\n",
       "      <td>1.236402e-125</td>\n",
       "      <td>1.000000e+00</td>\n",
       "      <td>3.262784e-35</td>\n",
       "    </tr>\n",
       "    <tr>\n",
       "      <th>ASD_GWAS</th>\n",
       "      <td>1.000000</td>\n",
       "      <td>0.999900</td>\n",
       "      <td>0.549243</td>\n",
       "      <td>3.325552e-26</td>\n",
       "      <td>3.262784e-35</td>\n",
       "      <td>1.000000e+00</td>\n",
       "    </tr>\n",
       "  </tbody>\n",
       "</table>\n",
       "</div>"
      ],
      "text/plain": [
       "                 psoriasis  atherosclerosis  kartagener            CHD  \\\n",
       "psoriasis         1.000000         0.000000    1.000000   9.094540e-01   \n",
       "atherosclerosis   0.000000         1.000000    1.000000   7.561506e-02   \n",
       "kartagener        1.000000         1.000000    1.000000   9.999959e-01   \n",
       "CHD               0.909454         0.075615    0.999996   1.000000e+00   \n",
       "ASD               1.000000         1.000000    0.139489  1.236402e-125   \n",
       "ASD_GWAS          1.000000         0.999900    0.549243   3.325552e-26   \n",
       "\n",
       "                           ASD      ASD_GWAS  \n",
       "psoriasis         1.000000e+00  1.000000e+00  \n",
       "atherosclerosis   1.000000e+00  9.998998e-01  \n",
       "kartagener        1.394892e-01  5.492433e-01  \n",
       "CHD              1.236402e-125  3.325552e-26  \n",
       "ASD               1.000000e+00  3.262784e-35  \n",
       "ASD_GWAS          3.262784e-35  1.000000e+00  "
      ]
     },
     "metadata": {},
     "output_type": "display_data"
    }
   ],
   "source": [
    "# make sure significant overlaps have >0 overlapping genes\n",
    "network_pval_overlap = np.minimum(network_pval_overlap*(network_num_overlap>0)+(network_pval_overlap+1)*(network_num_overlap==0),1)\n",
    "\n",
    "display(network_num_overlap)\n",
    "display(network_pval_overlap)\n",
    "\n",
    "# network_num_overlap.to_csv('network_num_overlap_z'+str(zthresh)+'.tsv',sep='\\t')\n",
    "# (-np.log(network_pval_overlap)).to_csv('network_pval_overlap_z'+str(zthresh)+'_ATH_PSO_KART.tsv',sep='\\t')"
   ]
  },
  {
   "cell_type": "code",
   "execution_count": 144,
   "metadata": {},
   "outputs": [
    {
     "name": "stderr",
     "output_type": "stream",
     "text": [
      "/Users/brinrosenthal/anaconda3/envs/ipykernel_py2/lib/python2.7/site-packages/ipykernel_launcher.py:3: RuntimeWarning: divide by zero encountered in log2\n",
      "  This is separate from the ipykernel package so we can avoid doing imports until\n"
     ]
    },
    {
     "data": {
      "image/png": "[encoded data removed]",
      "text/plain": [
       "<Figure size 216x216 with 2 Axes>"
      ]
     },
     "metadata": {
      "needs_background": "light"
     },
     "output_type": "display_data"
    }
   ],
   "source": [
    "dlist = ['ASD','CHD','ASD_GWAS','kartagener','atherosclerosis','psoriasis']\n",
    "plt.figure(figsize=(3,3))\n",
    "hfig=sns.heatmap(np.log2(network_obs_exp.loc[dlist][dlist]),cmap='RdGy_r',vmin=-1.5,vmax=1.5,square=True,cbar_kws={'label':'log2(obs/exp)\\nnetwork intersection'})\n",
    "\n",
    "plt.xticks(fontsize=11)\n",
    "plt.yticks(fontsize=11)\n",
    "\n",
    "hfig.figure.axes[-1].yaxis.label.set_size(11)\n",
    "plt.savefig('../../../manuscript/figures_1911/Figure2/Figure2_final assets/fold_change_heatmap_network_intersection.png',\n",
    "           dpi=300,bbox_inches='tight')\n",
    "plt.savefig('../../../manuscript/figures_1911/Figure2/Figure2_final assets/fold_change_heatmap_network_intersection.svg',\n",
    "           dpi=300,bbox_inches='tight')"
   ]
  },
  {
   "cell_type": "code",
   "execution_count": 78,
   "metadata": {},
   "outputs": [
    {
     "name": "stderr",
     "output_type": "stream",
     "text": [
      "/Users/brinrosenthal/anaconda3/envs/ipykernel_py2/lib/python2.7/site-packages/ipykernel_launcher.py:1: RuntimeWarning: divide by zero encountered in log2\n",
      "  \"\"\"Entry point for launching an IPython kernel.\n"
     ]
    },
    {
     "data": {
      "text/html": [
       "<div>\n",
       "<style scoped>\n",
       "    .dataframe tbody tr th:only-of-type {\n",
       "        vertical-align: middle;\n",
       "    }\n",
       "\n",
       "    .dataframe tbody tr th {\n",
       "        vertical-align: top;\n",
       "    }\n",
       "\n",
       "    .dataframe thead th {\n",
       "        text-align: right;\n",
       "    }\n",
       "</style>\n",
       "<table border=\"1\" class=\"dataframe\">\n",
       "  <thead>\n",
       "    <tr style=\"text-align: right;\">\n",
       "      <th></th>\n",
       "      <th>psoriasis</th>\n",
       "      <th>atherosclerosis</th>\n",
       "      <th>kartagener</th>\n",
       "      <th>CHD</th>\n",
       "      <th>ASD</th>\n",
       "      <th>ASD_GWAS</th>\n",
       "    </tr>\n",
       "  </thead>\n",
       "  <tbody>\n",
       "    <tr>\n",
       "      <th>psoriasis</th>\n",
       "      <td>inf</td>\n",
       "      <td>-1.520385</td>\n",
       "      <td>1.210842</td>\n",
       "      <td>0.097878</td>\n",
       "      <td>0.905954</td>\n",
       "      <td>0.458804</td>\n",
       "    </tr>\n",
       "    <tr>\n",
       "      <th>atherosclerosis</th>\n",
       "      <td>-1.520385</td>\n",
       "      <td>inf</td>\n",
       "      <td>1.415670</td>\n",
       "      <td>-0.059810</td>\n",
       "      <td>1.142954</td>\n",
       "      <td>0.266544</td>\n",
       "    </tr>\n",
       "    <tr>\n",
       "      <th>kartagener</th>\n",
       "      <td>1.210842</td>\n",
       "      <td>1.415670</td>\n",
       "      <td>inf</td>\n",
       "      <td>0.392025</td>\n",
       "      <td>-0.077566</td>\n",
       "      <td>0.015866</td>\n",
       "    </tr>\n",
       "    <tr>\n",
       "      <th>CHD</th>\n",
       "      <td>0.097878</td>\n",
       "      <td>-0.059810</td>\n",
       "      <td>0.392025</td>\n",
       "      <td>inf</td>\n",
       "      <td>-1.055657</td>\n",
       "      <td>-0.625801</td>\n",
       "    </tr>\n",
       "    <tr>\n",
       "      <th>ASD</th>\n",
       "      <td>0.905954</td>\n",
       "      <td>1.142954</td>\n",
       "      <td>-0.077566</td>\n",
       "      <td>-1.055657</td>\n",
       "      <td>inf</td>\n",
       "      <td>-0.667658</td>\n",
       "    </tr>\n",
       "    <tr>\n",
       "      <th>ASD_GWAS</th>\n",
       "      <td>0.458804</td>\n",
       "      <td>0.266544</td>\n",
       "      <td>0.015866</td>\n",
       "      <td>-0.625801</td>\n",
       "      <td>-0.667658</td>\n",
       "      <td>inf</td>\n",
       "    </tr>\n",
       "  </tbody>\n",
       "</table>\n",
       "</div>"
      ],
      "text/plain": [
       "                 psoriasis  atherosclerosis  kartagener       CHD       ASD  \\\n",
       "psoriasis              inf        -1.520385    1.210842  0.097878  0.905954   \n",
       "atherosclerosis  -1.520385              inf    1.415670 -0.059810  1.142954   \n",
       "kartagener        1.210842         1.415670         inf  0.392025 -0.077566   \n",
       "CHD               0.097878        -0.059810    0.392025       inf -1.055657   \n",
       "ASD               0.905954         1.142954   -0.077566 -1.055657       inf   \n",
       "ASD_GWAS          0.458804         0.266544    0.015866 -0.625801 -0.667658   \n",
       "\n",
       "                 ASD_GWAS  \n",
       "psoriasis        0.458804  \n",
       "atherosclerosis  0.266544  \n",
       "kartagener       0.015866  \n",
       "CHD             -0.625801  \n",
       "ASD             -0.667658  \n",
       "ASD_GWAS              inf  "
      ]
     },
     "execution_count": 78,
     "metadata": {},
     "output_type": "execute_result"
    }
   ],
   "source": [
    "np.log2(network_obs_exp)"
   ]
  },
  {
   "cell_type": "code",
   "execution_count": null,
   "metadata": {},
   "outputs": [],
   "source": []
  },
  {
   "cell_type": "code",
   "execution_count": 73,
   "metadata": {},
   "outputs": [
    {
     "data": {
      "text/plain": [
       "([<matplotlib.axis.XTick at 0x1a2afa47d0>,\n",
       "  <matplotlib.axis.XTick at 0x1a2afa42d0>],\n",
       " <a list of 2 Text xticklabel objects>)"
      ]
     },
     "execution_count": 73,
     "metadata": {},
     "output_type": "execute_result"
    },
    {
     "data": {
      "image/png": "[encoded data removed]",
      "text/plain": [
       "<Figure size 144x216 with 1 Axes>"
      ]
     },
     "metadata": {
      "needs_background": "light"
     },
     "output_type": "display_data"
    }
   ],
   "source": [
    "d1='ASD'\n",
    "d2='CHD'\n",
    "plt.figure(figsize=(2,3))\n",
    "plt.bar([-.1],[network_num_overlap.loc[d1][d2]],width=.19,color='k')\n",
    "plt.bar([.1],[network_exp_mean_overlap.loc[d1][d2]],width=.19,color='gray')\n",
    "plt.errorbar([.1],[network_exp_mean_overlap.loc[d1][d2]],[network_exp_std_overlap.loc[d1][d2]],fmt='.',color='k')\n",
    "\n",
    "plt.yticks(fontsize=12)\n",
    "plt.xticks([-.1,.1],['observed','expected'],rotation='vertical',fontsize=12)\n"
   ]
  },
  {
   "cell_type": "code",
   "execution_count": 64,
   "metadata": {},
   "outputs": [
    {
     "data": {
      "text/html": [
       "<div>\n",
       "<style scoped>\n",
       "    .dataframe tbody tr th:only-of-type {\n",
       "        vertical-align: middle;\n",
       "    }\n",
       "\n",
       "    .dataframe tbody tr th {\n",
       "        vertical-align: top;\n",
       "    }\n",
       "\n",
       "    .dataframe thead th {\n",
       "        text-align: right;\n",
       "    }\n",
       "</style>\n",
       "<table border=\"1\" class=\"dataframe\">\n",
       "  <thead>\n",
       "    <tr style=\"text-align: right;\">\n",
       "      <th></th>\n",
       "      <th>psoriasis</th>\n",
       "      <th>atherosclerosis</th>\n",
       "      <th>kartagener</th>\n",
       "      <th>CHD</th>\n",
       "      <th>ASD</th>\n",
       "      <th>ASD_GWAS</th>\n",
       "    </tr>\n",
       "  </thead>\n",
       "  <tbody>\n",
       "    <tr>\n",
       "      <th>psoriasis</th>\n",
       "      <td>1.000000</td>\n",
       "      <td>20.591306</td>\n",
       "      <td>13.828073</td>\n",
       "      <td>16.328245</td>\n",
       "      <td>18.040499</td>\n",
       "      <td>14.901929</td>\n",
       "    </tr>\n",
       "    <tr>\n",
       "      <th>atherosclerosis</th>\n",
       "      <td>20.591306</td>\n",
       "      <td>1.000000</td>\n",
       "      <td>16.585834</td>\n",
       "      <td>19.455704</td>\n",
       "      <td>19.802737</td>\n",
       "      <td>17.558687</td>\n",
       "    </tr>\n",
       "    <tr>\n",
       "      <th>kartagener</th>\n",
       "      <td>13.828073</td>\n",
       "      <td>16.585834</td>\n",
       "      <td>1.000000</td>\n",
       "      <td>12.828484</td>\n",
       "      <td>13.893437</td>\n",
       "      <td>11.982567</td>\n",
       "    </tr>\n",
       "    <tr>\n",
       "      <th>CHD</th>\n",
       "      <td>16.328245</td>\n",
       "      <td>19.455704</td>\n",
       "      <td>12.828484</td>\n",
       "      <td>1.000000</td>\n",
       "      <td>16.336129</td>\n",
       "      <td>15.176228</td>\n",
       "    </tr>\n",
       "    <tr>\n",
       "      <th>ASD</th>\n",
       "      <td>18.040499</td>\n",
       "      <td>19.802737</td>\n",
       "      <td>13.893437</td>\n",
       "      <td>16.336129</td>\n",
       "      <td>1.000000</td>\n",
       "      <td>17.900380</td>\n",
       "    </tr>\n",
       "    <tr>\n",
       "      <th>ASD_GWAS</th>\n",
       "      <td>14.901929</td>\n",
       "      <td>17.558687</td>\n",
       "      <td>11.982567</td>\n",
       "      <td>15.176228</td>\n",
       "      <td>17.900380</td>\n",
       "      <td>1.000000</td>\n",
       "    </tr>\n",
       "  </tbody>\n",
       "</table>\n",
       "</div>"
      ],
      "text/plain": [
       "                 psoriasis  atherosclerosis  kartagener        CHD        ASD  \\\n",
       "psoriasis         1.000000        20.591306   13.828073  16.328245  18.040499   \n",
       "atherosclerosis  20.591306         1.000000   16.585834  19.455704  19.802737   \n",
       "kartagener       13.828073        16.585834    1.000000  12.828484  13.893437   \n",
       "CHD              16.328245        19.455704   12.828484   1.000000  16.336129   \n",
       "ASD              18.040499        19.802737   13.893437  16.336129   1.000000   \n",
       "ASD_GWAS         14.901929        17.558687   11.982567  15.176228  17.900380   \n",
       "\n",
       "                  ASD_GWAS  \n",
       "psoriasis        14.901929  \n",
       "atherosclerosis  17.558687  \n",
       "kartagener       11.982567  \n",
       "CHD              15.176228  \n",
       "ASD              17.900380  \n",
       "ASD_GWAS          1.000000  "
      ]
     },
     "execution_count": 64,
     "metadata": {},
     "output_type": "execute_result"
    }
   ],
   "source": [
    "network_exp_std_overlap"
   ]
  },
  {
   "cell_type": "code",
   "execution_count": null,
   "metadata": {},
   "outputs": [],
   "source": []
  },
  {
   "cell_type": "code",
   "execution_count": 141,
   "metadata": {},
   "outputs": [
    {
     "data": {
      "image/png": "[encoded data removed]",
      "text/plain": [
       "<Figure size 158.4x158.4 with 1 Axes>"
      ]
     },
     "metadata": {
      "needs_background": "light"
     },
     "output_type": "display_data"
    }
   ],
   "source": [
    "dpairlist=[('ASD','CHD'),('ASD','ASD_GWAS'),('CHD','ASD_GWAS')]\n",
    "\n",
    "obs_temp_list = []\n",
    "exp_temp_list=[]\n",
    "exp_std_list = []\n",
    "xlabel_list=[]\n",
    "high_zrand_list = []\n",
    "for dpair in dpairlist:\n",
    "    d1=dpair[0]\n",
    "    d2=dpair[1]\n",
    "    z1=z_dict[d1]\n",
    "    z2=z_dict[d2]\n",
    "    # run the function again to get the distribution\n",
    "#     z_d1d2_size,high_z_rand=calculate_expected_overlap(d1,d2,z1,z2,plot=False,numreps=100,zthresh=3)\n",
    "#     high_zrand_list.append(high_z_rand)\n",
    "    obs_temp_list.append(network_num_overlap.loc[d1][d2])\n",
    "    exp_temp_list.append(network_exp_mean_overlap.loc[d1][d2])\n",
    "    exp_std_list.append(network_exp_std_overlap.loc[d1][d2])\n",
    "    xlabel_list.append(d1+'-'+d2)\n",
    "    \n",
    "    \n",
    "plt.figure(figsize=(2.2,2.2))\n",
    "plt.bar(np.arange(len(obs_temp_list))-.2,obs_temp_list,width=.38,color='black',label='observed')\n",
    "plt.bar(np.arange(len(exp_temp_list))+.2,exp_temp_list,width=.38,color='gray',label='expected')\n",
    "plt.errorbar(np.arange(len(exp_temp_list))+.2,exp_temp_list,exp_std_list,fmt='none',color='k',capsize=4)\n",
    "# plt.violinplot(high_zrand_list,positions=np.arange(len(exp_temp_list))+.2)\n",
    "plt.ylabel('# network intersection genes',fontsize=11)\n",
    "plt.xticks(np.arange(len(obs_temp_list)),['ASD-CHD','ASD-ASD (GWAS)','CHD-ASD (GWAS)'],fontsize=11,rotation=45,va='top',ha='right')\n",
    "plt.yticks(fontsize=12)\n",
    "plt.legend(loc='upper right',fontsize=11)\n",
    "plt.savefig('../../../manuscript/figures_1911/Figure2/Figure2_final assets/num_net_intersection_genes.png',dpi=300,bbox_inches='tight')\n",
    "plt.savefig('../../../manuscript/figures_1911/Figure2/Figure2_final assets/num_net_intersection_genes.svg',dpi=300,bbox_inches='tight')"
   ]
  },
  {
   "cell_type": "code",
   "execution_count": 116,
   "metadata": {},
   "outputs": [
    {
     "data": {
      "text/plain": [
       "array([0.2, 1.2, 2.2])"
      ]
     },
     "execution_count": 116,
     "metadata": {},
     "output_type": "execute_result"
    }
   ],
   "source": [
    "np.arange(len(exp_temp_list))+.2"
   ]
  },
  {
   "cell_type": "code",
   "execution_count": null,
   "metadata": {},
   "outputs": [],
   "source": []
  },
  {
   "cell_type": "code",
   "execution_count": 118,
   "metadata": {},
   "outputs": [
    {
     "ename": "TypeError",
     "evalue": "violinplot() got an unexpected keyword argument 'color'",
     "output_type": "error",
     "traceback": [
      "\u001b[0;31m---------------------------------------------------------------------------\u001b[0m",
      "\u001b[0;31mTypeError\u001b[0m                                 Traceback (most recent call last)",
      "\u001b[0;32m<ipython-input-118-77f8eacab671>\u001b[0m in \u001b[0;36m<module>\u001b[0;34m()\u001b[0m\n\u001b[0;32m----> 1\u001b[0;31m \u001b[0mplt\u001b[0m\u001b[0;34m.\u001b[0m\u001b[0mviolinplot\u001b[0m\u001b[0;34m(\u001b[0m\u001b[0mhigh_zrand_list\u001b[0m\u001b[0;34m,\u001b[0m\u001b[0mpositions\u001b[0m\u001b[0;34m=\u001b[0m\u001b[0mnp\u001b[0m\u001b[0;34m.\u001b[0m\u001b[0marange\u001b[0m\u001b[0;34m(\u001b[0m\u001b[0mlen\u001b[0m\u001b[0;34m(\u001b[0m\u001b[0mexp_temp_list\u001b[0m\u001b[0;34m)\u001b[0m\u001b[0;34m)\u001b[0m\u001b[0;34m+\u001b[0m\u001b[0;36m.2\u001b[0m\u001b[0;34m,\u001b[0m\u001b[0mcolor\u001b[0m\u001b[0;34m=\u001b[0m\u001b[0;34m'gray'\u001b[0m\u001b[0;34m)\u001b[0m\u001b[0;34m\u001b[0m\u001b[0m\n\u001b[0m",
      "\u001b[0;31mTypeError\u001b[0m: violinplot() got an unexpected keyword argument 'color'"
     ]
    }
   ],
   "source": [
    "plt.violinplot(high_zrand_list,positions=np.arange(len(exp_temp_list))+.2)"
   ]
  },
  {
   "cell_type": "code",
   "execution_count": null,
   "metadata": {},
   "outputs": [],
   "source": []
  },
  {
   "cell_type": "code",
   "execution_count": 71,
   "metadata": {},
   "outputs": [
    {
     "data": {
      "text/plain": [
       "(array([0.  , 0.25, 0.5 , 0.75, 1.  , 1.25, 1.5 , 1.75, 2.  , 2.25]),\n",
       " <a list of 10 Text yticklabel objects>)"
      ]
     },
     "execution_count": 71,
     "metadata": {},
     "output_type": "execute_result"
    },
    {
     "data": {
      "image/png": "[encoded data removed]",
      "text/plain": [
       "<Figure size 432x288 with 1 Axes>"
      ]
     },
     "metadata": {
      "needs_background": "light"
     },
     "output_type": "display_data"
    }
   ],
   "source": [
    "dpairlist=[('ASD','CHD'),('ASD','ASD_GWAS'),\n",
    "          ('ASD','kartagener'),('ASD','atherosclerosis'),('ASD','psoriasis')]\n",
    "\n",
    "obs_temp_list = []\n",
    "obs_exp_temp_list = []\n",
    "exp_temp_list=[]\n",
    "exp_std_list = []\n",
    "xlabel_list=[]\n",
    "for dpair in dpairlist:\n",
    "    d1=dpair[0]\n",
    "    d2=dpair[1]\n",
    "    obs_temp_list.append(network_num_overlap.loc[d1][d2])\n",
    "    exp_temp_list.append(network_exp_mean_overlap.loc[d1][d2])\n",
    "    exp_std_list.append(network_exp_std_overlap.loc[d1][d2])\n",
    "    obs_exp_temp_list.append(network_obs_exp.loc[d1][d2])\n",
    "    xlabel_list.append(d1+'-'+d2)\n",
    "    \n",
    "plt.bar(np.arange(len(obs_exp_temp_list)),obs_exp_temp_list,width=.39,color='black',label='observed')\n",
    "plt.plot([-.2,len(obs_exp_temp_list)-.8],[1,1],'--',color='gray')\n",
    "# plt.bar(np.arange(len(exp_temp_list))+.2,exp_temp_list,width=.39,color='gray',label='expected')\n",
    "# plt.errorbar(np.arange(len(exp_temp_list))+.2,exp_temp_list,exp_std_list,fmt='.',color='k')\n",
    "plt.ylabel('observed/expected network intersection size',fontsize=12)\n",
    "plt.xticks(np.arange(len(obs_temp_list)),xlabel_list,fontsize=12,rotation='vertical')\n",
    "plt.yticks(fontsize=12)"
   ]
  },
  {
   "cell_type": "code",
   "execution_count": null,
   "metadata": {},
   "outputs": [],
   "source": []
  },
  {
   "cell_type": "code",
   "execution_count": null,
   "metadata": {},
   "outputs": [],
   "source": []
  },
  {
   "cell_type": "code",
   "execution_count": 13,
   "metadata": {},
   "outputs": [
    {
     "name": "stderr",
     "output_type": "stream",
     "text": [
      "/Users/brinrosenthal/anaconda3/envs/ipykernel_py2/lib/python2.7/site-packages/ipykernel_launcher.py:17: RuntimeWarning: divide by zero encountered in log\n",
      "/Users/brinrosenthal/anaconda3/envs/ipykernel_py2/lib/python2.7/site-packages/pandas/core/frame.py:6692: FutureWarning: Sorting because non-concatenation axis is not aligned. A future version\n",
      "of pandas will change to not sort by default.\n",
      "\n",
      "To accept the future behavior, pass 'sort=False'.\n",
      "\n",
      "To retain the current behavior and silence the warning, pass 'sort=True'.\n",
      "\n",
      "  sort=sort)\n"
     ]
    },
    {
     "data": {
      "text/html": [
       "<div>\n",
       "<style scoped>\n",
       "    .dataframe tbody tr th:only-of-type {\n",
       "        vertical-align: middle;\n",
       "    }\n",
       "\n",
       "    .dataframe tbody tr th {\n",
       "        vertical-align: top;\n",
       "    }\n",
       "\n",
       "    .dataframe thead th {\n",
       "        text-align: right;\n",
       "    }\n",
       "</style>\n",
       "<table border=\"1\" class=\"dataframe\">\n",
       "  <thead>\n",
       "    <tr style=\"text-align: right;\">\n",
       "      <th></th>\n",
       "      <th>d1</th>\n",
       "      <th>d2</th>\n",
       "      <th>edge_label</th>\n",
       "      <th>neg_logP_shared_network</th>\n",
       "      <th>num_shared_network</th>\n",
       "      <th>obs_exp</th>\n",
       "    </tr>\n",
       "  </thead>\n",
       "  <tbody>\n",
       "    <tr>\n",
       "      <th>0</th>\n",
       "      <td>psoriasis</td>\n",
       "      <td>atherosclerosis</td>\n",
       "      <td>0.0</td>\n",
       "      <td>inf</td>\n",
       "      <td>1535.0</td>\n",
       "      <td>2.847549</td>\n",
       "    </tr>\n",
       "    <tr>\n",
       "      <th>1</th>\n",
       "      <td>psoriasis</td>\n",
       "      <td>kartagener</td>\n",
       "      <td>1.0</td>\n",
       "      <td>-0.000000</td>\n",
       "      <td>110.0</td>\n",
       "      <td>0.429721</td>\n",
       "    </tr>\n",
       "    <tr>\n",
       "      <th>2</th>\n",
       "      <td>psoriasis</td>\n",
       "      <td>CHD</td>\n",
       "      <td>0.96</td>\n",
       "      <td>0.045115</td>\n",
       "      <td>353.0</td>\n",
       "      <td>0.927922</td>\n",
       "    </tr>\n",
       "    <tr>\n",
       "      <th>3</th>\n",
       "      <td>psoriasis</td>\n",
       "      <td>ASD</td>\n",
       "      <td>1.0</td>\n",
       "      <td>-0.000000</td>\n",
       "      <td>222.0</td>\n",
       "      <td>0.529454</td>\n",
       "    </tr>\n",
       "    <tr>\n",
       "      <th>4</th>\n",
       "      <td>atherosclerosis</td>\n",
       "      <td>kartagener</td>\n",
       "      <td>1.0</td>\n",
       "      <td>-0.000000</td>\n",
       "      <td>134.0</td>\n",
       "      <td>0.374574</td>\n",
       "    </tr>\n",
       "    <tr>\n",
       "      <th>5</th>\n",
       "      <td>atherosclerosis</td>\n",
       "      <td>CHD</td>\n",
       "      <td>0.076</td>\n",
       "      <td>2.579094</td>\n",
       "      <td>558.0</td>\n",
       "      <td>1.045845</td>\n",
       "    </tr>\n",
       "    <tr>\n",
       "      <th>6</th>\n",
       "      <td>atherosclerosis</td>\n",
       "      <td>ASD</td>\n",
       "      <td>1.0</td>\n",
       "      <td>-0.000000</td>\n",
       "      <td>257.0</td>\n",
       "      <td>0.450616</td>\n",
       "    </tr>\n",
       "    <tr>\n",
       "      <th>7</th>\n",
       "      <td>kartagener</td>\n",
       "      <td>CHD</td>\n",
       "      <td>1.0</td>\n",
       "      <td>0.000007</td>\n",
       "      <td>188.0</td>\n",
       "      <td>0.757210</td>\n",
       "    </tr>\n",
       "    <tr>\n",
       "      <th>8</th>\n",
       "      <td>kartagener</td>\n",
       "      <td>ASD</td>\n",
       "      <td>0.22</td>\n",
       "      <td>1.521685</td>\n",
       "      <td>290.0</td>\n",
       "      <td>1.042153</td>\n",
       "    </tr>\n",
       "    <tr>\n",
       "      <th>9</th>\n",
       "      <td>CHD</td>\n",
       "      <td>ASD</td>\n",
       "      <td>1.2e-162</td>\n",
       "      <td>372.859328</td>\n",
       "      <td>844.0</td>\n",
       "      <td>2.073710</td>\n",
       "    </tr>\n",
       "  </tbody>\n",
       "</table>\n",
       "</div>"
      ],
      "text/plain": [
       "                d1               d2 edge_label  neg_logP_shared_network  \\\n",
       "0        psoriasis  atherosclerosis        0.0                      inf   \n",
       "1        psoriasis       kartagener        1.0                -0.000000   \n",
       "2        psoriasis              CHD       0.96                 0.045115   \n",
       "3        psoriasis              ASD        1.0                -0.000000   \n",
       "4  atherosclerosis       kartagener        1.0                -0.000000   \n",
       "5  atherosclerosis              CHD      0.076                 2.579094   \n",
       "6  atherosclerosis              ASD        1.0                -0.000000   \n",
       "7       kartagener              CHD        1.0                 0.000007   \n",
       "8       kartagener              ASD       0.22                 1.521685   \n",
       "9              CHD              ASD   1.2e-162               372.859328   \n",
       "\n",
       "   num_shared_network   obs_exp  \n",
       "0              1535.0  2.847549  \n",
       "1               110.0  0.429721  \n",
       "2               353.0  0.927922  \n",
       "3               222.0  0.529454  \n",
       "4               134.0  0.374574  \n",
       "5               558.0  1.045845  \n",
       "6               257.0  0.450616  \n",
       "7               188.0  0.757210  \n",
       "8               290.0  1.042153  \n",
       "9               844.0  2.073710  "
      ]
     },
     "execution_count": 13,
     "metadata": {},
     "output_type": "execute_result"
    }
   ],
   "source": [
    "\n",
    "combined_edges = pd.DataFrame(columns = ['d1','d2',\n",
    "                                        'num_shared_network','neg_logP_shared_network','edge_label','obs_exp'])\n",
    "\n",
    "\n",
    "for i in np.arange(len(focal_diseases)-1):\n",
    "    for j in np.arange(i+1,len(focal_diseases)):\n",
    "        d1 = focal_diseases[i]\n",
    "        d2 = focal_diseases[j]\n",
    "        num_shared_network_temp = network_num_overlap.loc[d1][d2]\n",
    "        pval_shared_network_temp = network_pval_overlap.loc[d1][d2]\n",
    "        edge_label_temp = str(nsf(pval_shared_network_temp,2))\n",
    "        obs_exp_temp = network_obs_exp.loc[d1][d2]\n",
    "        \n",
    "        df_temp = pd.DataFrame({'d1':[d1],'d2':[d2],\n",
    "                               'num_shared_network':[num_shared_network_temp],\n",
    "                               'neg_logP_shared_network':[-np.log(pval_shared_network_temp)],\n",
    "                               'edge_label':[edge_label_temp],\n",
    "                               'obs_exp':[obs_exp_temp]})\n",
    "        combined_edges = combined_edges.append(df_temp,ignore_index=True)\n",
    "        \n",
    "\n",
    "# combined_edges.to_csv('disease_combined_edges_ATH_PSO_KART.tsv',sep='\\t')\n",
    "combined_edges\n",
    "    "
   ]
  },
  {
   "cell_type": "code",
   "execution_count": 26,
   "metadata": {},
   "outputs": [
    {
     "data": {
      "text/plain": [
       "array([ 0. ,  0.1,  0.2,  0.3,  0.4,  0.5,  0.6,  0.7,  0.8,  0.9,  1. ,\n",
       "        1.1,  1.2,  1.3,  1.4,  1.5,  1.6,  1.7,  1.8,  1.9,  2. ,  2.1,\n",
       "        2.2,  2.3,  2.4,  2.5,  2.6,  2.7,  2.8,  2.9,  3. ,  3.1,  3.2,\n",
       "        3.3,  3.4,  3.5,  3.6,  3.7,  3.8,  3.9,  4. ,  4.1,  4.2,  4.3,\n",
       "        4.4,  4.5,  4.6,  4.7,  4.8,  4.9,  5. ,  5.1,  5.2,  5.3,  5.4,\n",
       "        5.5,  5.6,  5.7,  5.8,  5.9,  6. ,  6.1,  6.2,  6.3,  6.4,  6.5,\n",
       "        6.6,  6.7,  6.8,  6.9,  7. ,  7.1,  7.2,  7.3,  7.4,  7.5,  7.6,\n",
       "        7.7,  7.8,  7.9,  8. ,  8.1,  8.2,  8.3,  8.4,  8.5,  8.6,  8.7,\n",
       "        8.8,  8.9,  9. ,  9.1,  9.2,  9.3,  9.4,  9.5,  9.6,  9.7,  9.8,\n",
       "        9.9, 10. ])"
      ]
     },
     "execution_count": 26,
     "metadata": {},
     "output_type": "execute_result"
    }
   ],
   "source": []
  },
  {
   "cell_type": "markdown",
   "metadata": {},
   "source": [
    "# Compare observed/expected genes at the ASD/CHD intersection as a function of zthresh"
   ]
  },
  {
   "cell_type": "code",
   "execution_count": 37,
   "metadata": {
    "scrolled": true
   },
   "outputs": [
    {
     "name": "stdout",
     "output_type": "stream",
     "text": [
      "0.0\n",
      "5.066371108021597e-231\n",
      "1.3307741141336258\n",
      "0.4\n",
      "4.013896750798385e-244\n",
      "1.4612913255259612\n",
      "0.8\n",
      "5.678226330115399e-207\n",
      "1.5755316305621612\n",
      "1.2000000000000002\n",
      "1.89286917251349e-254\n",
      "1.6782559159425268\n",
      "1.6\n",
      "7.20284909451888e-136\n",
      "1.7379035033381514\n",
      "2.0\n",
      "2.2744685122536853e-180\n",
      "1.8412017789109243\n",
      "2.4000000000000004\n",
      "1.2460088572911168e-162\n",
      "1.9392978155864753\n",
      "2.8000000000000003\n",
      "7.88730006920651e-145\n",
      "2.0197993488804733\n",
      "3.2\n",
      "8.904099549451684e-140\n",
      "2.1151141404305958\n",
      "3.6\n",
      "1.8891303649500069e-174\n",
      "2.1982744372086875\n",
      "4.0\n",
      "2.7239089494848916e-86\n",
      "2.2137283006848225\n",
      "4.4\n",
      "1.0895741967587442e-132\n",
      "2.3179920334021213\n",
      "4.800000000000001\n",
      "2.693884526052619e-100\n",
      "2.4068145437914477\n",
      "5.2\n",
      "1.0084982521852499e-79\n",
      "2.443571476130235\n",
      "5.6000000000000005\n",
      "6.5848285256059665e-84\n",
      "2.4942773699581657\n",
      "6.0\n",
      "1.5838396373588486e-75\n",
      "2.5227497972790345\n",
      "6.4\n",
      "1.6398906463825887e-54\n",
      "2.5159202421964713\n",
      "6.800000000000001\n",
      "4.6709011690835835e-46\n",
      "2.488608482299334\n",
      "7.2\n",
      "1.5361082666423718e-50\n",
      "2.4248045581025575\n",
      "7.6000000000000005\n",
      "4.537451974195217e-38\n",
      "2.473134108641248\n",
      "8.0\n",
      "1.5459749504729793e-32\n",
      "2.3786249592701205\n",
      "8.4\n",
      "1.94854990905349e-22\n",
      "2.2109141954728897\n",
      "8.8\n",
      "3.726002932642326e-22\n",
      "2.1961378265808404\n",
      "9.200000000000001\n",
      "6.524020036626455e-22\n",
      "2.3116615067079462\n",
      "9.600000000000001\n",
      "3.2583978260334834e-15\n",
      "2.1396153014912467\n",
      "10.0\n",
      "7.548341779387578e-18\n",
      "2.1510404489127892\n"
     ]
    }
   ],
   "source": [
    "obs_exp_list = []\n",
    "num_obs_list = []\n",
    "zthresh_list = np.linspace(0,10,26)\n",
    "for zthresh in zthresh_list:\n",
    "    d1='ASD'\n",
    "    d2='CHD'\n",
    "    z1=z_dict[d1]\n",
    "    z2=z_dict[d2]\n",
    "    z_d1d2_size,high_z_rand=calculate_expected_overlap(d1,d2,z1,z2,plot=False,numreps=100,zthresh=zthresh)\n",
    "    ztemp = (z_d1d2_size-np.mean(high_z_rand))/np.std(high_z_rand)\n",
    "    ptemp = norm.sf(ztemp)\n",
    "    obs_exp_temp = float(z_d1d2_size)/np.mean(high_z_rand)\n",
    "    print(zthresh)\n",
    "    print(ptemp)\n",
    "    print(obs_exp_temp)\n",
    "    \n",
    "    obs_exp_list.append(obs_exp_temp)\n",
    "    num_obs_list.append(z_d1d2_size)"
   ]
  },
  {
   "cell_type": "code",
   "execution_count": 31,
   "metadata": {},
   "outputs": [
    {
     "data": {
      "text/plain": [
       "[<matplotlib.lines.Line2D at 0x1a21479490>]"
      ]
     },
     "execution_count": 31,
     "metadata": {},
     "output_type": "execute_result"
    },
    {
     "data": {
      "image/png": "[encoded data removed]",
      "text/plain": [
       "<Figure size 432x288 with 1 Axes>"
      ]
     },
     "metadata": {
      "needs_background": "light"
     },
     "output_type": "display_data"
    }
   ],
   "source": [
    "plt.plot(zthresh_list,obs_exp_list,'.-')\n"
   ]
  },
  {
   "cell_type": "code",
   "execution_count": 35,
   "metadata": {},
   "outputs": [
    {
     "data": {
      "text/plain": [
       "[<matplotlib.lines.Line2D at 0x1a3f597e50>]"
      ]
     },
     "execution_count": 35,
     "metadata": {},
     "output_type": "execute_result"
    },
    {
     "data": {
      "image/png": "[encoded data removed]",
      "text/plain": [
       "<Figure size 432x288 with 1 Axes>"
      ]
     },
     "metadata": {
      "needs_background": "light"
     },
     "output_type": "display_data"
    }
   ],
   "source": [
    "plt.plot(num_obs_list,obs_exp_list,'.-')\n",
    "plt.plot(num_obs_list[8],obs_exp_list[8],'ro')"
   ]
  },
  {
   "cell_type": "code",
   "execution_count": 34,
   "metadata": {},
   "outputs": [
    {
     "data": {
      "text/plain": [
       "array([ 0. ,  0.4,  0.8,  1.2,  1.6,  2. ,  2.4,  2.8,  3.2,  3.6,  4. ,\n",
       "        4.4,  4.8,  5.2,  5.6,  6. ,  6.4,  6.8,  7.2,  7.6,  8. ,  8.4,\n",
       "        8.8,  9.2,  9.6, 10. ])"
      ]
     },
     "execution_count": 34,
     "metadata": {},
     "output_type": "execute_result"
    }
   ],
   "source": [
    "zthresh_list"
   ]
  },
  {
   "cell_type": "code",
   "execution_count": null,
   "metadata": {},
   "outputs": [],
   "source": []
  }
 ],
 "metadata": {
  "kernelspec": {
   "display_name": "Python 2",
   "language": "python",
   "name": "python2"
  },
  "language_info": {
   "codemirror_mode": {
    "name": "ipython",
    "version": 2
   },
   "file_extension": ".py",
   "mimetype": "text/x-python",
   "name": "python",
   "nbconvert_exporter": "python",
   "pygments_lexer": "ipython2",
   "version": "2.7.17"
  }
 },
 "nbformat": 4,
 "nbformat_minor": 2
}
