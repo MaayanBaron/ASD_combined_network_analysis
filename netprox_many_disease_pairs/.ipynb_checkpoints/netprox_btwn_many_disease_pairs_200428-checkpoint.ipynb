{
 "cells": [
  {
   "cell_type": "markdown",
   "metadata": {},
   "source": [
    "# Calculate the network proximity between many disease pairs\n",
    "\n",
    "Evaluate how likely it is to get network overlap between diseases\n",
    "\n",
    "Requires DisGeNet download https://www.disgenet.org/downloads\n",
    "\n",
    "For figure 2f"
   ]
  },
  {
   "cell_type": "code",
   "execution_count": 1,
   "metadata": {},
   "outputs": [],
   "source": [
    "import numpy as np\n",
    "import matplotlib.pyplot as plt\n",
    "import seaborn as sns\n",
    "import networkx as nx\n",
    "import pandas as pd\n",
    "import random\n",
    "\n",
    "\n",
    "# latex rendering of text in graphs\n",
    "import matplotlib as mpl\n",
    "mpl.rc('text', usetex = False)\n",
    "mpl.rc('font', family = 'serif')\n",
    "\n",
    "from matplotlib import rcParams\n",
    "rcParams['font.family'] = 'sans-serif'\n",
    "rcParams['font.sans-serif'] = ['Arial']\n",
    "\n",
    "sns.set_style('white')\n",
    "sns.set_style(\"ticks\", {\"xtick.major.size\": 15, \"ytick.major.size\": 15})\n",
    "plt.rcParams['svg.fonttype'] = 'none'\n",
    "\n",
    "import sys\n",
    "\n",
    "% matplotlib inline\n",
    "from IPython.display import display"
   ]
  },
  {
   "cell_type": "markdown",
   "metadata": {},
   "source": [
    "# Get disease genes from somewhere... maybe DisGeNet?"
   ]
  },
  {
   "cell_type": "code",
   "execution_count": 2,
   "metadata": {},
   "outputs": [
    {
     "name": "stdout",
     "output_type": "stream",
     "text": [
      "628685\n"
     ]
    },
    {
     "data": {
      "text/html": [
       "<div>\n",
       "<style scoped>\n",
       "    .dataframe tbody tr th:only-of-type {\n",
       "        vertical-align: middle;\n",
       "    }\n",
       "\n",
       "    .dataframe tbody tr th {\n",
       "        vertical-align: top;\n",
       "    }\n",
       "\n",
       "    .dataframe thead th {\n",
       "        text-align: right;\n",
       "    }\n",
       "</style>\n",
       "<table border=\"1\" class=\"dataframe\">\n",
       "  <thead>\n",
       "    <tr style=\"text-align: right;\">\n",
       "      <th></th>\n",
       "      <th>geneId</th>\n",
       "      <th>geneSymbol</th>\n",
       "      <th>DSI</th>\n",
       "      <th>DPI</th>\n",
       "      <th>diseaseId</th>\n",
       "      <th>diseaseName</th>\n",
       "      <th>diseaseType</th>\n",
       "      <th>diseaseClass</th>\n",
       "      <th>diseaseSemanticType</th>\n",
       "      <th>score</th>\n",
       "      <th>EI</th>\n",
       "      <th>YearInitial</th>\n",
       "      <th>YearFinal</th>\n",
       "      <th>NofPmids</th>\n",
       "      <th>NofSnps</th>\n",
       "      <th>source</th>\n",
       "    </tr>\n",
       "  </thead>\n",
       "  <tbody>\n",
       "    <tr>\n",
       "      <th>0</th>\n",
       "      <td>1</td>\n",
       "      <td>A1BG</td>\n",
       "      <td>0.857</td>\n",
       "      <td>0.172</td>\n",
       "      <td>C0001418</td>\n",
       "      <td>Adenocarcinoma</td>\n",
       "      <td>group</td>\n",
       "      <td>C04</td>\n",
       "      <td>Neoplastic Process</td>\n",
       "      <td>0.01</td>\n",
       "      <td>NaN</td>\n",
       "      <td>2008.0</td>\n",
       "      <td>2008.0</td>\n",
       "      <td>1</td>\n",
       "      <td>0</td>\n",
       "      <td>LHGDN</td>\n",
       "    </tr>\n",
       "    <tr>\n",
       "      <th>1</th>\n",
       "      <td>1</td>\n",
       "      <td>A1BG</td>\n",
       "      <td>0.857</td>\n",
       "      <td>0.172</td>\n",
       "      <td>C0002736</td>\n",
       "      <td>Amyotrophic Lateral Sclerosis</td>\n",
       "      <td>disease</td>\n",
       "      <td>C10;C18</td>\n",
       "      <td>Disease or Syndrome</td>\n",
       "      <td>0.01</td>\n",
       "      <td>1.0</td>\n",
       "      <td>2009.0</td>\n",
       "      <td>2009.0</td>\n",
       "      <td>1</td>\n",
       "      <td>0</td>\n",
       "      <td>BEFREE</td>\n",
       "    </tr>\n",
       "    <tr>\n",
       "      <th>2</th>\n",
       "      <td>1</td>\n",
       "      <td>A1BG</td>\n",
       "      <td>0.857</td>\n",
       "      <td>0.172</td>\n",
       "      <td>C0013080</td>\n",
       "      <td>Down Syndrome</td>\n",
       "      <td>disease</td>\n",
       "      <td>C10;C16</td>\n",
       "      <td>Disease or Syndrome</td>\n",
       "      <td>0.01</td>\n",
       "      <td>1.0</td>\n",
       "      <td>2011.0</td>\n",
       "      <td>2011.0</td>\n",
       "      <td>1</td>\n",
       "      <td>0</td>\n",
       "      <td>BEFREE</td>\n",
       "    </tr>\n",
       "    <tr>\n",
       "      <th>3</th>\n",
       "      <td>1</td>\n",
       "      <td>A1BG</td>\n",
       "      <td>0.857</td>\n",
       "      <td>0.172</td>\n",
       "      <td>C0017636</td>\n",
       "      <td>Glioblastoma</td>\n",
       "      <td>disease</td>\n",
       "      <td>C04</td>\n",
       "      <td>Neoplastic Process</td>\n",
       "      <td>0.01</td>\n",
       "      <td>1.0</td>\n",
       "      <td>2014.0</td>\n",
       "      <td>2014.0</td>\n",
       "      <td>1</td>\n",
       "      <td>0</td>\n",
       "      <td>BEFREE</td>\n",
       "    </tr>\n",
       "    <tr>\n",
       "      <th>4</th>\n",
       "      <td>1</td>\n",
       "      <td>A1BG</td>\n",
       "      <td>0.857</td>\n",
       "      <td>0.172</td>\n",
       "      <td>C0019209</td>\n",
       "      <td>Hepatomegaly</td>\n",
       "      <td>phenotype</td>\n",
       "      <td>C06;C23</td>\n",
       "      <td>Finding</td>\n",
       "      <td>0.30</td>\n",
       "      <td>NaN</td>\n",
       "      <td>2017.0</td>\n",
       "      <td>2017.0</td>\n",
       "      <td>1</td>\n",
       "      <td>0</td>\n",
       "      <td>CTD_human</td>\n",
       "    </tr>\n",
       "  </tbody>\n",
       "</table>\n",
       "</div>"
      ],
      "text/plain": [
       "   geneId geneSymbol    DSI    DPI diseaseId                    diseaseName  \\\n",
       "0       1       A1BG  0.857  0.172  C0001418                 Adenocarcinoma   \n",
       "1       1       A1BG  0.857  0.172  C0002736  Amyotrophic Lateral Sclerosis   \n",
       "2       1       A1BG  0.857  0.172  C0013080                  Down Syndrome   \n",
       "3       1       A1BG  0.857  0.172  C0017636                   Glioblastoma   \n",
       "4       1       A1BG  0.857  0.172  C0019209                   Hepatomegaly   \n",
       "\n",
       "  diseaseType diseaseClass  diseaseSemanticType  score   EI  YearInitial  \\\n",
       "0       group          C04   Neoplastic Process   0.01  NaN       2008.0   \n",
       "1     disease      C10;C18  Disease or Syndrome   0.01  1.0       2009.0   \n",
       "2     disease      C10;C16  Disease or Syndrome   0.01  1.0       2011.0   \n",
       "3     disease          C04   Neoplastic Process   0.01  1.0       2014.0   \n",
       "4   phenotype      C06;C23              Finding   0.30  NaN       2017.0   \n",
       "\n",
       "   YearFinal  NofPmids  NofSnps     source  \n",
       "0     2008.0         1        0      LHGDN  \n",
       "1     2009.0         1        0     BEFREE  \n",
       "2     2011.0         1        0     BEFREE  \n",
       "3     2014.0         1        0     BEFREE  \n",
       "4     2017.0         1        0  CTD_human  "
      ]
     },
     "execution_count": 2,
     "metadata": {},
     "output_type": "execute_result"
    }
   ],
   "source": [
    "disgenet_df = pd.read_csv('/Users/brinrosenthal/Documents/CCBB_tickets_data/DisGeNet/all_gene_disease_associations.tsv.gz',sep='\\t')\n",
    "print(len(disgenet_df))\n",
    "disgenet_df.head()"
   ]
  },
  {
   "cell_type": "code",
   "execution_count": 3,
   "metadata": {},
   "outputs": [
    {
     "data": {
      "text/plain": [
       "BEFREE          357934\n",
       "HPO             125532\n",
       "CTD_human        43392\n",
       "LHGDN            13096\n",
       "BEFREE;LHGDN     12458\n",
       "Name: source, dtype: int64"
      ]
     },
     "execution_count": 3,
     "metadata": {},
     "output_type": "execute_result"
    }
   ],
   "source": [
    "disgenet_df['source'].value_counts().head()"
   ]
  },
  {
   "cell_type": "code",
   "execution_count": 4,
   "metadata": {},
   "outputs": [
    {
     "name": "stdout",
     "output_type": "stream",
     "text": [
      "83350\n"
     ]
    }
   ],
   "source": [
    "print(sum(disgenet_df['score']>.2))"
   ]
  },
  {
   "cell_type": "code",
   "execution_count": 5,
   "metadata": {},
   "outputs": [
    {
     "data": {
      "text/plain": [
       "0    573498\n",
       "1     35036\n",
       "2      9149\n",
       "3      3522\n",
       "4      1822\n",
       "Name: NofSnps, dtype: int64"
      ]
     },
     "metadata": {},
     "output_type": "display_data"
    },
    {
     "name": "stdout",
     "output_type": "stream",
     "text": [
      "55187\n",
      "83350\n"
     ]
    },
    {
     "data": {
      "text/plain": [
       "Intellectual Disability          2037\n",
       "Malignant neoplasm of breast     1034\n",
       "Schizophrenia                     881\n",
       "Liver Cirrhosis, Experimental     770\n",
       "Colorectal Cancer                 677\n",
       "Name: diseaseName, dtype: int64"
      ]
     },
     "metadata": {},
     "output_type": "display_data"
    }
   ],
   "source": [
    "display(disgenet_df['NofSnps'].value_counts().head())\n",
    "print(len(disgenet_df[disgenet_df['NofSnps']>0]))\n",
    "# filtering by score > 0.2\n",
    "disgenet_df = disgenet_df[disgenet_df['score']>.2]\n",
    "print(len(disgenet_df))\n",
    "display(disgenet_df['diseaseName'].value_counts().head())\n"
   ]
  },
  {
   "cell_type": "code",
   "execution_count": 6,
   "metadata": {},
   "outputs": [
    {
     "name": "stdout",
     "output_type": "stream",
     "text": [
      "38\n",
      "59\n",
      "65\n"
     ]
    }
   ],
   "source": [
    "print(disgenet_df['diseaseName'].value_counts().loc['Kartagener Syndrome'])\n",
    "print(disgenet_df['diseaseName'].value_counts().loc['Psoriasis'])\n",
    "print(disgenet_df['diseaseName'].value_counts().loc['Atherosclerosis'])"
   ]
  },
  {
   "cell_type": "code",
   "execution_count": 7,
   "metadata": {},
   "outputs": [
    {
     "data": {
      "text/plain": [
       "CTD_human                 43392\n",
       "BEFREE;CTD_human           7938\n",
       "GENOMICS_ENGLAND           5124\n",
       "BEFREE;PSYGENET            2085\n",
       "BEFREE;CTD_human;LHGDN     1968\n",
       "Name: source, dtype: int64"
      ]
     },
     "execution_count": 7,
     "metadata": {},
     "output_type": "execute_result"
    }
   ],
   "source": [
    "disgenet_df['source'].value_counts().head()"
   ]
  },
  {
   "cell_type": "code",
   "execution_count": 8,
   "metadata": {
    "scrolled": true
   },
   "outputs": [
    {
     "name": "stdout",
     "output_type": "stream",
     "text": [
      "Generalized seizures: 99\n",
      "Weight Gain: 99\n",
      "Generalized Absence Seizures: 99\n",
      "Seizures, Sensory: 99\n",
      "Visual seizure: 99\n",
      "Tonic - clonic seizures: 99\n",
      "Myoclonic Seizures: 99\n",
      "Tonic Seizures: 99\n",
      "Convulsive Seizures: 99\n",
      "Nonepileptic Seizures: 99\n",
      "Seizures, Clonic: 99\n",
      "Epileptic drop attack: 99\n",
      "Atonic Absence Seizures: 99\n",
      "Jacksonian Seizure: 99\n",
      "Vertiginous seizure: 99\n",
      "Olfactory seizure: 99\n",
      "Seizures, Somatosensory: 99\n",
      "Convulsions: 99\n",
      "Seizures, Auditory: 99\n",
      "Non-epileptic convulsion: 99\n",
      "Gustatory seizure: 99\n",
      "Epileptic Seizures: 99\n",
      "Seizures, Focal: 99\n",
      "Absence Seizures: 99\n",
      "Single Seizure: 99\n",
      "Adenocarcinoma of large intestine: 98\n",
      "Myocardial Failure: 98\n",
      "Pancreatic Neoplasm: 98\n",
      "Left-Sided Heart Failure: 98\n",
      "Heart Decompensation: 98\n",
      "Retinitis Pigmentosa: 98\n",
      "Heart Failure, Right-Sided: 98\n",
      "Hematologic Neoplasms: 97\n",
      "Kidney Failure, Acute: 97\n",
      "Fibrosis, Liver: 97\n",
      "Congenital Disorders of Glycosylation: 97\n",
      "Malignant neoplasm of pancreas: 95\n",
      "Pulmonary Fibrosis: 93\n",
      "Spastic Paraplegia, Hereditary: 91\n",
      "Congenital myopathy (disorder): 91\n",
      "Squamous cell carcinoma of esophagus: 91\n",
      "Hamman-Rich syndrome: 89\n",
      "Cerebrovascular Disorders: 89\n",
      "Hypertrophic Cardiomyopathy: 89\n",
      "Reperfusion Injury: 88\n",
      "Degenerative polyarthritis: 88\n",
      "Osteoarthrosis Deformans: 88\n",
      "Steatohepatitis: 87\n",
      "Acute kidney injury: 86\n",
      "Acute Kidney Insufficiency: 86\n"
     ]
    }
   ],
   "source": [
    "# print out some disease options\n",
    "disgenet_VC = disgenet_df['diseaseName'].value_counts()\n",
    "for d in disgenet_VC[disgenet_VC<100].head(50).index.tolist():\n",
    "    print(str(d)+': '+str(disgenet_VC.loc[d]))\n"
   ]
  },
  {
   "cell_type": "code",
   "execution_count": null,
   "metadata": {},
   "outputs": [],
   "source": []
  },
  {
   "cell_type": "code",
   "execution_count": 9,
   "metadata": {},
   "outputs": [
    {
     "name": "stdout",
     "output_type": "stream",
     "text": [
      "19781\n",
      "2724724\n"
     ]
    }
   ],
   "source": [
    "# Load pcnet\n",
    "G_pcnet = nx.read_gpickle('/Users/brinrosenthal/Documents/CCBB_tickets_data/PCnet/G_PCnet.gpickle')\n",
    "print(len(G_pcnet.nodes()))\n",
    "print(len(G_pcnet.edges()))"
   ]
  },
  {
   "cell_type": "code",
   "execution_count": null,
   "metadata": {},
   "outputs": [],
   "source": []
  },
  {
   "cell_type": "code",
   "execution_count": 68,
   "metadata": {},
   "outputs": [
    {
     "name": "stdout",
     "output_type": "stream",
     "text": [
      "103\n",
      "38\n",
      "['DNAH5', 'GAS8', 'RPGR', 'SPAG1', 'OFD1']\n",
      "37\n"
     ]
    }
   ],
   "source": [
    "# pick a few disease which have similar gene sizes\n",
    "\n",
    "disease_list = ['Atherosclerosis','Kartagener Syndrome']\n",
    "\n",
    "disgenet_focal = disgenet_df[disgenet_df['diseaseName'].isin(disease_list)]\n",
    "print(len(disgenet_focal))\n",
    "\n",
    "\n",
    "focal_disease='Kartagener Syndrome'\n",
    "focal_genes = disgenet_focal[disgenet_focal['diseaseName']==focal_disease]['geneSymbol'].tolist()\n",
    "print(len(focal_genes))\n",
    "print(focal_genes[0:5])\n",
    "\n",
    "print(len(np.unique(np.intersect1d(G_pcnet.nodes(),focal_genes))))\n"
   ]
  },
  {
   "cell_type": "code",
   "execution_count": 69,
   "metadata": {},
   "outputs": [
    {
     "name": "stdout",
     "output_type": "stream",
     "text": [
      "57\n",
      "['NTM', 'LOC284009', 'PLEKHM1', 'LRRC37A4P', 'LOC644172']\n",
      "42\n"
     ]
    }
   ],
   "source": [
    "# Load ASD common variant genes\n",
    "ASD_common = pd.read_csv('ASD_sumstats_pascal.sum.genescores.txt',sep='\\t')\n",
    "ASD_common.index=ASD_common['gene_symbol']\n",
    "ASD_common_genes = ASD_common[ASD_common['pvalue']<2.5E-4].index.tolist()\n",
    "print(len(ASD_common_genes))\n",
    "print(ASD_common_genes[0:5])\n",
    "print(len(np.intersect1d(ASD_common_genes,G_pcnet.nodes())))\n",
    "\n",
    "# set ASD_common focal genes to test localization of ASD common variants\n",
    "# focal_disease='ASD_common'\n",
    "# focal_genes=ASD_common_genes"
   ]
  },
  {
   "cell_type": "code",
   "execution_count": null,
   "metadata": {},
   "outputs": [],
   "source": []
  },
  {
   "cell_type": "code",
   "execution_count": null,
   "metadata": {},
   "outputs": [],
   "source": []
  },
  {
   "cell_type": "code",
   "execution_count": 70,
   "metadata": {},
   "outputs": [
    {
     "name": "stdout",
     "output_type": "stream",
     "text": [
      "65\n",
      "66\n"
     ]
    }
   ],
   "source": [
    "# load the ASD-CHD seed genes\n",
    "\n",
    "ASD_HC = pd.read_csv('../../../data/ASD_HC.txt',names=['HC_genes'])\n",
    "\n",
    "ASD_HC = ASD_HC['HC_genes'].tolist()\n",
    "print(len(ASD_HC))\n",
    "\n",
    "\n",
    "CHD_HC = pd.read_csv('../../../data/CHD_HC_new.txt',names=['HC_genes'])\n",
    "CHD_HC = CHD_HC['HC_genes'].tolist()\n",
    "print(len(CHD_HC))\n",
    "\n",
    "# set ASD or CHD focal genes to test localization of input gene set\n",
    "# focal_disease='ASD'\n",
    "# focal_genes=ASD_HC"
   ]
  },
  {
   "cell_type": "markdown",
   "metadata": {},
   "source": [
    "# Check network localization of focal disease"
   ]
  },
  {
   "cell_type": "code",
   "execution_count": 71,
   "metadata": {},
   "outputs": [],
   "source": [
    "# import network localization methods\n",
    "\n",
    "sys.path.append('../netprop_zscore_code/')\n",
    "import network_localization"
   ]
  },
  {
   "cell_type": "code",
   "execution_count": 72,
   "metadata": {},
   "outputs": [
    {
     "name": "stdout",
     "output_type": "stream",
     "text": [
      "37\n"
     ]
    }
   ],
   "source": [
    "print(len(np.unique(np.intersect1d(G_pcnet.nodes(),focal_genes))))"
   ]
  },
  {
   "cell_type": "code",
   "execution_count": 73,
   "metadata": {
    "scrolled": true
   },
   "outputs": [
    {
     "name": "stdout",
     "output_type": "stream",
     "text": [
      "0\n",
      "25\n",
      "50\n",
      "75\n"
     ]
    }
   ],
   "source": [
    "# set numreps to 5000 for full run\n",
    "\n",
    "num_reps=100\n",
    "focal_numedges_list, focal_numedges_rand, focal_LCC_list, focal_LCC_size_rand = network_localization.localization(G_pcnet,\n",
    "                                                                     focal_genes = focal_genes,\n",
    "                                                                     num_reps = num_reps, \n",
    "                                                                     sample_frac = 1, \n",
    "                                                                     method = 'both', \n",
    "                                                                     plot = False,print_counter=True)"
   ]
  },
  {
   "cell_type": "code",
   "execution_count": null,
   "metadata": {},
   "outputs": [],
   "source": []
  },
  {
   "cell_type": "code",
   "execution_count": 76,
   "metadata": {},
   "outputs": [
    {
     "data": {
      "image/png": "[encoded data removed]",
      "text/plain": [
       "<Figure size 115.2x110.88 with 1 Axes>"
      ]
     },
     "metadata": {},
     "output_type": "display_data"
    }
   ],
   "source": [
    "# plot distributions for non-sampled case\n",
    "sns.set_style('white')\n",
    "sns.set_style(\"ticks\", {\"xtick.major.size\": 15, \"ytick.major.size\": 15})\n",
    "plt.figure(figsize=(1.6,1.54))\n",
    "plt.vlines(np.mean(focal_numedges_list),ymin=0,ymax=0.05,color='r',lw=.5,label=focal_disease+' genes')\n",
    "sns.kdeplot(focal_numedges_rand,color='k',lw=.5,alpha=.5,shade=True,label='random')\n",
    "plt.legend(loc='upper left',fontsize=8)\n",
    "plt.ylabel('density',fontsize=8)\n",
    "plt.xlabel('number shared edges',fontsize=8)\n",
    "plt.xticks(fontsize=8)\n",
    "plt.yticks(fontsize=8)\n",
    "# plt.ylim([0,.35])\n",
    "\n",
    "# print the z-score and fdr\n",
    "focal_NE_z = (np.mean(focal_numedges_list)-np.mean(focal_numedges_rand))/np.std(focal_numedges_rand)\n",
    "\n",
    "from scipy.stats import norm\n",
    "ptemp = norm.sf(abs(focal_NE_z))\n",
    "\n",
    "plt.title('permutation p = '+(\"%.2g\" % ptemp),fontsize=8)\n",
    "\n",
    "plt.savefig('../../../manuscript/figures_1911/Supplement/'+focal_disease+'_numedges_no_bootstrap'+str(num_reps)+'.png',dpi=300,bbox_inches='tight')\n",
    "plt.savefig('../../../manuscript/figures_1911/Supplement/'+focal_disease+'_DNV_numedges_no_bootstrap'+str(num_reps)+'.svg',dpi=300,bbox_inches='tight')"
   ]
  },
  {
   "cell_type": "code",
   "execution_count": 38,
   "metadata": {},
   "outputs": [
    {
     "name": "stdout",
     "output_type": "stream",
     "text": [
      "1.3078427230084344e-13\n"
     ]
    },
    {
     "data": {
      "image/png": "[encoded data removed]",
      "text/plain": [
       "<Figure size 432x288 with 1 Axes>"
      ]
     },
     "metadata": {},
     "output_type": "display_data"
    }
   ],
   "source": [
    "sns.set_style('white')\n",
    "sns.set_style(\"ticks\", {\"xtick.major.size\": 15, \"ytick.major.size\": 15})\n",
    "plt.vlines(np.mean(focal_numedges_list),ymin=0,ymax=0.05,color='r',lw=2,label=focal_disease+' genes')\n",
    "sns.kdeplot(focal_numedges_rand,color='k',lw=2,alpha=.5,shade=True,label='random')\n",
    "plt.legend(loc='upper left',fontsize=12)\n",
    "plt.ylabel('frequency',fontsize=16)\n",
    "plt.xlabel('number connecting edges',fontsize=16)\n",
    "\n",
    "# print the z-score and fdr\n",
    "focal_NE_z = (np.mean(focal_numedges_list)-np.mean(focal_numedges_rand))/np.std(focal_numedges_rand)\n",
    "\n",
    "from scipy.special import ndtr\n",
    "print(1-ndtr(focal_NE_z))\n",
    "plt.title('permutation p = '+str(1-ndtr(focal_NE_z)))\n",
    "# from scipy.stats import ks_2samp\n",
    "# print(ks_2samp(focal_numedges_list,focal_numedges_rand))\n",
    "plt.savefig('localization_figures/'+focal_disease+'_numedges.png',dpi=300,bbox_inches='tight')"
   ]
  },
  {
   "cell_type": "code",
   "execution_count": 22,
   "metadata": {},
   "outputs": [
    {
     "name": "stdout",
     "output_type": "stream",
     "text": [
      "0\n",
      "0\n"
     ]
    }
   ],
   "source": [
    "print(len(np.intersect1d(ASD_HC,focal_genes)))\n",
    "print(len(np.intersect1d(CHD_HC,focal_genes)))"
   ]
  },
  {
   "cell_type": "code",
   "execution_count": 23,
   "metadata": {},
   "outputs": [
    {
     "name": "stdout",
     "output_type": "stream",
     "text": [
      "['DNAH5', 'GAS8', 'RPGR', 'SPAG1', 'OFD1', 'DNAH11', 'CCNO', 'LRRC6', 'DNAH1', 'DNAI1', 'STK36', 'NME8', 'ZMYND10', 'HYDIN', 'DNAAF5', 'CCDC40', 'ARMC4', 'DNAAF2', 'CFAP298', 'DNAI2', 'TTC25', 'DNAL1', 'RSPH3', 'CCDC65', 'RSPH1', 'DRC1', 'CCDC114', 'CCDC151', 'DNAAF1', 'PIH1D3', 'DNAAF4', 'RSPH9', 'CCDC39', 'MCIDAS', 'RSPH4A', 'DNAAF3', 'DNAJB13', 'CCDC103']\n"
     ]
    }
   ],
   "source": [
    "print(focal_genes)"
   ]
  },
  {
   "cell_type": "markdown",
   "metadata": {},
   "source": [
    "# Save out gene sets for zscore calculation on AWS"
   ]
  },
  {
   "cell_type": "code",
   "execution_count": 24,
   "metadata": {},
   "outputs": [],
   "source": [
    "# write out seed genes for AWS processing\n",
    "\n",
    "# pd.DataFrame({'seed_genes':[focal_genes]}).to_csv(focal_disease+'_seed_genes_200420.tsv',sep='\\t')\n"
   ]
  },
  {
   "cell_type": "code",
   "execution_count": null,
   "metadata": {},
   "outputs": [],
   "source": []
  },
  {
   "cell_type": "markdown",
   "metadata": {},
   "source": [
    "###### terminal commands to run netprop\n",
    "python netprop_zscore.py 5000 HC_genes/Kartagener\\ Syndrome_seed_genes_200420.tsv ../interactomes/G_PCnet.gpickle Kartagener degree_binning single  \n",
    "python netprop_zscore.py 5000 HC_genes/Psoriasis_seed_genes_200420.tsv ../interactomes/G_PCnet.gpickle Psoriasis degree_binning single  \n",
    "python netprop_zscore.py 5000 HC_genes/Atherosclerosis_seed_genes_200420.tsv ../interactomes/G_PCnet.gpickle Atherosclerosis degree_binning single  \n"
   ]
  }
 ],
 "metadata": {
  "kernelspec": {
   "display_name": "Python 2",
   "language": "python",
   "name": "python2"
  },
  "language_info": {
   "codemirror_mode": {
    "name": "ipython",
    "version": 2
   },
   "file_extension": ".py",
   "mimetype": "text/x-python",
   "name": "python",
   "nbconvert_exporter": "python",
   "pygments_lexer": "ipython2",
   "version": "2.7.17"
  }
 },
 "nbformat": 4,
 "nbformat_minor": 2
}
