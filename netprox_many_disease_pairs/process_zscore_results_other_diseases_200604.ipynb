{
 "cells": [
  {
   "cell_type": "markdown",
   "metadata": {},
   "source": [
    "# Process the zscore results from all gene sets \n",
    "\n",
    "\n",
    "For figure 3"
   ]
  },
  {
   "cell_type": "code",
   "execution_count": 1,
   "metadata": {},
   "outputs": [],
   "source": [
    "import matplotlib.pyplot as plt\n",
    "import pandas as pd\n",
    "import numpy as np\n",
    "import networkx as nx\n",
    "import seaborn as sns\n",
    "\n",
    "from IPython.display import display\n",
    "\n",
    "# latex rendering of text in graphs\n",
    "import matplotlib as mpl\n",
    "mpl.rc('text', usetex = False)\n",
    "mpl.rc('font', family = 'sans-serif')\n",
    "from matplotlib import rcParams\n",
    "rcParams['font.family'] = 'sans-serif'\n",
    "rcParams['font.sans-serif'] = ['Arial']\n",
    "\n",
    "% matplotlib inline\n"
   ]
  },
  {
   "cell_type": "markdown",
   "metadata": {},
   "source": [
    "# Load the PCnet interactome\n",
    "\n",
    "PCnet downloaded from ndex and parsed to networkx format \n",
    "https://ndexbio.org/#/network/f93f402c-86d4-11e7-a10d-0ac135e8bacf"
   ]
  },
  {
   "cell_type": "code",
   "execution_count": 2,
   "metadata": {},
   "outputs": [
    {
     "name": "stdout",
     "output_type": "stream",
     "text": [
      "19781\n",
      "2724724\n"
     ]
    }
   ],
   "source": [
    "# Load pcnet\n",
    "Gint = nx.read_gpickle('/Users/brinrosenthal/Documents/CCBB_tickets_data/PCnet/G_PCnet.gpickle')\n",
    "print(len(Gint.nodes()))\n",
    "print(len(Gint.edges()))"
   ]
  },
  {
   "cell_type": "markdown",
   "metadata": {},
   "source": [
    "# Load the seed genes"
   ]
  },
  {
   "cell_type": "code",
   "execution_count": 3,
   "metadata": {},
   "outputs": [
    {
     "name": "stdout",
     "output_type": "stream",
     "text": [
      "65\n",
      "66\n"
     ]
    }
   ],
   "source": [
    "# ------- ASD high confidence genes (established disease genes) -------\n",
    "\n",
    "HC_genes_temp = pd.read_csv('../data/HC_genes/ASD_HC.tsv',sep='\\t',index_col='Unnamed: 0')\n",
    "ASD_HC = [str(g[1:-1]).strip(\"'\") for g in HC_genes_temp['seed_genes'].tolist()[0][1:-1].split(', ')]\n",
    "\n",
    "print(len(ASD_HC))\n",
    "\n",
    "# ------- High confidence CHD genes (established disease genes) -------\n",
    "\n",
    "# Load congenital heart defect recurring DNVs (from https://www.nature.com/articles/ng.3970)\n",
    "\n",
    "HC_genes_temp = pd.read_csv('../data/HC_genes/CHD_HC.tsv',sep='\\t',index_col='Unnamed: 0')\n",
    "CHD_HC = [str(g[1:-1]).strip(\"'\") for g in HC_genes_temp['seed_genes'].tolist()[0][1:-1].split(', ')]\n",
    "\n",
    "print(len(CHD_HC))"
   ]
  },
  {
   "cell_type": "markdown",
   "metadata": {},
   "source": [
    "# Load the zscore data"
   ]
  },
  {
   "cell_type": "code",
   "execution_count": 4,
   "metadata": {},
   "outputs": [],
   "source": [
    "\n",
    "num_reps=5000\n",
    "\n",
    "# -------------- ASD and CHD results --------------\n",
    "CHD_z = pd.read_csv('../data/z_score_results/z_CHD_'+str(num_reps)+'_repsPCnet_degree_binning.tsv',sep='\\t',names=['symbol','z'])\n",
    "CHD_z.index=CHD_z['symbol']\n",
    "CHD_z=CHD_z.sort_values('z',ascending=False)\n",
    "\n",
    "ASD_z = pd.read_csv('../data/z_score_results/z_ASD_'+str(num_reps)+'_repsPCnet_degree_binning.tsv',sep='\\t',names=['symbol','z'])\n",
    "ASD_z.index=ASD_z['symbol']\n",
    "ASD_z=ASD_z.sort_values('z',ascending=False)\n",
    "\n",
    "# -------------- DISGENET results --------------\n",
    "\n",
    "\n",
    "atherosclerosis_z = pd.read_csv('../data/z_score_results/z_Atherosclerosis_5000_reps_degree_binning.tsv',sep='\\t',names=['symbol','z'])\n",
    "atherosclerosis_z.index=atherosclerosis_z['symbol']\n",
    "atherosclerosis_z=atherosclerosis_z.sort_values('z',ascending=False)\n",
    "\n",
    "kartagena_z = pd.read_csv('../data/z_score_results/z_Kartagener_5000_reps_degree_binning.tsv',sep='\\t',names=['symbol','z'])\n",
    "kartagena_z.index=kartagena_z['symbol']\n",
    "kartagena_z=kartagena_z.sort_values('z',ascending=False)\n",
    "\n",
    "\n",
    "\n",
    "# -------------- ASD GWAS results ----------------\n",
    "ASD_GWAS_z = pd.read_csv('../data/z_score_results/z_ASD_GWAS_PASCAL_PCnet_1000_reps_degree_binning.tsv',sep='\\t',names=['symbol','z'])\n",
    "ASD_GWAS_z.index=ASD_GWAS_z['symbol']\n",
    "ASD_GWAS_z=ASD_GWAS_z.sort_values('z',ascending=False)\n",
    "\n"
   ]
  },
  {
   "cell_type": "code",
   "execution_count": null,
   "metadata": {},
   "outputs": [],
   "source": []
  },
  {
   "cell_type": "markdown",
   "metadata": {},
   "source": [
    "# How much do the networks overlap?\n",
    "\n",
    "- Plot the gene overlap in subgraphs"
   ]
  },
  {
   "cell_type": "code",
   "execution_count": 5,
   "metadata": {},
   "outputs": [],
   "source": [
    "# function to return significant digits in exp form\n",
    "def nsf(num, n=1):\n",
    "    \"\"\"n-Significant Figures\"\"\"\n",
    "    numstr = (\"{0:.%ie}\" % (n-1)).format(num)\n",
    "    return float(numstr)\n",
    "\n",
    "def calculate_size_network_overlap(z1,z2,zthresh=3):\n",
    "    z_merged = z1.join(z2['z'],lsuffix='_1',rsuffix='_2')\n",
    "    z_combined = z_merged['z_1']*z_merged['z_2']*(z_merged['z_1']>0)*(z_merged['z_2']>0)\n",
    "    high_z_genes = z_combined[z_combined>=zthresh].index.tolist()\n",
    "    \n",
    "    return(len(high_z_genes))\n",
    "\n",
    "def calculate_expected_overlap(d1,d2,z1,z2,plot=False,zthresh=4,numreps=1000):\n",
    "\n",
    "    z_d1d2_size=calculate_size_network_overlap(z1,z2,zthresh=zthresh)\n",
    "\n",
    "    high_z_rand = []\n",
    "    for r in np.arange(numreps):\n",
    "        # use permutation shuffling method instead of Fnew comparison\n",
    "        d1_shuf_genes = z1.index.tolist()\n",
    "        np.random.shuffle(d1_shuf_genes)\n",
    "        d1_shuf=z1[:]\n",
    "        d1_shuf.index=d1_shuf_genes\n",
    "\n",
    "        d2_shuf_genes = z2.index.tolist()\n",
    "        np.random.shuffle(d2_shuf_genes)\n",
    "        d2_shuf=z2[:]\n",
    "        d2_shuf.index=d2_shuf_genes\n",
    "\n",
    "        high_z_temp = calculate_size_network_overlap(d1_shuf,d2_shuf,zthresh=zthresh)\n",
    "        high_z_rand.append(high_z_temp)\n",
    "\n",
    "    if plot==True:\n",
    "        sns.distplot(high_z_rand,label='expected network intersection size')\n",
    "        plt.plot([z_d1d2_size,z_d1d2_size],[0,0.015],label='observed '+d1+'-'+d2+' network intersection size')\n",
    "        plt.xlabel('size of proximal subgraph, z>='+str(zthresh),fontsize=16)\n",
    "        plt.legend(fontsize=12)\n",
    "    return z_d1d2_size,high_z_rand"
   ]
  },
  {
   "cell_type": "code",
   "execution_count": null,
   "metadata": {},
   "outputs": [],
   "source": []
  },
  {
   "cell_type": "code",
   "execution_count": 6,
   "metadata": {},
   "outputs": [
    {
     "name": "stdout",
     "output_type": "stream",
     "text": [
      "atherosclerosis + kartagener\n",
      "139\n",
      "0.36603992205193026\n",
      "1.0\n",
      "atherosclerosis + CHD\n",
      "586\n",
      "1.0565030829697473\n",
      "0.05849882840854005\n",
      "atherosclerosis + ASD\n",
      "263\n",
      "0.4427833055541526\n",
      "1.0\n",
      "atherosclerosis + ASD_GWAS\n",
      "337\n",
      "0.822633403310062\n",
      "0.9999223713131392\n",
      "kartagener + CHD\n",
      "196\n",
      "0.7481487136422628\n",
      "0.999999125315969\n",
      "kartagener + ASD\n",
      "295\n",
      "1.029524673693027\n",
      "0.2788268947656667\n",
      "kartagener + ASD_GWAS\n",
      "200\n",
      "1.012248203259439\n",
      "0.43055674698514473\n",
      "CHD + ASD\n",
      "844\n",
      "2.0923198968714365\n",
      "5.715525029477202e-186\n",
      "CHD + ASD_GWAS\n",
      "433\n",
      "1.5382975699872103\n",
      "1.5167300340998014e-24\n",
      "ASD + ASD_GWAS\n",
      "487\n",
      "1.6010257084620947\n",
      "4.166145367077862e-36\n"
     ]
    }
   ],
   "source": [
    "from scipy.stats import hypergeom\n",
    "from scipy.stats import norm\n",
    "\n",
    "z_dict = {'atherosclerosis':atherosclerosis_z,'kartagener':kartagena_z,\n",
    "          'CHD':CHD_z,'ASD':ASD_z,'ASD_GWAS':ASD_GWAS_z}\n",
    "\n",
    "# save the num overlap and overlap p-val in dataframes\n",
    "\n",
    "focal_diseases = ['atherosclerosis','kartagener','CHD','ASD','ASD_GWAS']\n",
    "\n",
    "network_num_overlap = pd.DataFrame(np.zeros((len(focal_diseases),len(focal_diseases))),index=focal_diseases)\n",
    "network_num_overlap.columns = focal_diseases\n",
    "\n",
    "network_obs_exp = pd.DataFrame(np.zeros((len(focal_diseases),len(focal_diseases))),index=focal_diseases)\n",
    "network_obs_exp.columns = focal_diseases\n",
    "\n",
    "network_pval_overlap = pd.DataFrame(np.ones((len(focal_diseases),len(focal_diseases))),index=focal_diseases)\n",
    "network_pval_overlap.columns = focal_diseases\n",
    "\n",
    "network_exp_mean_overlap = pd.DataFrame(np.ones((len(focal_diseases),len(focal_diseases))),index=focal_diseases)\n",
    "network_exp_mean_overlap.columns = focal_diseases\n",
    "\n",
    "network_exp_std_overlap = pd.DataFrame(np.ones((len(focal_diseases),len(focal_diseases))),index=focal_diseases)\n",
    "network_exp_std_overlap.columns = focal_diseases\n",
    "\n",
    "\n",
    "for i in np.arange(len(focal_diseases)-1):\n",
    "    for j in np.arange(1+i,len(focal_diseases)):\n",
    "        d1=focal_diseases[i]\n",
    "        d2=focal_diseases[j]\n",
    "        z1=z_dict[d1]\n",
    "        z2=z_dict[d2]\n",
    "\n",
    "        # replace hypergeometric with permutation empirical p\n",
    "        z_d1d2_size,high_z_rand=calculate_expected_overlap(d1,d2,z1,z2,plot=False,numreps=100,zthresh=3)\n",
    "        ztemp = (z_d1d2_size-np.mean(high_z_rand))/np.std(high_z_rand)\n",
    "        ptemp = norm.sf(ztemp)\n",
    "        print(d1+' + '+d2)\n",
    "        print(z_d1d2_size)\n",
    "        obs_exp_temp = float(z_d1d2_size)/np.mean(high_z_rand)\n",
    "        print(obs_exp_temp)\n",
    "        print(ptemp)\n",
    "        \n",
    "        \n",
    "        network_num_overlap.loc[d1][d2]=z_d1d2_size\n",
    "        network_num_overlap.loc[d2][d1]=z_d1d2_size\n",
    "\n",
    "        network_pval_overlap.loc[d1][d2]=ptemp\n",
    "        network_pval_overlap.loc[d2][d1]=ptemp\n",
    "        \n",
    "        network_obs_exp.loc[d1][d2]=obs_exp_temp\n",
    "        network_obs_exp.loc[d2][d1]=obs_exp_temp\n",
    "        \n",
    "        network_exp_mean_overlap.loc[d1][d2]=np.mean(high_z_rand)\n",
    "        network_exp_mean_overlap.loc[d2][d1]=np.mean(high_z_rand)\n",
    "        \n",
    "        network_exp_std_overlap.loc[d1][d2]=np.std(high_z_rand)\n",
    "        network_exp_std_overlap.loc[d2][d1]=np.std(high_z_rand)\n",
    "        \n",
    "        "
   ]
  },
  {
   "cell_type": "code",
   "execution_count": 7,
   "metadata": {
    "scrolled": false
   },
   "outputs": [
    {
     "data": {
      "text/html": [
       "<div>\n",
       "<style scoped>\n",
       "    .dataframe tbody tr th:only-of-type {\n",
       "        vertical-align: middle;\n",
       "    }\n",
       "\n",
       "    .dataframe tbody tr th {\n",
       "        vertical-align: top;\n",
       "    }\n",
       "\n",
       "    .dataframe thead th {\n",
       "        text-align: right;\n",
       "    }\n",
       "</style>\n",
       "<table border=\"1\" class=\"dataframe\">\n",
       "  <thead>\n",
       "    <tr style=\"text-align: right;\">\n",
       "      <th></th>\n",
       "      <th>atherosclerosis</th>\n",
       "      <th>kartagener</th>\n",
       "      <th>CHD</th>\n",
       "      <th>ASD</th>\n",
       "      <th>ASD_GWAS</th>\n",
       "    </tr>\n",
       "  </thead>\n",
       "  <tbody>\n",
       "    <tr>\n",
       "      <th>atherosclerosis</th>\n",
       "      <td>0.0</td>\n",
       "      <td>139.0</td>\n",
       "      <td>586.0</td>\n",
       "      <td>263.0</td>\n",
       "      <td>337.0</td>\n",
       "    </tr>\n",
       "    <tr>\n",
       "      <th>kartagener</th>\n",
       "      <td>139.0</td>\n",
       "      <td>0.0</td>\n",
       "      <td>196.0</td>\n",
       "      <td>295.0</td>\n",
       "      <td>200.0</td>\n",
       "    </tr>\n",
       "    <tr>\n",
       "      <th>CHD</th>\n",
       "      <td>586.0</td>\n",
       "      <td>196.0</td>\n",
       "      <td>0.0</td>\n",
       "      <td>844.0</td>\n",
       "      <td>433.0</td>\n",
       "    </tr>\n",
       "    <tr>\n",
       "      <th>ASD</th>\n",
       "      <td>263.0</td>\n",
       "      <td>295.0</td>\n",
       "      <td>844.0</td>\n",
       "      <td>0.0</td>\n",
       "      <td>487.0</td>\n",
       "    </tr>\n",
       "    <tr>\n",
       "      <th>ASD_GWAS</th>\n",
       "      <td>337.0</td>\n",
       "      <td>200.0</td>\n",
       "      <td>433.0</td>\n",
       "      <td>487.0</td>\n",
       "      <td>0.0</td>\n",
       "    </tr>\n",
       "  </tbody>\n",
       "</table>\n",
       "</div>"
      ],
      "text/plain": [
       "                 atherosclerosis  kartagener    CHD    ASD  ASD_GWAS\n",
       "atherosclerosis              0.0       139.0  586.0  263.0     337.0\n",
       "kartagener                 139.0         0.0  196.0  295.0     200.0\n",
       "CHD                        586.0       196.0    0.0  844.0     433.0\n",
       "ASD                        263.0       295.0  844.0    0.0     487.0\n",
       "ASD_GWAS                   337.0       200.0  433.0  487.0       0.0"
      ]
     },
     "metadata": {},
     "output_type": "display_data"
    },
    {
     "data": {
      "text/html": [
       "<div>\n",
       "<style scoped>\n",
       "    .dataframe tbody tr th:only-of-type {\n",
       "        vertical-align: middle;\n",
       "    }\n",
       "\n",
       "    .dataframe tbody tr th {\n",
       "        vertical-align: top;\n",
       "    }\n",
       "\n",
       "    .dataframe thead th {\n",
       "        text-align: right;\n",
       "    }\n",
       "</style>\n",
       "<table border=\"1\" class=\"dataframe\">\n",
       "  <thead>\n",
       "    <tr style=\"text-align: right;\">\n",
       "      <th></th>\n",
       "      <th>atherosclerosis</th>\n",
       "      <th>kartagener</th>\n",
       "      <th>CHD</th>\n",
       "      <th>ASD</th>\n",
       "      <th>ASD_GWAS</th>\n",
       "    </tr>\n",
       "  </thead>\n",
       "  <tbody>\n",
       "    <tr>\n",
       "      <th>atherosclerosis</th>\n",
       "      <td>1.000000</td>\n",
       "      <td>1.000000</td>\n",
       "      <td>5.849883e-02</td>\n",
       "      <td>1.000000e+00</td>\n",
       "      <td>9.999224e-01</td>\n",
       "    </tr>\n",
       "    <tr>\n",
       "      <th>kartagener</th>\n",
       "      <td>1.000000</td>\n",
       "      <td>1.000000</td>\n",
       "      <td>9.999991e-01</td>\n",
       "      <td>2.788269e-01</td>\n",
       "      <td>4.305567e-01</td>\n",
       "    </tr>\n",
       "    <tr>\n",
       "      <th>CHD</th>\n",
       "      <td>0.058499</td>\n",
       "      <td>0.999999</td>\n",
       "      <td>1.000000e+00</td>\n",
       "      <td>5.715525e-186</td>\n",
       "      <td>1.516730e-24</td>\n",
       "    </tr>\n",
       "    <tr>\n",
       "      <th>ASD</th>\n",
       "      <td>1.000000</td>\n",
       "      <td>0.278827</td>\n",
       "      <td>5.715525e-186</td>\n",
       "      <td>1.000000e+00</td>\n",
       "      <td>4.166145e-36</td>\n",
       "    </tr>\n",
       "    <tr>\n",
       "      <th>ASD_GWAS</th>\n",
       "      <td>0.999922</td>\n",
       "      <td>0.430557</td>\n",
       "      <td>1.516730e-24</td>\n",
       "      <td>4.166145e-36</td>\n",
       "      <td>1.000000e+00</td>\n",
       "    </tr>\n",
       "  </tbody>\n",
       "</table>\n",
       "</div>"
      ],
      "text/plain": [
       "                 atherosclerosis  kartagener            CHD            ASD  \\\n",
       "atherosclerosis         1.000000    1.000000   5.849883e-02   1.000000e+00   \n",
       "kartagener              1.000000    1.000000   9.999991e-01   2.788269e-01   \n",
       "CHD                     0.058499    0.999999   1.000000e+00  5.715525e-186   \n",
       "ASD                     1.000000    0.278827  5.715525e-186   1.000000e+00   \n",
       "ASD_GWAS                0.999922    0.430557   1.516730e-24   4.166145e-36   \n",
       "\n",
       "                     ASD_GWAS  \n",
       "atherosclerosis  9.999224e-01  \n",
       "kartagener       4.305567e-01  \n",
       "CHD              1.516730e-24  \n",
       "ASD              4.166145e-36  \n",
       "ASD_GWAS         1.000000e+00  "
      ]
     },
     "metadata": {},
     "output_type": "display_data"
    }
   ],
   "source": [
    "# make sure significant overlaps have >0 overlapping genes\n",
    "network_pval_overlap = np.minimum(network_pval_overlap*(network_num_overlap>0)+(network_pval_overlap+1)*(network_num_overlap==0),1)\n",
    "\n",
    "display(network_num_overlap)\n",
    "display(network_pval_overlap)\n",
    "\n",
    "# network_num_overlap.to_csv('network_num_overlap_z'+str(zthresh)+'.tsv',sep='\\t')\n",
    "# (-np.log(network_pval_overlap)).to_csv('network_pval_overlap_z'+str(zthresh)+'_ATH_PSO_KART.tsv',sep='\\t')"
   ]
  },
  {
   "cell_type": "code",
   "execution_count": 8,
   "metadata": {},
   "outputs": [
    {
     "name": "stderr",
     "output_type": "stream",
     "text": [
      "/Users/brinrosenthal/anaconda3/envs/ipykernel_py2/lib/python2.7/site-packages/ipykernel_launcher.py:4: RuntimeWarning: divide by zero encountered in log2\n",
      "  after removing the cwd from sys.path.\n"
     ]
    },
    {
     "data": {
      "image/png": "[encoded data removed]",
      "text/plain": [
       "<Figure size 216x216 with 2 Axes>"
      ]
     },
     "metadata": {
      "needs_background": "light"
     },
     "output_type": "display_data"
    }
   ],
   "source": [
    "dlist = ['ASD','CHD','ASD_GWAS','kartagener','atherosclerosis']\n",
    "plt.figure(figsize=(3,3))\n",
    "mask = np.triu(np.ones_like(network_obs_exp.loc[dlist][dlist], dtype=np.bool))\n",
    "hfig=sns.heatmap(np.log2(network_obs_exp.loc[dlist][dlist]),cmap='RdGy_r',\n",
    "                 vmin=-1.5,vmax=1.5,square=True,cbar_kws={'label':'log2(obs/exp)\\nnetwork intersection'},\n",
    "                mask=mask)\n",
    "\n",
    "plt.xticks(fontsize=11)\n",
    "plt.yticks(fontsize=11)\n",
    "\n",
    "\n",
    "\n",
    "hfig.figure.axes[-1].yaxis.label.set_size(11)\n",
    "# plt.savefig('../../../manuscript/figures_1911/Figure3/Figure3_final assets/fold_change_heatmap_network_intersection.png',\n",
    "#            dpi=300,bbox_inches='tight')\n",
    "# plt.savefig('../../../manuscript/figures_1911/Figure3/Figure3_final assets/fold_change_heatmap_network_intersection.svg',\n",
    "#            dpi=300,bbox_inches='tight')"
   ]
  },
  {
   "cell_type": "code",
   "execution_count": null,
   "metadata": {},
   "outputs": [],
   "source": []
  },
  {
   "cell_type": "code",
   "execution_count": 9,
   "metadata": {},
   "outputs": [
    {
     "data": {
      "text/plain": [
       "(0, 950)"
      ]
     },
     "execution_count": 9,
     "metadata": {},
     "output_type": "execute_result"
    },
    {
     "data": {
      "image/png": "[encoded data removed]",
      "text/plain": [
       "<Figure size 86.4x144 with 1 Axes>"
      ]
     },
     "metadata": {
      "needs_background": "light"
     },
     "output_type": "display_data"
    }
   ],
   "source": [
    "dpairlist=[('ASD','CHD')]\n",
    "\n",
    "obs_temp_list = []\n",
    "exp_temp_list=[]\n",
    "exp_std_list = []\n",
    "xlabel_list=[]\n",
    "high_zrand_list = []\n",
    "for dpair in dpairlist:\n",
    "    d1=dpair[0]\n",
    "    d2=dpair[1]\n",
    "    z1=z_dict[d1]\n",
    "    z2=z_dict[d2]\n",
    "    # run the function again to get the distribution\n",
    "#     z_d1d2_size,high_z_rand=calculate_expected_overlap(d1,d2,z1,z2,plot=False,numreps=100,zthresh=3)\n",
    "#     high_zrand_list.append(high_z_rand)\n",
    "    obs_temp_list.append(network_num_overlap.loc[d1][d2])\n",
    "    exp_temp_list.append(network_exp_mean_overlap.loc[d1][d2])\n",
    "    exp_std_list.append(network_exp_std_overlap.loc[d1][d2])\n",
    "    xlabel_list.append(d1+'-'+d2)\n",
    "    \n",
    "    \n",
    "plt.figure(figsize=(1.2,2))\n",
    "plt.bar(np.arange(len(obs_temp_list))-.2,obs_temp_list,width=.38,color='black',label='observed')\n",
    "plt.bar(np.arange(len(exp_temp_list))+.2,exp_temp_list,width=.38,color='gray',label='expected')\n",
    "plt.errorbar(np.arange(len(exp_temp_list))+.2,exp_temp_list,exp_std_list,fmt='none',color='k',capsize=4)\n",
    "# plt.violinplot(high_zrand_list,positions=np.arange(len(exp_temp_list))+.2)\n",
    "plt.ylabel('# genes',fontsize=10)\n",
    "plt.xticks(np.arange(len(obs_temp_list)),['ASD-CHD\\nnetwork intersection'],fontsize=10,rotation='horizontal')\n",
    "plt.yticks(fontsize=10)\n",
    "plt.xlim([-1,1])\n",
    "plt.ylim([0,950])\n",
    "# plt.legend(loc='upper right',fontsize=11)\n",
    "# plt.savefig('../../../manuscript/figures_1911/Figure2/Figure2_final assets/num_net_intersection_genes_ASD_CHD.png',dpi=300,bbox_inches='tight')\n",
    "# plt.savefig('../../../manuscript/figures_1911/Figure2/Figure2_final assets/num_net_intersection_genes_ASD_CHD.svg',dpi=300,bbox_inches='tight')"
   ]
  },
  {
   "cell_type": "code",
   "execution_count": 10,
   "metadata": {},
   "outputs": [
    {
     "data": {
      "text/html": [
       "<div>\n",
       "<style scoped>\n",
       "    .dataframe tbody tr th:only-of-type {\n",
       "        vertical-align: middle;\n",
       "    }\n",
       "\n",
       "    .dataframe tbody tr th {\n",
       "        vertical-align: top;\n",
       "    }\n",
       "\n",
       "    .dataframe thead th {\n",
       "        text-align: right;\n",
       "    }\n",
       "</style>\n",
       "<table border=\"1\" class=\"dataframe\">\n",
       "  <thead>\n",
       "    <tr style=\"text-align: right;\">\n",
       "      <th></th>\n",
       "      <th>atherosclerosis</th>\n",
       "      <th>kartagener</th>\n",
       "      <th>CHD</th>\n",
       "      <th>ASD</th>\n",
       "      <th>ASD_GWAS</th>\n",
       "    </tr>\n",
       "  </thead>\n",
       "  <tbody>\n",
       "    <tr>\n",
       "      <th>atherosclerosis</th>\n",
       "      <td>1.000000</td>\n",
       "      <td>16.850887</td>\n",
       "      <td>19.993609</td>\n",
       "      <td>18.439878</td>\n",
       "      <td>19.209487</td>\n",
       "    </tr>\n",
       "    <tr>\n",
       "      <th>kartagener</th>\n",
       "      <td>16.850887</td>\n",
       "      <td>1.000000</td>\n",
       "      <td>13.802159</td>\n",
       "      <td>14.428735</td>\n",
       "      <td>13.831977</td>\n",
       "    </tr>\n",
       "    <tr>\n",
       "      <th>CHD</th>\n",
       "      <td>19.993609</td>\n",
       "      <td>13.802159</td>\n",
       "      <td>1.000000</td>\n",
       "      <td>15.162309</td>\n",
       "      <td>14.915415</td>\n",
       "    </tr>\n",
       "    <tr>\n",
       "      <th>ASD</th>\n",
       "      <td>18.439878</td>\n",
       "      <td>14.428735</td>\n",
       "      <td>15.162309</td>\n",
       "      <td>1.000000</td>\n",
       "      <td>14.635833</td>\n",
       "    </tr>\n",
       "    <tr>\n",
       "      <th>ASD_GWAS</th>\n",
       "      <td>19.209487</td>\n",
       "      <td>13.831977</td>\n",
       "      <td>14.915415</td>\n",
       "      <td>14.635833</td>\n",
       "      <td>1.000000</td>\n",
       "    </tr>\n",
       "  </tbody>\n",
       "</table>\n",
       "</div>"
      ],
      "text/plain": [
       "                 atherosclerosis  kartagener        CHD        ASD   ASD_GWAS\n",
       "atherosclerosis         1.000000   16.850887  19.993609  18.439878  19.209487\n",
       "kartagener             16.850887    1.000000  13.802159  14.428735  13.831977\n",
       "CHD                    19.993609   13.802159   1.000000  15.162309  14.915415\n",
       "ASD                    18.439878   14.428735  15.162309   1.000000  14.635833\n",
       "ASD_GWAS               19.209487   13.831977  14.915415  14.635833   1.000000"
      ]
     },
     "execution_count": 10,
     "metadata": {},
     "output_type": "execute_result"
    }
   ],
   "source": [
    "network_exp_std_overlap"
   ]
  },
  {
   "cell_type": "code",
   "execution_count": null,
   "metadata": {},
   "outputs": [],
   "source": []
  }
 ],
 "metadata": {
  "kernelspec": {
   "display_name": "Python 2",
   "language": "python",
   "name": "python2"
  },
  "language_info": {
   "codemirror_mode": {
    "name": "ipython",
    "version": 2
   },
   "file_extension": ".py",
   "mimetype": "text/x-python",
   "name": "python",
   "nbconvert_exporter": "python",
   "pygments_lexer": "ipython2",
   "version": "2.7.17"
  }
 },
 "nbformat": 4,
 "nbformat_minor": 2
}
