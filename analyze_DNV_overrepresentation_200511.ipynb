{
 "cells": [
  {
   "cell_type": "markdown",
   "metadata": {},
   "source": [
    "# DNV overrepresentation in network proximity to high confidence genes\n",
    "\n",
    "- First run network propagation from each high confidence set, on each interactome (use netprop_zscore.py  - we ran it on AWS).  Requires graphs in gpickle format, and high confidence gene sets.\n",
    "\n",
    "-------------------\n",
    "\n",
    "Author: Brin Rosenthal (sbrosenthal@ucsd.edu)\n",
    "\n",
    "-------------------\n",
    "Update 4/28/20: more cleanup\n",
    "\n",
    "Update 7/3/19: to remove extraneous code, add comments, and clarify\n",
    "\n",
    "Update 4/11/19: removed patients with DNVs in HC genes from enrichment.  Did not affect the results"
   ]
  },
  {
   "cell_type": "code",
   "execution_count": 15,
   "metadata": {},
   "outputs": [],
   "source": [
    "import numpy as np\n",
    "import matplotlib.pyplot as plt\n",
    "import seaborn as sns\n",
    "import networkx as nx\n",
    "import pandas as pd\n",
    "import random\n",
    "\n",
    "\n",
    "# latex rendering of text in graphs\n",
    "import matplotlib as mpl\n",
    "mpl.rc('text', usetex = False)\n",
    "mpl.rc('font', family = 'serif')\n",
    "\n",
    "from matplotlib import rcParams\n",
    "rcParams['font.family'] = 'sans-serif'\n",
    "rcParams['font.sans-serif'] = ['Arial']\n",
    "\n",
    "sns.set_style('white')\n",
    "sns.set_style(\"ticks\", {\"xtick.major.size\": 15, \"ytick.major.size\": 15})\n",
    "plt.rcParams['svg.fonttype'] = 'none'\n",
    "import sys\n",
    "\n",
    "% matplotlib inline\n",
    "\n",
    "# for better labeling\n",
    "import adjustText"
   ]
  },
  {
   "cell_type": "code",
   "execution_count": null,
   "metadata": {},
   "outputs": [],
   "source": []
  },
  {
   "cell_type": "markdown",
   "metadata": {},
   "source": [
    "# Load ASD, CHD genesets\n",
    "\n",
    "ASD HC genes come from table 4 in http://www.cell.com/neuron/fulltext/S0896-6273(15)00773-4 "
   ]
  },
  {
   "cell_type": "code",
   "execution_count": 16,
   "metadata": {},
   "outputs": [
    {
     "data": {
      "text/plain": [
       "65"
      ]
     },
     "execution_count": 16,
     "metadata": {},
     "output_type": "execute_result"
    }
   ],
   "source": [
    "# ------- ASD HC genes -------\n",
    "\n",
    "ASD_HC = pd.read_csv('../../data/ASD_HC.txt',names=['HC_genes'])\n",
    "\n",
    "ASD_HC = ASD_HC['HC_genes'].tolist()\n",
    "len(ASD_HC)\n",
    "\n"
   ]
  },
  {
   "cell_type": "code",
   "execution_count": 17,
   "metadata": {},
   "outputs": [
    {
     "data": {
      "text/plain": [
       "66"
      ]
     },
     "execution_count": 17,
     "metadata": {},
     "output_type": "execute_result"
    }
   ],
   "source": [
    "# ------- High confidence CHD genes -------\n",
    "\n",
    "# Load congenital heart defect recurring DNVs (from http://science.sciencemag.org/content/sci/350/6265/1262.full.pdf)\n",
    "\n",
    "CHD_seed_type='CHD_full' # can be 'CHD_withNDD', 'CHD_full', or 'CHD_only'\n",
    "\n",
    "\n",
    "if CHD_seed_type=='CHD_full':\n",
    "    # new HC genes:\n",
    "    CHD_HC = pd.read_csv('../../data/CHD_HC_new.txt',names=['HC_genes'])\n",
    "elif CHD_seed_type=='CHD_withNDD':\n",
    "    CHD_HC = pd.read_csv('../../data/CHD_withNDD_HC_new.txt',names=['HC_genes'])\n",
    "elif CHD_seed_type=='CHD_only':\n",
    "    CHD_HC = pd.read_csv('../../data/CHD_only_HC_new.txt',names=['HC_genes'])\n",
    "\n",
    "CHD_HC = CHD_HC['HC_genes'].tolist()\n",
    "len(CHD_HC)"
   ]
  },
  {
   "cell_type": "code",
   "execution_count": 18,
   "metadata": {},
   "outputs": [
    {
     "data": {
      "text/plain": [
       "original_symbol\n",
       "A2M          A2M\n",
       "A2ML1      A2ML1\n",
       "AASS        AASS\n",
       "ABCA1      ABCA1\n",
       "ABCA13    ABCA13\n",
       "Name: symbol, dtype: object"
      ]
     },
     "execution_count": 18,
     "metadata": {},
     "output_type": "execute_result"
    }
   ],
   "source": [
    "# Some gene symbols in the data were out of date (not consistent with networks) -- load mapping\n",
    "map_old_new = pd.read_csv('../../data/ASD_EPI_CHD_HC_and_DNVs_symbol_gene_description.txt',sep='\\t')\n",
    "map_old_new.index=map_old_new['original_symbol']\n",
    "map_old_new = map_old_new['symbol']\n",
    "map_old_new.head()"
   ]
  },
  {
   "cell_type": "code",
   "execution_count": null,
   "metadata": {},
   "outputs": [],
   "source": []
  },
  {
   "cell_type": "code",
   "execution_count": 21,
   "metadata": {},
   "outputs": [
    {
     "name": "stdout",
     "output_type": "stream",
     "text": [
      "number patients with a damaging ASD DNV (not in seed gene set):\n",
      "630\n",
      "number damaging ASD DNV (in patients which also have no seed gene variants):\n",
      "592\n",
      "['A2ML1', 'AASS', 'ABCA1', 'ABCA13', 'ABCA7', 'ABCB9', 'ABCG1', 'ABI2', 'ABL1', 'ABL2']\n"
     ]
    },
    {
     "data": {
      "text/html": [
       "<div>\n",
       "<style scoped>\n",
       "    .dataframe tbody tr th:only-of-type {\n",
       "        vertical-align: middle;\n",
       "    }\n",
       "\n",
       "    .dataframe tbody tr th {\n",
       "        vertical-align: top;\n",
       "    }\n",
       "\n",
       "    .dataframe thead th {\n",
       "        text-align: right;\n",
       "    }\n",
       "</style>\n",
       "<table border=\"1\" class=\"dataframe\">\n",
       "  <thead>\n",
       "    <tr style=\"text-align: right;\">\n",
       "      <th></th>\n",
       "      <th>Study</th>\n",
       "      <th>CHR</th>\n",
       "      <th>POS</th>\n",
       "      <th>REF</th>\n",
       "      <th>ALT</th>\n",
       "      <th>Proband ID</th>\n",
       "      <th>Class</th>\n",
       "      <th>Class (2)</th>\n",
       "      <th>Gene</th>\n",
       "      <th>Ensembl Gene ID</th>\n",
       "      <th>AA1</th>\n",
       "      <th>AA2</th>\n",
       "      <th>dbNSFP Meta-SVM Rankscore</th>\n",
       "    </tr>\n",
       "  </thead>\n",
       "  <tbody>\n",
       "    <tr>\n",
       "      <th>0</th>\n",
       "      <td>ASC</td>\n",
       "      <td>1</td>\n",
       "      <td>897739</td>\n",
       "      <td>T</td>\n",
       "      <td>C</td>\n",
       "      <td>09C87513</td>\n",
       "      <td>missense</td>\n",
       "      <td>D-mis</td>\n",
       "      <td>KLHL17</td>\n",
       "      <td>ENSG00000187961</td>\n",
       "      <td>L</td>\n",
       "      <td>P</td>\n",
       "      <td>0.87685</td>\n",
       "    </tr>\n",
       "    <tr>\n",
       "      <th>1</th>\n",
       "      <td>SSC</td>\n",
       "      <td>1</td>\n",
       "      <td>1222518</td>\n",
       "      <td>C</td>\n",
       "      <td>A</td>\n",
       "      <td>11563.p1</td>\n",
       "      <td>nonsense</td>\n",
       "      <td>lof</td>\n",
       "      <td>SCNN1D</td>\n",
       "      <td>ENSG00000162572</td>\n",
       "      <td>NaN</td>\n",
       "      <td>NaN</td>\n",
       "      <td>NaN</td>\n",
       "    </tr>\n",
       "    <tr>\n",
       "      <th>2</th>\n",
       "      <td>ASC</td>\n",
       "      <td>1</td>\n",
       "      <td>2234766</td>\n",
       "      <td>C</td>\n",
       "      <td>T</td>\n",
       "      <td>08C78919</td>\n",
       "      <td>nonsense</td>\n",
       "      <td>lof</td>\n",
       "      <td>SKI</td>\n",
       "      <td>ENSG00000157933</td>\n",
       "      <td>NaN</td>\n",
       "      <td>NaN</td>\n",
       "      <td>NaN</td>\n",
       "    </tr>\n",
       "    <tr>\n",
       "      <th>3</th>\n",
       "      <td>SSC</td>\n",
       "      <td>1</td>\n",
       "      <td>3519049</td>\n",
       "      <td>AC</td>\n",
       "      <td>A</td>\n",
       "      <td>14075.p1</td>\n",
       "      <td>frameshift</td>\n",
       "      <td>lof</td>\n",
       "      <td>MEGF6</td>\n",
       "      <td>ENSG00000162591</td>\n",
       "      <td>NaN</td>\n",
       "      <td>NaN</td>\n",
       "      <td>NaN</td>\n",
       "    </tr>\n",
       "    <tr>\n",
       "      <th>4</th>\n",
       "      <td>SSC</td>\n",
       "      <td>1</td>\n",
       "      <td>11205057</td>\n",
       "      <td>T</td>\n",
       "      <td>C</td>\n",
       "      <td>11104.p1</td>\n",
       "      <td>missense</td>\n",
       "      <td>D-mis</td>\n",
       "      <td>MTOR</td>\n",
       "      <td>ENSG00000198793</td>\n",
       "      <td>M</td>\n",
       "      <td>V</td>\n",
       "      <td>0.83852</td>\n",
       "    </tr>\n",
       "  </tbody>\n",
       "</table>\n",
       "</div>"
      ],
      "text/plain": [
       "  Study CHR       POS REF ALT Proband ID       Class Class (2)    Gene  \\\n",
       "0   ASC   1    897739   T   C   09C87513    missense     D-mis  KLHL17   \n",
       "1   SSC   1   1222518   C   A   11563.p1    nonsense       lof  SCNN1D   \n",
       "2   ASC   1   2234766   C   T   08C78919    nonsense       lof     SKI   \n",
       "3   SSC   1   3519049  AC   A   14075.p1  frameshift       lof   MEGF6   \n",
       "4   SSC   1  11205057   T   C   11104.p1    missense     D-mis    MTOR   \n",
       "\n",
       "   Ensembl Gene ID  AA1  AA2  dbNSFP Meta-SVM Rankscore  \n",
       "0  ENSG00000187961    L    P                    0.87685  \n",
       "1  ENSG00000162572  NaN  NaN                        NaN  \n",
       "2  ENSG00000157933  NaN  NaN                        NaN  \n",
       "3  ENSG00000162591  NaN  NaN                        NaN  \n",
       "4  ENSG00000198793    M    V                    0.83852  "
      ]
     },
     "execution_count": 21,
     "metadata": {},
     "output_type": "execute_result"
    }
   ],
   "source": [
    "# Load all NDD DNVs (from 2015 CHD paper), extract SSC DNVs (autism)\n",
    "NDD_df = pd.read_excel('../../data/CHD_NDD_databases/homsy_database_S08.xlsx',skiprows=1)\n",
    "\n",
    "# ------------ Update 4/11 ------------\n",
    "# Exclude patients with variants in the HC genes (Trey's comment)\n",
    "NDD_df = NDD_df[~NDD_df['Gene'].isin(ASD_HC+CHD_HC)]\n",
    "# ------------------------------------\n",
    "\n",
    "ASD_DNV = NDD_df[NDD_df['Study']=='SSC']\n",
    "print('number patients with a damaging ASD DNV (not in seed gene set):')\n",
    "print(len(ASD_DNV))\n",
    "ASD_DNV_VC = ASD_DNV['Gene'].value_counts() # count recurrences\n",
    "ASD_DNV = list(np.unique(ASD_DNV['Gene'].tolist()))\n",
    "\n",
    "\n",
    "print('number damaging ASD DNV (in patients which also have no seed gene variants):')\n",
    "print(len(map_old_new.loc[ASD_DNV].dropna()))\n",
    "ASD_DNV = map_old_new.loc[ASD_DNV].tolist()\n",
    "\n",
    "\n",
    "\n",
    "\n",
    "print(ASD_DNV[0:10])\n",
    "NDD_df.head()\n"
   ]
  },
  {
   "cell_type": "code",
   "execution_count": 22,
   "metadata": {},
   "outputs": [
    {
     "name": "stdout",
     "output_type": "stream",
     "text": [
      "32\n",
      "[]\n"
     ]
    }
   ],
   "source": [
    "print(sum(ASD_DNV_VC>1)) # number recurrent ASD -- no seeds\n",
    "print(np.intersect1d(ASD_DNV_VC[ASD_DNV_VC>1].index.tolist(),ASD_HC)) # make sure there are no seeds in the data"
   ]
  },
  {
   "cell_type": "code",
   "execution_count": null,
   "metadata": {},
   "outputs": [],
   "source": []
  },
  {
   "cell_type": "code",
   "execution_count": 23,
   "metadata": {},
   "outputs": [
    {
     "name": "stdout",
     "output_type": "stream",
     "text": [
      "2990\n",
      "2760\n",
      "number damaging CHD DNVs:\n",
      "629\n",
      "\n",
      "number recurrent damaging CHD DNVs:\n",
      "0\n",
      "\n",
      "number damaging CHD DNVs with NDD:\n",
      "155\n",
      "\n",
      "number damaging unique CHD DNVs with NDD:\n",
      "155\n",
      "\n",
      "number damaging CHD DNVs without NDD:\n",
      "270\n"
     ]
    }
   ],
   "source": [
    "# Load all CHD DNVs (from 2017 paper)\n",
    "\n",
    "CHD_DNV_df = pd.read_excel('../../data/CHD_databases_2017_paper/ng.3970-S3.xlsx',sheetname='S9',skiprows=1)\n",
    "CHD_DNV_df.index=CHD_DNV_df['Blinded ID']\n",
    "\n",
    "# exclude patients which have variants in HC genes -- from Trey's comment April 2019\n",
    "print(len(CHD_DNV_df))\n",
    "CHD_DNV_df = CHD_DNV_df[~CHD_DNV_df['Gene'].isin(ASD_HC+CHD_HC)]\n",
    "print(len(CHD_DNV_df))\n",
    "\n",
    "# apply the same filtering as for old data\n",
    "CHD_DNV = CHD_DNV_df[(CHD_DNV_df['Variant_Class']!='syn')*(CHD_DNV_df['Variant_Class']!='mis')]\n",
    "print('number damaging CHD DNVs:')\n",
    "print(len(CHD_DNV))\n",
    "\n",
    "CHD_DNV_VC = CHD_DNV['Gene'].value_counts() # count recurrences-- should be 0 because we removed them\n",
    "print('\\nnumber recurrent damaging CHD DNVs:')\n",
    "print(sum(CHD_DNV_VC>1))\n",
    "\n",
    "DNV_withNDD = CHD_DNV[CHD_DNV['NDD']=='Yes']\n",
    "print('\\nnumber damaging CHD DNVs with NDD:')\n",
    "print(len(DNV_withNDD)) # number of patients\n",
    "DNV_withNDD = DNV_withNDD['Gene'].unique().tolist()\n",
    "print('\\nnumber damaging unique CHD DNVs with NDD:')\n",
    "print(len(DNV_withNDD)) # number of genes\n",
    "\n",
    "DNV_noNDD = CHD_DNV[CHD_DNV['NDD']=='No']\n",
    "DNV_noNDD = DNV_noNDD['Gene'].unique().tolist()\n",
    "print('\\nnumber damaging CHD DNVs without NDD:')\n",
    "print(len(DNV_noNDD))\n"
   ]
  },
  {
   "cell_type": "code",
   "execution_count": 24,
   "metadata": {},
   "outputs": [
    {
     "name": "stdout",
     "output_type": "stream",
     "text": [
      "1700\n",
      "574\n"
     ]
    }
   ],
   "source": [
    "print(len(CHD_DNV_df['Blinded ID'].unique())) # num in CHD cohort\n",
    "print(sum(CHD_DNV_df['NDD']=='Yes'))"
   ]
  },
  {
   "cell_type": "code",
   "execution_count": 25,
   "metadata": {},
   "outputs": [
    {
     "name": "stdout",
     "output_type": "stream",
     "text": [
      "53\n"
     ]
    }
   ],
   "source": [
    "print(len(np.intersect1d(CHD_DNV['Gene'].tolist(),ASD_DNV)))"
   ]
  },
  {
   "cell_type": "code",
   "execution_count": null,
   "metadata": {},
   "outputs": [],
   "source": []
  },
  {
   "cell_type": "markdown",
   "metadata": {},
   "source": [
    "# Load the control DNVs"
   ]
  },
  {
   "cell_type": "code",
   "execution_count": 26,
   "metadata": {},
   "outputs": [
    {
     "name": "stdout",
     "output_type": "stream",
     "text": [
      "number control DNVs:\n",
      "193\n"
     ]
    },
    {
     "data": {
      "text/html": [
       "<div>\n",
       "<style scoped>\n",
       "    .dataframe tbody tr th:only-of-type {\n",
       "        vertical-align: middle;\n",
       "    }\n",
       "\n",
       "    .dataframe tbody tr th {\n",
       "        vertical-align: top;\n",
       "    }\n",
       "\n",
       "    .dataframe thead th {\n",
       "        text-align: right;\n",
       "    }\n",
       "</style>\n",
       "<table border=\"1\" class=\"dataframe\">\n",
       "  <thead>\n",
       "    <tr style=\"text-align: right;\">\n",
       "      <th></th>\n",
       "      <th>Blinded ID</th>\n",
       "      <th>CHROM</th>\n",
       "      <th>POS</th>\n",
       "      <th>REF</th>\n",
       "      <th>ALT</th>\n",
       "      <th>Gene</th>\n",
       "      <th>Ensembl Gene ID</th>\n",
       "      <th>Variant Class</th>\n",
       "      <th>AA Change</th>\n",
       "      <th>dbNSFP Meta-SVM Rankscore</th>\n",
       "      <th>Comments</th>\n",
       "    </tr>\n",
       "    <tr>\n",
       "      <th>Blinded ID</th>\n",
       "      <th></th>\n",
       "      <th></th>\n",
       "      <th></th>\n",
       "      <th></th>\n",
       "      <th></th>\n",
       "      <th></th>\n",
       "      <th></th>\n",
       "      <th></th>\n",
       "      <th></th>\n",
       "      <th></th>\n",
       "      <th></th>\n",
       "    </tr>\n",
       "  </thead>\n",
       "  <tbody>\n",
       "    <tr>\n",
       "      <th>11003.s1</th>\n",
       "      <td>11003.s1</td>\n",
       "      <td>1</td>\n",
       "      <td>202715044</td>\n",
       "      <td>G</td>\n",
       "      <td>C</td>\n",
       "      <td>KDM5B</td>\n",
       "      <td>ENSG00000117139</td>\n",
       "      <td>Nonsense</td>\n",
       "      <td>NaN</td>\n",
       "      <td>NaN</td>\n",
       "      <td>NaN</td>\n",
       "    </tr>\n",
       "    <tr>\n",
       "      <th>11003.s1</th>\n",
       "      <td>11003.s1</td>\n",
       "      <td>5</td>\n",
       "      <td>178139609</td>\n",
       "      <td>G</td>\n",
       "      <td>A</td>\n",
       "      <td>ZNF354A</td>\n",
       "      <td>ENSG00000169131</td>\n",
       "      <td>Nonsense</td>\n",
       "      <td>NaN</td>\n",
       "      <td>NaN</td>\n",
       "      <td>NaN</td>\n",
       "    </tr>\n",
       "    <tr>\n",
       "      <th>11003.s1</th>\n",
       "      <td>11003.s1</td>\n",
       "      <td>16</td>\n",
       "      <td>70819649</td>\n",
       "      <td>C</td>\n",
       "      <td>A</td>\n",
       "      <td>VAC14</td>\n",
       "      <td>ENSG00000103043</td>\n",
       "      <td>Missense</td>\n",
       "      <td>A127S</td>\n",
       "      <td>0.08066</td>\n",
       "      <td>NaN</td>\n",
       "    </tr>\n",
       "    <tr>\n",
       "      <th>11003.s1</th>\n",
       "      <td>11003.s1</td>\n",
       "      <td>X</td>\n",
       "      <td>48374469</td>\n",
       "      <td>C</td>\n",
       "      <td>T</td>\n",
       "      <td>PORCN</td>\n",
       "      <td>ENSG00000102312</td>\n",
       "      <td>Missense</td>\n",
       "      <td>R288W</td>\n",
       "      <td>0.65878</td>\n",
       "      <td>NaN</td>\n",
       "    </tr>\n",
       "    <tr>\n",
       "      <th>11008.s1</th>\n",
       "      <td>11008.s1</td>\n",
       "      <td>12</td>\n",
       "      <td>94769688</td>\n",
       "      <td>G</td>\n",
       "      <td>A</td>\n",
       "      <td>CCDC41</td>\n",
       "      <td>ENSG00000173588</td>\n",
       "      <td>Nonsense</td>\n",
       "      <td>NaN</td>\n",
       "      <td>NaN</td>\n",
       "      <td>NaN</td>\n",
       "    </tr>\n",
       "  </tbody>\n",
       "</table>\n",
       "</div>"
      ],
      "text/plain": [
       "           Blinded ID CHROM        POS REF ALT     Gene  Ensembl Gene ID  \\\n",
       "Blinded ID                                                                 \n",
       "11003.s1     11003.s1     1  202715044   G   C    KDM5B  ENSG00000117139   \n",
       "11003.s1     11003.s1     5  178139609   G   A  ZNF354A  ENSG00000169131   \n",
       "11003.s1     11003.s1    16   70819649   C   A    VAC14  ENSG00000103043   \n",
       "11003.s1     11003.s1     X   48374469   C   T    PORCN  ENSG00000102312   \n",
       "11008.s1     11008.s1    12   94769688   G   A   CCDC41  ENSG00000173588   \n",
       "\n",
       "           Variant Class AA Change dbNSFP Meta-SVM Rankscore Comments  \n",
       "Blinded ID                                                             \n",
       "11003.s1        Nonsense       NaN                       NaN      NaN  \n",
       "11003.s1        Nonsense       NaN                       NaN      NaN  \n",
       "11003.s1        Missense     A127S                   0.08066      NaN  \n",
       "11003.s1        Missense     R288W                   0.65878      NaN  \n",
       "11008.s1        Nonsense       NaN                       NaN      NaN  "
      ]
     },
     "execution_count": 26,
     "metadata": {},
     "output_type": "execute_result"
    }
   ],
   "source": [
    "# Same in new version \n",
    "\n",
    "# Load all Control DNVs (from Database S3 in http://science.sciencemag.org/content/sci/350/6265/1262.full.pdf)\n",
    "ctrl_DNV_df = pd.read_excel('../../data/CHD_NDD_databases/homsy_database_S03.xlsx',skiprows=1)\n",
    "# exclude synonymous and non-damaging missense\n",
    "ctrl_DNV = ctrl_DNV_df[(ctrl_DNV_df['Variant Class']!='Synonymous')*(ctrl_DNV_df['Variant Class']!='Missense')] \n",
    "#CHD_DNV = CHD_DNV_df[(CHD_DNV_df['Variant Class']!='Synonymous')] \n",
    "ctrl_DNV_VC = ctrl_DNV['Gene'].value_counts() # count recurrences\n",
    "#CHD_DNV = CHD_DNV_df\n",
    "ctrl_DNV = list(np.unique(ctrl_DNV['Gene'].tolist()))\n",
    "ctrl_DNV_df.index=ctrl_DNV_df['Blinded ID']\n",
    "print('number control DNVs:')\n",
    "print(len(ctrl_DNV))\n",
    "#print(len(map_old_new.loc[ctrl_DNV].dropna()))\n",
    "#ctrl_DNV = map_old_new.loc[ctrl_DNV].tolist()\n",
    "ctrl_DNV_df.head()"
   ]
  },
  {
   "cell_type": "code",
   "execution_count": null,
   "metadata": {},
   "outputs": [],
   "source": []
  },
  {
   "cell_type": "markdown",
   "metadata": {},
   "source": [
    "# Define gene sets for rest of analysis"
   ]
  },
  {
   "cell_type": "code",
   "execution_count": 27,
   "metadata": {},
   "outputs": [
    {
     "name": "stdout",
     "output_type": "stream",
     "text": [
      "number ASD high confidence genes:\n",
      "65\n",
      "\n",
      "number CHD high confidence genes:\n",
      "66\n",
      "\n",
      "number shared high confidence genes\n",
      "5\n"
     ]
    }
   ],
   "source": [
    "# pick out which gene sets to investigate\n",
    "genes_ASD = ASD_HC\n",
    "print('number ASD high confidence genes:')\n",
    "print(len(genes_ASD))\n",
    "genes_CHD = CHD_HC\n",
    "print('\\nnumber CHD high confidence genes:')\n",
    "print(len(genes_CHD))\n",
    "\n",
    "print('\\nnumber shared high confidence genes')\n",
    "print(len(np.intersect1d(ASD_HC,CHD_HC)))"
   ]
  },
  {
   "cell_type": "markdown",
   "metadata": {},
   "source": [
    "# Load previously computed network prop z-scores, and define and load interactome"
   ]
  },
  {
   "cell_type": "code",
   "execution_count": 28,
   "metadata": {},
   "outputs": [],
   "source": [
    "# load previously computed z-scores and focal interactome\n",
    "import scipy\n",
    "\n",
    "num_reps = 5000\n",
    "focal_interactome='PCnet'\n",
    "rand_method = 'degree_binning' # can be 'degree_binning' or 'degree_ks_test' (deprecated)\n",
    "\n",
    "z_ASD = pd.read_csv('../z_score_results/new_CHD_cohort/z_ASD_'+str(num_reps)+'_reps'+focal_interactome+'_'+rand_method+'.tsv',\n",
    "                sep='\\t',names=['gene','zscore'],index_col='gene')\n",
    "if CHD_seed_type=='CHD_full':\n",
    "    z_CHD = pd.read_csv('../z_score_results/new_CHD_cohort/z_CHD_'+str(num_reps)+'_reps'+focal_interactome+'_'+rand_method+'.tsv',\n",
    "                       sep='\\t',names=['gene','zscore'],index_col='gene')\n",
    "elif CHD_seed_type=='CHD_withNDD':\n",
    "    z_CHD = pd.read_csv('../z_score_results/new_CHD_cohort/z_CHD_withNDD_'+str(num_reps)+'_reps'+focal_interactome+'_'+rand_method+'.tsv',\n",
    "                       sep='\\t',names=['gene','zscore'],index_col='gene')\n",
    "elif CHD_seed_type=='CHD_only':\n",
    "    z_CHD = pd.read_csv('../z_score_results/new_CHD_cohort/z_CHD_only_'+str(num_reps)+'_reps'+focal_interactome+'_'+rand_method+'.tsv',\n",
    "                       sep='\\t',names=['gene','zscore'],index_col='gene')\n",
    "\n",
    "\n",
    "\n",
    "z_ASD = z_ASD['zscore'].copy()\n",
    "z_CHD = z_CHD['zscore'].copy()\n",
    "\n",
    "\n",
    "                    \n",
    "\n",
    "    "
   ]
  },
  {
   "cell_type": "code",
   "execution_count": null,
   "metadata": {},
   "outputs": [],
   "source": []
  },
  {
   "cell_type": "code",
   "execution_count": 29,
   "metadata": {},
   "outputs": [],
   "source": [
    "# reload the focal interactome (used to have more options... now we just use PCnet)\n",
    "if focal_interactome=='PCnet':\n",
    "    Gint = nx.read_gpickle('/Users/brinrosenthal/Documents/CCBB_tickets_data/PCnet/G_PCnet.gpickle')\n",
    "    \n"
   ]
  },
  {
   "cell_type": "code",
   "execution_count": 30,
   "metadata": {},
   "outputs": [
    {
     "name": "stdout",
     "output_type": "stream",
     "text": [
      "number edges in interactome:\n",
      "2724724\n",
      "\n",
      "number nodes in interactome\n",
      "19781\n"
     ]
    }
   ],
   "source": [
    "print('number edges in interactome:')\n",
    "print(len(Gint.edges()))\n",
    "print('\\nnumber nodes in interactome')\n",
    "print(len(Gint.nodes()))"
   ]
  },
  {
   "cell_type": "code",
   "execution_count": 31,
   "metadata": {},
   "outputs": [],
   "source": [
    "# load previously computed paired z-scores (computed on AWS during propagation)\n",
    "\n",
    "z_ASD_CHD = pd.read_csv('../z_score_results/new_CHD_cohort/z_ASD_CHD'+str(num_reps)+'_reps'+focal_interactome+'_'+rand_method+'.tsv',\n",
    "                    sep='\\t',names=['gene','zscore'],index_col='gene')\n",
    "z_ASD_CHD = z_ASD_CHD['zscore'].copy()\n",
    "\n",
    "\n",
    "    "
   ]
  },
  {
   "cell_type": "markdown",
   "metadata": {},
   "source": [
    "# Plot location of DNVs in single z-score distributions, calculate KS statistic between DNV z-scores and full z-scores"
   ]
  },
  {
   "cell_type": "code",
   "execution_count": 32,
   "metadata": {
    "scrolled": false
   },
   "outputs": [
    {
     "name": "stdout",
     "output_type": "stream",
     "text": [
      "gene\n",
      "MED13L    4.215628\n",
      "PBRM1     4.207929\n",
      "VPS13D    4.089686\n",
      "PNPLA7    3.975127\n",
      "SETD2     3.852171\n",
      "Name: zscore, dtype: float64\n",
      "Ks_2sampResult(statistic=0.18422387374400706, pvalue=1.8436699434456862e-17)\n",
      "gene\n",
      "VSIG1    7.312675\n",
      "CNTN2    4.981746\n",
      "RYR2     3.770345\n",
      "ITPR3    3.681369\n",
      "TRPC5    3.616511\n",
      "Name: zscore, dtype: float64\n",
      "Ks_2sampResult(statistic=0.16602458042985563, pvalue=3.4440900932548084e-15)\n"
     ]
    },
    {
     "name": "stderr",
     "output_type": "stream",
     "text": [
      "/Users/brinrosenthal/anaconda3/envs/ipykernel_py2/lib/python2.7/site-packages/ipykernel_launcher.py:8: FutureWarning: \n",
      "Passing list-likes to .loc or [] with any missing label will raise\n",
      "KeyError in the future, you can use .reindex() as an alternative.\n",
      "\n",
      "See the documentation here:\n",
      "https://pandas.pydata.org/pandas-docs/stable/indexing.html#deprecate-loc-reindex-listlike\n",
      "  \n",
      "/Users/brinrosenthal/anaconda3/envs/ipykernel_py2/lib/python2.7/site-packages/ipykernel_launcher.py:13: FutureWarning: \n",
      "Passing list-likes to .loc or [] with any missing label will raise\n",
      "KeyError in the future, you can use .reindex() as an alternative.\n",
      "\n",
      "See the documentation here:\n",
      "https://pandas.pydata.org/pandas-docs/stable/indexing.html#deprecate-loc-reindex-listlike\n",
      "  del sys.path[0]\n",
      "/Users/brinrosenthal/anaconda3/envs/ipykernel_py2/lib/python2.7/site-packages/ipykernel_launcher.py:25: FutureWarning: \n",
      "Passing list-likes to .loc or [] with any missing label will raise\n",
      "KeyError in the future, you can use .reindex() as an alternative.\n",
      "\n",
      "See the documentation here:\n",
      "https://pandas.pydata.org/pandas-docs/stable/indexing.html#deprecate-loc-reindex-listlike\n",
      "/Users/brinrosenthal/anaconda3/envs/ipykernel_py2/lib/python2.7/site-packages/ipykernel_launcher.py:39: FutureWarning: \n",
      "Passing list-likes to .loc or [] with any missing label will raise\n",
      "KeyError in the future, you can use .reindex() as an alternative.\n",
      "\n",
      "See the documentation here:\n",
      "https://pandas.pydata.org/pandas-docs/stable/indexing.html#deprecate-loc-reindex-listlike\n",
      "/Users/brinrosenthal/anaconda3/envs/ipykernel_py2/lib/python2.7/site-packages/ipykernel_launcher.py:42: FutureWarning: \n",
      "Passing list-likes to .loc or [] with any missing label will raise\n",
      "KeyError in the future, you can use .reindex() as an alternative.\n",
      "\n",
      "See the documentation here:\n",
      "https://pandas.pydata.org/pandas-docs/stable/indexing.html#deprecate-loc-reindex-listlike\n",
      "/Users/brinrosenthal/anaconda3/envs/ipykernel_py2/lib/python2.7/site-packages/ipykernel_launcher.py:56: FutureWarning: \n",
      "Passing list-likes to .loc or [] with any missing label will raise\n",
      "KeyError in the future, you can use .reindex() as an alternative.\n",
      "\n",
      "See the documentation here:\n",
      "https://pandas.pydata.org/pandas-docs/stable/indexing.html#deprecate-loc-reindex-listlike\n"
     ]
    },
    {
     "data": {
      "text/plain": [
       "(0, 0.43)"
      ]
     },
     "execution_count": 32,
     "metadata": {},
     "output_type": "execute_result"
    },
    {
     "data": {
      "image/png": "[encoded data removed]",
      "text/plain": [
       "<Figure size 165.6x110.88 with 1 Axes>"
      ]
     },
     "metadata": {
      "needs_background": "light"
     },
     "output_type": "display_data"
    },
    {
     "data": {
      "image/png": "[encoded data removed]",
      "text/plain": [
       "<Figure size 165.6x110.88 with 1 Axes>"
      ]
     },
     "metadata": {
      "needs_background": "light"
     },
     "output_type": "display_data"
    }
   ],
   "source": [
    "from scipy.stats import ks_2samp\n",
    "plt.figure(figsize=(2.3,1.54))\n",
    "# plt.figure()\n",
    "sns.distplot(z_ASD.loc[np.setdiff1d(z_ASD.index.tolist(),ASD_HC)].dropna(),label='null model',color='#7E7E7E',kde=True,\n",
    "            hist_kws={'histtype':'stepfilled','lw':0},\n",
    "            kde_kws={'lw':.5})\n",
    "ASD_DNV_no_seeds = list(np.setdiff1d(ASD_DNV,ASD_HC))\n",
    "sns.distplot(z_ASD.loc[ASD_DNV_no_seeds].dropna(),color='#0ED50A',label='ASD DNVs',kde=True,hist_kws={'histtype':'stepfilled',\n",
    "                                                                                                     'lw':0},\n",
    "            kde_kws={'lw':.5})\n",
    "plt.xticks(fontsize=8)\n",
    "plt.yticks(fontsize=8)\n",
    "top_DNVs = z_ASD.loc[ASD_DNV_no_seeds].dropna().sort_values(ascending=False)\n",
    "top_DNVs = top_DNVs[top_DNVs>3]\n",
    "sns.rugplot(z_ASD.loc[top_DNVs.index.tolist()],color='k',height=.1,lw=.2)\n",
    "ax = plt.gca()\n",
    "ax.scatter([], [], marker=\"|\", linewidth=.5, color='k',s=100, label='ASD DNVs $z_{ASD}>3$') # so legend works\n",
    "ax.set_xlabel('network proximity, $z_{ASD}$',fontsize=8)\n",
    "ax.set_ylabel('density',fontsize=8)\n",
    "ax.spines['right'].set_visible(False)\n",
    "ax.spines['top'].set_visible(False)\n",
    "plt.legend(loc='upper right',fontsize=6,frameon=False,\n",
    "          bbox_to_anchor=(.7,1.35))\n",
    "print(top_DNVs.head())\n",
    "print(ks_2samp(z_ASD.loc[np.setdiff1d(z_ASD.index.tolist(),ASD_HC)],z_ASD.loc[ASD_DNV_no_seeds].dropna()))\n",
    "plt.xlim([-7,6])\n",
    "plt.ylim([0,.43])\n",
    "\n",
    "# plt.savefig('../../manuscript/figures_1911/Supplement/z_ASD_dist.png',bbox_inches='tight',dpi=300)\n",
    "# plt.savefig('../../manuscript/figures_1911/Supplement/z_ASD_dist.svg',bbox_inches='tight',dpi=300)\n",
    "\n",
    "\n",
    "# plt.figure(figsize=(8,3))\n",
    "plt.figure(figsize=(2.3,1.54))\n",
    "sns.distplot(z_CHD.loc[np.setdiff1d(z_CHD.index.tolist(),CHD_HC)].dropna(),label='null model',color='#7E7E7E',kde=True,\n",
    "            hist_kws={'histtype':'stepfilled','lw':0},\n",
    "            kde_kws={'lw':.5})\n",
    "CHD_DNV_no_seeds = list(np.setdiff1d(CHD_DNV,CHD_HC))\n",
    "sns.distplot(z_CHD.loc[CHD_DNV_no_seeds].dropna(),color='#C410C4',label='CHD DNVs',kde=True,hist_kws={'histtype':'stepfilled',\n",
    "                                                                                                     'lw':0},\n",
    "            kde_kws={'lw':.5})\n",
    "top_DNVs = z_CHD.loc[CHD_DNV_no_seeds].dropna().sort_values(ascending=False)\n",
    "top_DNVs = top_DNVs[top_DNVs>3]\n",
    "plt.xticks(fontsize=8)\n",
    "plt.yticks(fontsize=8)\n",
    "sns.rugplot(z_CHD.loc[top_DNVs.index.tolist()],color='k',height=.1,lw=.2)\n",
    "ax = plt.gca()\n",
    "ax.scatter([], [], marker=\"|\", linewidth=.5, color='k',s=100, label='CHD DNVs $z_{CHD}>3$') # so legend works\n",
    "ax.set_xlabel('network proximity, $z_{CHD}$',fontsize=8)\n",
    "ax.set_ylabel('density',fontsize=8)\n",
    "ax.spines['right'].set_visible(False)\n",
    "ax.spines['top'].set_visible(False)\n",
    "plt.legend(loc='upper right',fontsize=6,frameon=False,\n",
    "          bbox_to_anchor=(.7, 1.35))\n",
    "print(top_DNVs.head())\n",
    "print(ks_2samp(z_CHD.loc[np.setdiff1d(z_CHD.index.tolist(),CHD_HC)],z_CHD.loc[CHD_DNV_no_seeds].dropna()))\n",
    "plt.xlim([-7,6])\n",
    "plt.ylim([0,.43])\n",
    "\n",
    "# plt.savefig('../../manuscript/figures_1911/Supplement/z_CHD_dist.png',bbox_inches='tight',dpi=300)\n",
    "# plt.savefig('../../manuscript/figures_1911/Supplement/z_CHD_dist.svg',bbox_inches='tight',dpi=300)\n",
    "\n"
   ]
  },
  {
   "cell_type": "markdown",
   "metadata": {},
   "source": [
    "# Enrichment of SFARI genes in z_ASD\n",
    "\n",
    "Check if SFARI genes have higher than expected z-scores"
   ]
  },
  {
   "cell_type": "code",
   "execution_count": 33,
   "metadata": {},
   "outputs": [
    {
     "data": {
      "text/plain": [
       "gene\n",
       "RANBP17    51.905036\n",
       "MFRP       33.376204\n",
       "TRIP12     21.704553\n",
       "ILF2       20.819412\n",
       "NAA15      18.901197\n",
       "Name: zscore, dtype: float64"
      ]
     },
     "execution_count": 33,
     "metadata": {},
     "output_type": "execute_result"
    }
   ],
   "source": [
    "z_ASD.sort_values(ascending=False).head()"
   ]
  },
  {
   "cell_type": "code",
   "execution_count": 34,
   "metadata": {},
   "outputs": [
    {
     "name": "stdout",
     "output_type": "stream",
     "text": [
      "19\n",
      "140\n",
      "418\n",
      "19781\n",
      "SFARI gene enrichment in ASD = 1.623233531492863e-11\n"
     ]
    }
   ],
   "source": [
    "# ASD enrichment for SFARI genes \n",
    "# scoring criteria: https://gene.sfari.org/about-gene-scoring/criteria/\n",
    "zthresh = 3\n",
    "\n",
    "sfari_genes = pd.read_csv('../../data/SFARI/SFARI-Gene_genes_export03-03-2018.csv',index_col='gene-symbol')\n",
    "sfari_45S =sfari_genes[(sfari_genes['syndromic']==1)|(sfari_genes['gene-score']<=2.0)]\n",
    "sfari_genes = sfari_45S.index.tolist()\n",
    "\n",
    "sfari_genes_no_seeds = np.setdiff1d(sfari_genes,ASD_HC)\n",
    "sfari_genes_no_seeds = np.intersect1d(sfari_genes_no_seeds,Gint.nodes()) # only keep genes in graph\n",
    "\n",
    "\n",
    "# ASD z-scores\n",
    "z_thresh=2\n",
    "z_ASD_g1 = z_ASD.drop(list(np.intersect1d(z_ASD.index,ASD_HC))) # don't include seeds\n",
    "z_ASD_g1 = z_ASD_g1[z_ASD_g1>zthresh].index.tolist()\n",
    "\n",
    "\n",
    "ASD_g1 = np.intersect1d(sfari_genes_no_seeds,z_ASD_g1)\n",
    "\n",
    "print(len(ASD_g1))\n",
    "print(len(sfari_genes_no_seeds))\n",
    "print(len(z_ASD_g1))\n",
    "print(len(z_ASD))\n",
    "\n",
    "k=len(ASD_g1)\n",
    "n=len(sfari_genes_no_seeds)\n",
    "N = len(z_ASD_g1)\n",
    "M = len(z_ASD)\n",
    "\n",
    "ASD_enrichemnt = scipy.stats.hypergeom.sf(k,M,n,N)\n",
    "\n",
    "print('SFARI gene enrichment in ASD = ' + str(scipy.stats.hypergeom.sf(k,M,n,N)))"
   ]
  },
  {
   "cell_type": "markdown",
   "metadata": {},
   "source": [
    "# How many DNVs are found in zscore > 3? ASD, CHD"
   ]
  },
  {
   "cell_type": "code",
   "execution_count": 35,
   "metadata": {},
   "outputs": [],
   "source": [
    "def calc_enrichment(z_Gthresh,DNV_list,BG_genes,print_flag=True):\n",
    "    '''\n",
    "    Helper function to calculate hypergeometric stats\n",
    "    '''\n",
    "    #z_Gthresh = z[z>zthresh].index.tolist()\n",
    "    genes_Gthresh = np.intersect1d(DNV_list,z_Gthresh)\n",
    "    \n",
    "    if print_flag==True:\n",
    "        print(len(genes_Gthresh))\n",
    "        print(len(DNV_list))\n",
    "        print(len(z_Gthresh))\n",
    "        print(len(BG_genes))\n",
    "\n",
    "    M = len(BG_genes)\n",
    "    n=len(DNV_list)\n",
    "    N = len(z_Gthresh)\n",
    "    k=len(genes_Gthresh)\n",
    "\n",
    "    p_hyper = scipy.stats.hypergeom.sf(k,M,n,N)\n",
    "        \n",
    "    # calculate expected mean and std given M,n,N\n",
    "    exp_mean = scipy.stats.hypergeom.mean(M,n,N)\n",
    "    exp_std = scipy.stats.hypergeom.std(M,n,N)\n",
    "    \n",
    "    return genes_Gthresh,p_hyper,exp_mean,exp_std"
   ]
  },
  {
   "cell_type": "code",
   "execution_count": 36,
   "metadata": {},
   "outputs": [
    {
     "name": "stdout",
     "output_type": "stream",
     "text": [
      "27\n",
      "589\n",
      "412\n",
      "19655\n",
      "ASD enrichment = 5.315658959413388e-05\n",
      "15\n",
      "636\n",
      "242\n",
      "19655\n",
      "CHD enrichment = 0.005630656292253014\n"
     ]
    },
    {
     "data": {
      "text/plain": [
       "(0, 30)"
      ]
     },
     "execution_count": 36,
     "metadata": {},
     "output_type": "execute_result"
    },
    {
     "data": {
      "image/png": "[encoded data removed]",
      "text/plain": [
       "<Figure size 108x144 with 1 Axes>"
      ]
     },
     "metadata": {
      "needs_background": "light"
     },
     "output_type": "display_data"
    }
   ],
   "source": [
    "z_thresh = 3.0\n",
    "\n",
    "# ---------------------------------------------------------------------------\n",
    "# single ASD z-scores\n",
    "\n",
    "z_ASD_noseeds = z_ASD.drop(list(np.intersect1d(z_ASD.index,CHD_HC+ASD_HC)))\n",
    "ASD_DNV_in_graph = list(np.intersect1d(ASD_DNV,Gint.nodes()))\n",
    "ASD_DNV_noseeds = list(np.setdiff1d(ASD_DNV_in_graph,ASD_HC))\n",
    "z_ASD_gthresh_noseeds=z_ASD_noseeds[z_ASD_noseeds>zthresh].index.tolist()\n",
    "ASD_g1,ASD_p,exp_ASD_mean,exp_ASD_std=calc_enrichment(z_ASD_gthresh_noseeds,ASD_DNV_noseeds,z_ASD_noseeds.index.tolist())\n",
    "print('ASD enrichment = ' + str(ASD_p))\n",
    "\n",
    "\n",
    "# ---------------------------------------------------------------------------\n",
    "# single CHD z-scores\n",
    "\n",
    "z_CHD_noseeds = z_CHD.drop(list(np.intersect1d(z_CHD.index,CHD_HC+ASD_HC)))\n",
    "CHD_DNV_in_graph = list(np.intersect1d(CHD_DNV,Gint.nodes()))\n",
    "CHD_DNV_noseeds = list(np.setdiff1d(CHD_DNV_in_graph,CHD_HC))\n",
    "z_CHD_gthresh_noseeds=z_CHD_noseeds[z_CHD_noseeds>zthresh].index.tolist()\n",
    "CHD_g1,CHD_p,exp_CHD_mean,exp_CHD_std=calc_enrichment(z_CHD_gthresh_noseeds,CHD_DNV_noseeds,z_CHD_noseeds.index.tolist())\n",
    "print('CHD enrichment = ' + str(CHD_p))\n",
    "\n",
    "\n",
    "# -------------------------------------------\n",
    "# plot the results\n",
    "# plt.figure(figsize=(3,4))\n",
    "plt.figure(figsize=(1.5,2))\n",
    "\n",
    "recovered_list = [len(ASD_g1),len(CHD_g1)]\n",
    "pval_list = [ASD_p,CHD_p]\n",
    "\n",
    "plt.bar([0,1],recovered_list,width=.4,color='k',label='observed, z>3')\n",
    "plt.bar([0.4,1.4],[exp_ASD_mean,exp_CHD_mean],width=.4,color='gray',\n",
    "       label='expected, z>3')\n",
    "plt.errorbar([0.4,1.4],[exp_ASD_mean,exp_CHD_mean],\n",
    "             [exp_ASD_std,exp_CHD_std],fmt='k.',ecolor='k',capsize=5.0)\n",
    "\n",
    "# add stars for significance\n",
    "for i in [0,1]:\n",
    "    star_height = recovered_list[i]+max(recovered_list)*0.01 # add 5% of max to value\n",
    "    if (pval_list[i] < 0.05) & (pval_list[i]>0.01):\n",
    "        plt.annotate('*',(i,star_height),fontsize=8,ha='center')\n",
    "    elif (pval_list[i] <= 0.01) & (pval_list[i]>0.001):\n",
    "#         plt.annotate('*',[i-.05,i+.05],[star_height]*2,fontsize=6)\n",
    "        plt.annotate('* *',(i,star_height),fontsize=8,ha='center')\n",
    "    elif (pval_list[i] <= 0.001):\n",
    "#         plt.annotate('*',[i-.1,i,i+.1],[star_height]*3,fontsize=6)\n",
    "        plt.annotate('* * *',(i,star_height),fontsize=8,ha='center')\n",
    "                \n",
    "\n",
    "\n",
    "plt.legend(loc='best',fontsize=6,frameon=False)\n",
    "# plt.legend(loc='upper right',fontsize=6,frameon=False,\n",
    "#           bbox_to_anchor=(1.3, 1.05))\n",
    "plt.xticks([0.2,1.2],['ASD','CHD'],fontsize=8)\n",
    "plt.yticks(fontsize=8)\n",
    "plt.ylabel('number prioritized genes\\nharboring ASD or CHD dDNVs',fontsize=8)\n",
    "plt.ylim([0,30])\n",
    "\n",
    "# plt.savefig('../../manuscript/figures_1911/Figure2/z_score_num_recovered_DNVs_single_3.0.png',\n",
    "#            dpi=300,bbox_inches='tight')\n",
    "# plt.savefig('../../manuscript/figures_1911/Figure2/z_score_num_recovered_DNVs_single_3.0.pdf',\n",
    "#            dpi=300,bbox_inches='tight')\n",
    "# plt.savefig('../../manuscript/figures_1911/Figure2/z_score_num_recovered_DNVs_single_3.0.svg',\n",
    "#            dpi=300,bbox_inches='tight')\n",
    "\n"
   ]
  },
  {
   "cell_type": "code",
   "execution_count": 37,
   "metadata": {},
   "outputs": [
    {
     "data": {
      "text/plain": [
       "(-1.5, 2.7)"
      ]
     },
     "execution_count": 37,
     "metadata": {},
     "output_type": "execute_result"
    },
    {
     "data": {
      "image/png": "[encoded data removed]",
      "text/plain": [
       "<Figure size 108x144 with 1 Axes>"
      ]
     },
     "metadata": {
      "needs_background": "light"
     },
     "output_type": "display_data"
    }
   ],
   "source": [
    "\n",
    "# ----------- plot the odds ratios -----------\n",
    "plt.figure(figsize=(1.5,2))\n",
    "recovered_list = [len(ASD_g1),len(CHD_g1)]\n",
    "exp_list_mean = [exp_ASD_mean,exp_CHD_mean]\n",
    "exp_list_std = [exp_ASD_std,exp_CHD_std]\n",
    "obs_div_exp = np.divide(recovered_list,exp_list_mean)\n",
    "lower_ebar=np.divide(recovered_list,np.add(exp_list_mean,exp_list_std))\n",
    "upper_ebar=np.divide(recovered_list,np.subtract(exp_list_mean,exp_list_std))\n",
    "pval_list = [ASD_p,CHD_p]\n",
    "\n",
    "# plt.bar([0,1,2],obs_div_exp,width=.4,color='k',label='observed')\n",
    "# plt.bar([0,1,2],obs_div_exp,color='k',width=.4)\n",
    "log_obs_exp=np.log2(obs_div_exp)\n",
    "log_yerr_lower=np.subtract(np.log2(obs_div_exp),np.log2(lower_ebar))\n",
    "log_yerr_upper=np.subtract(np.log2(upper_ebar),np.log2(obs_div_exp))\n",
    "plt.errorbar([0,1],log_obs_exp,yerr=[log_yerr_lower,\n",
    "                                       log_yerr_upper],fmt='o',color='k',\n",
    "            alpha=.5)\n",
    "plt.plot([0,1],np.log2(obs_div_exp),'ko')\n",
    "ax = plt.gca()\n",
    "# ax.semilogy()\n",
    "plt.ylabel('log2(observed/expected)\\nASD or CHD dDNVs',fontsize=8)\n",
    "plt.xlim([-.5,1.5])\n",
    "plt.xticks([0,1],['ASD\\ngenes','CHD\\ngenes'],fontsize=8,rotation='vertical')\n",
    "plt.plot([-1,3],[0,0],'k--',alpha=.3)\n",
    "\n",
    "# add stars for significance\n",
    "for i in [0,1]:\n",
    "    star_height = log_obs_exp[i]+log_yerr_upper[i]*1.25 # add 25% of max to value\n",
    "    if (pval_list[i] < 0.05) & (pval_list[i]>0.01):\n",
    "        #plt.plot([i],[star_height],'k*')\n",
    "        plt.annotate('*',(i,star_height),fontsize=10,ha='center')\n",
    "    elif (pval_list[i] <= 0.01) & (pval_list[i]>0.001):\n",
    "        #plt.plot([i-.05,i+.05],[star_height]*2,'k*')\n",
    "        plt.annotate('**',(i,star_height),fontsize=10,ha='center')\n",
    "    elif (pval_list[i] <= 0.001):\n",
    "        #plt.plot([i-.1,i,i+.1],[star_height]*3,'k*')\n",
    "        plt.annotate('***',(i,star_height),fontsize=10,ha='center')\n",
    "        \n",
    "plt.ylim([-1.5,2.7])\n",
    "# plt.savefig('../../manuscript/figures_1911/Supplement/obs_div_exp_ind_disease_DNV.png',\n",
    "#            dpi=300,bbox_inches='tight')\n",
    "# plt.savefig('../../manuscript/figures_1911/Supplement/obs_div_exp_ind_disease_DNV.svg',\n",
    "#            dpi=300,bbox_inches='tight')"
   ]
  },
  {
   "cell_type": "code",
   "execution_count": null,
   "metadata": {},
   "outputs": [],
   "source": []
  },
  {
   "cell_type": "code",
   "execution_count": null,
   "metadata": {},
   "outputs": [],
   "source": []
  },
  {
   "cell_type": "code",
   "execution_count": 38,
   "metadata": {},
   "outputs": [
    {
     "name": "stdout",
     "output_type": "stream",
     "text": [
      "6\n",
      "192\n",
      "412\n",
      "19655\n",
      "ASD enrichment = 0.11001081232453629\n",
      "2\n",
      "192\n",
      "242\n",
      "19655\n",
      "CHD enrichment = 0.4218996360763009\n"
     ]
    },
    {
     "data": {
      "text/plain": [
       "Text(0,0.5,'number recovered control DNVs')"
      ]
     },
     "execution_count": 38,
     "metadata": {},
     "output_type": "execute_result"
    },
    {
     "data": {
      "image/png": "[encoded data removed]",
      "text/plain": [
       "<Figure size 216x288 with 1 Axes>"
      ]
     },
     "metadata": {
      "needs_background": "light"
     },
     "output_type": "display_data"
    }
   ],
   "source": [
    "# how many Control DNVs are recovered by ASD, EPI and CHD, respectively\n",
    "\n",
    "z_thresh = 3\n",
    "\n",
    "# ---------------------------------------------------------------------------\n",
    "# control DNVs in single ASD z-scores\n",
    "\n",
    "z_ASD_noseeds = z_ASD.drop(list(np.intersect1d(z_ASD.index,CHD_HC+ASD_HC)))\n",
    "ctrl_DNV_in_graph = list(np.intersect1d(ctrl_DNV,Gint.nodes()))\n",
    "ctrl_DNV_noseeds = ctrl_DNV_in_graph\n",
    "z_ASD_gthresh_noseeds=z_ASD_noseeds[z_ASD_noseeds>zthresh].index.tolist()\n",
    "ASD_g1,ASD_p,exp_ASD_mean,exp_ASD_std=calc_enrichment(z_ASD_gthresh_noseeds,ctrl_DNV_noseeds,z_ASD_noseeds.index.tolist())\n",
    "print('ASD enrichment = ' + str(ASD_p))\n",
    "\n",
    "# ---------------------------------------------------------------------------\n",
    "# control DNVs in single CHD z-scores\n",
    "\n",
    "z_CHD_noseeds = z_CHD.drop(list(np.intersect1d(z_CHD.index,CHD_HC+ASD_HC)))\n",
    "z_CHD_gthresh_noseeds=z_CHD_noseeds[z_CHD_noseeds>zthresh].index.tolist()\n",
    "CHD_g1,CHD_p,exp_CHD_mean,exp_CHD_std=calc_enrichment(z_CHD_gthresh_noseeds,ctrl_DNV_noseeds,z_CHD_noseeds.index.tolist())\n",
    "print('CHD enrichment = ' + str(CHD_p))\n",
    "\n",
    "# -------------------------------------------\n",
    "# plot the results\n",
    "plt.figure(figsize=(3,4))\n",
    "\n",
    "recovered_list = [len(ASD_g1),len(CHD_g1)]\n",
    "pval_list = [ASD_p,CHD_p]\n",
    "\n",
    "plt.bar([0,1],recovered_list,width=.4,color='k',label='observed')\n",
    "plt.bar([0.4,1.4],[exp_ASD_mean,exp_CHD_mean],width=.4,color='gray',\n",
    "       label='expected')\n",
    "plt.errorbar([0.4,1.4],[exp_ASD_mean,exp_CHD_mean],\n",
    "             [exp_ASD_std,exp_CHD_std],fmt='k.',ecolor='k',capsize=5.0)\n",
    "\n",
    "# add stars for significance\n",
    "for i in [0,1]:\n",
    "    star_height = recovered_list[i]+max(recovered_list)*0.05 # add 5% of max to value\n",
    "    if (pval_list[i] < 0.05) & (pval_list[i]>0.01):\n",
    "        plt.plot([i],[star_height],'k*')\n",
    "    elif (pval_list[i] <= 0.01) & (pval_list[i]>0.001):\n",
    "        plt.plot([i-.05,i+.05],[star_height]*2,'k*')\n",
    "    elif (pval_list[i] <= 0.001):\n",
    "        plt.plot([i-.1,i,i+.1],[star_height]*3,'k*')\n",
    "                \n",
    "\n",
    "\n",
    "plt.legend(loc='best',fontsize=12)\n",
    "plt.xticks([0.2,1.2],['ASD','CHD'],fontsize=16)\n",
    "plt.ylabel('number recovered control DNVs',fontsize=16)\n",
    "\n",
    "\n",
    "# plt.savefig('../../manuscript/figures_1911/Supplement/z_score_num_recovered_DNVs_single_'+str(z_thresh)+'_ctrl.png',\n",
    "#           dpi=300,bbox_inches='tight')"
   ]
  },
  {
   "cell_type": "code",
   "execution_count": 39,
   "metadata": {},
   "outputs": [
    {
     "data": {
      "text/plain": [
       "(-1.5, 2.7)"
      ]
     },
     "execution_count": 39,
     "metadata": {},
     "output_type": "execute_result"
    },
    {
     "data": {
      "image/png": "[encoded data removed]",
      "text/plain": [
       "<Figure size 108x144 with 1 Axes>"
      ]
     },
     "metadata": {
      "needs_background": "light"
     },
     "output_type": "display_data"
    }
   ],
   "source": [
    "\n",
    "# ----------- plot the odds ratios -----------\n",
    "plt.figure(figsize=(1.5,2))\n",
    "recovered_list = [len(ASD_g1),len(CHD_g1)]\n",
    "exp_list_mean = [exp_ASD_mean,exp_CHD_mean]\n",
    "exp_list_std = [exp_ASD_std,exp_CHD_std]\n",
    "obs_div_exp = np.divide(recovered_list,exp_list_mean)\n",
    "lower_ebar=np.divide(recovered_list,np.add(exp_list_mean,exp_list_std))\n",
    "upper_ebar=np.divide(recovered_list,np.subtract(exp_list_mean,exp_list_std))\n",
    "pval_list = [ASD_p,CHD_p]\n",
    "\n",
    "# plt.bar([0,1,2],obs_div_exp,width=.4,color='k',label='observed')\n",
    "# plt.bar([0,1,2],obs_div_exp,color='k',width=.4)\n",
    "log_obs_exp=np.log2(obs_div_exp)\n",
    "log_yerr_lower=np.subtract(np.log2(obs_div_exp),np.log2(lower_ebar))\n",
    "log_yerr_upper=np.subtract(np.log2(upper_ebar),np.log2(obs_div_exp))\n",
    "plt.errorbar([0,1],log_obs_exp,yerr=[log_yerr_lower,\n",
    "                                       log_yerr_upper],fmt='o',color='k',\n",
    "            alpha=.5)\n",
    "plt.plot([0,1],np.log2(obs_div_exp),'ko')\n",
    "ax = plt.gca()\n",
    "# ax.semilogy()\n",
    "plt.ylabel('log2(observed/expected)\\ncontrol dDNVs',fontsize=8)\n",
    "plt.xlim([-.5,1.5])\n",
    "plt.xticks([0,1],['ASD\\ngenes','CHD\\ngenes'],fontsize=8,rotation='vertical')\n",
    "plt.plot([-1,3],[0,0],'k--',alpha=.3)\n",
    "\n",
    "# add stars for significance\n",
    "for i in [0,1]:\n",
    "    star_height = log_obs_exp[i]+log_yerr_upper[i]*1.25 # add 25% of max to value\n",
    "    if (pval_list[i] < 0.05) & (pval_list[i]>0.01):\n",
    "        #plt.plot([i],[star_height],'k*')\n",
    "        plt.annotate('*',(i,star_height),fontsize=10,ha='center')\n",
    "    elif (pval_list[i] <= 0.01) & (pval_list[i]>0.001):\n",
    "        #plt.plot([i-.05,i+.05],[star_height]*2,'k*')\n",
    "        plt.annotate('**',(i,star_height),fontsize=10,ha='center')\n",
    "    elif (pval_list[i] <= 0.001):\n",
    "        #plt.plot([i-.1,i,i+.1],[star_height]*3,'k*')\n",
    "        plt.annotate('***',(i,star_height),fontsize=10,ha='center')\n",
    "        \n",
    "plt.ylim([-1.5,2.7])\n",
    "# plt.savefig('../../manuscript/figures_1911/Supplement/obs_div_exp_CTRL_DNV.png',\n",
    "#            dpi=300,bbox_inches='tight')\n",
    "# plt.savefig('../../manuscript/figures_1911/Supplement/obs_div_exp_CTRL_DNV.svg',\n",
    "#            dpi=300,bbox_inches='tight')"
   ]
  },
  {
   "cell_type": "code",
   "execution_count": null,
   "metadata": {},
   "outputs": [],
   "source": []
  },
  {
   "cell_type": "code",
   "execution_count": null,
   "metadata": {},
   "outputs": [],
   "source": []
  },
  {
   "cell_type": "code",
   "execution_count": 40,
   "metadata": {},
   "outputs": [],
   "source": [
    "z_ASD.sort_values(ascending=False,inplace=True)\n",
    "z_CHD.sort_values(ascending=False,inplace=True)\n",
    "\n"
   ]
  },
  {
   "cell_type": "code",
   "execution_count": 41,
   "metadata": {},
   "outputs": [
    {
     "name": "stdout",
     "output_type": "stream",
     "text": [
      "max ASD_HC zscore:\n",
      "51.9050361869\n",
      "\n",
      "max CHD_HC zscore:\n",
      "34.857337174899996\n"
     ]
    }
   ],
   "source": [
    "print('max ASD_HC zscore:')\n",
    "print(z_ASD.loc[ASD_HC].max())\n",
    "print('\\nmax CHD_HC zscore:')\n",
    "print(z_CHD.loc[CHD_HC].max())"
   ]
  },
  {
   "cell_type": "markdown",
   "metadata": {},
   "source": [
    "# Plot the shared-phenotype DNVs in combined z-score space\n",
    "\n",
    "## CHD-ASD"
   ]
  },
  {
   "cell_type": "code",
   "execution_count": 42,
   "metadata": {},
   "outputs": [],
   "source": [
    "\n",
    "combine_after_zscore=True # whether to use the score combined before or after z-score calculation\n",
    "include_seeds=False # plot with or without seeds\n",
    "\n",
    "z_ASD_abs = z_ASD.copy(deep=True)\n",
    "ASD_HC_in_G = list(np.intersect1d(ASD_HC,Gint.nodes()))\n",
    "\n",
    "\n",
    "z_CHD_abs = z_CHD.copy(deep=True)\n",
    "CHD_HC_in_G = list(np.intersect1d(CHD_HC,Gint.nodes()))\n",
    "\n",
    "\n",
    "\n",
    "if include_seeds==False: # remove seeds if false\n",
    "    z_ASD_abs.loc[ASD_HC_in_G]=np.nan # remove the seeds\n",
    "    z_CHD_abs.loc[CHD_HC_in_G]=np.nan # remove the seeds\n",
    "\n"
   ]
  },
  {
   "cell_type": "code",
   "execution_count": 43,
   "metadata": {},
   "outputs": [
    {
     "name": "stdout",
     "output_type": "stream",
     "text": [
      "13.65848615693\n",
      "14.22708069593\n"
     ]
    }
   ],
   "source": [
    "# use diff btwn max and min to set axes labels\n",
    "print(z_ASD_abs.max()-z_ASD_abs.min())\n",
    "\n",
    "print(z_CHD_abs.max()-z_CHD_abs.min())\n"
   ]
  },
  {
   "cell_type": "code",
   "execution_count": 44,
   "metadata": {},
   "outputs": [
    {
     "name": "stdout",
     "output_type": "stream",
     "text": [
      "-4.34949947011\n",
      "-4.70643282787\n"
     ]
    },
    {
     "name": "stderr",
     "output_type": "stream",
     "text": [
      "/Users/brinrosenthal/anaconda3/envs/ipykernel_py2/lib/python2.7/site-packages/ipykernel_launcher.py:75: FutureWarning: \n",
      "Passing list-likes to .loc or [] with any missing label will raise\n",
      "KeyError in the future, you can use .reindex() as an alternative.\n",
      "\n",
      "See the documentation here:\n",
      "https://pandas.pydata.org/pandas-docs/stable/indexing.html#deprecate-loc-reindex-listlike\n"
     ]
    },
    {
     "name": "stdout",
     "output_type": "stream",
     "text": [
      "../../manuscript/figures_1911/Figure2/Figure2_final assets/ASD_CHD_zscore_dots_noDNV_no_seeds_combine_after_zscore\n"
     ]
    },
    {
     "data": {
      "image/png": "[encoded data removed]",
      "text/plain": [
       "<Figure size 576x576 with 3 Axes>"
      ]
     },
     "metadata": {},
     "output_type": "display_data"
    }
   ],
   "source": [
    "sns.set_style(\"ticks\", {\"xtick.major.size\": 15, \"ytick.major.size\": 15})\n",
    "\n",
    "# -------------------- Plot on the paired disorder axes ----------------------\n",
    "\n",
    "print(z_ASD.min())\n",
    "print(z_CHD.min())\n",
    "D1name='ASD'\n",
    "D2name='CHD'\n",
    "\n",
    "genes_D1 = ASD_HC\n",
    "genes_D2 = CHD_HC\n",
    "\n",
    "idx_temp = z_CHD_abs.index.tolist()\n",
    "\n",
    "z_ASD_abs = z_ASD_abs.loc[idx_temp]\n",
    "\n",
    "# j = sns.jointplot(z_CHD_abs,z_ASD_abs,gridsize=35,kind='hex',height=10)\n",
    "j = sns.jointplot(z_CHD_abs,z_ASD_abs,kind='scatter',height=8,alpha=.1,joint_kws={'s':6,'color':'gray'},marginal_kws={'color':'white'})\n",
    "# set the colors of the marginal distributions to match other figs\n",
    "# plt.sca(j.ax_marg_x)\n",
    "# sns.distplot(z_CHD_abs.dropna().tolist(),color='#C410C4',kde=False)\n",
    "# plt.sca(j.ax_marg_y)\n",
    "# sns.distplot(z_ASD_abs.dropna().tolist(),color='#0ED50A',kde=False,vertical=True)\n",
    "\n",
    "# plt.ylim([0,.4])\n",
    "\n",
    "plt.sca(j.ax_joint)\n",
    "j.ax_joint.set_xlabel('$z_{CHD}$',fontsize=24)\n",
    "j.ax_joint.set_ylabel('$z_{ASD}$',fontsize=24)\n",
    "\n",
    "zthresh=3\n",
    "\n",
    "if combine_after_zscore == True:\n",
    "    z_score_both = z_CHD_abs*z_ASD_abs*(z_CHD_abs>0)*(z_ASD_abs>0)\n",
    "else:\n",
    "    z_score_both = z_ASD_CHD \n",
    "\n",
    "high_z_genes = z_score_both[z_score_both>zthresh].index.tolist()\n",
    "plt.plot((z_CHD_abs[z_score_both>zthresh]),(z_ASD_abs[z_score_both>zthresh]),'.',color='#F9825C',\n",
    "         ms=4,alpha=.7)\n",
    "\n",
    "# higher_z_genes = z_score_both[z_score_both>4].index.tolist()\n",
    "# plt.plot((z_CHD_abs[z_score_both>4]),(z_ASD_abs[z_score_both>4]),'.',color='red',\n",
    "#          ms=4,alpha=.5)\n",
    "\n",
    "\n",
    "only_D2=np.setdiff1d(genes_D2,genes_D1)\n",
    "only_D1 = np.setdiff1d(genes_D1,genes_D2)\n",
    "D1_and_D2 = np.intersect1d(genes_D1,genes_D2)\n",
    "\n",
    "# draw the seed nodes with borders\n",
    "only_D2_blue = list(np.intersect1d(only_D2,z_score_both[z_score_both<zthresh].index.tolist()))\n",
    "only_D2_orange = list(np.intersect1d(only_D2,z_score_both[z_score_both>zthresh].index.tolist()))\n",
    "\n",
    "only_D1_blue = list(np.intersect1d(only_D1,z_score_both[z_score_both<zthresh].index.tolist()))\n",
    "only_D1_orange = list(np.intersect1d(only_D1,z_score_both[z_score_both>zthresh].index.tolist()))\n",
    "\n",
    "plt.plot((z_CHD_abs.loc[only_D2_orange]),(z_ASD_abs.loc[only_D2_orange]),'o',ms=6,mec='#C815F0',mew=.7,\n",
    "        fillstyle='full',mfc='#F9825C')\n",
    "plt.plot((z_CHD_abs.loc[only_D2_blue]),(z_ASD_abs.loc[only_D2_blue]),'o',ms=6,mec='#C815F0',mew=.7,\n",
    "        fillstyle='full',mfc='gray')\n",
    "plt.plot((z_CHD_abs.loc[only_D1_blue]),(z_ASD_abs.loc[only_D1_blue]),'o',ms=6,mec='#55CCCA',mew=.7,\n",
    "        fillstyle='full',mfc='gray')\n",
    "plt.plot((z_CHD_abs.loc[only_D1_orange]),(z_ASD_abs.loc[only_D1_orange]),'o',ms=6,mec='#55CCCA',mew=.7,\n",
    "        fillstyle='full',mfc='#F9825C')\n",
    "plt.plot((z_CHD_abs.loc[D1_and_D2]),(z_ASD_abs.loc[D1_and_D2]),'o',ms=6,mec='black',mew=.7,\n",
    "        fillstyle='full',mfc='#F9825C')\n",
    "\n",
    "\n",
    "\n",
    "# overlay the DNVs with NDDs\n",
    "# plt.plot(z_CHD_abs.loc[DNV_withNDD],z_ASD_abs.loc[DNV_withNDD],'k^',ms=4.5)\n",
    "\n",
    "#annotate top DNVs -- add 10 so we don't have to deal with multiplying negative numbers\n",
    "DNVs_top_10 = ((z_ASD_abs.loc[DNV_withNDD]+10)*(z_CHD_abs.loc[DNV_withNDD]+10)).dropna().sort_values(ascending=False).head(16).index.tolist()\n",
    "# if include_seeds==False: # only print labels if not including seeds\n",
    "#     for d in DNVs_top_10:\n",
    "#             print(d)\n",
    "# #             plt.annotate(d,xy=(z_CHD_abs.loc[d]-.03,z_ASD_abs.loc[d]-.01),\n",
    "# #                        fontsize=9,rotation=0,horizontalalignment='right')\n",
    "#     texts_tmp = [plt.text(z_CHD_abs.loc[d],z_ASD_abs.loc[d],d) for d in DNVs_top_10]\n",
    "#     adjustText.adjust_text(texts_tmp,avoid_points=False,expand_text=(1.05,1.05),lim=10)\n",
    "\n",
    "ax=plt.gca()\n",
    "\n",
    "if include_seeds==False: # only set axes limits if not including seeds\n",
    "    plt.xlim([-4,6])\n",
    "    plt.ylim([-4,6])\n",
    "plt.xticks(fontsize=16)\n",
    "plt.yticks(fontsize=16)\n",
    "\n",
    "plt.plot([-5,7],[0,0],color='k',lw=1)\n",
    "plt.plot([0,0],[-5,7],color='k',lw=1)\n",
    "#ax.set_yscale('log')\n",
    "#ax.set_xscale('log')\n",
    "\n",
    "# fname_string = '../../manuscript/figures_1911/'+focal_interactome+'/ASD_CHD_zscore_dots_'\n",
    "# ------------------------ if combined post-propagation ------------------------\n",
    "fname_string = '../../manuscript/figures_1911/Figure2/Figure2_final assets/ASD_CHD_zscore_dots_noDNV'\n",
    "# ------------------------ if combined pre-propagation ------------------------\n",
    "# fname_string = '../../manuscript/figures_1911/Supplement/ASD_CHD_zscore_dots_noDNV'\n",
    "if include_seeds==True:\n",
    "    fname_string+='_with_seeds'\n",
    "    \n",
    "elif include_seeds==False:\n",
    "    fname_string+='_no_seeds'\n",
    "    \n",
    "if combine_after_zscore==True:\n",
    "    fname_string+='_combine_after_zscore'\n",
    "elif combine_after_zscore==False:\n",
    "    fname_string+='_combine_before_zscore'\n",
    "    \n",
    "print(fname_string)\n",
    "# plt.savefig(fname_string+'.png',dpi=300,bbox_inches='tight')\n",
    "# plt.savefig(fname_string+'.svg',dpi=300,bbox_inches='tight')\n",
    "# plt.savefig(fname_string+'.pdf',dpi=300,bbox_inches='tight')"
   ]
  },
  {
   "cell_type": "code",
   "execution_count": 45,
   "metadata": {},
   "outputs": [
    {
     "data": {
      "text/plain": [
       "764"
      ]
     },
     "execution_count": 45,
     "metadata": {},
     "output_type": "execute_result"
    }
   ],
   "source": [
    "# number high scoring genes\n",
    "len(high_z_genes)"
   ]
  },
  {
   "cell_type": "markdown",
   "metadata": {
    "collapsed": true
   },
   "source": [
    "# Calculate how many CHD-NDD DNVs are recovered above z = zthresh, in z_ASD, z_CHD, and z_ASD_CHD\n",
    "\n",
    "And compare to number expected given hypergeometric distribution"
   ]
  },
  {
   "cell_type": "code",
   "execution_count": 46,
   "metadata": {},
   "outputs": [
    {
     "name": "stdout",
     "output_type": "stream",
     "text": [
      "7\n",
      "155\n",
      "412\n",
      "19655\n",
      "ASD enrichment = 0.016663258298861512\n",
      "3\n",
      "155\n",
      "242\n",
      "19655\n",
      "CHD enrichment = 0.1248217683401912\n",
      "15\n",
      "155\n",
      "764\n",
      "19655\n",
      "ASD-CHD enrichment = 0.00036114001181785255\n"
     ]
    },
    {
     "data": {
      "text/plain": [
       "(0, 17)"
      ]
     },
     "execution_count": 46,
     "metadata": {},
     "output_type": "execute_result"
    },
    {
     "data": {
      "image/png": "[encoded data removed]",
      "text/plain": [
       "<Figure size 151.2x151.2 with 1 Axes>"
      ]
     },
     "metadata": {},
     "output_type": "display_data"
    }
   ],
   "source": [
    "sns.set_style(\"ticks\", {\"xtick.major.size\": 15, \"ytick.major.size\": 15})\n",
    "\n",
    "\n",
    "zthresh1 = 3 # combined zthreshold\n",
    "\n",
    "DNV_noseeds = list(np.setdiff1d(DNV_withNDD,CHD_HC+ASD_HC))\n",
    "\n",
    "# ---------------------------------------------------------------------------\n",
    "# shared phenotype DNVs enriched in single ASD z-scores?\n",
    "    \n",
    "z_ASD_noseeds = z_ASD.drop(list(np.intersect1d(z_ASD.index,CHD_HC+ASD_HC)))\n",
    "z_ASD_gthresh_noseeds=z_ASD_noseeds[z_ASD_noseeds>zthresh1].index.tolist()\n",
    "ASD_g1,ASD_p1,exp_ASD1_mean,exp_ASD1_std=calc_enrichment(z_ASD_gthresh_noseeds,DNV_noseeds,z_ASD_noseeds.index.tolist())\n",
    "print('ASD enrichment = ' + str(ASD_p1))\n",
    "\n",
    "# ---------------------------------------------------------------------------\n",
    "# shared phenotype DNVs enriched in single CHD z-scores?\n",
    "\n",
    "    \n",
    "z_CHD_noseeds = z_CHD.drop(list(np.intersect1d(z_CHD.index,CHD_HC+ASD_HC)))\n",
    "z_CHD_gthresh_noseeds=z_CHD_noseeds[z_CHD_noseeds>zthresh1].index.tolist()\n",
    "CHD_g1,CHD_p1,exp_CHD1_mean,exp_CHD1_std=calc_enrichment(z_CHD_gthresh_noseeds,DNV_noseeds,z_CHD_noseeds.index.tolist())\n",
    "print('CHD enrichment = ' + str(CHD_p1))\n",
    "\n",
    "# ---------------------------------------------------------------------------\n",
    "# shared phenotype DNVs enriched in combined ASD-CHD z-scores?\n",
    "\n",
    "z_both = z_CHD*z_ASD*(z_CHD>0)*(z_ASD>0)\n",
    "z_both_noseeds = z_both.drop(list(np.intersect1d(z_CHD.index,CHD_HC+ASD_HC)))\n",
    "z_both_gthresh_noseeds=z_both_noseeds[z_both_noseeds>zthresh1].index.tolist()\n",
    "both_g1,both_p1,exp_both1_mean,exp_both1_std=calc_enrichment(z_both_gthresh_noseeds,DNV_noseeds,z_both_noseeds.index.tolist())\n",
    "print('ASD-CHD enrichment = ' + str(both_p1))\n",
    "\n",
    "\n",
    "# -------------------------------------------\n",
    "# plot the results\n",
    "plt.figure(figsize=(2.1,2.1))\n",
    "\n",
    "recovered_list1 = [len(ASD_g1),len(CHD_g1),len(both_g1)]\n",
    "pval_list1 = [ASD_p1,CHD_p1,both_p1]\n",
    "exp_list_mean1 = [exp_ASD1_mean,exp_CHD1_mean,exp_both1_mean]\n",
    "exp_list_std1 = [exp_ASD1_std,exp_CHD1_std,exp_both1_std]\n",
    "#recovered_list2 = [len(ASD_g2),len(CHD_g2),len(both_g2)]\n",
    "#pval_list2 = [ASD_p2,CHD_p2,both_p2]\n",
    "#exp_list_mean2 = [exp_ASD2_mean,exp_CHD2_mean,exp_both2_mean]\n",
    "#exp_list_std2 = [exp_ASD2_std,exp_CHD2_std,exp_both2_std]\n",
    "\n",
    "plt.bar([0,1,2],recovered_list1,width=.4,color='k',label='observed, z>3')\n",
    "plt.bar([0.4,1.4,2.4],exp_list_mean1,width=.4,color='gray',\n",
    "       label='expected, z>3')\n",
    "plt.errorbar([0.4,1.4,2.4],exp_list_mean1,\n",
    "             exp_list_std1,fmt='k.',ecolor='k',capsize=5.0)\n",
    "\n",
    "# plt.bar([0.4,1.4,2.4],recovered_list2,width=.2,color='k',label='observed, z>4',hatch=\"//\")\n",
    "# plt.bar([0.6,1.6,2.6],exp_list_mean2,width=.2,color='gray',\n",
    "#        label='expected, z>4',hatch=\"//\")\n",
    "# plt.errorbar([0.6,1.6,2.6],exp_list_mean2,\n",
    "#              exp_list_std2,fmt='k.',ecolor='k',capsize=5.0)\n",
    "\n",
    "\n",
    "\n",
    "# add stars for significance\n",
    "for i in [0,1,2]:\n",
    "    star_height = recovered_list1[i]+max(recovered_list1)*0 # add 5% of max to value\n",
    "    if (pval_list1[i] < 0.05) & (pval_list1[i]>0.01):\n",
    "        #plt.plot([i],[star_height],'k*')\n",
    "        plt.annotate('*',(i,star_height),fontsize=8,ha='center')\n",
    "    elif (pval_list1[i] <= 0.01) & (pval_list1[i]>0.001):\n",
    "        #plt.plot([i-.05,i+.05],[star_height]*2,'k*')\n",
    "        plt.annotate('* *',(i,star_height),fontsize=8,ha='center')\n",
    "    elif (pval_list1[i] <= 0.001):\n",
    "        #plt.plot([i-.1,i,i+.1],[star_height]*3,'k*')\n",
    "        plt.annotate('* * *',(i,star_height),fontsize=8,ha='center')\n",
    "        \n",
    "# add stars for significance\n",
    "# for i in [0,1,2]:\n",
    "#     star_height = recovered_list2[i]+max(recovered_list2)*0.05 # add 5% of max to value\n",
    "#     if (pval_list2[i] < 0.05) & (pval_list2[i]>0.01):\n",
    "#         plt.plot([i]+.4,[star_height],'k*')\n",
    "#     elif (pval_list2[i] <= 0.01) & (pval_list2[i]>0.001):\n",
    "#         plt.plot([i-.05+.4,i+.05+4],[star_height]*2,'k*')\n",
    "#     elif (pval_list2[i] <= 0.001):\n",
    "#         plt.plot([i-.1+.4,i+.4,i+.1+.4],[star_height]*3,'k*')\n",
    "        \n",
    "plt.legend(loc='upper left',fontsize=6,ncol=1,frameon=False)\n",
    "plt.xticks([0.2,1.2,2.2],['ASD','CHD','ASD-CHD'],fontsize=8)\n",
    "plt.ylabel('number prioritized genes\\nharboring dual-phenotype dDNVs',fontsize=8)\n",
    "plt.yticks(fontsize=8)\n",
    "plt.ylim([0,17])\n",
    "\n",
    "# plt.ylim([-.5,20])\n",
    "\n",
    "# ------------------------ if combined post-propagation ------------------------\n",
    "\n",
    "\n",
    "# plt.savefig('../../manuscript/figures_1911/Figure2/z_score_num_recovered_DNVs_ASD-CHD_3combined_product_z3.pdf',\n",
    "#            bbox_inches='tight',dpi=300)\n",
    "# plt.savefig('../../manuscript/figures_1911/Figure2/z_score_num_recovered_DNVs_ASD-CHD_3combined_product_z3.png',\n",
    "#            bbox_inches='tight',dpi=300)\n",
    "# plt.savefig('../../manuscript/figures_1911/Figure2/z_score_num_recovered_DNVs_ASD-CHD_3combined_product_z3.svg',\n",
    "#            bbox_inches='tight',dpi=300)\n",
    "\n",
    "# ------------------------ if combined pre-propagation ------------------------\n",
    "# plt.savefig('../../manuscript/figures_18_12/'+focal_interactome+'/z_score_num_recovered_DNVs_ASD-CHD_'+str(zthresh)+'combined_z.pdf',\n",
    "#           dpi=300,bbox_inches='tight')\n",
    "\n",
    "# ----------- plot the odds ratios -----------\n",
    "# plt.figure(figsize=(5,5))\n",
    "# recovered_list = [len(ASD_g1),len(CHD_g1),len(both_g1)]\n",
    "# exp_list = [np.mean(exp_temp_ASD),np.mean(exp_temp_CHD),np.mean(exp_temp_both)]\n",
    "# obs_div_exp = np.divide(recovered_list,exp_list)\n",
    "# pval_list = [ASD_p,CHD_p,both_p]\n",
    "\n",
    "# plt.bar([0,1,2],obs_div_exp,width=.4,color='k',label='observed')\n",
    "# plt.ylabel('observed/expected',fontsize=16)"
   ]
  },
  {
   "cell_type": "code",
   "execution_count": 47,
   "metadata": {},
   "outputs": [
    {
     "name": "stdout",
     "output_type": "stream",
     "text": [
      "929\n",
      "5\n",
      "155\n",
      "929\n",
      "19655\n",
      "ASD specific enrichment = 0.7465660145939729\n",
      "616\n",
      "6\n",
      "155\n",
      "616\n",
      "19655\n",
      "CHD specific enrichment = 0.21405760863520584\n"
     ]
    }
   ],
   "source": [
    "\n",
    "\n",
    "\n",
    "z_ASD_noseeds = z_ASD.drop(list(np.intersect1d(z_ASD.index,CHD_HC+ASD_HC)))\n",
    "z_ASD_specific=z_ASD_noseeds[(z_both_noseeds<3)&(z_ASD_noseeds>2)&(z_CHD_noseeds<2)].index.tolist()\n",
    "print(len(z_ASD_specific))\n",
    "ASDspecific_g1,ASDspecific_p1,exp_ASDspecific_mean,exp_ASDspecific_std=calc_enrichment(z_ASD_specific,DNV_noseeds,z_ASD_noseeds.index.tolist())\n",
    "print('ASD specific enrichment = ' + str(ASDspecific_p1))\n",
    "\n",
    "\n",
    "z_CHD_noseeds = z_CHD.drop(list(np.intersect1d(z_CHD.index,CHD_HC+ASD_HC)))\n",
    "z_CHD_specific=z_CHD_noseeds[(z_both_noseeds<3)&(z_CHD_noseeds>2)&(z_ASD_noseeds<2)].index.tolist()\n",
    "print(len(z_CHD_specific))\n",
    "CHDspecific_g1,CHDspecific_p1,exp_CHDspecific_mean,exp_CHDspecific_std=calc_enrichment(z_CHD_specific,DNV_noseeds,z_CHD_noseeds.index.tolist())\n",
    "print('CHD specific enrichment = ' + str(CHDspecific_p1))\n"
   ]
  },
  {
   "cell_type": "code",
   "execution_count": null,
   "metadata": {},
   "outputs": [],
   "source": []
  },
  {
   "cell_type": "code",
   "execution_count": null,
   "metadata": {},
   "outputs": [],
   "source": []
  },
  {
   "cell_type": "code",
   "execution_count": 48,
   "metadata": {},
   "outputs": [
    {
     "data": {
      "text/plain": [
       "(-1.5, 2.7)"
      ]
     },
     "execution_count": 48,
     "metadata": {},
     "output_type": "execute_result"
    },
    {
     "data": {
      "image/png": "[encoded data removed]",
      "text/plain": [
       "<Figure size 108x108 with 1 Axes>"
      ]
     },
     "metadata": {},
     "output_type": "display_data"
    }
   ],
   "source": [
    "sns.set_style(\"ticks\", {\"xtick.major.size\": 15, \"ytick.major.size\": 15})\n",
    "\n",
    "# ----------- plot the odds ratios -----------\n",
    "plt.figure(figsize=(1.5,1.5))\n",
    "recovered_list = [len(ASDspecific_g1),len(CHDspecific_g1),len(both_g1)]\n",
    "exp_list_mean1 = [exp_ASDspecific_mean,exp_CHDspecific_mean,exp_both1_mean]\n",
    "exp_list_std1 = [exp_ASDspecific_std,exp_CHDspecific_std,exp_both1_std]\n",
    "obs_div_exp = np.divide(recovered_list,exp_list_mean1)\n",
    "lower_ebar=np.divide(recovered_list,np.add(exp_list_mean1,exp_list_std1))\n",
    "upper_ebar=np.divide(recovered_list,np.subtract(exp_list_mean1,exp_list_std1))\n",
    "pval_list = [ASDspecific_p1,CHDspecific_p1,both_p1]\n",
    "\n",
    "# plt.bar([0,1,2],obs_div_exp,width=.4,color='k',label='observed')\n",
    "# plt.bar([0,1,2],obs_div_exp,color='k',width=.4)\n",
    "log_obs_exp=np.log2(obs_div_exp)\n",
    "log_yerr_lower=np.subtract(np.log2(obs_div_exp),np.log2(lower_ebar))\n",
    "log_yerr_upper=np.subtract(np.log2(upper_ebar),np.log2(obs_div_exp))\n",
    "plt.errorbar([0,1,2],log_obs_exp,yerr=[log_yerr_lower,\n",
    "                                       log_yerr_upper],fmt='o',color='k',\n",
    "            alpha=.5)\n",
    "plt.plot([0,1,2],np.log2(obs_div_exp),'ko')\n",
    "ax = plt.gca()\n",
    "# ax.semilogy()\n",
    "plt.ylabel('log2(observed/expected)\\ndual-phenotype dDNVs',fontsize=8)\n",
    "plt.xlim([-.5,2.5])\n",
    "plt.yticks([-1,0,1,2],fontsize=8)\n",
    "plt.xticks([0,1,2],['ASD-specific\\nnetwork genes','CHD-specific\\nnetwork genes','ASD-CHD network\\nintersection genes'],fontsize=8,\n",
    "           rotation='vertical')\n",
    "plt.plot([-1,3],[0,0],'k--',alpha=.3,lw=1)\n",
    "\n",
    "# add stars for significance\n",
    "for i in [0,1,2]:\n",
    "    star_height = log_obs_exp[i]+log_yerr_upper[i]*1.25 # add 25% of max to value\n",
    "    if (pval_list[i] < 0.05) & (pval_list[i]>0.01):\n",
    "        #plt.plot([i],[star_height],'k*')\n",
    "        plt.annotate('*',(i,star_height),fontsize=10,ha='center')\n",
    "    elif (pval_list[i] <= 0.01) & (pval_list[i]>0.001):\n",
    "        #plt.plot([i-.05,i+.05],[star_height]*2,'k*')\n",
    "        plt.annotate('**',(i,star_height),fontsize=10,ha='center')\n",
    "    elif (pval_list[i] <= 0.001):\n",
    "        #plt.plot([i-.1,i,i+.1],[star_height]*3,'k*')\n",
    "        plt.annotate('***',(i,star_height),fontsize=10,ha='center')\n",
    "        \n",
    "plt.ylim([-1.5,2.7])\n",
    "# ------------------------ if combined post-propagation ------------------------\n",
    "# plt.savefig('../../manuscript/figures_1911/Figure2/Figure2_final assets/obs_div_exp_dual_phenotype_dnv.png',\n",
    "#            dpi=300,bbox_inches='tight')\n",
    "# plt.savefig('../../manuscript/figures_1911/Figure2/Figure2_final assets/obs_div_exp_dual_phenotype_dnv.svg',\n",
    "#            dpi=300,bbox_inches='tight')\n",
    "\n",
    "\n",
    "# ------------------------ if combined pre-propagation ------------------------\n",
    "# plt.savefig('../../manuscript/figures_1911/Supplement/obs_div_exp_dual_pheno_combine_before_prop.png',\n",
    "#            dpi=300,bbox_inches='tight')\n",
    "# plt.savefig('../../manuscript/figures_1911/Supplement/obs_div_exp_dual_pheno_combine_before_prop.svg',\n",
    "#            dpi=300,bbox_inches='tight')"
   ]
  },
  {
   "cell_type": "code",
   "execution_count": null,
   "metadata": {},
   "outputs": [],
   "source": []
  }
 ],
 "metadata": {
  "kernelspec": {
   "display_name": "Python 2",
   "language": "python",
   "name": "python2"
  },
  "language_info": {
   "codemirror_mode": {
    "name": "ipython",
    "version": 2
   },
   "file_extension": ".py",
   "mimetype": "text/x-python",
   "name": "python",
   "nbconvert_exporter": "python",
   "pygments_lexer": "ipython2",
   "version": "2.7.17"
  }
 },
 "nbformat": 4,
 "nbformat_minor": 1
}
