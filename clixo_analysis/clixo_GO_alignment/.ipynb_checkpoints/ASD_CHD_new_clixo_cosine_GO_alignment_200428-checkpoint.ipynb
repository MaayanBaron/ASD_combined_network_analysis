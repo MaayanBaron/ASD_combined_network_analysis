{
 "cells": [
  {
   "cell_type": "markdown",
   "metadata": {},
   "source": [
    "# Run GO alignment on the precomputed new clixo resuts\n",
    "\n",
    "update 4/28/20: refine notebook for submission"
   ]
  },
  {
   "cell_type": "code",
   "execution_count": 1,
   "metadata": {},
   "outputs": [],
   "source": [
    "import matplotlib.pyplot as plt\n",
    "import pandas as pd\n",
    "import numpy as np\n",
    "import networkx as nx\n",
    "import seaborn as sns\n",
    "\n",
    "# latex rendering of text in graphs\n",
    "import matplotlib as mpl\n",
    "from matplotlib import rcParams\n",
    "rcParams['font.family'] = 'sans-serif'\n",
    "rcParams['font.sans-serif'] = ['Arial']\n",
    "\n",
    "% matplotlib inline\n",
    "\n",
    "import ddot\n",
    "from ddot import Ontology"
   ]
  },
  {
   "cell_type": "code",
   "execution_count": null,
   "metadata": {},
   "outputs": [],
   "source": []
  },
  {
   "cell_type": "markdown",
   "metadata": {},
   "source": [
    "# load ASD-CHD network genes"
   ]
  },
  {
   "cell_type": "code",
   "execution_count": 4,
   "metadata": {},
   "outputs": [],
   "source": [
    "# define where the supp tables are, so we can load relevant data\n",
    "path_to_supp_tables = '../../../../manuscript/tables_19_01/supplemental_tables.xlsx' \n",
    "\n",
    "# define where to find PCnet \n",
    "path_to_PCnet='/Users/brinrosenthal/Documents/CCBB_tickets_data/PCnet/G_PCnet.gpickle'\n"
   ]
  },
  {
   "cell_type": "code",
   "execution_count": 5,
   "metadata": {},
   "outputs": [
    {
     "name": "stdout",
     "output_type": "stream",
     "text": [
      "844\n"
     ]
    },
    {
     "data": {
      "text/html": [
       "<div>\n",
       "<style scoped>\n",
       "    .dataframe tbody tr th:only-of-type {\n",
       "        vertical-align: middle;\n",
       "    }\n",
       "\n",
       "    .dataframe tbody tr th {\n",
       "        vertical-align: top;\n",
       "    }\n",
       "\n",
       "    .dataframe thead th {\n",
       "        text-align: right;\n",
       "    }\n",
       "</style>\n",
       "<table border=\"1\" class=\"dataframe\">\n",
       "  <thead>\n",
       "    <tr style=\"text-align: right;\">\n",
       "      <th></th>\n",
       "      <th>gene</th>\n",
       "      <th>snv_indel_DECIPHERv9.25</th>\n",
       "      <th>snv_indel_DECIPHERv9.31</th>\n",
       "      <th>small_CNV_less1MB_DECIPHERv9.25</th>\n",
       "      <th>ASD_CHD_DNV</th>\n",
       "      <th>sum_damaging_variants</th>\n",
       "      <th>ASD_HC</th>\n",
       "      <th>CHD_HC</th>\n",
       "      <th>z_ASD</th>\n",
       "      <th>z_CHD</th>\n",
       "      <th>z_both</th>\n",
       "      <th>gtex_heart_percentile_exp</th>\n",
       "      <th>gtex_brain_percentile_exp</th>\n",
       "    </tr>\n",
       "    <tr>\n",
       "      <th>gene</th>\n",
       "      <th></th>\n",
       "      <th></th>\n",
       "      <th></th>\n",
       "      <th></th>\n",
       "      <th></th>\n",
       "      <th></th>\n",
       "      <th></th>\n",
       "      <th></th>\n",
       "      <th></th>\n",
       "      <th></th>\n",
       "      <th></th>\n",
       "      <th></th>\n",
       "      <th></th>\n",
       "    </tr>\n",
       "  </thead>\n",
       "  <tbody>\n",
       "    <tr>\n",
       "      <th>NAA15</th>\n",
       "      <td>NAA15</td>\n",
       "      <td>0.0</td>\n",
       "      <td>0.0</td>\n",
       "      <td>0.0</td>\n",
       "      <td>0.0</td>\n",
       "      <td>0.0</td>\n",
       "      <td>1</td>\n",
       "      <td>1</td>\n",
       "      <td>18.901197</td>\n",
       "      <td>20.892283</td>\n",
       "      <td>394.889167</td>\n",
       "      <td>0.733689</td>\n",
       "      <td>0.620830</td>\n",
       "    </tr>\n",
       "    <tr>\n",
       "      <th>PTEN</th>\n",
       "      <td>PTEN</td>\n",
       "      <td>1.0</td>\n",
       "      <td>1.0</td>\n",
       "      <td>0.0</td>\n",
       "      <td>1.0</td>\n",
       "      <td>2.0</td>\n",
       "      <td>1</td>\n",
       "      <td>1</td>\n",
       "      <td>16.395135</td>\n",
       "      <td>18.819067</td>\n",
       "      <td>308.541142</td>\n",
       "      <td>0.896062</td>\n",
       "      <td>0.894637</td>\n",
       "    </tr>\n",
       "    <tr>\n",
       "      <th>POGZ</th>\n",
       "      <td>POGZ</td>\n",
       "      <td>3.0</td>\n",
       "      <td>3.0</td>\n",
       "      <td>0.0</td>\n",
       "      <td>1.0</td>\n",
       "      <td>4.0</td>\n",
       "      <td>1</td>\n",
       "      <td>1</td>\n",
       "      <td>14.186540</td>\n",
       "      <td>14.641398</td>\n",
       "      <td>207.710787</td>\n",
       "      <td>0.908309</td>\n",
       "      <td>0.953178</td>\n",
       "    </tr>\n",
       "    <tr>\n",
       "      <th>KMT2C</th>\n",
       "      <td>KMT2C</td>\n",
       "      <td>0.0</td>\n",
       "      <td>0.0</td>\n",
       "      <td>0.0</td>\n",
       "      <td>1.0</td>\n",
       "      <td>1.0</td>\n",
       "      <td>1</td>\n",
       "      <td>1</td>\n",
       "      <td>13.462226</td>\n",
       "      <td>14.954173</td>\n",
       "      <td>201.316464</td>\n",
       "      <td>0.873100</td>\n",
       "      <td>0.908995</td>\n",
       "    </tr>\n",
       "    <tr>\n",
       "      <th>KDM5B</th>\n",
       "      <td>KDM5B</td>\n",
       "      <td>1.0</td>\n",
       "      <td>1.0</td>\n",
       "      <td>0.0</td>\n",
       "      <td>1.0</td>\n",
       "      <td>2.0</td>\n",
       "      <td>1</td>\n",
       "      <td>1</td>\n",
       "      <td>10.464431</td>\n",
       "      <td>13.490241</td>\n",
       "      <td>141.167693</td>\n",
       "      <td>0.677893</td>\n",
       "      <td>0.698533</td>\n",
       "    </tr>\n",
       "  </tbody>\n",
       "</table>\n",
       "</div>"
      ],
      "text/plain": [
       "        gene  snv_indel_DECIPHERv9.25  snv_indel_DECIPHERv9.31  \\\n",
       "gene                                                             \n",
       "NAA15  NAA15                      0.0                      0.0   \n",
       "PTEN    PTEN                      1.0                      1.0   \n",
       "POGZ    POGZ                      3.0                      3.0   \n",
       "KMT2C  KMT2C                      0.0                      0.0   \n",
       "KDM5B  KDM5B                      1.0                      1.0   \n",
       "\n",
       "       small_CNV_less1MB_DECIPHERv9.25  ASD_CHD_DNV  sum_damaging_variants  \\\n",
       "gene                                                                         \n",
       "NAA15                              0.0          0.0                    0.0   \n",
       "PTEN                               0.0          1.0                    2.0   \n",
       "POGZ                               0.0          1.0                    4.0   \n",
       "KMT2C                              0.0          1.0                    1.0   \n",
       "KDM5B                              0.0          1.0                    2.0   \n",
       "\n",
       "       ASD_HC  CHD_HC      z_ASD      z_CHD      z_both  \\\n",
       "gene                                                      \n",
       "NAA15       1       1  18.901197  20.892283  394.889167   \n",
       "PTEN        1       1  16.395135  18.819067  308.541142   \n",
       "POGZ        1       1  14.186540  14.641398  207.710787   \n",
       "KMT2C       1       1  13.462226  14.954173  201.316464   \n",
       "KDM5B       1       1  10.464431  13.490241  141.167693   \n",
       "\n",
       "       gtex_heart_percentile_exp  gtex_brain_percentile_exp  \n",
       "gene                                                         \n",
       "NAA15                   0.733689                   0.620830  \n",
       "PTEN                    0.896062                   0.894637  \n",
       "POGZ                    0.908309                   0.953178  \n",
       "KMT2C                   0.873100                   0.908995  \n",
       "KDM5B                   0.677893                   0.698533  "
      ]
     },
     "execution_count": 5,
     "metadata": {},
     "output_type": "execute_result"
    }
   ],
   "source": [
    "# ASD_CHD_df = pd.read_csv('G_ASD_CHD_PCnetnodes_190117.txt',sep='\\t',skiprows=1)\n",
    "ASD_CHD_df = pd.read_excel(path_to_supp_tables,sheet_name='ASD_CHD_network_genes')\n",
    "\n",
    "print(len(ASD_CHD_df))\n",
    "ASD_CHD_df.index=ASD_CHD_df['gene']\n",
    "ASD_CHD_df.head()"
   ]
  },
  {
   "cell_type": "code",
   "execution_count": null,
   "metadata": {
    "collapsed": true
   },
   "outputs": [],
   "source": []
  },
  {
   "cell_type": "markdown",
   "metadata": {},
   "source": [
    "# Load pcnet"
   ]
  },
  {
   "cell_type": "code",
   "execution_count": 6,
   "metadata": {},
   "outputs": [
    {
     "name": "stdout",
     "output_type": "stream",
     "text": [
      "19781\n",
      "2724724\n"
     ]
    }
   ],
   "source": [
    "G_pcnet = nx.read_gpickle(path_to_PCnet)\n",
    "\n",
    "print(len(G_pcnet.nodes()))\n",
    "print(len(G_pcnet.edges()))"
   ]
  },
  {
   "cell_type": "code",
   "execution_count": 7,
   "metadata": {},
   "outputs": [
    {
     "name": "stdout",
     "output_type": "stream",
     "text": [
      "844\n",
      "28559\n"
     ]
    }
   ],
   "source": [
    "# make a subgraph from ASD_CHD_df genes\n",
    "G_ASD_CHD = nx.subgraph(G_pcnet,ASD_CHD_df.index.tolist())\n",
    "print(len(G_ASD_CHD.nodes()))\n",
    "print(len(G_ASD_CHD.edges()))"
   ]
  },
  {
   "cell_type": "markdown",
   "metadata": {},
   "source": [
    "# Load precomputed clixo results"
   ]
  },
  {
   "cell_type": "code",
   "execution_count": 8,
   "metadata": {
    "collapsed": true
   },
   "outputs": [],
   "source": [
    "# Load precomputed clixo results\n",
    "alpha='01'\n",
    "beta='45'\n",
    "\n",
    "# update 11/21/19: remove non- network proximal seeds\n",
    "ont = Ontology.from_table('new_clixo/ASDCHD_parsed_alpha.cosine.'+alpha+'_beta_.'+beta+'.txt')"
   ]
  },
  {
   "cell_type": "code",
   "execution_count": 9,
   "metadata": {},
   "outputs": [
    {
     "name": "stdout",
     "output_type": "stream",
     "text": [
      "120\n",
      "collapse command: /usr/local/lib/python2.7/dist-packages/ddot/alignOntology/collapseRedundantNodes /tmp/tmp265MH1\n",
      "120\n"
     ]
    }
   ],
   "source": [
    "# find out if term2gene includes all genes or just unique genes --> includes all genes\n",
    "print(len(ont.term_2_gene))\n",
    "ont = ont.collapse_ontology()\n",
    "print(len(ont.term_2_gene))\n",
    "\n",
    "# ont.gene_2_term\n",
    "\n",
    "# pd.Series(ont.term_2_gene).head(15)"
   ]
  },
  {
   "cell_type": "code",
   "execution_count": 10,
   "metadata": {},
   "outputs": [
    {
     "data": {
      "text/plain": [
       "119    844\n",
       "118    344\n",
       "117    324\n",
       "116    302\n",
       "115    240\n",
       "114    220\n",
       "113    206\n",
       "112    191\n",
       "111    177\n",
       "110    144\n",
       "109    134\n",
       "108    119\n",
       "107    110\n",
       "106    109\n",
       "105    108\n",
       "dtype: int64"
      ]
     },
     "execution_count": 10,
     "metadata": {},
     "output_type": "execute_result"
    }
   ],
   "source": [
    "pd.Series(ont.term_sizes).sort_values(ascending=False).head(15)"
   ]
  },
  {
   "cell_type": "code",
   "execution_count": null,
   "metadata": {},
   "outputs": [],
   "source": []
  },
  {
   "cell_type": "markdown",
   "metadata": {},
   "source": [
    "# Align the data-driven ontology with the Gene Ontology (GO)"
   ]
  },
  {
   "cell_type": "code",
   "execution_count": 11,
   "metadata": {},
   "outputs": [
    {
     "name": "stdout",
     "output_type": "stream",
     "text": [
      "30496\n",
      "136316\n"
     ]
    },
    {
     "data": {
      "text/plain": [
       "17211 genes, 13285 terms, 108384 gene-term relations, 27932 term-term relations\n",
       "node_attributes: ['name', u'Branch', u'Vis:Shape', u'Vis:Border Paint', u'Term_Description', u'Vis:Fill Color']\n",
       "edge_attributes: [u'Vis:Visible']"
      ]
     },
     "execution_count": 11,
     "metadata": {},
     "output_type": "execute_result"
    }
   ],
   "source": [
    "\n",
    "# load the individual GO branches, parsed separately, in bigger instance\n",
    "G_BP= nx.read_gpickle('GO_branches/G_BP.gpickle')\n",
    "print(len(G_BP.nodes()))\n",
    "print(len(G_BP.edges()))\n",
    "go_BP = Ontology.from_networkx(G_BP)\n",
    "go_BP"
   ]
  },
  {
   "cell_type": "code",
   "execution_count": 12,
   "metadata": {},
   "outputs": [
    {
     "name": "stdout",
     "output_type": "stream",
     "text": [
      "21486\n",
      "55542\n"
     ]
    },
    {
     "data": {
      "text/plain": [
       "17177 genes, 4309 terms, 49990 gene-term relations, 5552 term-term relations\n",
       "node_attributes: ['name', u'Branch', u'Vis:Shape', u'Vis:Border Paint', u'Term_Description', u'Vis:Fill Color']\n",
       "edge_attributes: [u'Vis:Visible']"
      ]
     },
     "execution_count": 12,
     "metadata": {},
     "output_type": "execute_result"
    }
   ],
   "source": [
    "G_MF= nx.read_gpickle('GO_branches/G_MF.gpickle')\n",
    "print(len(G_MF.nodes()))\n",
    "print(len(G_MF.edges()))\n",
    "go_MF = Ontology.from_networkx(G_MF)\n",
    "go_MF"
   ]
  },
  {
   "cell_type": "code",
   "execution_count": 13,
   "metadata": {},
   "outputs": [
    {
     "name": "stdout",
     "output_type": "stream",
     "text": [
      "19996\n",
      "59989\n"
     ]
    },
    {
     "data": {
      "text/plain": [
       "18248 genes, 1748 terms, 57114 gene-term relations, 2875 term-term relations\n",
       "node_attributes: ['name', u'Branch', u'Vis:Shape', u'Vis:Border Paint', u'Term_Description', u'Vis:Fill Color']\n",
       "edge_attributes: [u'Vis:Visible']"
      ]
     },
     "execution_count": 13,
     "metadata": {},
     "output_type": "execute_result"
    }
   ],
   "source": [
    "G_CC= nx.read_gpickle('GO_branches/G_CC.gpickle')\n",
    "print(len(G_CC.nodes()))\n",
    "print(len(G_CC.edges()))\n",
    "go_CC = Ontology.from_networkx(G_CC)\n",
    "go_CC"
   ]
  },
  {
   "cell_type": "code",
   "execution_count": 14,
   "metadata": {
    "collapsed": true
   },
   "outputs": [],
   "source": [
    "focal_branch='CC'\n",
    "if focal_branch=='MF':\n",
    "    go_focal=go_MF\n",
    "elif focal_branch=='BP':\n",
    "    go_focal=go_BP\n",
    "elif focal_branch=='CC':\n",
    "    go_focal=go_CC"
   ]
  },
  {
   "cell_type": "code",
   "execution_count": null,
   "metadata": {
    "collapsed": true
   },
   "outputs": [],
   "source": []
  },
  {
   "cell_type": "code",
   "execution_count": 15,
   "metadata": {},
   "outputs": [
    {
     "name": "stdout",
     "output_type": "stream",
     "text": [
      "Alignment command: /usr/local/lib/python2.7/dist-packages/ddot/alignOntology/calculateFDRs /tmp/tmpgrLRxX /tmp/tmpy1aFJo 0.05 criss_cross /tmp/tmp2QhHH1 100 4 gene\n"
     ]
    },
    {
     "data": {
      "text/html": [
       "<div>\n",
       "<style>\n",
       "    .dataframe thead tr:only-child th {\n",
       "        text-align: right;\n",
       "    }\n",
       "\n",
       "    .dataframe thead th {\n",
       "        text-align: left;\n",
       "    }\n",
       "\n",
       "    .dataframe tbody tr th {\n",
       "        vertical-align: top;\n",
       "    }\n",
       "</style>\n",
       "<table border=\"1\" class=\"dataframe\">\n",
       "  <thead>\n",
       "    <tr style=\"text-align: right;\">\n",
       "      <th></th>\n",
       "      <th>Term</th>\n",
       "      <th>Similarity</th>\n",
       "      <th>FDR</th>\n",
       "    </tr>\n",
       "    <tr>\n",
       "      <th>Term</th>\n",
       "      <th></th>\n",
       "      <th></th>\n",
       "      <th></th>\n",
       "    </tr>\n",
       "  </thead>\n",
       "  <tbody>\n",
       "    <tr>\n",
       "      <th>859</th>\n",
       "      <td>GO:0001518</td>\n",
       "      <td>0.369817</td>\n",
       "      <td>0.0</td>\n",
       "    </tr>\n",
       "    <tr>\n",
       "      <th>887</th>\n",
       "      <td>GO:0071564</td>\n",
       "      <td>0.231228</td>\n",
       "      <td>0.0</td>\n",
       "    </tr>\n",
       "    <tr>\n",
       "      <th>897</th>\n",
       "      <td>GO:0034706</td>\n",
       "      <td>0.212281</td>\n",
       "      <td>0.0</td>\n",
       "    </tr>\n",
       "    <tr>\n",
       "      <th>851</th>\n",
       "      <td>GO:0070765</td>\n",
       "      <td>0.202726</td>\n",
       "      <td>0.0</td>\n",
       "    </tr>\n",
       "    <tr>\n",
       "      <th>873</th>\n",
       "      <td>GO:0000788</td>\n",
       "      <td>0.195862</td>\n",
       "      <td>0.0</td>\n",
       "    </tr>\n",
       "  </tbody>\n",
       "</table>\n",
       "</div>"
      ],
      "text/plain": [
       "            Term  Similarity  FDR\n",
       "Term                             \n",
       "859   GO:0001518    0.369817  0.0\n",
       "887   GO:0071564    0.231228  0.0\n",
       "897   GO:0034706    0.212281  0.0\n",
       "851   GO:0070765    0.202726  0.0\n",
       "873   GO:0000788    0.195862  0.0"
      ]
     },
     "execution_count": 15,
     "metadata": {},
     "output_type": "execute_result"
    }
   ],
   "source": [
    "# Align ontologies\n",
    "alignment = ont.align(go_focal, \n",
    "                      iterations=100,\n",
    "                      update_self=['Term_Description'],\n",
    "                      align_label='Term_Description',\n",
    "                      verbose=True,mutual_collapse=False)\n",
    "alignment.head()"
   ]
  },
  {
   "cell_type": "code",
   "execution_count": 16,
   "metadata": {},
   "outputs": [
    {
     "data": {
      "text/plain": [
       "9"
      ]
     },
     "execution_count": 16,
     "metadata": {},
     "output_type": "execute_result"
    }
   ],
   "source": [
    "len(alignment)"
   ]
  },
  {
   "cell_type": "code",
   "execution_count": null,
   "metadata": {
    "collapsed": true
   },
   "outputs": [],
   "source": []
  },
  {
   "cell_type": "code",
   "execution_count": null,
   "metadata": {
    "collapsed": true
   },
   "outputs": [],
   "source": []
  },
  {
   "cell_type": "code",
   "execution_count": 17,
   "metadata": {
    "scrolled": false
   },
   "outputs": [
    {
     "name": "stdout",
     "output_type": "stream",
     "text": [
      "9\n"
     ]
    },
    {
     "data": {
      "text/html": [
       "<div>\n",
       "<style>\n",
       "    .dataframe thead tr:only-child th {\n",
       "        text-align: right;\n",
       "    }\n",
       "\n",
       "    .dataframe thead th {\n",
       "        text-align: left;\n",
       "    }\n",
       "\n",
       "    .dataframe tbody tr th {\n",
       "        vertical-align: top;\n",
       "    }\n",
       "</style>\n",
       "<table border=\"1\" class=\"dataframe\">\n",
       "  <thead>\n",
       "    <tr style=\"text-align: right;\">\n",
       "      <th></th>\n",
       "      <th>Aligned_Term</th>\n",
       "      <th>Aligned_Similarity</th>\n",
       "      <th>Aligned_FDR</th>\n",
       "      <th>Aligned_Term_Description</th>\n",
       "      <th>Label</th>\n",
       "      <th>term_label</th>\n",
       "    </tr>\n",
       "  </thead>\n",
       "  <tbody>\n",
       "    <tr>\n",
       "      <th>859</th>\n",
       "      <td>GO:0001518</td>\n",
       "      <td>0.369817</td>\n",
       "      <td>0.0</td>\n",
       "      <td>voltage-gated sodium channel complex</td>\n",
       "      <td>859\\nvoltage-gated sodium channel complex</td>\n",
       "      <td>859</td>\n",
       "    </tr>\n",
       "    <tr>\n",
       "      <th>887</th>\n",
       "      <td>GO:0071564</td>\n",
       "      <td>0.231228</td>\n",
       "      <td>0.0</td>\n",
       "      <td>npBAF complex</td>\n",
       "      <td>887\\nnpBAF complex</td>\n",
       "      <td>887</td>\n",
       "    </tr>\n",
       "    <tr>\n",
       "      <th>897</th>\n",
       "      <td>GO:0034706</td>\n",
       "      <td>0.212281</td>\n",
       "      <td>0.0</td>\n",
       "      <td>sodium channel complex</td>\n",
       "      <td>897\\nsodium channel complex</td>\n",
       "      <td>897</td>\n",
       "    </tr>\n",
       "    <tr>\n",
       "      <th>851</th>\n",
       "      <td>GO:0070765</td>\n",
       "      <td>0.202726</td>\n",
       "      <td>0.0</td>\n",
       "      <td>gamma-secretase complex</td>\n",
       "      <td>851\\ngamma-secretase complex</td>\n",
       "      <td>851</td>\n",
       "    </tr>\n",
       "    <tr>\n",
       "      <th>873</th>\n",
       "      <td>GO:0000788</td>\n",
       "      <td>0.195862</td>\n",
       "      <td>0.0</td>\n",
       "      <td>nuclear nucleosome</td>\n",
       "      <td>873\\nnuclear nucleosome</td>\n",
       "      <td>873</td>\n",
       "    </tr>\n",
       "    <tr>\n",
       "      <th>866</th>\n",
       "      <td>GO:0070776</td>\n",
       "      <td>0.168028</td>\n",
       "      <td>0.0</td>\n",
       "      <td>MOZ/MORF histone acetyltransferase complex</td>\n",
       "      <td>866\\nMOZ/MORF histone acetyltransferase complex</td>\n",
       "      <td>866</td>\n",
       "    </tr>\n",
       "    <tr>\n",
       "      <th>844</th>\n",
       "      <td>GO:0044299</td>\n",
       "      <td>0.126141</td>\n",
       "      <td>0.0</td>\n",
       "      <td>C-fiber</td>\n",
       "      <td>844\\nC-fiber</td>\n",
       "      <td>844</td>\n",
       "    </tr>\n",
       "    <tr>\n",
       "      <th>870</th>\n",
       "      <td>GO:0072487</td>\n",
       "      <td>0.119038</td>\n",
       "      <td>0.0</td>\n",
       "      <td>MSL complex</td>\n",
       "      <td>870\\nMSL complex</td>\n",
       "      <td>870</td>\n",
       "    </tr>\n",
       "    <tr>\n",
       "      <th>877</th>\n",
       "      <td>GO:0048787</td>\n",
       "      <td>0.104082</td>\n",
       "      <td>0.0</td>\n",
       "      <td>presynaptic active zone membrane</td>\n",
       "      <td>877\\npresynaptic active zone membrane</td>\n",
       "      <td>877</td>\n",
       "    </tr>\n",
       "  </tbody>\n",
       "</table>\n",
       "</div>"
      ],
      "text/plain": [
       "    Aligned_Term  Aligned_Similarity  Aligned_FDR  \\\n",
       "859   GO:0001518            0.369817          0.0   \n",
       "887   GO:0071564            0.231228          0.0   \n",
       "897   GO:0034706            0.212281          0.0   \n",
       "851   GO:0070765            0.202726          0.0   \n",
       "873   GO:0000788            0.195862          0.0   \n",
       "866   GO:0070776            0.168028          0.0   \n",
       "844   GO:0044299            0.126141          0.0   \n",
       "870   GO:0072487            0.119038          0.0   \n",
       "877   GO:0048787            0.104082          0.0   \n",
       "\n",
       "                       Aligned_Term_Description  \\\n",
       "859        voltage-gated sodium channel complex   \n",
       "887                               npBAF complex   \n",
       "897                      sodium channel complex   \n",
       "851                     gamma-secretase complex   \n",
       "873                          nuclear nucleosome   \n",
       "866  MOZ/MORF histone acetyltransferase complex   \n",
       "844                                     C-fiber   \n",
       "870                                 MSL complex   \n",
       "877            presynaptic active zone membrane   \n",
       "\n",
       "                                               Label term_label  \n",
       "859        859\\nvoltage-gated sodium channel complex        859  \n",
       "887                               887\\nnpBAF complex        887  \n",
       "897                      897\\nsodium channel complex        897  \n",
       "851                     851\\ngamma-secretase complex        851  \n",
       "873                          873\\nnuclear nucleosome        873  \n",
       "866  866\\nMOZ/MORF histone acetyltransferase complex        866  \n",
       "844                                     844\\nC-fiber        844  \n",
       "870                                 870\\nMSL complex        870  \n",
       "877            877\\npresynaptic active zone membrane        877  "
      ]
     },
     "execution_count": 17,
     "metadata": {},
     "output_type": "execute_result"
    }
   ],
   "source": [
    "# Note how node attributes have been updated to reflect the ontology alignment\n",
    "\n",
    "# add a new column which is just the term label (no GO)\n",
    "ont.node_attr['term_label']=ont.node_attr.index.tolist()\n",
    "print(len(ont.node_attr))\n",
    "ont.node_attr.sort_values('Aligned_Similarity',ascending=False).head(100)\n"
   ]
  },
  {
   "cell_type": "code",
   "execution_count": 18,
   "metadata": {},
   "outputs": [
    {
     "data": {
      "text/html": [
       "<div>\n",
       "<style>\n",
       "    .dataframe thead tr:only-child th {\n",
       "        text-align: right;\n",
       "    }\n",
       "\n",
       "    .dataframe thead th {\n",
       "        text-align: left;\n",
       "    }\n",
       "\n",
       "    .dataframe tbody tr th {\n",
       "        vertical-align: top;\n",
       "    }\n",
       "</style>\n",
       "<table border=\"1\" class=\"dataframe\">\n",
       "  <thead>\n",
       "    <tr style=\"text-align: right;\">\n",
       "      <th></th>\n",
       "      <th>Aligned_Term</th>\n",
       "      <th>Aligned_Similarity</th>\n",
       "      <th>Aligned_FDR</th>\n",
       "      <th>Aligned_Term_Description</th>\n",
       "      <th>Label</th>\n",
       "      <th>term_label</th>\n",
       "    </tr>\n",
       "  </thead>\n",
       "  <tbody>\n",
       "    <tr>\n",
       "      <th>844</th>\n",
       "      <td>GO:0044299</td>\n",
       "      <td>0.126141</td>\n",
       "      <td>0.0</td>\n",
       "      <td>C-fiber</td>\n",
       "      <td>844\\nC-fiber</td>\n",
       "      <td>844</td>\n",
       "    </tr>\n",
       "    <tr>\n",
       "      <th>851</th>\n",
       "      <td>GO:0070765</td>\n",
       "      <td>0.202726</td>\n",
       "      <td>0.0</td>\n",
       "      <td>gamma-secretase complex</td>\n",
       "      <td>851\\ngamma-secretase complex</td>\n",
       "      <td>851</td>\n",
       "    </tr>\n",
       "    <tr>\n",
       "      <th>859</th>\n",
       "      <td>GO:0001518</td>\n",
       "      <td>0.369817</td>\n",
       "      <td>0.0</td>\n",
       "      <td>voltage-gated sodium channel complex</td>\n",
       "      <td>859\\nvoltage-gated sodium channel complex</td>\n",
       "      <td>859</td>\n",
       "    </tr>\n",
       "    <tr>\n",
       "      <th>866</th>\n",
       "      <td>GO:0070776</td>\n",
       "      <td>0.168028</td>\n",
       "      <td>0.0</td>\n",
       "      <td>MOZ/MORF histone acetyltransferase complex</td>\n",
       "      <td>866\\nMOZ/MORF histone acetyltransferase complex</td>\n",
       "      <td>866</td>\n",
       "    </tr>\n",
       "    <tr>\n",
       "      <th>870</th>\n",
       "      <td>GO:0072487</td>\n",
       "      <td>0.119038</td>\n",
       "      <td>0.0</td>\n",
       "      <td>MSL complex</td>\n",
       "      <td>870\\nMSL complex</td>\n",
       "      <td>870</td>\n",
       "    </tr>\n",
       "    <tr>\n",
       "      <th>873</th>\n",
       "      <td>GO:0000788</td>\n",
       "      <td>0.195862</td>\n",
       "      <td>0.0</td>\n",
       "      <td>nuclear nucleosome</td>\n",
       "      <td>873\\nnuclear nucleosome</td>\n",
       "      <td>873</td>\n",
       "    </tr>\n",
       "    <tr>\n",
       "      <th>877</th>\n",
       "      <td>GO:0048787</td>\n",
       "      <td>0.104082</td>\n",
       "      <td>0.0</td>\n",
       "      <td>presynaptic active zone membrane</td>\n",
       "      <td>877\\npresynaptic active zone membrane</td>\n",
       "      <td>877</td>\n",
       "    </tr>\n",
       "    <tr>\n",
       "      <th>887</th>\n",
       "      <td>GO:0071564</td>\n",
       "      <td>0.231228</td>\n",
       "      <td>0.0</td>\n",
       "      <td>npBAF complex</td>\n",
       "      <td>887\\nnpBAF complex</td>\n",
       "      <td>887</td>\n",
       "    </tr>\n",
       "    <tr>\n",
       "      <th>897</th>\n",
       "      <td>GO:0034706</td>\n",
       "      <td>0.212281</td>\n",
       "      <td>0.0</td>\n",
       "      <td>sodium channel complex</td>\n",
       "      <td>897\\nsodium channel complex</td>\n",
       "      <td>897</td>\n",
       "    </tr>\n",
       "  </tbody>\n",
       "</table>\n",
       "</div>"
      ],
      "text/plain": [
       "    Aligned_Term  Aligned_Similarity  Aligned_FDR  \\\n",
       "844   GO:0044299            0.126141          0.0   \n",
       "851   GO:0070765            0.202726          0.0   \n",
       "859   GO:0001518            0.369817          0.0   \n",
       "866   GO:0070776            0.168028          0.0   \n",
       "870   GO:0072487            0.119038          0.0   \n",
       "873   GO:0000788            0.195862          0.0   \n",
       "877   GO:0048787            0.104082          0.0   \n",
       "887   GO:0071564            0.231228          0.0   \n",
       "897   GO:0034706            0.212281          0.0   \n",
       "\n",
       "                       Aligned_Term_Description  \\\n",
       "844                                     C-fiber   \n",
       "851                     gamma-secretase complex   \n",
       "859        voltage-gated sodium channel complex   \n",
       "866  MOZ/MORF histone acetyltransferase complex   \n",
       "870                                 MSL complex   \n",
       "873                          nuclear nucleosome   \n",
       "877            presynaptic active zone membrane   \n",
       "887                               npBAF complex   \n",
       "897                      sodium channel complex   \n",
       "\n",
       "                                               Label term_label  \n",
       "844                                     844\\nC-fiber        844  \n",
       "851                     851\\ngamma-secretase complex        851  \n",
       "859        859\\nvoltage-gated sodium channel complex        859  \n",
       "866  866\\nMOZ/MORF histone acetyltransferase complex        866  \n",
       "870                                 870\\nMSL complex        870  \n",
       "873                          873\\nnuclear nucleosome        873  \n",
       "877            877\\npresynaptic active zone membrane        877  \n",
       "887                               887\\nnpBAF complex        887  \n",
       "897                      897\\nsodium channel complex        897  "
      ]
     },
     "execution_count": 18,
     "metadata": {},
     "output_type": "execute_result"
    }
   ],
   "source": [
    "ont.node_attr"
   ]
  },
  {
   "cell_type": "code",
   "execution_count": 19,
   "metadata": {
    "collapsed": true
   },
   "outputs": [],
   "source": [
    "# write out the aligned results\n",
    "ont.node_attr.to_csv('new_clixo/aligned_ont_cosine_alpha'+alpha+'_beta'+beta+'_'+focal_branch+'.tsv',sep=',',index=True)"
   ]
  },
  {
   "cell_type": "code",
   "execution_count": null,
   "metadata": {
    "collapsed": true
   },
   "outputs": [],
   "source": []
  }
 ],
 "metadata": {
  "kernelspec": {
   "display_name": "Python 2",
   "language": "python",
   "name": "python2"
  },
  "language_info": {
   "codemirror_mode": {
    "name": "ipython",
    "version": 2
   },
   "file_extension": ".py",
   "mimetype": "text/x-python",
   "name": "python",
   "nbconvert_exporter": "python",
   "pygments_lexer": "ipython2",
   "version": "2.7.17"
  }
 },
 "nbformat": 4,
 "nbformat_minor": 1
}
